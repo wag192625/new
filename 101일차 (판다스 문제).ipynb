{
 "cells": [
  {
   "cell_type": "code",
   "execution_count": 10,
   "metadata": {},
   "outputs": [],
   "source": [
    "import pandas as pd\n",
    "import numpy as np\n",
    "import random "
   ]
  },
  {
   "cell_type": "code",
   "execution_count": 5,
   "metadata": {},
   "outputs": [],
   "source": [
    "# 1. 동전을 20번 던져 앞면(숫자 1)과 뒷면(숫자 0)이 나오는 실험을 파이썬으로 작성하여 출력해보자(numpy)\n"
   ]
  },
  {
   "cell_type": "code",
   "execution_count": 9,
   "metadata": {},
   "outputs": [],
   "source": [
    "# 2. 주사위를 10000번 던져서 나오는 숫자의 평균을 구하라.(numpy)\n"
   ]
  },
  {
   "cell_type": "code",
   "execution_count": 3,
   "metadata": {},
   "outputs": [],
   "source": [
    "# 3. 난수로 이루어진 4 x 5 형태의 데이터 행렬을 만들고 이 데이터에 대해 다음과 같은 값을 구한다.(numpy)\n",
    "\n",
    "# 전체의 최댓값\n",
    "# 각 행의 합\n",
    "# 각 행의 최댓값\n",
    "# 각 열의 평균\n",
    "# 각 열의 최솟값"
   ]
  },
  {
   "cell_type": "code",
   "execution_count": 4,
   "metadata": {},
   "outputs": [],
   "source": [
    "# 4.  다음 데이터를 시리즈 구조로 정의하고 '광주' 도시의 인구를 참조하시오\n",
    "# 서울-1000, 부산-300, 인천-200, 광주-100\n",
    "pd.Series()"
   ]
  },
  {
   "cell_type": "code",
   "execution_count": null,
   "metadata": {},
   "outputs": [],
   "source": [
    "# 5. 다음의 Series를 생성하고 sample 변수에 대입하고 출력하세요\n",
    "# [출력]\n",
    "# 가    10\n",
    "# 나    20\n",
    "# 다    30\n",
    "# 라    40\n",
    "# 마    50\n",
    "# dtype: int64"
   ]
  },
  {
   "cell_type": "code",
   "execution_count": null,
   "metadata": {},
   "outputs": [],
   "source": [
    "# 6. sample중 '나'와 '라' 데이터를 조회하세요"
   ]
  },
  {
   "cell_type": "code",
   "execution_count": 5,
   "metadata": {},
   "outputs": [],
   "source": [
    "# *기본 코드*\n",
    "# np.random.seed(20)\n",
    "# sample2 = pd.Series(np.random.randint(100, 200, size=(15,)))\n",
    "# sample2\n",
    "\n",
    "# 7. sample2 중 160 이하인 데이터만 필터하세요"
   ]
  },
  {
   "cell_type": "code",
   "execution_count": null,
   "metadata": {},
   "outputs": [],
   "source": [
    "# 8. sample2 중 130 이상 170 이하인 데이터만 필터하세요"
   ]
  },
  {
   "cell_type": "code",
   "execution_count": null,
   "metadata": {},
   "outputs": [],
   "source": [
    "# 9.다음과 같은 Series를 생성해 주세요\n",
    "# [출력]\n",
    "# 가     apple\n",
    "# 나       NaN\n",
    "# 다    banana\n",
    "# 라      kiwi\n",
    "# 마    gubong\n",
    "# dtype: object\n",
    "# NaN"
   ]
  },
  {
   "cell_type": "code",
   "execution_count": null,
   "metadata": {},
   "outputs": [],
   "source": [
    "# 10. 숫자로 이루어진 리스트에서 사용자가 입력한 숫자를 검색하는 모듈을 다음 요건에 따라 만들어 보자\n",
    "#  검색 모듈은 선형 검색 알고리즘을 이용하자\n",
    "#  리스트는 1부터 20까지의 정수 중에서 난수 10개를 이용한다.\n",
    "#  검색에 성공하면 해당 정수의 인덱스를 출력하고, 검색 결과가 없다면 -1을 출력하자"
   ]
  }
 ],
 "metadata": {
  "kernelspec": {
   "display_name": "Python 3",
   "language": "python",
   "name": "python3"
  },
  "language_info": {
   "codemirror_mode": {
    "name": "ipython",
    "version": 3
   },
   "file_extension": ".py",
   "mimetype": "text/x-python",
   "name": "python",
   "nbconvert_exporter": "python",
   "pygments_lexer": "ipython3",
   "version": "3.11.9"
  }
 },
 "nbformat": 4,
 "nbformat_minor": 2
}
