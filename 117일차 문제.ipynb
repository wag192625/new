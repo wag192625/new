{
 "cells": [
  {
   "cell_type": "code",
   "execution_count": 1,
   "metadata": {},
   "outputs": [],
   "source": [
    "# 연습 문제\n",
    "# *titanic 데이터셋에 다음 작업을 수행하시오.\n",
    "import pandas as pd\n",
    "import numpy as np\n",
    "\n",
    "df = pd.read_csv('data/titanic/train.csv')\n",
    "# 1. 승선항구가 'C'인 자료만 추출하시오.\n",
    "# 2. SibSp + Parch 의 합이 0인 자료만 추출하시오.\n",
    "# 3. Pclass가 1인 자료만 추출하시오.\n",
    "# 4. Fare 열 값이 20이상 50미만인 자료만 추출하시오."
   ]
  },
  {
   "cell_type": "code",
   "execution_count": null,
   "metadata": {},
   "outputs": [],
   "source": [
    "# https://finance.yahoo.com/?guccounter=1\n",
    "# 005930.KS.csv\n",
    "# 2024년도 삼성전자 주가데이터를 가져온 다음 아래와 같은 작업을 수행하시오.\n",
    "# 1) 각 열 단위로 최대값을 출력하시오.\n",
    "# 2) 각 열 단위로 최소값을 출력하시오.\n",
    "# 3) 각 열 단위로 출력하시오.\n",
    "# 4) 각 열 단위로 출력하시오."
   ]
  }
 ],
 "metadata": {
  "kernelspec": {
   "display_name": "Python 3",
   "language": "python",
   "name": "python3"
  },
  "language_info": {
   "codemirror_mode": {
    "name": "ipython",
    "version": 3
   },
   "file_extension": ".py",
   "mimetype": "text/x-python",
   "name": "python",
   "nbconvert_exporter": "python",
   "pygments_lexer": "ipython3",
   "version": "3.11.9"
  }
 },
 "nbformat": 4,
 "nbformat_minor": 2
}
