{
 "cells": [
  {
   "cell_type": "code",
   "execution_count": 1,
   "metadata": {},
   "outputs": [
    {
     "data": {
      "text/plain": [
       "3"
      ]
     },
     "execution_count": 1,
     "metadata": {},
     "output_type": "execute_result"
    }
   ],
   "source": [
    "# 함수\n",
    "def myfunc(a,b):   # 함수 선언\n",
    "\n",
    "    return a + b    # 결과 반환 (출력하지 않음(파이썬의 '쥬피터 노트북'이라 출력 되는거))\n",
    "                                                    # 쥬피터 노트북만의 특징\n",
    "# myfunc(1,2) # 쥬피터노트북의 특징이라 이렇게 쓰면 적용이 안됨\n",
    "a = myfunc(1,2) # 이렇게 쓰거나\n",
    "print(myfunc)   # 이렇게"
   ]
  },
  {
   "cell_type": "code",
   "execution_count": 4,
   "metadata": {},
   "outputs": [
    {
     "name": "stdout",
     "output_type": "stream",
     "text": [
      "(9, 1, 20, 1.25)\n"
     ]
    }
   ],
   "source": [
    "# 사칙연산을 하는 함수를 만들어라\n",
    "# 예시\n",
    "# 입력 : 1, 2\n",
    "# 결과 : 3, -1, 2, 0.5\n",
    "# 입력 : 5, 4\n",
    "# 결과 : 9, 1, 20, 1.25\n",
    "def tkclr(a,b) :\n",
    "    return a+b,a-b,a*b,a/b\n",
    "\n",
    "print(tkclr(5,4))"
   ]
  },
  {
   "cell_type": "markdown",
   "metadata": {},
   "source": [
    "numpy(수학 수식)\n",
    "lambda\n",
    "프론트엔드, 백엔드\n",
    "시각화\n",
    "인공지능(논문 리뷰, 직접 코딩), 수식\n",
    "판다스(차트, 문서작업(명령어로 다루는 엑셀))\n",
    "타블로(시각화 = 고점이 한계가 있음)"
   ]
  },
  {
   "cell_type": "code",
   "execution_count": null,
   "metadata": {},
   "outputs": [],
   "source": [
    "1\n",
    "\"비트코인\" 문자열을 화면에 출력하는 print_coin() 함수를 정의하라.\n"
   ]
  },
  {
   "cell_type": "code",
   "execution_count": null,
   "metadata": {},
   "outputs": [],
   "source": [
    "2\n",
    "1 번에서 정의한 함수를 호출하라.\n"
   ]
  },
  {
   "cell_type": "code",
   "execution_count": null,
   "metadata": {},
   "outputs": [],
   "source": [
    "3\n",
    "1 번에서 정의한 함수를 100번호출하라.\n"
   ]
  },
  {
   "cell_type": "code",
   "execution_count": null,
   "metadata": {},
   "outputs": [],
   "source": [
    "4\n",
    "\"비트코인\" 문자열을 100번 화면에 출력하는 print_coins() 함수를 정의하라. 한 라인에 하나씩 \"비트코인\" 문자열을 출력한다.\n"
   ]
  },
  {
   "cell_type": "code",
   "execution_count": null,
   "metadata": {},
   "outputs": [],
   "source": [
    "5\n",
    "아래의 에러가 발생하는 이유에 대해 설명하라.\n",
    "\n",
    "hello()\n",
    "def hello():\n",
    "    print(\"Hi\")\n",
    "NameError: name 'hello' is not defined\n"
   ]
  },
  {
   "cell_type": "code",
   "execution_count": null,
   "metadata": {},
   "outputs": [],
   "source": [
    "6\n",
    "아래 코드의 실행 결과를 예측하라.\n",
    "\n",
    "def message() :\n",
    "    print(\"A\")\n",
    "    print(\"B\")\n",
    "\n",
    "message()\n",
    "print(\"C\")\n",
    "message()\n"
   ]
  },
  {
   "cell_type": "code",
   "execution_count": null,
   "metadata": {},
   "outputs": [],
   "source": [
    "7\n",
    "아래 코드의 실행 결과를 예측하라. \n",
    "print(\"A\")\n",
    "\n",
    "def message() :\n",
    "    print(\"B\")\n",
    "\n",
    "print(\"C\")\n",
    "message()\n",
    " \n"
   ]
  },
  {
   "cell_type": "code",
   "execution_count": null,
   "metadata": {},
   "outputs": [],
   "source": [
    "8\n",
    "아래 코드의 실행 결과를 예측하라. \n",
    "\n",
    "print(\"A\")\n",
    "def messages1() :\n",
    "    print(\"B\")\n",
    "print(\"C\")\n",
    "def messages2() :\n",
    "    print(\"D\")\n",
    "messages1()\n",
    "print(\"E\")\n",
    "messages2()\n"
   ]
  },
  {
   "cell_type": "code",
   "execution_count": null,
   "metadata": {},
   "outputs": [],
   "source": [
    "9\n",
    "아래 코드의 실행 결과를 예측하라.\n",
    "\n",
    "def message1()\n",
    "    print(\"A\")\n",
    "\n",
    "def message2()\n",
    "    print(\"B\")\n",
    "    message1()\n",
    "\n",
    "message2()\n"
   ]
  },
  {
   "cell_type": "code",
   "execution_count": null,
   "metadata": {},
   "outputs": [],
   "source": [
    "10\n",
    "아래 코드의 실행 결과를 예측하라.\n",
    "\n",
    "def message1()\n",
    "    print(\"A\")\n",
    "\n",
    "def message2()\n",
    "    print(\"B\")\n",
    "\n",
    "\n",
    "def message3()\n",
    "    for i in range (3) :\n",
    "        message2()\n",
    "        print(\"C\")\n",
    "    message1()\n",
    "\n",
    "message3()\n"
   ]
  },
  {
   "cell_type": "code",
   "execution_count": null,
   "metadata": {},
   "outputs": [],
   "source": [
    "11\n",
    "함수의 호출 결과를 예측하라.\n",
    "\n",
    "def 함수(문자열) :\n",
    "    print(문자열)\n",
    "\n",
    "함수(\"안녕\")\n",
    "함수(\"Hi\")\n"
   ]
  },
  {
   "cell_type": "code",
   "execution_count": null,
   "metadata": {},
   "outputs": [],
   "source": [
    "12\n",
    "함수의 호출 결과를 예측하라.\n",
    "\n",
    "def 함수(a, b) :\n",
    "    print(a + b)\n",
    "\n",
    "함수(3, 4)\n",
    "함수(7, 8)\n",
    " \n"
   ]
  },
  {
   "cell_type": "code",
   "execution_count": null,
   "metadata": {},
   "outputs": [],
   "source": [
    "13\n",
    "아래와 같은 에러가 발생하는 원인을 설명하라.\n",
    "\n",
    "def 함수(문자열) :\n",
    "    print(문자열)\n",
    "함수()\n",
    "TypeError: 함수() missing 1 required positional argument: '문자열'\n",
    " \n"
   ]
  },
  {
   "cell_type": "code",
   "execution_count": null,
   "metadata": {},
   "outputs": [],
   "source": [
    "14\n",
    "아래와 같은 에러가 발생하는 원인을 설명하라.\n",
    "\n",
    "def 함수(a, b) :\n",
    "    print(a + b)\n",
    "\n",
    "함수(\"안녕\", 3)\n",
    "TypeError: must be str, not int\n"
   ]
  },
  {
   "cell_type": "code",
   "execution_count": null,
   "metadata": {},
   "outputs": [],
   "source": [
    "15\n",
    "하나의 문자를 입력받아 문자열 끝에 \":D\" 스마일 문자열을 이어 붙여 출력하는 print_with_smile 함수를 정의하라.\n"
   ]
  },
  {
   "cell_type": "code",
   "execution_count": null,
   "metadata": {},
   "outputs": [],
   "source": [
    "16\n",
    "015에서 정의한 함수를 호출하라. 파라미터는 \"안녕하세요\"로 입력하라.\n"
   ]
  },
  {
   "cell_type": "code",
   "execution_count": null,
   "metadata": {},
   "outputs": [],
   "source": [
    "17\n",
    "현재 가격을 입력 받아 상한가 (30%)를 출력하는 print_upper_price 함수를 정의하라.\n"
   ]
  },
  {
   "cell_type": "code",
   "execution_count": null,
   "metadata": {},
   "outputs": [],
   "source": [
    "18\n",
    "두 개의 숫자를 입력받아 두 수의 합을 출력하는 print_sum 함수를 정의하라.\n"
   ]
  },
  {
   "cell_type": "code",
   "execution_count": null,
   "metadata": {},
   "outputs": [],
   "source": [
    "19\n",
    "두 개의 숫자를 입력받아 합/차/곱/나눗셈을 출력하는 print_arithmetic_operation 함수를 작성하라.\n",
    "\n",
    "print_arithmetic_operation(3, 4)\n",
    "3 + 4 = 7\n",
    "3 - 4 = -1\n",
    "3 * 4 = 12\n",
    "3 / 4 = 0.75\n"
   ]
  },
  {
   "cell_type": "code",
   "execution_count": null,
   "metadata": {},
   "outputs": [],
   "source": [
    "20\n",
    "세 개의 숫자를 입력받아 가장 큰수를 출력하는 print_max 함수를 정의하라. 단 if 문을 사용해서 수를 비교하라.\n"
   ]
  }
 ],
 "metadata": {
  "kernelspec": {
   "display_name": "Python 3",
   "language": "python",
   "name": "python3"
  },
  "language_info": {
   "codemirror_mode": {
    "name": "ipython",
    "version": 3
   },
   "file_extension": ".py",
   "mimetype": "text/x-python",
   "name": "python",
   "nbconvert_exporter": "python",
   "pygments_lexer": "ipython3",
   "version": "3.11.9"
  }
 },
 "nbformat": 4,
 "nbformat_minor": 2
}
