{
 "cells": [
  {
   "cell_type": "code",
   "execution_count": 5,
   "metadata": {},
   "outputs": [
    {
     "data": {
      "text/plain": [
       "'Life is too short \\n'"
      ]
     },
     "execution_count": 5,
     "metadata": {},
     "output_type": "execute_result"
    }
   ],
   "source": [
    "1\n",
    "#  \"test.txt\"라는 파일에 \"Life is too short\" 문자열을 저장한 후 다시 그 파일을 읽어서 출력하는 프로그램을 작성해 보자.\n",
    "f = open('test.txt','w', encoding='utf-8')\n",
    "f.write('Life is too short \\n you need java')\n",
    "f.close()\n",
    "f = open('test.txt','r', encoding='utf-8')\n",
    "f.readline()"
   ]
  },
  {
   "cell_type": "code",
   "execution_count": 7,
   "metadata": {},
   "outputs": [
    {
     "data": {
      "text/plain": [
       "''"
      ]
     },
     "execution_count": 7,
     "metadata": {},
     "output_type": "execute_result"
    }
   ],
   "source": [
    "2\n",
    "# 다음과 같은 내용을 지닌 파일 test.txt가 있다. 이 파일의 내용 중 \"java\"라는 문자열을 \"python\"으로 바꾸어서 저장해 보자.\n",
    "\n",
    "# Life is too short\n",
    "# you need java\n",
    "# ※ replace 함수를 사용해 보자\n",
    "f = open('test.txt','a', encoding='utf-8')\n",
    "for i in range('test.txt') :\n",
    "    repl = f\n",
    "f.close()\n",
    "f = open('test.txt','r', encoding= 'utf-8')\n",
    "f.readline()"
   ]
  },
  {
   "cell_type": "code",
   "execution_count": 114,
   "metadata": {},
   "outputs": [
    {
     "ename": "TypeError",
     "evalue": "game_369() takes 0 positional arguments but 1 was given",
     "output_type": "error",
     "traceback": [
      "\u001b[1;31m---------------------------------------------------------------------------\u001b[0m",
      "\u001b[1;31mTypeError\u001b[0m                                 Traceback (most recent call last)",
      "Cell \u001b[1;32mIn[114], line 22\u001b[0m\n\u001b[0;32m     19\u001b[0m         val\u001b[38;5;241m.\u001b[39mappend(i)\n\u001b[0;32m     20\u001b[0m     \u001b[38;5;28mprint\u001b[39m(val)\n\u001b[1;32m---> 22\u001b[0m \u001b[43mgame_369\u001b[49m\u001b[43m(\u001b[49m\u001b[43m \u001b[49m\u001b[43m[\u001b[49m\u001b[38;5;241;43m1\u001b[39;49m\u001b[43m,\u001b[49m\u001b[43m \u001b[49m\u001b[38;5;241;43m2\u001b[39;49m\u001b[43m,\u001b[49m\u001b[43m \u001b[49m\u001b[38;5;241;43m3\u001b[39;49m\u001b[43m,\u001b[49m\u001b[43m \u001b[49m\u001b[38;5;241;43m4\u001b[39;49m\u001b[43m,\u001b[49m\u001b[43m \u001b[49m\u001b[38;5;241;43m5\u001b[39;49m\u001b[43m,\u001b[49m\u001b[43m \u001b[49m\u001b[38;5;241;43m6\u001b[39;49m\u001b[43m,\u001b[49m\u001b[43m \u001b[49m\u001b[38;5;241;43m7\u001b[39;49m\u001b[43m,\u001b[49m\u001b[43m \u001b[49m\u001b[38;5;241;43m8\u001b[39;49m\u001b[43m,\u001b[49m\u001b[43m \u001b[49m\u001b[38;5;241;43m9\u001b[39;49m\u001b[43m]\u001b[49m\u001b[43m \u001b[49m\u001b[43m)\u001b[49m\n\u001b[0;32m     24\u001b[0m \u001b[38;5;66;03m# game_369 = [1, 2, 3, 4, 5, 6, 7, 8, 9]\u001b[39;00m\n\u001b[0;32m     25\u001b[0m \n\u001b[0;32m     26\u001b[0m \u001b[38;5;66;03m# val= []\u001b[39;00m\n\u001b[1;32m   (...)\u001b[0m\n\u001b[0;32m     37\u001b[0m \n\u001b[0;32m     38\u001b[0m \u001b[38;5;66;03m# 함수 적용\u001b[39;00m\n",
      "\u001b[1;31mTypeError\u001b[0m: game_369() takes 0 positional arguments but 1 was given"
     ]
    }
   ],
   "source": [
    "# 3\n",
    "# 369 게임은 숫자에 3, 6, 9가 들어가면 박수를 치고, 나머지 숫자는 그대로 이야기하는 게임입니다. 369 게임을 시뮬레이션하는 game_369 함수를 정의하라.\n",
    "# 함수는 숫자의 리스트를 입력받는다. 리스트에는 0 ~ 9 까지의 숫자가 들어있다.\n",
    "# 입력된 숫자에 3/6/9가 포함되면 \"짝\" 문자열을 그렇지 않을 경우 숫자를 그대로 리스트에 저장한다. * 함수는 변환된 리스트를 반환한다.\n",
    "\n",
    "# game_369( [1, 2, 3, 4, 5, 6, 7, 8, 9] )\n",
    "# [1, 2, \"짝\", 4, 5, \"짝\", 7, 8, \"짝\"]\n",
    "\n",
    "def game_369():\n",
    "    val= []\n",
    "    for i in game_369:\n",
    "        if i == 3 :\n",
    "            i = \"짝\"\n",
    "        # print(i)\n",
    "        elif i == 6 :\n",
    "            i = \"짝\"\n",
    "        elif i == 9 :\n",
    "            i = \"짝\"\n",
    "        val.append(i)\n",
    "    print(val)\n",
    "\n",
    "game_369( [1, 2, 3, 4, 5, 6, 7, 8, 9] )\n",
    "\n",
    "# game_369 = [1, 2, 3, 4, 5, 6, 7, 8, 9]\n",
    "\n",
    "# val= []\n",
    "# for i in game_369:\n",
    "#     if i == 3 :\n",
    "#         i = \"짝\"\n",
    "#     # print(i)\n",
    "#     elif i == 6 :\n",
    "#         i = \"짝\"\n",
    "#     elif i == 9 :\n",
    "#         i = \"짝\"\n",
    "#     val.append(i)\n",
    "# print(val)\n",
    "\n",
    "# 함수 적용"
   ]
  },
  {
   "cell_type": "code",
   "execution_count": 108,
   "metadata": {},
   "outputs": [],
   "source": [
    "# 4\n",
    "# 3번에 정의한 함수를 0~99 까지 정상동작하도록 수정하라.\n",
    "\n",
    "# game_369( [31, 32, 33, 34] )\n",
    "# [\"짝\", \"짝\", \"짝\", \"짝\"]\n",
    "\n",
    "\n",
    "위 for 문에 if i >= 30 and i <40, i >= 60 and i <70 추가하면 될 듯"
   ]
  },
  {
   "cell_type": "code",
   "execution_count": null,
   "metadata": {},
   "outputs": [],
   "source": [
    "#  6\n",
    "# 표준 입력으로 숫자.확장자 형식으로 된 파일 이름 여러 개가 입력됩니다. \n",
    "# 파일 이름이 숫자 3개이면서 앞에 0이 들어가는 형식으로 출력되게 만드세요. \n",
    "# 예를 들어 1.png는 001.png, 99.docx는 099.docx, 100.xlsx는 100.xlsx처럼 출력되어야 합니다. \n",
    "# 그리고 람다 표현식을 사용해야 하며 출력 결과는 리스트 형태라야 합니다. \n",
    "# 람다 표현식에서 파일명을 처리할 때는 문자열 포매팅과 문자열 메서드를 활용하세요.\n",
    "# 예\n",
    "# 입력\n",
    "# 1.jpg 10.png 11.png 2.jpg 3.png\n",
    "# 결과\n",
    "# ['001.jpg', '010.png', '011.png', '002.jpg', '003.png']\n",
    "# 입력\n",
    "# 97.xlsx 98.docx 99.docx 100.xlsx 101.docx 102.docx\n",
    "# 결과\n",
    "# ['097.xlsx', '098.docx', '099.docx', '100.xlsx', '101.docx', '102.docx']\n"
   ]
  },
  {
   "cell_type": "code",
   "execution_count": null,
   "metadata": {},
   "outputs": [],
   "source": [
    "# 7  DashInsert 함수\n",
    "# DashInsert 함수는 숫자로 구성된 문자열을 입력받은 뒤 문자열 안에서 홀수가 연속되면 두 수 사이에 - 를 추가하고, \n",
    "# 짝수가 연속되면 * 를 추가하는 기능을 갖고 있다. DashInsert 함수를 완성하시오.\n",
    "\n",
    "# 입력 예시: 4546793\n",
    "# 출력 예시: 454*67-9-3\n",
    "\n",
    "# 8 문자열 압축하기\n",
    "# 문자열을 입력받아 같은 문자가 연속적으로 반복되는 경우에 그 반복 횟수를 표시해 문자열을 압축하여 표시하시오.\n",
    "\n",
    "# 입력 예시: aaabbcccccca\n",
    "# 출력 예시: a3b2c6a1"
   ]
  }
 ],
 "metadata": {
  "kernelspec": {
   "display_name": "Python 3",
   "language": "python",
   "name": "python3"
  },
  "language_info": {
   "codemirror_mode": {
    "name": "ipython",
    "version": 3
   },
   "file_extension": ".py",
   "mimetype": "text/x-python",
   "name": "python",
   "nbconvert_exporter": "python",
   "pygments_lexer": "ipython3",
   "version": "3.11.9"
  }
 },
 "nbformat": 4,
 "nbformat_minor": 2
}
