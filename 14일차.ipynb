{
 "cells": [
  {
   "cell_type": "code",
   "execution_count": null,
   "metadata": {},
   "outputs": [],
   "source": [
    "# 9\n",
    "# 리스트에는 네 개의 정수가 저장되어 있다. 각각의 데이터에 대해서 자신과 우측값과의 차분값을 화면에 출력하라.\n",
    "\n",
    "my_list = [100, 200, 400, 800]\n",
    "# 예를들어 100을 기준으로 우측에 위치한 200과의 차분 값를 화면에 출력하고, 200을 기준으로 우측에 위치한 400과의 차분값을 화면에 출력한다. \n",
    "# 이어서 400을 기준으로 우측에 위치한 800과의 차분값을 화면에 출력한다.\n",
    "\n",
    "# 100\n",
    "# 200\n",
    "# 400\n",
    "\n",
    "for i in range(len(my_list[:-1])) :\n",
    "    print(my_list[i+1]-my_list[i])\n",
    "    # print(i)\n",
    "    print(abs(my_list[i+1]-my_list[i]))\n",
    "\n",
    "    # abs란? : 절대값 -1 ->, -100 -> 100"
   ]
  },
  {
   "cell_type": "markdown",
   "metadata": {},
   "source": [
    "r 사용법"
   ]
  },
  {
   "cell_type": "code",
   "execution_count": 6,
   "metadata": {},
   "outputs": [
    {
     "name": "stdout",
     "output_type": "stream",
     "text": [
      "<_io.TextIOWrapper name='text.txt' mode='r' encoding='utf-8'>\n"
     ]
    },
    {
     "data": {
      "text/plain": [
       "['안녕하세요2']"
      ]
     },
     "execution_count": 6,
     "metadata": {},
     "output_type": "execute_result"
    }
   ],
   "source": [
    "# 파일 직접 다루기\n",
    "f = open('text.txt','r', encoding='utf-8')\n",
    "# r(read) - 작성 혹은 수정이 안됨) / w(write) - 읽는것도 가능함. 이전에 작성되어 있는 텍스트가 삭제됨 / a(append)= 이어쓰기\n",
    "print(f)    # encoding='utf-8' 이 없을때 'cp949' => 한국어 인코딩(주된 인코딩이 아님 => 출력할 때 보통 깨짐)\n",
    "\n",
    "f.readline()    # 텍스트를 읽어옵\n",
    "f.readlines()   #\n",
    "print(f.read())\n",
    "# f.close()"
   ]
  },
  {
   "cell_type": "markdown",
   "metadata": {},
   "source": [
    "w 사용법"
   ]
  },
  {
   "cell_type": "code",
   "execution_count": 11,
   "metadata": {},
   "outputs": [],
   "source": [
    "f = open('text2.txt','w', encoding='utf-8')\n",
    "for i in range(1,6):\n",
    "    text = f'{i}번째 줄 \\n'\n",
    "    f.write(text)\n",
    "f.close()"
   ]
  },
  {
   "cell_type": "markdown",
   "metadata": {},
   "source": [
    "readlines"
   ]
  },
  {
   "cell_type": "code",
   "execution_count": 24,
   "metadata": {},
   "outputs": [
    {
     "name": "stdout",
     "output_type": "stream",
     "text": [
      "1번째 줄 \n",
      "\n",
      "2번째 줄 \n",
      "\n",
      "3번째 줄 \n",
      "\n",
      "4번째 줄 \n",
      "\n",
      "5번째 줄 \n",
      "\n"
     ]
    }
   ],
   "source": [
    "# readlines\n",
    "f = open('text2.txt', 'r', encoding='utf-8')    # 영어만 쓸 거 그냥 무조건 utf-8 쓸 것\n",
    "lines = f.readlines()\n",
    "for line in lines : #각 line들을 읽어옴\n",
    "    # line = line.strip() # 한 줄 띄어쓰기 삭제\n",
    "    print(line)\n",
    "f.close()"
   ]
  },
  {
   "cell_type": "code",
   "execution_count": 21,
   "metadata": {},
   "outputs": [
    {
     "name": "stdout",
     "output_type": "stream",
     "text": [
      "1번째 줄\n",
      "2번째 줄\n",
      "3번째 줄\n",
      "4번째 줄\n",
      "5번째 줄\n"
     ]
    }
   ],
   "source": [
    "f = open('text2.txt', 'r', encoding='utf-8')\n",
    "for i in f : # f라는 객체에서 통째로 가져와 하나씩 i에 담음\n",
    "    print(i.strip())\n",
    "f.close()"
   ]
  },
  {
   "cell_type": "code",
   "execution_count": 26,
   "metadata": {},
   "outputs": [
    {
     "data": {
      "text/plain": [
       "'life is short, you need python'"
      ]
     },
     "execution_count": 26,
     "metadata": {},
     "output_type": "execute_result"
    }
   ],
   "source": [
    "# foo라는 텍스트파일에 'life is short, you need python'\n",
    "f = open('foo.txt', 'w', encoding='utf-8')\n",
    "f.write('life is short, you need python')\n",
    "f.close()\n",
    "f = open('foo.txt', 'r', encoding='utf-8')\n",
    "f.read()"
   ]
  },
  {
   "cell_type": "code",
   "execution_count": 31,
   "metadata": {},
   "outputs": [
    {
     "name": "stdout",
     "output_type": "stream",
     "text": [
      "1번째 줄 \n",
      "2번째 줄 \n",
      "3번째 줄 \n",
      "4번째 줄 \n",
      "5번째 줄 \n",
      "\n"
     ]
    },
    {
     "data": {
      "text/plain": [
       "'1번째 줄 \\n2번째 줄 \\n3번째 줄 \\n4번째 줄 \\n5번째 줄 \\n'"
      ]
     },
     "execution_count": 31,
     "metadata": {},
     "output_type": "execute_result"
    }
   ],
   "source": [
    "# with : 실행 후 with범위 밖으로 나갔을 떄 안에 있던 메모리를 할당\n",
    "with open('text2.txt','r',encoding='utf-8') as f:\n",
    "    print(f.read()) # with를 써서 다음꺼는 작동\n",
    "f = open('text2.txt', 'r', encoding='utf-8')\n",
    "f.read() # 이게 안닫혀서\n",
    "# f = open('text2.txt', 'r', encoding='utf-8')\n",
    "# f.read() # 이게 작동을 안 함\n",
    "f.close()\n",
    "# 파이썬은 메모리 관리가 필요 없음\n",
    "# 근데 with는 사용자가 관리 가능"
   ]
  },
  {
   "cell_type": "markdown",
   "metadata": {},
   "source": [
    "mode(a) 사용하기"
   ]
  },
  {
   "cell_type": "code",
   "execution_count": 52,
   "metadata": {},
   "outputs": [
    {
     "name": "stdout",
     "output_type": "stream",
     "text": [
      "1번째 줄 \n",
      "2번째 줄 \n",
      "3번째 줄 \n",
      "4번째 줄 \n",
      "5번째 줄 10번째 줄\n",
      "11번째 줄\n",
      "12번째 줄\n",
      "13번째 줄\n",
      "14번째 줄\n",
      "10번째 줄\n",
      "11번째 줄\n",
      "12번째 줄\n",
      "13번째 줄\n",
      "14번째 줄\n",
      "\n"
     ]
    }
   ],
   "source": [
    "f = open('text2.txt', 'a', encoding='utf-8')\n",
    "for i in range(10,15):\n",
    "    text = f'{i}번째 줄\\n'\n",
    "    f.write(text)\n",
    "f.close()\n",
    "\n",
    "f = open('text2.txt', 'r', encoding='utf-8')\n",
    "print(f.read())\n",
    "f.close()"
   ]
  }
 ],
 "metadata": {
  "kernelspec": {
   "display_name": "Python 3",
   "language": "python",
   "name": "python3"
  },
  "language_info": {
   "codemirror_mode": {
    "name": "ipython",
    "version": 3
   },
   "file_extension": ".py",
   "mimetype": "text/x-python",
   "name": "python",
   "nbconvert_exporter": "python",
   "pygments_lexer": "ipython3",
   "version": "3.11.9"
  }
 },
 "nbformat": 4,
 "nbformat_minor": 2
}
