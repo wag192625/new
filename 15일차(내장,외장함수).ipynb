{
 "cells": [
  {
   "cell_type": "code",
   "execution_count": 15,
   "metadata": {},
   "outputs": [
    {
     "name": "stdout",
     "output_type": "stream",
     "text": [
      "3754522518135094521036949423310775939822159736802039839718889132337380424668202771748171426049737415008372742104456962110591600569712353910068094960606371000010154197834655320775709697045385837554931640625\n"
     ]
    },
    {
     "data": {
      "text/plain": [
       "[('a', 'd'), ('b', 'e'), ('c', 'f')]"
      ]
     },
     "execution_count": 15,
     "metadata": {},
     "output_type": "execute_result"
    }
   ],
   "source": [
    "# 함수를 만들기는 했음\n",
    "# 함수 -> 내장함수, 외장함수\n",
    "# 내장함수 -> import를 사용하지 않고 바로 사용할 수 있음    print\n",
    "# 외장함수 -> from 혹은 import 를 사용함, pip를 통해서 다운로드 random\n",
    "\n",
    "# 내장함수중 자주 쓰이는 함수가 있음\n",
    "\n",
    "abs(-123123)    # = 123123    절댓값을 취하는 함수\n",
    "any([10,0,-1])  # 하나라도 참이라면 참을 반환     if (any(0,0,1)) #\n",
    "chr(122)        # 아스키코드 문자\n",
    "ord('z')        # 아스키코드 숫자(값이 한글자여야 함), 보안도\n",
    "hex(150)[2:]    # 16진수 - 비트맵\n",
    "print(12345**50)# 파이썬은 메모리에 관대함\n",
    "round(123.5)    # 반올림\n",
    "\n",
    "list1 = ['a','b','c']\n",
    "list2 = [1,2,3]\n",
    "zip(list1,list2)# zip만 사용하면 할당된 메모리 주소를 출력\n",
    "list(zip(list1,list2)) # list를 통해서 출력 가능하고 출력될 때 (키:쌍)으로 튜플 타입을 출력\n",
    "# list(zip([1,2],[3,4],[5,6],[7,8]))\n",
    "# list(zip('abc','def')) # 문자열일 경우에는 글자를 쪼개서 키와 값으로 분리"
   ]
  },
  {
   "cell_type": "code",
   "execution_count": 2,
   "metadata": {},
   "outputs": [
    {
     "data": {
      "text/plain": [
       "-2"
      ]
     },
     "execution_count": 2,
     "metadata": {},
     "output_type": "execute_result"
    }
   ],
   "source": [
    "# 외장 함수 => 보통 import를 하여 함수를 사용\n",
    "\n",
    "# 코드엔 속도가 중요하지만 파이썬에서는 쉬운 코드도 중요함\n",
    "# 파이썬은 코테용 언어가 아님. 코테를 생각하면 c나 c++로 가야함\n",
    "\n",
    "# math\n",
    "import math\n",
    "math.ceil(1.1) # 소수점 올리기\n",
    "math.floor(1.9) # 소수점 내리기\n",
    "\n",
    "\n",
    "#random\n",
    "import random\n",
    "# 특징\n",
    "# 1. 1미만의 소수점만 나옴\n",
    "# 2. 숫자가 매번 다른 값이 나옴\n",
    "# 3. 0 이상의 소수점을 출력\n",
    "random.random()\n",
    "math.floor(random.random()*11-5)\n"
   ]
  },
  {
   "cell_type": "code",
   "execution_count": 3,
   "metadata": {},
   "outputs": [
    {
     "name": "stdout",
     "output_type": "stream",
     "text": [
      "[3, 2, 5, 4, 1]\n",
      "0.6394267984578837\n"
     ]
    }
   ],
   "source": [
    "random.randint(-5,5)\n",
    "\n",
    "lst = [1,2,3,4,5]\n",
    "random.shuffle(lst) # 시드값 생성용\n",
    "print(lst)\n",
    "\n",
    "lst2 = ['1','b','c']\n",
    "random.choice(lst2)\n",
    "\n",
    "random.seed(42)\n",
    "print(random.random())"
   ]
  },
  {
   "cell_type": "code",
   "execution_count": 7,
   "metadata": {},
   "outputs": [
    {
     "name": "stdout",
     "output_type": "stream",
     "text": [
      "2024-04-20 12:12:12\n"
     ]
    }
   ],
   "source": [
    "import datetime # 시간 ,날짜 계산이나 처리를 하기 위해 사용됨\n",
    "\n",
    "now = datetime.datetime.now()\n",
    "# print(now)\n",
    "date = datetime.datetime(2024, 4, 20, 12, 12, 12, 0)\n",
    "print(date)\n",
    "print(now - date)\n",
    "formatted_date = now.strftime('%Y%m%d %H:%M:%S')\n",
    "print(formatted_date)"
   ]
  },
  {
   "cell_type": "code",
   "execution_count": 1652,
   "metadata": {},
   "outputs": [
    {
     "data": {
      "text/plain": [
       "['10일차(문제(못품)).ipynb',\n",
       " '11일차(함수 설명, 문제).ipynb',\n",
       " '12일차 (별 빼고 다).ipynb',\n",
       " '12일차.ipynb',\n",
       " '13일차(자료구조).ipynb',\n",
       " '14일차.ipynb',\n",
       " '15일차.ipynb',\n",
       " '1일차(기본).ipynb',\n",
       " '2일차(기본).ipynb',\n",
       " '3일차(이론,리스트,튜플,딕트)).ipynb',\n",
       " '4일차(기본 반복문).ipynb',\n",
       " '5일차(문제풀기).ipynb',\n",
       " '6일차(문제풀기).ipynb',\n",
       " '7일차(반복문,딕트 연습).ipynb',\n",
       " '8일차(sort, try, 리스트내포).ipynb',\n",
       " '9일차(문제풀이).ipynb',\n",
       " '문제(푼거)04.08.ipynb']"
      ]
     },
     "execution_count": 1652,
     "metadata": {},
     "output_type": "execute_result"
    }
   ],
   "source": [
    "# glob : 파일 경로나 파일에 해당하는 데이터를 가져올 때\n",
    "from glob import glob\n",
    "\n",
    "glob('C:/Users/wag19/Documents/new/*.ipynb')\n",
    "# 권한 에러가 나오는 경우가 있음\n",
    "# 이때는 python 프로그램을 관리자 권한으로 열면 됨\n",
    "# 권한 에러는 보통 105"
   ]
  },
  {
   "cell_type": "code",
   "execution_count": 1655,
   "metadata": {},
   "outputs": [
    {
     "name": "stdout",
     "output_type": "stream",
     "text": [
      "Active code page: 65001\n"
     ]
    }
   ],
   "source": [
    "!chcp 65001\n",
    "#글자가 만약 깨진다면 위 코드 사용"
   ]
  },
  {
   "cell_type": "code",
   "execution_count": 1654,
   "metadata": {},
   "outputs": [
    {
     "name": "stdout",
     "output_type": "stream",
     "text": [
      " C ����̺��� �������� �̸��� �����ϴ�.\n",
      " ���� �Ϸ� ��ȣ: 8AB9-5002\n",
      "\n",
      " c:\\Users\\wag19\\Documents\\new ���͸�\n",
      "\n",
      "2024-04-21  ���� 01:59    <DIR>          .\n",
      "2024-04-09  ���� 05:50    <DIR>          ..\n",
      "2024-04-20  ���� 07:40             9,257 10����(����(��ǰ)).ipynb\n",
      "2024-04-18  ���� 07:37            17,234 11����(�Լ� ����, ����).ipynb\n",
      "2024-04-19  ���� 11:07            21,488 12���� (�� ���� ��).ipynb\n",
      "2024-04-20  ���� 07:40            21,991 12����.ipynb\n",
      "2024-04-19  ���� 05:35            11,821 13����(�ڷᱸ��).ipynb\n",
      "2024-04-20  ���� 07:50             6,796 14����.ipynb\n",
      "2024-04-21  ���� 04:24             5,863 15����.ipynb\n",
      "2024-04-20  ���� 07:40            20,570 1����(�⺻).ipynb\n",
      "2024-04-10  ���� 05:34             8,346 2����(�⺻).ipynb\n",
      "2024-04-20  ���� 07:40            12,858 3����(�̷�,����Ʈ,Ʃ��,��Ʈ)).ipynb\n",
      "2024-04-20  ���� 07:40             8,435 4����(�⺻ �ݺ���).ipynb\n",
      "2024-04-19  ���� 08:30            10,254 5����(����Ǯ��).ipynb\n",
      "2024-04-20  ���� 07:40            16,987 6����(����Ǯ��).ipynb\n",
      "2024-04-20  ���� 07:40            18,961 7����(�ݺ���,��Ʈ ����).ipynb\n",
      "2024-04-20  ���� 07:40            17,573 8����(sort, try, ����Ʈ����).ipynb\n",
      "2024-04-16  ���� 08:30            20,774 9����(����Ǯ��).ipynb\n",
      "2024-04-20  ���� 07:17                30 foo.txt\n",
      "2024-04-20  ���� 07:02                55 text.txt\n",
      "2024-04-20  ���� 07:39               208 text2.txt\n",
      "2024-04-19  ���� 02:53    <DIR>          ����������\n",
      "2024-04-09  ���� 06:20            15,348 ����(Ǭ��)04.08.ipynb\n",
      "              20�� ����             244,849 ����Ʈ\n",
      "               3�� ���͸�  116,394,438,656 ����Ʈ ����\n"
     ]
    }
   ],
   "source": [
    "!ls #현재 경로의 파일들 출력\n",
    "!dir/w # 이것도"
   ]
  }
 ],
 "metadata": {
  "kernelspec": {
   "display_name": "Python 3",
   "language": "python",
   "name": "python3"
  },
  "language_info": {
   "codemirror_mode": {
    "name": "ipython",
    "version": 3
   },
   "file_extension": ".py",
   "mimetype": "text/x-python",
   "name": "python",
   "nbconvert_exporter": "python",
   "pygments_lexer": "ipython3",
   "version": "3.11.9"
  }
 },
 "nbformat": 4,
 "nbformat_minor": 2
}
