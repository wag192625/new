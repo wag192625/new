{
 "cells": [
  {
   "cell_type": "code",
   "execution_count": 6,
   "metadata": {},
   "outputs": [
    {
     "name": "stdout",
     "output_type": "stream",
     "text": [
      "729\n"
     ]
    }
   ],
   "source": [
    "# 1. 0부터 9999까지 8을 포함하지 않는 수는 총 몇개일까?\n",
    "# 8, 108, 888, 9998 등은 8을 포함하고 있는 수입니다. 111, 299, 4 등과 같은 수는 8을 포함하지 않는 수 입니다.\n",
    "cnt = 0\n",
    "\n",
    "for i in range(1000) :\n",
    "    cnt+= 1\n",
    "    if '8' in str(i) :\n",
    "        cnt -= 1\n",
    "print(cnt)"
   ]
  },
  {
   "cell_type": "code",
   "execution_count": 50,
   "metadata": {},
   "outputs": [
    {
     "name": "stdout",
     "output_type": "stream",
     "text": [
      "down\n",
      "down\n",
      "정답입니다. 2 회 만에 맞췄어요.\n"
     ]
    }
   ],
   "source": [
    "# 2. \n",
    "# 컴퓨터가 1~100 숫자(정수 범위) 중 하나를 랜덤으로 정합니다. (이를 알려주지 않습니다.)\n",
    "# 사용자는 이 숫자를 맞추어야 합니다.\n",
    "# 입력한 숫자보다 정답이 크면 → \"UP\" 출력,\n",
    "# 입력한 숫자보다 정답이 작으면 → \"DOWN\" 출력.\n",
    "# 정답을 맞추면 → \"정답\"을 출력하고, 지금까지 숫자를 입력한 횟수를 알려줍니다.\n",
    "\n",
    "# (예시)\n",
    "# 컴퓨터가 1~100 중 랜덤 숫자 하나를 정합니다.\n",
    "# 이 숫자를 맞춰주세요.\n",
    "# 1~100 숫자 입력:50\n",
    "# DOWN\n",
    "# 1~100 숫자 입력:25\n",
    "# UP\n",
    "# 1~100 숫자 입력:38\n",
    "# DOWN\n",
    "# 1~100 숫자 입력:32\n",
    "# UP\n",
    "# 1~100 숫자 입력:35\n",
    "# UP\n",
    "# 1~100 숫자 입력:37\n",
    "# DOWN\n",
    "# 1~100 숫자 입력:36\n",
    "# 정답입니다! 7회 만에 맞췄어요.\n",
    "import random\n",
    "\n",
    "a = random.randint(1,100)\n",
    "cnt = 0\n",
    "while(True):\n",
    "    find_num = int(input())\n",
    "    if a > find_num :\n",
    "        cnt += 1\n",
    "        print('UP')\n",
    "    elif a < find_num :\n",
    "        cnt += 1\n",
    "        print('down')\n",
    "    elif a == find_num :\n",
    "        print('정답입니다.',cnt,'회 만에 맞췄어요.' )\n",
    "        break"
   ]
  },
  {
   "cell_type": "code",
   "execution_count": 59,
   "metadata": {},
   "outputs": [
    {
     "name": "stdout",
     "output_type": "stream",
     "text": [
      "1.3333333333333333\n"
     ]
    }
   ],
   "source": [
    "# 3.직각삼각형의 밑변이 x, 높이가 y일 때 남은 변(대각선)의 길이를 구하는 함수를 만들어주세요.\n",
    "def hamsu(x,y) :\n",
    "    print(y/x)\n",
    "\n",
    "hamsu(3,4)"
   ]
  },
  {
   "cell_type": "code",
   "execution_count": 100,
   "metadata": {},
   "outputs": [
    {
     "name": "stdout",
     "output_type": "stream",
     "text": [
      "False\n"
     ]
    }
   ],
   "source": [
    "# 4. 0~9까지의 문자로 된 숫자를 입력 받았을 때, 이 입력 값이 0~9까지의 숫자가 각각 한 번 씩만 사용된 것인지 확인하는 함수를 구하시오.\n",
    "\n",
    "# sample inputs: 0123456789 01234 01234567890 6789012345 012322456789\n",
    "# sample outputs: true false false true false\n",
    "\n",
    "def hamsu2(x):\n",
    "    y=str(x)\n",
    "    comp= ['0','1','2','3','4','5','6','7','8','9']\n",
    "    sort_y = sorted(y)\n",
    "    if sort_y == comp :\n",
    "        print('True')\n",
    "    else :\n",
    "        print('False')\n",
    "hamsu2('0123456744')"
   ]
  },
  {
   "cell_type": "code",
   "execution_count": null,
   "metadata": {},
   "outputs": [],
   "source": [
    "# 5. 양의 정수만 입력으로 받고 그 수의 자릿수를 출력해보자. ex1) 3 > 1자리수, ex2) 649 > 3자리수 ....\n"
   ]
  },
  {
   "cell_type": "code",
   "execution_count": null,
   "metadata": {},
   "outputs": [],
   "source": [
    "# 6. A사무실에는 특정일자의 출퇴근 시간이 기록된 거대한 로그파일이 있다고 한다.\n",
    "\n",
    "# 파일의 형식은 다음과 같다. (한 라인에서 앞부분은 출근시간(HH:MM:SS), 뒷부분은 퇴근시간이다)\n",
    "\n",
    "# 09:12:23 11:14:35\n",
    "# 10:34:01 13:23:40\n",
    "# 10:34:31 11:20:10\n",
    "# 특정시간을 입력(예:11:05:20)으로 주었을 때 그 시간에 총 몇 명이 사무실에 있었는지 알려주는 함수를 작성하시오.\n"
   ]
  }
 ],
 "metadata": {
  "kernelspec": {
   "display_name": "Python 3",
   "language": "python",
   "name": "python3"
  },
  "language_info": {
   "codemirror_mode": {
    "name": "ipython",
    "version": 3
   },
   "file_extension": ".py",
   "mimetype": "text/x-python",
   "name": "python",
   "nbconvert_exporter": "python",
   "pygments_lexer": "ipython3",
   "version": "3.11.9"
  }
 },
 "nbformat": 4,
 "nbformat_minor": 2
}
