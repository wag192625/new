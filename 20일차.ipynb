{
 "cells": [
  {
   "cell_type": "markdown",
   "metadata": {},
   "source": [
    "import re # 정규표현식 풀어낼 때\n",
    "나중에 설명\n",
    "\n",
    "도박(카지노 777), 틱택토, 영단어 시험 문제(오답노트같은거),\n",
    "자판기 프로그램(사용자 모드, 관리자 모드, 재고 관리 기능 등), 포커, 테트리스\n",
    "\n",
    "html로 간단한 웹사이트"
   ]
  }
 ],
 "metadata": {
  "kernelspec": {
   "display_name": "Python 3",
   "language": "python",
   "name": "python3"
  },
  "language_info": {
   "codemirror_mode": {
    "name": "ipython",
    "version": 3
   },
   "file_extension": ".py",
   "mimetype": "text/x-python",
   "name": "python",
   "nbconvert_exporter": "python",
   "pygments_lexer": "ipython3",
   "version": "3.11.9"
  }
 },
 "nbformat": 4,
 "nbformat_minor": 2
}
