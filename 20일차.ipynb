{
 "cells": [
  {
   "cell_type": "markdown",
   "metadata": {},
   "source": [
    "import re # 정규표현식 풀어낼 때\n",
    "나중에 설명\n",
    "\n",
    "도박(카지노 777), 틱택토, 영단어 시험 문제(오답노트같은거),\n",
    "자판기 프로그램(사용자 모드, 관리자 모드, 재고 관리 기능 등), 포커, 테트리스\n",
    "\n",
    "html로 간단한 웹사이트"
   ]
  },
  {
   "cell_type": "code",
   "execution_count": 30,
   "metadata": {},
   "outputs": [
    {
     "name": "stdout",
     "output_type": "stream",
     "text": [
      "['자두', '오렌지', '체리']\n",
      "꽝\n"
     ]
    }
   ],
   "source": [
    "# 도박\n",
    "\n",
    "import random\n",
    "\n",
    "def insert_coin(coin):\n",
    "    machin_image = ['체리', '오렌지', '자두','레몬']\n",
    "    result = []\n",
    "    # result = ['체리','체리','체리']\n",
    "    for i in range(3) :\n",
    "        result.append(random.choice(machin_image))\n",
    "    print(result)\n",
    "    if result == ['체리','체리','체리'] :\n",
    "        coin*2\n",
    "        print('2배')\n",
    "    elif result == ['오렌지','오렌지','오렌지'] :\n",
    "        coin*5\n",
    "        print('5배')\n",
    "    elif result == ['자두','자두','자두'] :\n",
    "        coin*10\n",
    "        print('10배')\n",
    "    else:\n",
    "        print('꽝')\n",
    "\n",
    "insert_coin(1)"
   ]
  },
  {
   "cell_type": "code",
   "execution_count": 5,
   "metadata": {},
   "outputs": [
    {
     "name": "stdout",
     "output_type": "stream",
     "text": [
      "[['O', 'ㅁ', 'ㅁ'], ['ㅁ', 'ㅁ', 'ㅁ'], ['X', 'ㅁ', 'ㅁ']]\n",
      "[['O', 'O', 'ㅁ'], ['ㅁ', 'ㅁ', 'X'], ['X', 'ㅁ', 'ㅁ']]\n",
      "승리\n"
     ]
    },
    {
     "ename": "ValueError",
     "evalue": "invalid literal for int() with base 10: 'end'",
     "output_type": "error",
     "traceback": [
      "\u001b[1;31m---------------------------------------------------------------------------\u001b[0m",
      "\u001b[1;31mValueError\u001b[0m                                Traceback (most recent call last)",
      "Cell \u001b[1;32mIn[5], line 49\u001b[0m\n\u001b[0;32m     46\u001b[0m                     \u001b[38;5;28mprint\u001b[39m(\u001b[38;5;124m'\u001b[39m\u001b[38;5;124m패배\u001b[39m\u001b[38;5;124m'\u001b[39m)\n\u001b[0;32m     47\u001b[0m                     \u001b[38;5;28;01mbreak\u001b[39;00m\n\u001b[1;32m---> 49\u001b[0m \u001b[43mboard_choice\u001b[49m\u001b[43m(\u001b[49m\u001b[43m)\u001b[49m\n\u001b[0;32m     51\u001b[0m \u001b[38;5;66;03m# print(board)\u001b[39;00m\n",
      "Cell \u001b[1;32mIn[5], line 12\u001b[0m, in \u001b[0;36mboard_choice\u001b[1;34m()\u001b[0m\n\u001b[0;32m     10\u001b[0m cnt \u001b[38;5;241m=\u001b[39m \u001b[38;5;241m0\u001b[39m\n\u001b[0;32m     11\u001b[0m \u001b[38;5;28;01mwhile\u001b[39;00m(cnt\u001b[38;5;241m<\u001b[39m\u001b[38;5;241m5\u001b[39m):\n\u001b[1;32m---> 12\u001b[0m     y \u001b[38;5;241m=\u001b[39m \u001b[38;5;28;43mint\u001b[39;49m\u001b[43m(\u001b[49m\u001b[38;5;28;43minput\u001b[39;49m\u001b[43m(\u001b[49m\u001b[43m)\u001b[49m\u001b[43m)\u001b[49m\n\u001b[0;32m     13\u001b[0m     x \u001b[38;5;241m=\u001b[39m \u001b[38;5;28mint\u001b[39m(\u001b[38;5;28minput\u001b[39m())\n\u001b[0;32m     14\u001b[0m     ran_y \u001b[38;5;241m=\u001b[39m random\u001b[38;5;241m.\u001b[39mrandint(\u001b[38;5;241m0\u001b[39m,\u001b[38;5;241m2\u001b[39m)\n",
      "\u001b[1;31mValueError\u001b[0m: invalid literal for int() with base 10: 'end'"
     ]
    }
   ],
   "source": [
    "# 틱택토\n",
    "import random\n",
    "board = [\n",
    "    ['ㅁ','ㅁ','ㅁ'],\n",
    "    ['ㅁ','ㅁ','ㅁ'],\n",
    "    ['ㅁ','ㅁ','ㅁ']\n",
    "    ]\n",
    "# print(board[0])\n",
    "def board_choice():\n",
    "    cnt = 0\n",
    "    while(cnt<5):\n",
    "        y = int(input())\n",
    "        x = int(input())\n",
    "        ran_y = random.randint(0,2)\n",
    "        ran_x = random.randint(0,2)\n",
    "        if board[y][x] == 'ㅁ':\n",
    "            board[y][x] = 'O'\n",
    "        else :\n",
    "            '이미 지정된 공간입니다.'       # 이 상태에서 다시 좌표를 입력해야 하는데 되돌아 가는 법을 모르겠음\n",
    "        if board[ran_y][ran_x] == 'ㅁ':\n",
    "            board[ran_y][ran_x] = 'X'\n",
    "            print(board)\n",
    "        else :\n",
    "            '이미 지정된 공간입니다.'\n",
    "        cnt+=1\n",
    "        for i in range(3):\n",
    "            if (board[0][i] and board[1][i] and board[2][i]) in ('O' or 'X') :\n",
    "                if (board[0][i] and board[1][i] and board[2][i]) in 'O' :\n",
    "                    print('승리')\n",
    "                    break\n",
    "                else :\n",
    "                    print('패배')\n",
    "                    break\n",
    "            elif (board[i][0] and board[i][1] and board[i][2]) in ('O' or 'X') :\n",
    "                if (board[i][0] and board[i][1] and board[i][2]) in 'O' :\n",
    "                    print('승리')\n",
    "                    break\n",
    "                else :\n",
    "                    print('패배')\n",
    "                    break\n",
    "            elif ((board[0][0] and board[1][1] and board[2][2]) or (board[0][2] and board[1][1] and board[2][0])) in ('O' or 'X') :\n",
    "                if ((board[0][0] and board[1][1] and board[2][2]) or (board[0][2] and board[1][1] and board[2][0])) in 'O' :\n",
    "                    print('승리')\n",
    "                    break\n",
    "                else :\n",
    "                    print('패배')\n",
    "                    break\n",
    "\n",
    "board_choice()\n",
    "\n",
    "# print(board)"
   ]
  },
  {
   "cell_type": "code",
   "execution_count": 94,
   "metadata": {},
   "outputs": [
    {
     "name": "stdout",
     "output_type": "stream",
     "text": [
      "put\n",
      "놓다\n",
      "정답입니다.\n",
      "----\n",
      "pretty\n",
      "어느정도\n",
      "정답입니다.\n",
      "----\n",
      "bring\n",
      "찬란한\n",
      "오답입니다. 답은 가져오다 입니다.\n",
      "----\n",
      "listen\n",
      "end\n",
      "['bring'] 틀리셨습니다.\n"
     ]
    }
   ],
   "source": [
    "# 영단어 시험 문제(dict)\n",
    "import random\n",
    "# dict_data = {'together': '함께','bring':'가져오다','put':'놓다','trip':'여행',\n",
    "#              'read':'읽다','listen':'듣다','pretty':'어느정도','theater':'극장'}\n",
    "# random.shuffle(dict_keys())  @@ 키만 가지고 셔플 돌리는거 모르겠음\n",
    "\n",
    "dict_keys = ['together', 'bring', 'put', 'trip', 'read', 'listen', 'pretty', 'theater']\n",
    "dict_values = ['함께', '가져오다', '놓다', '여행', '읽다', '듣다', '어느정도', '극장']\n",
    "dict_data = dict(zip(dict_keys,dict_values))\n",
    "random.shuffle(dict_keys)\n",
    "# print(dict_keys)\n",
    "wrong_question =[]\n",
    "\n",
    "for i in dict_keys:\n",
    "    print(i)\n",
    "    answer = input()\n",
    "    print(answer)\n",
    "    if dict_data.get(i) == answer :\n",
    "        print('정답입니다.')\n",
    "    elif answer == 'end':\n",
    "        break\n",
    "    else:\n",
    "        print('오답입니다. 답은', dict_data.get(i),'입니다.')\n",
    "        wrong_question.append(i)\n",
    "    print('----')\n",
    "    # if answer == 'end':\n",
    "    #     break\n",
    "print(wrong_question,'틀리셨습니다.')"
   ]
  },
  {
   "cell_type": "code",
   "execution_count": 3,
   "metadata": {},
   "outputs": [
    {
     "name": "stdout",
     "output_type": "stream",
     "text": [
      "{'콜라': 1800, '사이다': 1600, '환타': 1600, '몬스터': 2200, '핫식스': 2100, '비타500': 1900}\n"
     ]
    },
    {
     "ename": "TypeError",
     "evalue": "unsupported operand type(s) for -: 'str' and 'int'",
     "output_type": "error",
     "traceback": [
      "\u001b[1;31m---------------------------------------------------------------------------\u001b[0m",
      "\u001b[1;31mTypeError\u001b[0m                                 Traceback (most recent call last)",
      "Cell \u001b[1;32mIn[3], line 23\u001b[0m\n\u001b[0;32m     21\u001b[0m \u001b[38;5;28;01melif\u001b[39;00m \u001b[38;5;28mstr\u001b[39m(choice_drink) \u001b[38;5;129;01min\u001b[39;00m drink:\n\u001b[0;32m     22\u001b[0m     money\u001b[38;5;241m-\u001b[39mdrink_price\u001b[38;5;241m.\u001b[39mget(choice_drink)\n\u001b[1;32m---> 23\u001b[0m     drink_stock\u001b[38;5;241m.\u001b[39mget(\u001b[43mchoice_drink\u001b[49m\u001b[43m \u001b[49m\u001b[38;5;241;43m-\u001b[39;49m\u001b[43m \u001b[49m\u001b[38;5;241;43m1\u001b[39;49m)\n\u001b[0;32m     24\u001b[0m \u001b[38;5;28mprint\u001b[39m(\u001b[38;5;124m'\u001b[39m\u001b[38;5;124m잔액은\u001b[39m\u001b[38;5;124m'\u001b[39m,money,\u001b[38;5;124m'\u001b[39m\u001b[38;5;124m원입니다.\u001b[39m\u001b[38;5;124m'\u001b[39m)\n\u001b[0;32m     25\u001b[0m \u001b[38;5;28;01mbreak\u001b[39;00m\n",
      "\u001b[1;31mTypeError\u001b[0m: unsupported operand type(s) for -: 'str' and 'int'"
     ]
    }
   ],
   "source": [
    "# 자판기 프로그램(사용자 모드, 관리자 모드, 재고 관리 기능 등)\n",
    "# 3. 사용자모드 => 돈 넣고 돈 넣은만큼 음료 고르기, 잔돈 교환\n",
    "# 1. 관리자모드 => 제품 추가/제거, 가격조정\n",
    "# 2. 재고 관리 기능 => 제품 재고 확인 및 추가/제거\n",
    "drink = ['콜라', '사이다', '환타', '몬스터', '핫식스', '비타500']\n",
    "price = [1800, 1600, 1600, 2200, 2100, 1900]\n",
    "stock = [8,10,13,7,10,5]\n",
    "drink_price = dict(zip(drink,price))\n",
    "drink_stock = dict(zip(drink,stock))\n",
    "\n",
    "money = 4000\n",
    "# # def vending_machine():\n",
    "while(money>=0):\n",
    "    print(drink_price)\n",
    "    choice_drink = input()      # unsupported operand type(s) for -: 'str' and 'int' 오류\n",
    "    # print(type(choice_drink))\n",
    "    # print(choice_drink)\n",
    "    if drink_stock.get(choice_drink) == 0 : # 여긴 정상\n",
    "        print('품절입니다.') \n",
    "    # print(type(choice_drink))\n",
    "    elif choice_drink in drink:        # 여기 오류\n",
    "        money-drink_price.get(choice_drink)\n",
    "        drink_stock.get(choice_drink - 1)\n",
    "    print('잔액은',money,'원입니다.')\n",
    "    break\n"
   ]
  },
  {
   "cell_type": "code",
   "execution_count": 141,
   "metadata": {},
   "outputs": [
    {
     "name": "stdout",
     "output_type": "stream",
     "text": [
      "123\n"
     ]
    }
   ],
   "source": [
    "if '콜라' in drink:\n",
    "    print(123)"
   ]
  },
  {
   "cell_type": "code",
   "execution_count": 92,
   "metadata": {},
   "outputs": [],
   "source": [
    "# 포커"
   ]
  },
  {
   "cell_type": "code",
   "execution_count": null,
   "metadata": {},
   "outputs": [],
   "source": [
    "\n",
    "# html"
   ]
  }
 ],
 "metadata": {
  "kernelspec": {
   "display_name": "Python 3",
   "language": "python",
   "name": "python3"
  },
  "language_info": {
   "codemirror_mode": {
    "name": "ipython",
    "version": 3
   },
   "file_extension": ".py",
   "mimetype": "text/x-python",
   "name": "python",
   "nbconvert_exporter": "python",
   "pygments_lexer": "ipython3",
   "version": "3.11.9"
  }
 },
 "nbformat": 4,
 "nbformat_minor": 2
}
