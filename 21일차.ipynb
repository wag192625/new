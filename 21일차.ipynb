{
 "cells": [
  {
   "cell_type": "code",
   "execution_count": 2,
   "metadata": {},
   "outputs": [
    {
     "name": "stdout",
     "output_type": "stream",
     "text": [
      "0\n",
      "0\n"
     ]
    }
   ],
   "source": [
    "# 3항 연산자\n",
    "# 다채로운 사용이 가능함.\n",
    "# if의 결과 if 조건문1 else else결과\n",
    "print(1) if 1>2 else print(0)\n",
    "\n",
    "if 1>2:     # 이걸 줄인 것\n",
    "    print(1)\n",
    "else:\n",
    "    print(0)"
   ]
  },
  {
   "cell_type": "code",
   "execution_count": 4,
   "metadata": {},
   "outputs": [
    {
     "name": "stdout",
     "output_type": "stream",
     "text": [
      "홀수\n",
      "3과 5중에서 큰 값은 5입니다.\n"
     ]
    }
   ],
   "source": [
    "# 홀수와 짝수 출력을 하는 삼항연산자\n",
    "# n 을 입력 받아서 n이 홀수인지 짝수인지\n",
    "n=3\n",
    "print('짝수') if n%2==0 else print('홀수')\n",
    "m=5\n",
    "\n",
    "a=(n if n>m else m)\n",
    "print('{}과 {}중에서 큰 값은 {}입니다.'.format(n,m,a))"
   ]
  },
  {
   "cell_type": "code",
   "execution_count": 6,
   "metadata": {},
   "outputs": [
    {
     "data": {
      "text/plain": [
       "[0, 0, 2, 0]"
      ]
     },
     "execution_count": 6,
     "metadata": {},
     "output_type": "execute_result"
    }
   ],
   "source": [
    "# 리스트내포랑 함께 사용 가능\n",
    "[i if i%2==0 else 0 for i in range(4)]  # 일반 for문보다 빠름(c로 구성됨)"
   ]
  },
  {
   "cell_type": "code",
   "execution_count": 12,
   "metadata": {},
   "outputs": [
    {
     "name": "stdout",
     "output_type": "stream",
     "text": [
      "[0, -1, -2, -3, 4, -5, -6, -7, 8, -9, -10, -11, 12, -13, -14, -15, 16, -17, -18, -19, 20, -21, -22, -23, 24, -25, -26, -27, 28, -29, -30, -31, 32, -33, -34, -35, 36, -37, -38, -39, 40, -41, -42, -43, 44, -45, -46, -47, 48, -49, -50, -51, 52, -53, -54, -55, 56, -57, -58, -59, 60, -61, -62, -63, 64, -65, -66, -67, 68, -69, -70, -71, 72, -73, -74, -75, 76, -77, -78, -79, 80, -81, -82, -83, 84, -85, -86, -87, 88, -89, -90, -91, 92, -93, -94, -95, 96, -97, -98, -99, 100]\n"
     ]
    }
   ],
   "source": [
    "# 0부터 100까지의 숫자 중에서 4로 나뉘는 숫자는 그대로, 이외의 숫자는 -1을 곱하여 출력하시오\n",
    "print([i if i%4==0 else i*-1 for i in range(101)])"
   ]
  },
  {
   "cell_type": "code",
   "execution_count": 15,
   "metadata": {},
   "outputs": [
    {
     "data": {
      "text/plain": [
       "['Long', 'Long', 'Long', 'Short', 'Long']"
      ]
     },
     "execution_count": 15,
     "metadata": {},
     "output_type": "execute_result"
    }
   ],
   "source": [
    "# 문자열 리스트 words가 주어졌을 때,\n",
    "# 각 문자열의 길이가 5 이상이면 \"Long\"을,\n",
    "# 그렇지 않으면 \"Short\"을 담은 리스트를 생성하세요\n",
    "words = [\"apple\", \"banana\", \"grape\", \"kiwi\", \"orange\"]\n",
    "[\"Long\" if len(i)>=5 else \"Short\"  for i in words]"
   ]
  },
  {
   "cell_type": "code",
   "execution_count": 16,
   "metadata": {},
   "outputs": [
    {
     "data": {
      "text/plain": [
       "['Pass', 'Fail', 'Pass', 'Fail', 'Pass']"
      ]
     },
     "execution_count": 16,
     "metadata": {},
     "output_type": "execute_result"
    }
   ],
   "source": [
    "# 주어진 리스트 grades에서 각 점수가 60 이상이면 \"Pass\",\n",
    "# 미만이면 \"Fail\"을 담은 리스트\n",
    "grades = [75,40,90,55,65]\n",
    "[\"Pass\" if i>=60 else \"Fail\" for i in grades]"
   ]
  },
  {
   "cell_type": "markdown",
   "metadata": {},
   "source": [
    "삼항연산자는 if, elif에서 결과가 하나씩만 있을 때 사용"
   ]
  },
  {
   "cell_type": "code",
   "execution_count": 17,
   "metadata": {},
   "outputs": [
    {
     "name": "stdout",
     "output_type": "stream",
     "text": [
      "어떤 타입이든 들어갈 수 있다.\n"
     ]
    }
   ],
   "source": [
    "# 함수\n",
    "# def 함수명(매개변수,...):\n",
    "#   return 반환할 데이터(ex: 숫자, 변수, 리스트, 함수, 딕셔너리,...)\n",
    "# 보통 함수는 1. 매개변수가 있으며, 2. 반환하는 데이터가 있다.\n",
    "def asdf(text = '어떤 타입이든 들어갈 수 있다.'):\n",
    "    print(text)    \n",
    "asdf()"
   ]
  },
  {
   "cell_type": "code",
   "execution_count": 30,
   "metadata": {},
   "outputs": [
    {
     "name": "stdout",
     "output_type": "stream",
     "text": [
      "{'name': 'Alice', 'age': 30, 'city': 'New York'}\n"
     ]
    }
   ],
   "source": [
    "# # 함수 사용법\n",
    "# # 1. 파라미터와 리턴없이 사용하는 함수\n",
    "# # 함수 위에 있는 데이터를 가져와서 사용하는 함수 (이런 식으로 거의 안 씀) 보여주기식\n",
    "# a = 1\n",
    "# def myfunc():\n",
    "#     print(a)\n",
    "# myfunc()\n",
    "\n",
    "# # 2, 파라미터 없이 리턴하는 함수\n",
    "# # 위에서 선언된 변수 혹은 함수 내의 데이터를 이용하여 특정 데이터를 반환(거의 안쓰임) 1번보다 안쓰임\n",
    "# # 언제 쓰이는지도 모름\n",
    "\n",
    "# b =2\n",
    "# def myfunc2():\n",
    "#     return b\n",
    "# myfunc2()\n",
    "\n",
    "# # 3. 파라미터 있고 리턴을 안 함. 1, 2번에 비해 쓰이는 함수. 출력을 하기 위해 쓰는 경우가 있음(그래도 안쓰임)\n",
    "# c=5\n",
    "# def myfunc3(c):\n",
    "#     a = 4\n",
    "# myfunc3(c)\n",
    "\n",
    "# ㅡㅡㅡㅡㅡㅡㅡㅡㅡㅡㅡㅡㅡㅡㅡㅡㅡㅡㅡㅡㅡㅡ\n",
    "\n",
    "# 4. 파라미터, 반환이 있음. 주로 사용되는 방식\n",
    "d=6\n",
    "def myfunc4(dd):\n",
    "    return dd\n",
    "myfunc4(d)\n",
    "\n",
    "# 5. 파라미터가 지정되어 있는 상태. 반환이 있다. = 파라미터가 있을수도 없을수도 있는 경우\n",
    "tt = 5\n",
    "def myfunc5(aa= 6, bb= 7):\n",
    "    return aa, bb\n",
    "myfunc5()\n",
    "\n",
    "# 6. 특정 데이터가 들어오고, 이외의 데이터도 들어올 수 있을 때\n",
    "def myfunc6(a,*args):\n",
    "    return [a,args]\n",
    "myfunc6(1,2,3,4)\n",
    "\n",
    "# # 7. args와 달리 딕셔너리 데이터가 들어왔을 때 처리할 수 있음\n",
    "# def myfunc7(**kwargs):\n",
    "#     print(kwargs)\n",
    "#     # print(kwargs.get('name'))\n",
    "# myfunc7(name=\"Alice\", age = 30 , city= \"New York\") # 딕셔너리로 집어넣게됨"
   ]
  },
  {
   "cell_type": "code",
   "execution_count": 12,
   "metadata": {},
   "outputs": [
    {
     "name": "stdout",
     "output_type": "stream",
     "text": [
      "[5, 3, 2, 0, 6]\n"
     ]
    }
   ],
   "source": [
    "# 여러개의 숫자를 입력 받고 5개까지만 출력하는 함수를 만들어라\n",
    "def hamsu(*args):\n",
    "    b= list(args)\n",
    "    print(b[:5])\n",
    "hamsu(5,3,2,0,6,0,4,0,3,0)"
   ]
  },
  {
   "cell_type": "code",
   "execution_count": 14,
   "metadata": {},
   "outputs": [
    {
     "data": {
      "text/plain": [
       "5"
      ]
     },
     "execution_count": 14,
     "metadata": {},
     "output_type": "execute_result"
    }
   ],
   "source": [
    "def add_numbers(a,b):\n",
    "    return a+b\n",
    "add_numbers(2,3)"
   ]
  },
  {
   "cell_type": "code",
   "execution_count": 44,
   "metadata": {},
   "outputs": [
    {
     "data": {
      "text/plain": [
       "60"
      ]
     },
     "execution_count": 44,
     "metadata": {},
     "output_type": "execute_result"
    }
   ],
   "source": [
    "def num_cals(*args):\n",
    "    lst = list(args)\n",
    "    gob = 1\n",
    "    if len(lst) == 1 :\n",
    "        return 2\n",
    "    elif len(lst) == 2 :\n",
    "        return lst[0]+lst[1]\n",
    "    else :\n",
    "        for i in lst :\n",
    "            gob*=i\n",
    "        return gob\n",
    "num_cals(3,4,5)"
   ]
  },
  {
   "cell_type": "code",
   "execution_count": 95,
   "metadata": {},
   "outputs": [
    {
     "data": {
      "text/plain": [
       "7"
      ]
     },
     "execution_count": 95,
     "metadata": {},
     "output_type": "execute_result"
    }
   ],
   "source": [
    "\n",
    "def find_max_number(*args):\n",
    "    try:\n",
    "        if len(args) ==0:\n",
    "            print('숫자가 없습니다.')\n",
    "        a = sorted(args)\n",
    "        b = len(a)\n",
    "        return a[b-1]\n",
    "    except Exception as e:\n",
    "        print('')\n",
    "    \n",
    "# find_max_number('a','b','e','d','c')\n",
    "find_max_number(4,2,6,5,7,4)\n",
    "# find_max_number()"
   ]
  },
  {
   "cell_type": "code",
   "execution_count": 125,
   "metadata": {},
   "outputs": [
    {
     "name": "stdout",
     "output_type": "stream",
     "text": [
      "2\n",
      "4\n",
      "6\n",
      "7\n",
      "8\n",
      "9\n",
      "0\n"
     ]
    }
   ],
   "source": [
    "f = open('text_python.txt','w', encoding='utf-8')\n",
    "lst = [2,4,6,7,8,9,0]\n",
    "for i in lst:\n",
    "    print(i)\n",
    "    a= str(i)\n",
    "    f.write(a)\n",
    "f.close()"
   ]
  },
  {
   "cell_type": "code",
   "execution_count": 129,
   "metadata": {},
   "outputs": [
    {
     "name": "stdout",
     "output_type": "stream",
     "text": [
      "36\n"
     ]
    }
   ],
   "source": [
    "f = open('text_python.txt','r', encoding='utf-8')\n",
    "def abc():\n",
    "    a=0\n",
    "    for i in lst:\n",
    "        b= int(i)\n",
    "        a+=b\n",
    "    print(a)\n",
    "abc()"
   ]
  }
 ],
 "metadata": {
  "kernelspec": {
   "display_name": "Python 3",
   "language": "python",
   "name": "python3"
  },
  "language_info": {
   "codemirror_mode": {
    "name": "ipython",
    "version": 3
   },
   "file_extension": ".py",
   "mimetype": "text/x-python",
   "name": "python",
   "nbconvert_exporter": "python",
   "pygments_lexer": "ipython3",
   "version": "3.11.9"
  }
 },
 "nbformat": 4,
 "nbformat_minor": 2
}
