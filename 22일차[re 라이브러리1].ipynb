{
 "cells": [
  {
   "cell_type": "code",
   "execution_count": 3,
   "metadata": {},
   "outputs": [
    {
     "name": "stdout",
     "output_type": "stream",
     "text": [
      "971129-*******\n"
     ]
    }
   ],
   "source": [
    "# 정규식 => 보통 패턴화 되는 작업\n",
    "import re\n",
    "# 정규 표현식\n",
    "text = '971129-1234567'\n",
    "text = text.split('-')\n",
    "text[1] = '*'*len(text[1])\n",
    "'-'.join(text)\n",
    "\n",
    "# ->\n",
    "# data = 'hgd 990101-1234567'\n",
    "# pat = re.compile('(\\d{6})[-]\\d{7}')\n",
    "# print(pat.sub('\\g<1>-*******',data))\n",
    "\n",
    "text = '971129-1234567'\n",
    "pat = re.compile('(\\d{6})[-]\\d{7}') # (\\d{6}) <- ()괄호 없으면 오류\n",
    "print(pat.sub('\\g<1>-*******',text))\n",
    "\n",
    "# \\d = digit(숫자) -: 하이픈"
   ]
  },
  {
   "cell_type": "code",
   "execution_count": null,
   "metadata": {},
   "outputs": [],
   "source": [
    "re.match # 잘 안쓰임\n",
    "re.findall\n",
    "re.compile\n",
    "re.search\n",
    "re.sub"
   ]
  },
  {
   "cell_type": "code",
   "execution_count": 80,
   "metadata": {},
   "outputs": [
    {
     "name": "stdout",
     "output_type": "stream",
     "text": [
      "None\n",
      "None\n"
     ]
    }
   ],
   "source": [
    "# re.match\n",
    "# match는 맨 앞에 있는 첫번째 글자만 확인\n",
    "# print(re.match('패턴', '비교대상'))\n",
    "text = 'hello'\n",
    "print(re.match('e','hello'))\n",
    "print(re.match('he','hello'))\n",
    "\n",
    "# if text[:2] == 'he':\n",
    "# if re.match(cond, text) == 'he':"
   ]
  },
  {
   "cell_type": "code",
   "execution_count": 35,
   "metadata": {},
   "outputs": [
    {
     "name": "stdout",
     "output_type": "stream",
     "text": [
      "None\n",
      "(1, 2)\n",
      "(1, 5)\n"
     ]
    }
   ],
   "source": [
    "# re.search match보단 보통 얘를 씀\n",
    "print(re.match('e','hello'))\n",
    "print(re.search('e','helleo').span())\n",
    "print(re.search('elle','helleo').span())"
   ]
  },
  {
   "cell_type": "code",
   "execution_count": 40,
   "metadata": {},
   "outputs": [
    {
     "name": "stdout",
     "output_type": "stream",
     "text": [
      "<re.Match object; span=(1, 2), match='e'>\n",
      "['h']\n"
     ]
    }
   ],
   "source": [
    "# re.findall 많이 쓰임\n",
    "print(re.search('e','hello'))   \n",
    "print(re.findall('h','helleo')) # 리스트로 나옴"
   ]
  },
  {
   "cell_type": "code",
   "execution_count": 55,
   "metadata": {},
   "outputs": [
    {
     "name": "stdout",
     "output_type": "stream",
     "text": [
      "<re.Match object; span=(0, 2), match='hi'>\n",
      "<re.Match object; span=(0, 1), match='h'>\n",
      "<re.Match object; span=(0, 8), match='hhhhhhhh'>\n",
      "<re.Match object; span=(0, 7), match='hhhiiii'>\n",
      "<re.Match object; span=(0, 0), match=''>\n",
      "<re.Match object; span=(0, 2), match='as'>\n"
     ]
    }
   ],
   "source": [
    "print(re.match('hi|hh','hiello'))   # | \n",
    "print(re.match('[h]','hello'))      #그냥 괄호 씌운거\n",
    "print(re.match('h+','hhhhhhhh'))    # 같은 글자가 끊기지 않으면 계속 탐색\n",
    "print(re.match('h+i+','hhhiiii'))   # +는 한 개 이상 있을 때\n",
    "print(re.match('h*','sdafafhasd'))  # *는 0 개 이상 있을 때\n",
    "print(re.match('a*s','asdafafhasd')) # "
   ]
  },
  {
   "cell_type": "code",
   "execution_count": 64,
   "metadata": {},
   "outputs": [
    {
     "name": "stdout",
     "output_type": "stream",
     "text": [
      "<re.Match object; span=(0, 1), match='1'>\n",
      "<re.Match object; span=(0, 1), match='1'>\n",
      "<re.Match object; span=(0, 17), match='12341234512321213'>\n",
      "<re.Match object; span=(0, 8), match='12341234'>\n",
      "<re.Match object; span=(0, 11), match='123asasf512'>\n"
     ]
    }
   ],
   "source": [
    "print(re.match('1','1,2,3')) # 숫자 또한 가능\n",
    "print(re.match('[0-9]','12341234512321213'))  # 0~9까지 앞에 하나만\n",
    "print(re.match('[0-9]*','12341234512321213')) # 0~9 안에 있는 숫자면 다 출력\n",
    "print(re.match('[0-9]*','12341234ㅁ512321213'))\n",
    "print(re.match('[0-9a-z]*','123asasf512')) # a~z까지\n"
   ]
  },
  {
   "cell_type": "code",
   "execution_count": 100,
   "metadata": {},
   "outputs": [
    {
     "name": "stdout",
     "output_type": "stream",
     "text": [
      "<re.Match object; span=(7, 10), match='30도'>\n",
      "['19도', '30도']\n",
      "['010-1234-5678']\n",
      "<re.Match object; span=(9, 22), match='010-1234-5678'>\n"
     ]
    }
   ],
   "source": [
    "'내일 기온은 30도 입니다.' #에서 30도 라는 글자를 추출\n",
    "print(re.search('30도','내일 기온은 30도 입니다.'))\n",
    "'내일 기온은 19도에서 30도입니다.' # 라는 문장에서 19와 30을 추출\n",
    "print(re.findall('[0-9]*도','내일 기온은 19도에서 30도입니다.'))\n",
    "'저의 전화번호는 010-1234-5678입니다.' #에서 전화번호 추출\n",
    "print(re.findall('[0-9-]*[0-9]','저의 전화번호는 010-1234-5678입니다.'))\n",
    "print(re.search('[0-9-]+','저의 전화번호는 010-1234-5678입니다.')) # "
   ]
  },
  {
   "cell_type": "code",
   "execution_count": 111,
   "metadata": {},
   "outputs": [
    {
     "name": "stdout",
     "output_type": "stream",
     "text": [
      "<re.Match object; span=(0, 3), match='abd'>\n",
      "<re.Match object; span=(0, 4), match='abcd'>\n",
      "None\n",
      "<re.Match object; span=(0, 4), match='absd'>\n",
      "<re.Match object; span=(0, 3), match='aaa'>\n",
      "<re.Match object; span=(0, 5), match='abccc'>\n",
      "<re.Match object; span=(0, 6), match='hihihi'>\n"
     ]
    }
   ],
   "source": [
    "print(re.match('abc?d','abd'))    # ? 양 옆의 값을 비교해서 대조\n",
    "print(re.match('abc?d','abcd'))   # ? 양 옆의 값이 다 맞다면 두개 다 출력\n",
    "print(re.match('abc?d','abccd'))  # ? 양 옆의 값이랑 다르면 none\n",
    "\n",
    "print(re.match('ab.d','absd'))    # . 이 한 글자를 대신해서 비교 (.을 포함한 글자 갯수가 맞아야 함)\n",
    "\n",
    "print(re.match('a{3}','aaaaaa'))  # {} 사용시 안의 숫자 갯수만큼 비교 및 탐색\n",
    "print(re.match('abc{3}','abcccc'))# 특히 바로 전 글자의 개수를 확인함.\n",
    "\n",
    "print(re.match('(hi){3}','hihihi')) # () 안의 글자를 하나의 글자로 인식"
   ]
  },
  {
   "cell_type": "code",
   "execution_count": 117,
   "metadata": {},
   "outputs": [
    {
     "name": "stdout",
     "output_type": "stream",
     "text": [
      "<re.Match object; span=(0, 3), match='딥러닝'>\n",
      "<re.Match object; span=(0, 5), match='ㄷㄹㄴㅣㅑ'>\n"
     ]
    }
   ],
   "source": [
    "print(re.match('[가-힣]+','딥러닝'))\n",
    "print(re.match('[ㄱ-ㅎㅏ-ㅣ]+','ㄷㄹㄴㅣㅑ'))\n",
    "# 페이스북,인스타,트위터에서 유행하는 글 분석\n",
    "# 스크래핑 - 데이터 수집용"
   ]
  },
  {
   "cell_type": "code",
   "execution_count": 123,
   "metadata": {},
   "outputs": [
    {
     "name": "stdout",
     "output_type": "stream",
     "text": [
      "None\n",
      "<re.Match object; span=(0, 1), match='a'>\n",
      "<re.Match object; span=(0, 1), match='A'>\n"
     ]
    }
   ],
   "source": [
    "print(re.match('[^0-9]','1234aa'))    # ^(꺽쇠)를 사용하면 해당 패턴이 포함되지 않은 것을 매치함\n",
    "print(re.match('[^0-9]','aaaa'))\n",
    "print(re.match('[^0-9a-z]','A1234aa'))"
   ]
  },
  {
   "cell_type": "code",
   "execution_count": 4,
   "metadata": {},
   "outputs": [
    {
     "data": {
      "text/plain": [
       "<re.Match object; span=(3, 9), match='123123'>"
      ]
     },
     "execution_count": 4,
     "metadata": {},
     "output_type": "execute_result"
    }
   ],
   "source": [
    "re.search('[0-9]+$','das123123')    # $ 는 앞의 패턴으로 이전 숫자로 끝나는걸 확인\n",
    "re.match('[0-9]+$','das123123')     # match는 $와 상반되는 개념이므로 탐색이 안됨\n",
    "re.search('[ab]+$','123ab123')      # ab 가 중간에 있으므로 탐색 실패"
   ]
  },
  {
   "cell_type": "code",
   "execution_count": 135,
   "metadata": {},
   "outputs": [],
   "source": [
    "re.search('\\-','123123-1231')   # \\(역슬래시) 뒤의 패턴을 입력하면 패턴 인식 가능 (역슬래시는 안됨)\n",
    "re.search('[\\\\\\]+','123123-1231')   # 역슬래시를 찾을 땐 역슬래시 3개 써야 함"
   ]
  },
  {
   "cell_type": "code",
   "execution_count": 208,
   "metadata": {},
   "outputs": [],
   "source": [
    "emails = ['python@mail.example.com', 'python+kr@mail.example.com',\n",
    "          'python-test@example.com', 'python_10@mail.example.info',\n",
    "          'python.test@e-xample.com',\n",
    "          \n",
    "          '@example.com','python@example','python@example-com']"
   ]
  },
  {
   "cell_type": "code",
   "execution_count": 210,
   "metadata": {},
   "outputs": [
    {
     "name": "stdout",
     "output_type": "stream",
     "text": [
      "<re.Match object; span=(0, 23), match='python@mail.example.com'>\n",
      "<re.Match object; span=(0, 26), match='python+kr@mail.example.com'>\n",
      "<re.Match object; span=(0, 23), match='python-test@example.com'>\n",
      "<re.Match object; span=(0, 27), match='python_10@mail.example.info'>\n",
      "<re.Match object; span=(0, 24), match='python.test@e-xample.com'>\n",
      "None\n",
      "None\n",
      "None\n"
     ]
    }
   ],
   "source": [
    "import re\n",
    "for i in emails :\n",
    "    # print(i)\n",
    "    # print(re.match('[0-9A-Za-z\\.\\+\\-\\_]+[@][0-9A-Za-z\\-]+\\.+[0-9A-Za-z]+\\.?[0-9A-Za-z]+$',i))\n",
    "    # print(re.search('[0-9A-Za-z\\.\\+\\-\\_]+[@][0-9A-Za-z\\-\\.]*+\\.+[0-9A-Za-z]+$',i))\n",
    "    # print(re.search('[0-9A-Za-z.\\+\\-\\_]+[@][0-9A-Za-z\\-\\.]+\\.+[0-9A-Za-z]*$',i))\n",
    "#                           @ 이전        @   @이후 . 까지    .     영어면\n",
    "    print(re.match('[0-9a-z._+\\-]+@[a-z-.]+[.][a-z]+',i))"
   ]
  }
 ],
 "metadata": {
  "kernelspec": {
   "display_name": "Python 3",
   "language": "python",
   "name": "python3"
  },
  "language_info": {
   "codemirror_mode": {
    "name": "ipython",
    "version": 3
   },
   "file_extension": ".py",
   "mimetype": "text/x-python",
   "name": "python",
   "nbconvert_exporter": "python",
   "pygments_lexer": "ipython3",
   "version": "3.11.9"
  }
 },
 "nbformat": 4,
 "nbformat_minor": 2
}
