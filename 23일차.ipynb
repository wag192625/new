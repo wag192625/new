{
 "cells": [
  {
   "cell_type": "code",
   "execution_count": 114,
   "metadata": {},
   "outputs": [
    {
     "name": "stdout",
     "output_type": "stream",
     "text": [
      "3\n"
     ]
    }
   ],
   "source": [
    "# 1. 개의 숫자를 입력으로 받고 3개의 숫자 중에 중간값을 가지는 숫자를 출력하세요.\n",
    "# ex1) 2, 5, 3 => 3 ex2) 4, 6, 4 => 4\n",
    "lst = [2, 5, 3]\n",
    "print(sorted(lst)[1])"
   ]
  },
  {
   "cell_type": "code",
   "execution_count": 291,
   "metadata": {},
   "outputs": [
    {
     "name": "stdout",
     "output_type": "stream",
     "text": [
      "3,245\n"
     ]
    }
   ],
   "source": [
    "# 2.\n",
    "# 숫자 형태의 문자열을 콤마가 포함된 금액 표기식 문자열로 바꾸어주는 프로그램을 작성하시오.\n",
    "\n",
    "# ※ 단, 프로그래밍 언어에서 지원하는 금액변환 라이브러리는 사용하지 말것\n",
    "\n",
    "# 예)\n",
    "\n",
    "# 숫자   금액\n",
    "# 1000   1,000\n",
    "# 20000000   20,000,000\n",
    "# -3245.24   -3,245.24\n",
    "import re\n",
    "number1 = '-3245.24'\n",
    "giho = re.findall('[\\-\\+]+',number1)\n",
    "# print(giho)\n",
    "jungsu = re.findall('[0-9]+',number1)\n",
    "# print(jungsu)\n",
    "sosu = re.search('[\\.][0-9]*',number1)\n",
    "# print(sosu)\n",
    "\n",
    "final_num = []\n",
    "num1 = str(jungsu[0])\n",
    "cnt = 0\n",
    "lst = []\n",
    "for i in num1[::-1]:\n",
    "    lst.append(i)\n",
    "    cnt +=1\n",
    "    if cnt%3== 0 :\n",
    "        lst.append(',')\n",
    "lst2 = [i for i in lst[::-1]]\n",
    "# print(lst2)\n",
    "\n",
    "if number1 in ('+'or'-') :\n",
    "    lst2 = lst2.insert[0,giho]\n",
    "    print(lst2)\n",
    "if number1 in '.' :\n",
    "    lst2 = lst2.insert(sosu)\n",
    "    print(lst2)\n",
    "\n",
    "final_num = ''.join(lst2)\n",
    "print(final_num)"
   ]
  },
  {
   "cell_type": "code",
   "execution_count": null,
   "metadata": {},
   "outputs": [],
   "source": [
    "# [자바스크립트]\n",
    "# 1. 여러분 개인에 대한 정보를 바탕으로 객체를 생성하고 출력해보세요."
   ]
  },
  {
   "cell_type": "code",
   "execution_count": 293,
   "metadata": {},
   "outputs": [
    {
     "name": "stdout",
     "output_type": "stream",
     "text": [
      "    *\n",
      "   ***\n",
      "  *****\n",
      "       *\n",
      "      ***\n",
      "     *****\n",
      "    *******\n",
      "   *********\n",
      "  ***********\n"
     ]
    }
   ],
   "source": [
    "# 2. 다음과 같이 출력하시오\n",
    "#   *\n",
    "#  ***\n",
    "# *****\n",
    "\n",
    "#   *\n",
    "#  ***\n",
    "# *****\n",
    "#  ***\n",
    "#   *\n",
    "a = 1\n",
    "for i in range(3,0,-1) :\n",
    "    print(' '*i,'*'*(a))\n",
    "    a+=2\n",
    "\n",
    "b = 1\n",
    "for i in range(6,0,-1) :\n",
    "    print(' '*(i),'*'*(b))\n",
    "    b+=2\n",
    "    \n",
    "    "
   ]
  },
  {
   "cell_type": "code",
   "execution_count": 76,
   "metadata": {},
   "outputs": [
    {
     "name": "stdout",
     "output_type": "stream",
     "text": [
      "[21, 40, 9, 6, 18, 6]\n"
     ]
    }
   ],
   "source": [
    "# 3. 로또 프로그램을 작성하시오.\n",
    "import random\n",
    "lst = []\n",
    "for i in range(6):\n",
    "    a = random.choice(range(1,46)) #40개 숫자를 랜덤선택\n",
    "    lst.append(a)\n",
    "print(lst)"
   ]
  },
  {
   "cell_type": "code",
   "execution_count": 110,
   "metadata": {},
   "outputs": [],
   "source": [
    "# 1.주어진 문자열(공백 없이 쉼표로 구분되어 있음)을 가지고 아래 문제에 대한 프로그램을 작성하세요.\n",
    "\n",
    "# 이유덕,이재영,권종표,이재영,박민호,강상희,\n",
    "# 이재영,김지완,최승혁,이성연,박영서,박민호,\n",
    "# 전경헌,송정환,김재성,이유덕,전경헌\n",
    "lst = ['이유덕','이재영','권종표','이재영','박민호','강상희',\n",
    "'이재영','김지완','최승혁','이성연','박영서','박민호',\n",
    "'전경헌','송정환','김재성','이유덕','전경헌']\n",
    "\n",
    "# 4)중복을 제거한 이름을 오름차순으로 정렬하여 출력하세요."
   ]
  },
  {
   "cell_type": "code",
   "execution_count": 91,
   "metadata": {},
   "outputs": [
    {
     "name": "stdout",
     "output_type": "stream",
     "text": [
      "8\n"
     ]
    }
   ],
   "source": [
    "# 1)김씨와 이씨는 각각 몇 명 인가요?\n",
    "import re\n",
    "cnt=0\n",
    "for i in lst :\n",
    "    a = re.search('김|이',i)\n",
    "    if a != None :\n",
    "        # print(a)\n",
    "        cnt+=1\n",
    "print(cnt)"
   ]
  },
  {
   "cell_type": "code",
   "execution_count": 104,
   "metadata": {},
   "outputs": [
    {
     "name": "stdout",
     "output_type": "stream",
     "text": [
      "3\n"
     ]
    }
   ],
   "source": [
    "# 2)\"이재영\"이란 이름이 몇 번 반복되나요?\n",
    "cnt = 0\n",
    "for i in lst :\n",
    "    if re.search('이재영',i) != None :\n",
    "        cnt += 1\n",
    "        # print(i)\n",
    "print(cnt)"
   ]
  },
  {
   "cell_type": "code",
   "execution_count": 106,
   "metadata": {},
   "outputs": [
    {
     "name": "stdout",
     "output_type": "stream",
     "text": [
      "{'이유덕', '김지완', '박영서', '박민호', '강상희', '송정환', '이재영', '권종표', '최승혁', '김재성', '전경헌', '이성연'}\n"
     ]
    }
   ],
   "source": [
    "# 3)중복을 제거한 이름을 출력하세요.\n",
    "print(set(lst))"
   ]
  },
  {
   "cell_type": "code",
   "execution_count": 109,
   "metadata": {},
   "outputs": [
    {
     "name": "stdout",
     "output_type": "stream",
     "text": [
      "['강상희', '권종표', '김재성', '김지완', '박민호', '박영서', '송정환', '이성연', '이유덕', '이재영', '전경헌', '최승혁']\n"
     ]
    }
   ],
   "source": [
    "print(sorted(set(lst)))"
   ]
  }
 ],
 "metadata": {
  "kernelspec": {
   "display_name": "Python 3",
   "language": "python",
   "name": "python3"
  },
  "language_info": {
   "codemirror_mode": {
    "name": "ipython",
    "version": 3
   },
   "file_extension": ".py",
   "mimetype": "text/x-python",
   "name": "python",
   "nbconvert_exporter": "python",
   "pygments_lexer": "ipython3",
   "version": "3.11.9"
  }
 },
 "nbformat": 4,
 "nbformat_minor": 2
}
