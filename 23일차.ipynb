{
 "cells": [
  {
   "cell_type": "code",
   "execution_count": 114,
   "metadata": {},
   "outputs": [
    {
     "name": "stdout",
     "output_type": "stream",
     "text": [
      "3\n"
     ]
    }
   ],
   "source": [
    "# 1. 개의 숫자를 입력으로 받고 3개의 숫자 중에 중간값을 가지는 숫자를 출력하세요.\n",
    "# ex1) 2, 5, 3 => 3 ex2) 4, 6, 4 => 4\n",
    "lst = [2, 5, 3]\n",
    "print(sorted(lst)[1])\n",
    "\n",
    "# sort() => 본체를 반환\n",
    "# lst.sort() 하면 lst 바로 lst에 적용\n",
    "# sorted => 데이터를 반환. 따로 변수를 지정해줘야 함"
   ]
  },
  {
   "cell_type": "code",
   "execution_count": 300,
   "metadata": {},
   "outputs": [
    {
     "name": "stdout",
     "output_type": "stream",
     "text": [
      "None\n"
     ]
    },
    {
     "ename": "TypeError",
     "evalue": "can only join an iterable",
     "output_type": "error",
     "traceback": [
      "\u001b[1;31m---------------------------------------------------------------------------\u001b[0m",
      "\u001b[1;31mTypeError\u001b[0m                                 Traceback (most recent call last)",
      "Cell \u001b[1;32mIn[300], line 42\u001b[0m\n\u001b[0;32m     39\u001b[0m     lst2\u001b[38;5;241m.\u001b[39mappend(sosu)\n\u001b[0;32m     40\u001b[0m     \u001b[38;5;28mprint\u001b[39m(lst2)\n\u001b[1;32m---> 42\u001b[0m final_num \u001b[38;5;241m=\u001b[39m \u001b[38;5;124;43m'\u001b[39;49m\u001b[38;5;124;43m'\u001b[39;49m\u001b[38;5;241;43m.\u001b[39;49m\u001b[43mjoin\u001b[49m\u001b[43m(\u001b[49m\u001b[43mlst2\u001b[49m\u001b[43m)\u001b[49m\n\u001b[0;32m     43\u001b[0m \u001b[38;5;28mprint\u001b[39m(final_num)\n",
      "\u001b[1;31mTypeError\u001b[0m: can only join an iterable"
     ]
    }
   ],
   "source": [
    "# 2.\n",
    "# 숫자 형태의 문자열을 콤마가 포함된 금액 표기식 문자열로 바꾸어주는 프로그램을 작성하시오.\n",
    "\n",
    "# ※ 단, 프로그래밍 언어에서 지원하는 금액변환 라이브러리는 사용하지 말것\n",
    "\n",
    "# 예)\n",
    "\n",
    "# 숫자   금액\n",
    "# 1000   1,000\n",
    "# 20000000   20,000,000\n",
    "# -3245.24   -3,245.24\n",
    "import re\n",
    "number1 = '-3245.24'\n",
    "giho = re.findall('[\\-\\+]+',number1)\n",
    "# print(giho)\n",
    "jungsu = re.findall('[0-9]+',number1)\n",
    "# print(jungsu)\n",
    "sosu = re.search('[.][0-9]+',number1)\n",
    "\n",
    "# print(sosu)\n",
    "\n",
    "final_num = []\n",
    "num1 = str(jungsu[0])\n",
    "cnt = 0\n",
    "lst = []\n",
    "for i in num1[::-1]:\n",
    "    lst.append(i)\n",
    "    cnt +=1\n",
    "    if cnt%3== 0 :\n",
    "        lst.append(',')\n",
    "lst2 = [i for i in lst[::-1]]\n",
    "# print(lst2)\n",
    "\n",
    "# @@@@@@@@@@@ if문 안먹힘\n",
    "if '-' in number1 :\n",
    "    lst2 = lst2.insert(0,giho[0])\n",
    "    print(lst2)\n",
    "if number1 in '.' :\n",
    "    # lst2 = lst2.insert(sosu)\n",
    "    lst2.append(sosu)\n",
    "    print(lst2)\n",
    "\n",
    "final_num = ''.join(lst2)\n",
    "print(final_num)"
   ]
  },
  {
   "cell_type": "code",
   "execution_count": null,
   "metadata": {},
   "outputs": [],
   "source": [
    "# [자바스크립트]\n",
    "# 1. 여러분 개인에 대한 정보를 바탕으로 객체를 생성하고 출력해보세요."
   ]
  },
  {
   "cell_type": "code",
   "execution_count": 293,
   "metadata": {},
   "outputs": [
    {
     "name": "stdout",
     "output_type": "stream",
     "text": [
      "    *\n",
      "   ***\n",
      "  *****\n",
      "       *\n",
      "      ***\n",
      "     *****\n",
      "    *******\n",
      "   *********\n",
      "  ***********\n"
     ]
    }
   ],
   "source": [
    "# 2. 다음과 같이 출력하시오\n",
    "#   *\n",
    "#  ***\n",
    "# *****\n",
    "\n",
    "#   *\n",
    "#  ***\n",
    "# *****\n",
    "#  ***\n",
    "#   *\n",
    "a = 1\n",
    "for i in range(3,0,-1) :\n",
    "    print(' '*i,'*'*(a))\n",
    "    a+=2\n",
    "\n",
    "b = 1\n",
    "for i in range(6,0,-1) :\n",
    "    print(' '*(i),'*'*(b))\n",
    "    b+=2"
   ]
  },
  {
   "cell_type": "code",
   "execution_count": 301,
   "metadata": {},
   "outputs": [
    {
     "name": "stdout",
     "output_type": "stream",
     "text": [
      "[43, 13, 27, 10, 40, 11]\n"
     ]
    }
   ],
   "source": [
    "# 3. 로또 프로그램을 작성하시오.\n",
    "import random\n",
    "lst = []\n",
    "for i in range(6):\n",
    "    a = random.choice(range(1,46)) #40개 숫자를 랜덤선택\n",
    "    lst.append(a)\n",
    "print(lst)"
   ]
  },
  {
   "cell_type": "code",
   "execution_count": 304,
   "metadata": {},
   "outputs": [],
   "source": [
    "# 1.주어진 문자열(공백 없이 쉼표로 구분되어 있음)을 가지고 아래 문제에 대한 프로그램을 작성하세요.\n",
    "\n",
    "# 이유덕,이재영,권종표,이재영,박민호,강상희,\n",
    "# 이재영,김지완,최승혁,이성연,박영서,박민호,\n",
    "# 전경헌,송정환,김재성,이유덕,전경헌\n",
    "lst = ['이유덕','이재영','권종표','이재영','박민호','강상희',\n",
    "'이재영','김지완','최승혁','이성연','박영서','박민호',\n",
    "'전경헌','송정환','김재성','이유덕','전경헌']\n",
    "\n",
    "# 4)중복을 제거한 이름을 오름차순으로 정렬하여 출력하세요."
   ]
  },
  {
   "cell_type": "code",
   "execution_count": 91,
   "metadata": {},
   "outputs": [
    {
     "name": "stdout",
     "output_type": "stream",
     "text": [
      "8\n"
     ]
    }
   ],
   "source": [
    "# 1)김씨와 이씨는 각각 몇 명 인가요?\n",
    "import re\n",
    "cnt=0\n",
    "for i in lst :\n",
    "    # a = re.search('김|이',i)  search는 이름 중 김, 이가 들어가면 다 검색해서\n",
    "    a = re.search('김|이',i)    # match 를 써서 성씨만 검색해야 함.\n",
    "    if a != None :\n",
    "        # print(a)\n",
    "        cnt+=1\n",
    "print(cnt)"
   ]
  },
  {
   "cell_type": "code",
   "execution_count": 306,
   "metadata": {},
   "outputs": [
    {
     "name": "stdout",
     "output_type": "stream",
     "text": [
      "3\n"
     ]
    }
   ],
   "source": [
    "# 2)\"이재영\"이란 이름이 몇 번 반복되나요?\n",
    "cnt = 0\n",
    "for i in lst :\n",
    "    if re.match('이재영',i) != None :  # 이것도 위와 같은 이유\n",
    "        cnt += 1\n",
    "        # print(i)\n",
    "print(cnt)"
   ]
  },
  {
   "cell_type": "code",
   "execution_count": 307,
   "metadata": {},
   "outputs": [
    {
     "name": "stdout",
     "output_type": "stream",
     "text": [
      "{'이유덕', '김지완', '박영서', '박민호', '강상희', '송정환', '이재영', '권종표', '최승혁', '김재성', '전경헌', '이성연'}\n"
     ]
    }
   ],
   "source": [
    "# 3)중복을 제거한 이름을 출력하세요.\n",
    "print(set(lst))"
   ]
  },
  {
   "cell_type": "code",
   "execution_count": 305,
   "metadata": {},
   "outputs": [
    {
     "name": "stdout",
     "output_type": "stream",
     "text": [
      "['강상희', '권종표', '김재성', '김지완', '박민호', '박영서', '송정환', '이성연', '이유덕', '이재영', '전경헌', '최승혁']\n"
     ]
    }
   ],
   "source": [
    "# 4)중복을 제거한 이름을 오름차순으로 정렬하여 출력하세요.\n",
    "print(sorted(set(lst)))"
   ]
  }
 ],
 "metadata": {
  "kernelspec": {
   "display_name": "Python 3",
   "language": "python",
   "name": "python3"
  },
  "language_info": {
   "codemirror_mode": {
    "name": "ipython",
    "version": 3
   },
   "file_extension": ".py",
   "mimetype": "text/x-python",
   "name": "python",
   "nbconvert_exporter": "python",
   "pygments_lexer": "ipython3",
   "version": "3.11.9"
  }
 },
 "nbformat": 4,
 "nbformat_minor": 2
}
