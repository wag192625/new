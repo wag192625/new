{
 "cells": [
  {
   "cell_type": "code",
   "execution_count": 7,
   "metadata": {},
   "outputs": [
    {
     "name": "stdout",
     "output_type": "stream",
     "text": [
      "3628800\n"
     ]
    }
   ],
   "source": [
    "# 2. 1부터 10까지의 어떤 수로도 나누어 떨어지는 가장 작은 수는 2520입니다.\n",
    "\n",
    "# 그렇다면 1부터 20까지의 어떤 수로도 나누어 떨어지는 가장 작은 수는 얼마입니까?\n",
    "\n",
    "num = 20 #  가장 큰 수는 되어야 함\n",
    "\n",
    "a =1\n",
    "for i in range(1,11) :\n",
    "    a *=i\n",
    "    if i == 17 :\n",
    "        print(a)\n",
    "        # 7번째일때 결과 5040 의 절반값이 2520\n",
    "print(a)\n",
    "\n"
   ]
  },
  {
   "cell_type": "code",
   "execution_count": 58,
   "metadata": {},
   "outputs": [
    {
     "name": "stdout",
     "output_type": "stream",
     "text": [
      "[1, 2, 3, 4, 5, 6, 7, 8, 9, 10]\n"
     ]
    }
   ],
   "source": [
    "# 1. 약 2,000년 전에는 전쟁에서 병사들이 적들에 의해 동굴에 갇히게 되는 경우가 종종 있었다고 한다.\n",
    "\n",
    "# 그들은 포로가 되는것을 방지하기 위해 동그랗게 서서 마지막 한 사람이 남을 때 까지 순서대로 돌아가며 세번째에 해당되는 사람을 죽여 나갔다고 한다.\n",
    "\n",
    "# 마지막으로 남게되는 사람은 자살하기로 약속되어 있었지만 보통 적들에게 항복을 하는 경우가 많았다고 한다.\n",
    "\n",
    "# 여러분이 풀어야 할 문제는 총 인원수(N)와 간격(K)이 주어졌을 때 가장 마지막에 살아남는 병사의 위치(the safe position)를 알아내는 것이다.\n",
    "\n",
    "# 예를 들어 병사수가 총 10명이고 돌아가며 세번째에 해당되는 병사를 제거하는 경우는 다음과 같다:\n",
    "\n",
    "# N = 10, K = 3\n",
    "\n",
    "# 위의 경우 다음과 같은 순서로 병사들이 제거된다. (괄호는 제거되는 병사를 의미한다)\n",
    "\n",
    "# 1st round: 1 2 (3) 4 5 (6) 7 8 (9) 10\n",
    "# 2nd round:                            1 (2) 4 5 (7) 8 10\n",
    "# 3rd round:                                                (1) 4 5 (8) 10\n",
    "# 4th round:                                                               4 (5) 10\n",
    "# 5th round:                                                                        4 (10)\n",
    "# 위 예에서 끝가지 살아남는 병사는 4, 즉 4번째 병사이다.\n",
    "\n",
    "people = 10\n",
    "interval= 3\n",
    "cnt = 0\n",
    "live = []\n",
    "die = []\n",
    "# 차례대로 산 애들 \n",
    "for i in range(1,people+1):\n",
    "    live.append(i)\n",
    "print(live)\n",
    "# 3으로 나누어 떨어지면 탈락(die) 시키고 살아남은 애들로 \n",
    "# while(live[0]):\n",
    "#     live.\n",
    "#     cnt+=1\n",
    "#     if cnt%3==0 :\n",
    "#         die.append(i)\n",
    "# print(die)\n",
    "\n",
    "# 입력 데이터는 총 병사수 N과 간격 K이다.\n",
    "# 출력 데이터는 마지막까지 살아남는 병사의 위치이다.\n",
    "\n",
    "# (단, 최초 시작은 1번 병사부터이다.)\n",
    "\n",
    "# 입출력 예는 다음과 같다:\n",
    "\n",
    "# initial data:\n",
    "# 10 3\n",
    "\n",
    "# answer:\n",
    "# 4"
   ]
  },
  {
   "cell_type": "code",
   "execution_count": 56,
   "metadata": {},
   "outputs": [
    {
     "name": "stdout",
     "output_type": "stream",
     "text": [
      "None\n"
     ]
    }
   ],
   "source": [
    "# 3. 음수가 아닌 수들이 주어졌을 때 그 수들을 이어서 만들 수 있는 가장 큰 수를 구하시오.\n",
    "# 예를 들어 [1,2,3]이 주어졌을 때 만들 수 있는 가장 큰 수는 321이고,\n",
    "# [3, 30, 34, 5, 9] 가 주어지면 만들 수 있는 가장 큰 수는 9534330이다.\n",
    "\n",
    "lst1 = [3, 30, 34, 5, 9]\n",
    "lst2 = []\n",
    "# 전부 sort로 정렬 후 리버스 한 뒤 for 문 9부터 0까지 돌려서 차례대로 join\n",
    "#sort가 안먹힘\n",
    "\n",
    "print(lst1.sort())"
   ]
  }
 ],
 "metadata": {
  "kernelspec": {
   "display_name": "Python 3",
   "language": "python",
   "name": "python3"
  },
  "language_info": {
   "codemirror_mode": {
    "name": "ipython",
    "version": 3
   },
   "file_extension": ".py",
   "mimetype": "text/x-python",
   "name": "python",
   "nbconvert_exporter": "python",
   "pygments_lexer": "ipython3",
   "version": "3.11.9"
  }
 },
 "nbformat": 4,
 "nbformat_minor": 2
}
