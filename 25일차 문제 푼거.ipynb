{
 "cells": [
  {
   "cell_type": "code",
   "execution_count": null,
   "metadata": {},
   "outputs": [],
   "source": [
    "# 2.\n",
    "# 숫자 형태의 문자열을 콤마가 포함된 금액 표기식 문자열로 바꾸어주는 프로그램을 작성하시오.\n",
    "\n",
    "# ※ 단, 프로그래밍 언어에서 지원하는 금액변환 라이브러리는 사용하지 말것\n",
    "\n",
    "# 예)\n",
    "\n",
    "# 숫자   금액\n",
    "# 1000   1,000\n",
    "# 20000000   20,000,000\n",
    "# -3245.24   -3,245.24\n",
    "import re\n",
    "number1 = '-3245.24'\n",
    "giho = re.findall('[\\-\\+]+',number1)\n",
    "# print(giho)\n",
    "jungsu = re.findall('[0-9]+',number1)\n",
    "# print(jungsu)\n",
    "sosu = re.search('[.][0-9]+',number1)\n",
    "print(number1[sosu.span()[0]:sosu.span()[1]])\n",
    "\n",
    "final_num = []\n",
    "num1 = str(jungsu[0])\n",
    "cnt = 0\n",
    "lst = []\n",
    "for i in num1[::-1]:\n",
    "    lst.append(i)\n",
    "    cnt +=1\n",
    "    if cnt%3== 0 :\n",
    "        lst.append(',')\n",
    "lst2 = [i for i in lst[::-1]]\n",
    "\n",
    "if '-' in number1 :\n",
    "    lst2.insert(0,giho[0])\n",
    "    print(''.join(lst2))\n",
    "if '.' in number1 :\n",
    "    # lst2.append(number1[sosu.span()[0]:sosu.span()[1]])\n",
    "    lst2.append(number1[sosu.start():sosu.end()])\n",
    "    print('lst2',lst2)\n",
    "\n",
    "final_num = ''.join(lst2)\n",
    "print(final_num)"
   ]
  },
  {
   "cell_type": "code",
   "execution_count": null,
   "metadata": {},
   "outputs": [],
   "source": [
    "lst = [3, 30, 34, 5, 9]\n",
    "# lst.sort(reverse=True)\n",
    "lst2 = list(map(str, lst))\n",
    "lst3 = []\n",
    "lst4 = []\n",
    "dict_num = {}\n",
    "for i in lst2 :\n",
    "    if len(str(i)) == 1 :\n",
    "        double_num = i+i\n",
    "        dict_num[double_num] = i\n",
    "        lst3.append(double_num)\n",
    "    else :\n",
    "        lst3.append(i)\n",
    "lst3.sort(reverse=True)\n",
    "for i in lst3 :\n",
    "    if i in dict_num.keys() :\n",
    "        lst4.append(dict_num.get(i))\n",
    "    else:\n",
    "        lst4.append(i)\n",
    "print(''.join(lst4))\n",
    "        "
   ]
  }
 ],
 "metadata": {
  "language_info": {
   "name": "python"
  }
 },
 "nbformat": 4,
 "nbformat_minor": 2
}
