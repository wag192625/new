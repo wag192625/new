{
 "cells": [
  {
   "cell_type": "code",
   "execution_count": 131,
   "metadata": {},
   "outputs": [
    {
     "data": {
      "text/plain": [
       "<re.Match object; span=(0, 3), match='abc'>"
      ]
     },
     "execution_count": 131,
     "metadata": {},
     "output_type": "execute_result"
    }
   ],
   "source": [
    "import re\n",
    "\n",
    "re.match('[a]+','aabc')\n",
    "re.match('abc?','abcd') # ?는 있을 수도, 없을 수도 있음\n",
    "re.match('ab..','abcd') # . 은 그 공간에 어떠한 문자도 허용\n",
    "re.match('ab{3}','abbbb') # {} 시용시 갯수 입력 가능"
   ]
  },
  {
   "cell_type": "code",
   "execution_count": 18,
   "metadata": {},
   "outputs": [
    {
     "data": {
      "text/plain": [
       "<re.Match object; span=(0, 7), match='2342341'>"
      ]
     },
     "execution_count": 18,
     "metadata": {},
     "output_type": "execute_result"
    }
   ],
   "source": [
    "import re\n",
    "re.match('(hi){3}','hihihi') # 소괄호 사용시 괄호 안의 데이터를 하나의 글자로 인지\n",
    "re.match('[0-9]','5')   # [] 안에는 패턴 입력 가능\n",
    "re.match('[0-9]+','2342341') # 여러개를 보고싶으면 + 있든 없든 보고싶다면 *"
   ]
  },
  {
   "cell_type": "code",
   "execution_count": 36,
   "metadata": {},
   "outputs": [
    {
     "name": "stdout",
     "output_type": "stream",
     "text": [
      "13\n"
     ]
    },
    {
     "data": {
      "text/plain": [
       "<re.Match object; span=(0, 6), match='hell[o'>"
      ]
     },
     "execution_count": 36,
     "metadata": {},
     "output_type": "execute_result"
    }
   ],
   "source": [
    "import re\n",
    "tel = re.match('[0-9{3}]+[-][0-9{4}]+[-][0-9{3}]+','010-1234-5678')\n",
    "print(tel.span()[1])\n",
    "re.match('[a-zA-Z]+','hell[o')\n",
    "re.match('[A-z]+','hell[o')"
   ]
  },
  {
   "cell_type": "code",
   "execution_count": 46,
   "metadata": {},
   "outputs": [
    {
     "data": {
      "text/plain": [
       "<re.Match object; span=(0, 13), match='ㅏㅑㅓㅕㅗㅛㅡㅣㅢㅟㅝㅚㅘ'>"
      ]
     },
     "execution_count": 46,
     "metadata": {},
     "output_type": "execute_result"
    }
   ],
   "source": [
    "import re\n",
    "re.match('[가-힣]+','딥러닝')   # 한글은 가-힣 사용\n",
    "re.match('[가-힣ㄱ-ㅎ]+','ㄷㄹㄴ')  # 자음, 모음은 별도로 패턴을 만들어서 써야함\n",
    "re.match('[ㅏ-ㅣ]+','ㅏㅑㅓㅕㅗㅛㅡㅣㅢㅟㅝㅚㅘ')"
   ]
  },
  {
   "cell_type": "code",
   "execution_count": 50,
   "metadata": {},
   "outputs": [],
   "source": [
    "import re\n",
    "re.match('[^0-9]+','hello123')  # 해당 패턴을 제외할 땐 ^를 사용\n",
    "re.match('[^0-9a-zA-Z]+','HellO123')  # 해당 패턴을 제외할 땐 ^를 사용"
   ]
  },
  {
   "cell_type": "code",
   "execution_count": 66,
   "metadata": {},
   "outputs": [
    {
     "data": {
      "text/plain": [
       "'$(print)'"
      ]
     },
     "execution_count": 66,
     "metadata": {},
     "output_type": "execute_result"
    }
   ],
   "source": [
    "re.match('[a-z]+$','abcd') # $를 사용하면 해당 패턴으로 끝나야함. 그러므로 보통 search를 사용\n",
    "re.match('[a-z]+$','ㅁabcd') # match를 사용했으므로 사용 불가\n",
    "re.search('[a-z]+$','ㅁabcd')   # search 사용하면 가능\n",
    "\n",
    "re.search('[\\$][\\(][a-z]+[\\)]','$(print)')\n",
    "res = re.search('[$(a-z)]+','$(print)')\n",
    "res.group() # 뭘 찾았는지 보여줌"
   ]
  },
  {
   "cell_type": "markdown",
   "metadata": {},
   "source": [
    "mmmmmmmmmmmmmmmmmm"
   ]
  },
  {
   "cell_type": "code",
   "execution_count": 3,
   "metadata": {},
   "outputs": [
    {
     "data": {
      "text/plain": [
       "'$(print)'"
      ]
     },
     "execution_count": 3,
     "metadata": {},
     "output_type": "execute_result"
    }
   ],
   "source": [
    "import re\n",
    "\n",
    "re.search('[\\$][\\(][a-z]+[\\)]','$(print)')\n",
    "res = re.search('[$(a-z)]+','$(print)')\n",
    "res.group() # 뭘 찾았는지 보여줌"
   ]
  },
  {
   "cell_type": "code",
   "execution_count": 79,
   "metadata": {},
   "outputs": [
    {
     "data": {
      "text/plain": [
       "<re.Match object; span=(0, 8), match='1dasf123'>"
      ]
     },
     "execution_count": 79,
     "metadata": {},
     "output_type": "execute_result"
    }
   ],
   "source": [
    "re.match('\\d+','1234567')   # d = digit(숫자)\n",
    "re.match('\\w+','Abcd_123')  # w = word(문자) = 영대/소문자, 숫자, 밑줄, 한글\n",
    "re.match('\\s+','       \\n') # s = space(공백). 탭(\\t), 한 줄 띄어쓰기(\\n), 띄어쓰기\n",
    "         \n",
    "re.match('\\D+','sdsfsdf')   # \\대문자로 사용되면 소문자의 반대를 탐색\n",
    "re.match('\\W+','@$$123qw')  # W\n",
    "re.match('\\S+','1dasf123')  # S"
   ]
  },
  {
   "cell_type": "code",
   "execution_count": 81,
   "metadata": {},
   "outputs": [
    {
     "data": {
      "text/plain": [
       "<re.Match object; span=(0, 8), match='hi hello'>"
      ]
     },
     "execution_count": 81,
     "metadata": {},
     "output_type": "execute_result"
    }
   ],
   "source": [
    "re.match('[\\w\\s]+','hi hello')"
   ]
  },
  {
   "cell_type": "code",
   "execution_count": 83,
   "metadata": {},
   "outputs": [
    {
     "data": {
      "text/plain": [
       "<re.Match object; span=(0, 3), match='123'>"
      ]
     },
     "execution_count": 83,
     "metadata": {},
     "output_type": "execute_result"
    }
   ],
   "source": [
    "pt = re.compile('[0-9]+')   # compile\n",
    "pt.match('123')"
   ]
  },
  {
   "cell_type": "code",
   "execution_count": 88,
   "metadata": {},
   "outputs": [
    {
     "name": "stdout",
     "output_type": "stream",
     "text": [
      "Do\n",
      "you\n",
      "have\n",
      "some\n",
      "money\n"
     ]
    }
   ],
   "source": [
    "text = re.finditer('[a-zA-Z]+','Do you have some money??')  # 정해진 패턴을 추출하며 패턴이 아닌 경우 다음 순서로 넘기게 됨\n",
    "for t in text :\n",
    "    # print(t)\n",
    "    print(t.group())\n",
    "# findeiter 보다는 findall이 더 많이 쓰일것"
   ]
  },
  {
   "cell_type": "code",
   "execution_count": 89,
   "metadata": {},
   "outputs": [
    {
     "data": {
      "text/plain": [
       "3"
      ]
     },
     "execution_count": 89,
     "metadata": {},
     "output_type": "execute_result"
    }
   ],
   "source": [
    "data = re.match('[0-9]+','123')\n",
    "data.span()\n",
    "data.start()    # span의 첫번째\n",
    "data.end()      # span의 두번째"
   ]
  },
  {
   "cell_type": "code",
   "execution_count": 5,
   "metadata": {},
   "outputs": [
    {
     "data": {
      "text/plain": [
       "('12', '3')"
      ]
     },
     "execution_count": 5,
     "metadata": {},
     "output_type": "execute_result"
    }
   ],
   "source": [
    "data = re.match('([0-9]+) ([0-9]+)','12 3')\n",
    "data.groups()   # 패턴에 매치된 문자열을 튜플 형식으로 변환함. ()당 하나의 그룹으로 나뉨\n",
    "# data.group(1)   # groups가 가능한 데이터는 인덱싱이 가능함\n",
    "# data.group(2)"
   ]
  },
  {
   "cell_type": "code",
   "execution_count": 104,
   "metadata": {},
   "outputs": [
    {
     "data": {
      "text/plain": [
       "['10', '20', '50', '100', '200']"
      ]
     },
     "execution_count": 104,
     "metadata": {},
     "output_type": "execute_result"
    }
   ],
   "source": [
    "text='10 20 50 bird 100 stop 200'\n",
    "re.findall('[0-9]+','10 20 50 bird 100 stop 200')"
   ]
  },
  {
   "cell_type": "code",
   "execution_count": 126,
   "metadata": {},
   "outputs": [
    {
     "data": {
      "text/plain": [
       "'num num num bird num num apple num'"
      ]
     },
     "execution_count": 126,
     "metadata": {},
     "output_type": "execute_result"
    }
   ],
   "source": [
    "# re.sub('정규식','바꿀 문자열', '문자열', 변경 횟수)  # replace랑 비슷\n",
    "re.sub('apple|banana', 'orange', 'apple banana', 1)\n",
    "\n",
    "re.sub('[0-9]+','num','100 150 200 bird 300 450 apple 500')"
   ]
  },
  {
   "cell_type": "code",
   "execution_count": 130,
   "metadata": {},
   "outputs": [
    {
     "data": {
      "text/plain": [
       "'100 150 200 bird 300 450 apple 500'"
      ]
     },
     "execution_count": 130,
     "metadata": {},
     "output_type": "execute_result"
    }
   ],
   "source": [
    "def func(text):\n",
    "    # print(1)\n",
    "    return text.group() # 리턴을 고려한다면 객체가 반환된 것에 대해 수정할 필요가 있음\n",
    "re.sub('\\d+',func,'100 150 200 bird 300 450 apple 500')"
   ]
  },
  {
   "cell_type": "code",
   "execution_count": null,
   "metadata": {},
   "outputs": [],
   "source": []
  }
 ],
 "metadata": {
  "kernelspec": {
   "display_name": "Python 3",
   "language": "python",
   "name": "python3"
  },
  "language_info": {
   "codemirror_mode": {
    "name": "ipython",
    "version": 3
   },
   "file_extension": ".py",
   "mimetype": "text/x-python",
   "name": "python",
   "nbconvert_exporter": "python",
   "pygments_lexer": "ipython3",
   "version": "3.11.9"
  }
 },
 "nbformat": 4,
 "nbformat_minor": 2
}
