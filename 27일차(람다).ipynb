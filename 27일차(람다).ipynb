{
 "cells": [
  {
   "cell_type": "code",
   "execution_count": 4,
   "metadata": {},
   "outputs": [
    {
     "name": "stdout",
     "output_type": "stream",
     "text": [
      "3\n",
      "3\n"
     ]
    }
   ],
   "source": [
    "# lambda = 람다표현식\n",
    "# 람다는 익명함수라고도 함\n",
    "\n",
    "# lambda [매개변수] : [표현식]\n",
    "# lambda x:x\n",
    "def numAdd(x,y):\n",
    "    return x+y\n",
    "print(numAdd(1,2))\n",
    "\n",
    "# lambda x,y: x+y # 람다는 출력(print)이 안됨. 반환만 시키는 애임\n",
    "res = lambda x,y: x+y # 출력하려면 변수명을 지정해줘야 함\n",
    "print(res(1,2))"
   ]
  },
  {
   "cell_type": "code",
   "execution_count": 7,
   "metadata": {},
   "outputs": [
    {
     "name": "stdout",
     "output_type": "stream",
     "text": [
      "합 30\n"
     ]
    }
   ],
   "source": [
    "print('합',(lambda x,y: x+y)(10,20))    # 뒤에 (매개변수)를 입력하면 출력할수도 있음\n",
    "# filter, map, list, reduce\n"
   ]
  },
  {
   "cell_type": "code",
   "execution_count": 9,
   "metadata": {},
   "outputs": [
    {
     "name": "stdout",
     "output_type": "stream",
     "text": [
      "34 49 20 54 "
     ]
    }
   ],
   "source": [
    "# filter (람다 써먹기 참 좋음)\n",
    "def adult_fune(n):\n",
    "    if(n>=19):\n",
    "        return True\n",
    "    return False\n",
    "ages = [34,49,20,17,54,11]\n",
    "\n",
    "# filter(함수,데이터) 넣었을 때 True가 되는 값만 출력\n",
    "for a in filter(adult_fune,ages):   \n",
    "    print(a, end=' ')"
   ]
  },
  {
   "cell_type": "code",
   "execution_count": null,
   "metadata": {},
   "outputs": [],
   "source": [
    "# python\n",
    "# python3"
   ]
  },
  {
   "cell_type": "code",
   "execution_count": 11,
   "metadata": {},
   "outputs": [
    {
     "name": "stdout",
     "output_type": "stream",
     "text": [
      "34 49 20 54 "
     ]
    }
   ],
   "source": [
    "ages = [34,49,20,17,54,11]\n",
    "for a in filter(lambda x:x>=19, ages):\n",
    "    print(a, end=' ')"
   ]
  },
  {
   "cell_type": "code",
   "execution_count": 14,
   "metadata": {},
   "outputs": [
    {
     "data": {
      "text/plain": [
       "[34, 49, 20, 54]"
      ]
     },
     "execution_count": 14,
     "metadata": {},
     "output_type": "execute_result"
    }
   ],
   "source": [
    "ages = [34,49,20,17,54,11]\n",
    "lst = list(filter(lambda x:x>=19, ages))    # list 안쓰면 \n",
    "lst"
   ]
  },
  {
   "cell_type": "code",
   "execution_count": 20,
   "metadata": {},
   "outputs": [
    {
     "data": {
      "text/plain": [
       "[-10, -79]"
      ]
     },
     "execution_count": 20,
     "metadata": {},
     "output_type": "execute_result"
    }
   ],
   "source": [
    "num  = [30,4,59,-10,3,-79]\n",
    "lst = list(filter(lambda x:x<0, num))\n",
    "lst"
   ]
  },
  {
   "cell_type": "code",
   "execution_count": 34,
   "metadata": {},
   "outputs": [
    {
     "data": {
      "text/plain": [
       "[1, 4, 9, 16, 25, 36, 49]"
      ]
     },
     "execution_count": 34,
     "metadata": {},
     "output_type": "execute_result"
    }
   ],
   "source": [
    "nums = list(range(1,8))\n",
    "squere_nums = list(map(lambda x:x**2, nums))\n",
    "squere_nums"
   ]
  },
  {
   "cell_type": "code",
   "execution_count": 35,
   "metadata": {},
   "outputs": [
    {
     "data": {
      "text/plain": [
       "[1, 4, 9, 16, 25, 36, 49]"
      ]
     },
     "execution_count": 35,
     "metadata": {},
     "output_type": "execute_result"
    }
   ],
   "source": [
    "def myfunc(n):\n",
    "    return n**2\n",
    "[myfunc(i) for i in range(1,8)] # 람다와 리스트내포는 비슷함"
   ]
  },
  {
   "cell_type": "markdown",
   "metadata": {},
   "source": [
    "클래스(class)"
   ]
  },
  {
   "cell_type": "code",
   "execution_count": 8,
   "metadata": {},
   "outputs": [],
   "source": [
    "# 클래스란? \n",
    "# - 속성과 동작(행동)이 모인 집합\n",
    "# 위 단위의 설계도\n",
    "\n",
    "# 사람\n",
    "# 속성: 눈, 생식기, 손, 손가락, 털, 코, 입, 귀, 이, 피부, 가죽,....\n",
    "# 동작: 달리기, 째려보기, 때리기, 걷기, 식사, 호흡,...\n",
    "\n",
    "class Person:\n",
    "    eyes = 2\n",
    "    fingers = 10\n",
    "    hands = 2\n",
    "    nose = 1\n",
    "    mouse = 1\n",
    "    \n",
    "    def eat(self):\n",
    "        print('냠냠~')\n"
   ]
  },
  {
   "cell_type": "code",
   "execution_count": 14,
   "metadata": {},
   "outputs": [],
   "source": [
    "# 객체(object) 범위가 굉장히 넓음. 객체가 클래스일 수도 있음\n",
    "# 예시를 들자면\n",
    "# 회사 - 삼성, 현대, 카카오, 네이버...\n",
    "# 현대 - 제철소, 네비, 자동차, 중고차, ..."
   ]
  },
  {
   "cell_type": "code",
   "execution_count": 15,
   "metadata": {},
   "outputs": [
    {
     "name": "stdout",
     "output_type": "stream",
     "text": [
      "냠냠~\n",
      "냠냠~\n"
     ]
    }
   ],
   "source": [
    "me = Person()\n",
    "me.eat()\n",
    "Person().eat()"
   ]
  },
  {
   "cell_type": "code",
   "execution_count": 47,
   "metadata": {},
   "outputs": [],
   "source": [
    "class Amazon:\n",
    "    strength = 20\n",
    "    dexterity =25\n",
    "    vitality = 20\n",
    "    energy = 20\n",
    "\n",
    "    def attack(self):   # self 상속받은 애의 고유 속성을 만들어줌\n",
    "        return 'jab!'\n",
    "    def exercise(self):\n",
    "        self.strength += 2\n",
    "        self.dexterity += 5\n",
    "        self.vitality += 1\n",
    "        self.energy += 1"
   ]
  },
  {
   "cell_type": "code",
   "execution_count": 52,
   "metadata": {},
   "outputs": [
    {
     "name": "stdout",
     "output_type": "stream",
     "text": [
      "jab!\n"
     ]
    }
   ],
   "source": [
    "me= Amazon()\n",
    "you = Amazon()\n",
    "print(you.attack())\n",
    "me.exercise()"
   ]
  },
  {
   "cell_type": "code",
   "execution_count": 53,
   "metadata": {},
   "outputs": [
    {
     "data": {
      "text/plain": [
       "24"
      ]
     },
     "execution_count": 53,
     "metadata": {},
     "output_type": "execute_result"
    }
   ],
   "source": [
    "me.exercise()\n",
    "me.strength"
   ]
  },
  {
   "cell_type": "code",
   "execution_count": 27,
   "metadata": {},
   "outputs": [],
   "source": [
    "# 객체(개념이 존재하는 것) != 인스턴스(클래스로부터 상속받은 데이터)\n",
    "# 객체는 독립적인 데이터 혹은 변수, 사실상 거의 모든 것이 객체임"
   ]
  },
  {
   "cell_type": "code",
   "execution_count": 28,
   "metadata": {},
   "outputs": [],
   "source": [
    "# 이론\n",
    "# 1. 파이썬의 모든 객체는 자료형을 가짐(int, str, floot, list,...)\n",
    "# 2. 파이썬의 인스턴스는 클래스로부터 생성됨\n",
    "#       인스턴스 붕어빵 틀 -> 붕어빵(인스턴스)\n",
    "# 3. 파이썬의 객체도 클래스로부터 만들어짐\n",
    "# 4. 파이썬의 클래스는 객체다.\n",
    "# 5. me는 객체(클래스도 포함), 인스턴스(클래스에서 생성된 애)\n",
    "# 6. 100은 int형이니깐 객체 \n",
    "\n",
    "# 클래스 안에 있으면 메서드(함수) <- 함수랑 큰 차이는 없음\n",
    "# 객체 > 클래스 > 인스턴스"
   ]
  },
  {
   "cell_type": "code",
   "execution_count": 29,
   "metadata": {},
   "outputs": [],
   "source": [
    "# 클래스에 있는 self는 '나'를 의미하는데\n",
    "# '나'라는 존재는 class를 담을때 쓰인 변수를 의미함\n",
    "# me = Person()에서 me는 객체이면서 인스턴스임\n",
    "# me.eat()라고 하는 것은 self가 있기 때문에 me를 인지할 수 있음"
   ]
  },
  {
   "cell_type": "code",
   "execution_count": 34,
   "metadata": {},
   "outputs": [
    {
     "name": "stdout",
     "output_type": "stream",
     "text": [
      "야옹\n"
     ]
    }
   ],
   "source": [
    "class Cat:\n",
    "    def see(self):\n",
    "        print('바라보기')\n",
    "    def tail(self):\n",
    "        print('꼬리 흔듦')\n",
    "    def howl(self):\n",
    "        print('야옹')\n",
    "\n",
    "me = Cat()\n",
    "me.howl()"
   ]
  },
  {
   "cell_type": "code",
   "execution_count": 35,
   "metadata": {},
   "outputs": [],
   "source": [
    "class Cat:\n",
    "    def __init__(self):\n",
    "        self.name = 'hgd'\n",
    "# 내일"
   ]
  }
 ],
 "metadata": {
  "kernelspec": {
   "display_name": "Python 3",
   "language": "python",
   "name": "python3"
  },
  "language_info": {
   "codemirror_mode": {
    "name": "ipython",
    "version": 3
   },
   "file_extension": ".py",
   "mimetype": "text/x-python",
   "name": "python",
   "nbconvert_exporter": "python",
   "pygments_lexer": "ipython3",
   "version": "3.11.9"
  }
 },
 "nbformat": 4,
 "nbformat_minor": 2
}
