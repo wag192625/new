{
 "cells": [
  {
   "cell_type": "code",
   "execution_count": 1,
   "metadata": {},
   "outputs": [],
   "source": [
    "# 1. 변수 x가 10보다 크고 20보다 작을 때 변수 X를 출력하는 조건식을 완성하라\n",
    "x= 9\n",
    "if x>10 and x<20 :\n",
    "    print(x)"
   ]
  },
  {
   "cell_type": "code",
   "execution_count": 2,
   "metadata": {},
   "outputs": [
    {
     "name": "stdout",
     "output_type": "stream",
     "text": [
      "0 2 4 6 8 "
     ]
    }
   ],
   "source": [
    "# 2. for문을 사용하여 0부터 10미만의 정수 중에서 짝수만을 작은 수부터 출력하시오.\n",
    "for i in range(0,10):\n",
    "    if i%2==0 :\n",
    "        print(i,end=' ')"
   ]
  },
  {
   "cell_type": "code",
   "execution_count": 3,
   "metadata": {},
   "outputs": [
    {
     "name": "stdout",
     "output_type": "stream",
     "text": [
      "[0, 2, 4, 6, 8]\n"
     ]
    }
   ],
   "source": [
    "# 3. for문을 사용하여 0부터 10미만의 정수 중에서 짝수만을 작은 수부터 문자열로 출력하시오.\n",
    "x= [0,4,2,5,7,3,6,8,9]\n",
    "lst=[]\n",
    "for i in x:\n",
    "    if i % 2 == 0:\n",
    "        lst.append(i)\n",
    "lst = sorted(lst)\n",
    "print(lst)"
   ]
  },
  {
   "cell_type": "code",
   "execution_count": 15,
   "metadata": {},
   "outputs": [
    {
     "name": "stdout",
     "output_type": "stream",
     "text": [
      "[9, 7, 5, 3]\n"
     ]
    }
   ],
   "source": [
    "# 4. for문을 사용하여 0부터 10미만의 정수 중에서 홀수만을 큰수부터 출력하시오.\n",
    "x= [0,4,2,5,7,3,6,8,9]\n",
    "lst = []\n",
    "for i in x:\n",
    "    if i % 2 != 0 :\n",
    "        lst.append(i)\n",
    "lst= sorted(lst,reverse=True)\n",
    "print(lst)"
   ]
  },
  {
   "cell_type": "code",
   "execution_count": 27,
   "metadata": {},
   "outputs": [
    {
     "name": "stdout",
     "output_type": "stream",
     "text": [
      "range(0, 9)\n",
      "[0, 2, 4, 6, 8]\n"
     ]
    }
   ],
   "source": [
    "# 5. while문을 사용하여 0 부터 10 미만의 정수 중에서 짝수만을 작은 수부터 출력하시오.\n",
    "x= [0,4,2,5,7,3,6,8,9]\n",
    "lst = []\n",
    "y = 0\n",
    "while(True):\n",
    "    if x[y] % 2 == 0:\n",
    "        lst.append(x[y])\n",
    "    if x[y] == x[-1]:\n",
    "        break\n",
    "    y+=1\n",
    "lst.sort()\n",
    "print(lst)"
   ]
  },
  {
   "cell_type": "code",
   "execution_count": 29,
   "metadata": {},
   "outputs": [
    {
     "name": "stdout",
     "output_type": "stream",
     "text": [
      "[9, 7, 5, 3]\n"
     ]
    }
   ],
   "source": [
    "# 6. while문을 사용하여 0 부터 10 미만의 정수 중에서 홀수만을 큰수부터 출력하시오.\n",
    "x= [0,4,2,5,7,3,6,8,9]\n",
    "lst = []\n",
    "y = 0\n",
    "while(True):\n",
    "    if x[y] % 2 != 0:\n",
    "        lst.append(x[y])\n",
    "    if x[y] == x[-1]:\n",
    "        break\n",
    "    y+=1\n",
    "lst.sort(reverse=True)\n",
    "print(lst)"
   ]
  },
  {
   "cell_type": "code",
   "execution_count": 32,
   "metadata": {},
   "outputs": [
    {
     "name": "stdout",
     "output_type": "stream",
     "text": [
      "45\n"
     ]
    }
   ],
   "source": [
    "# 7. for 문을 사용하여 0부터 10미만의 정수의 합을 출력하시오.\n",
    "a = 0\n",
    "for i in range(0,10):\n",
    "    a+=i\n",
    "print(a)"
   ]
  },
  {
   "cell_type": "code",
   "execution_count": 36,
   "metadata": {},
   "outputs": [
    {
     "name": "stdout",
     "output_type": "stream",
     "text": [
      "73\n"
     ]
    }
   ],
   "source": [
    "# 8. 1부터 20 미만의 정수 중에서 2 또는 3의 배수가 아닌 수의 총합을 구하시오.\n",
    "a = 0\n",
    "for i in range(1,20):\n",
    "    if i % 2 != 0 and i % 3 != 0:\n",
    "        a+=i\n",
    "print(a)"
   ]
  },
  {
   "cell_type": "code",
   "execution_count": 38,
   "metadata": {},
   "outputs": [
    {
     "name": "stdout",
     "output_type": "stream",
     "text": [
      "226\n"
     ]
    }
   ],
   "source": [
    "# 9. 1부터 20 미만의 정수 중에서 2 또는 3의 배수인 수의 총합을 구하시오.\n",
    "for i in range(1,20):\n",
    "    if i % 2 == 0 and i % 3 == 0:\n",
    "        a+=i\n",
    "print(a)"
   ]
  },
  {
   "cell_type": "code",
   "execution_count": 41,
   "metadata": {},
   "outputs": [
    {
     "name": "stdout",
     "output_type": "stream",
     "text": [
      "1 5\n",
      "2 4\n",
      "3 3\n",
      "4 2\n",
      "5 1\n"
     ]
    }
   ],
   "source": [
    "# 10. 두 개의 주사위를 던졌을 때, 눈의 합이 6이 되는 모든 경우의 수를 출력하시오.\n",
    "dice = [1,2,3,4,5,6]\n",
    "for i in dice :\n",
    "    for j in dice:\n",
    "        if i+j==6 :\n",
    "            print(i,j)"
   ]
  },
  {
   "cell_type": "code",
   "execution_count": 22,
   "metadata": {},
   "outputs": [
    {
     "name": "stdout",
     "output_type": "stream",
     "text": [
      "8\n",
      "3\n",
      "{'강상희', '송정환', '이성연', '이유덕', '김재성', '이재영', '김지완', '전경헌', '박민호', '최승혁', '박영서', '권종표'}\n",
      "['강상희', '권종표', '김재성', '김지완', '박민호', '박영서', '송정환', '이성연', '이유덕', '이재영', '전경헌', '최승혁']\n"
     ]
    }
   ],
   "source": [
    "# 1.주어진 문자열(공백 없이 쉼표로 구분되어 있음)을 가지고 아래 문제에 대한 프로그램을 작성하세요.\n",
    "\n",
    "# 이유덕,이재영,권종표,이재영,박민호,강상희,이재영,김지완,최승혁,이성연,박영서,박민호,전경헌,송정환,김재성,이유덕,전경헌\n",
    "import re\n",
    "name = ['이유덕','이재영','권종표','이재영','박민호','강상희','이재영','김지완','최승혁','이성연','박영서','박민호','전경헌','송정환','김재성','이유덕','전경헌']\n",
    "\n",
    "# 1)김씨와 이씨는 각각 몇 명 인가요?\n",
    "cnt1 = 0\n",
    "for i in name:\n",
    "    a = re.match('김|이', i)\n",
    "    # print(a)\n",
    "    if a != None :\n",
    "        cnt1 += 1\n",
    "print(cnt1)\n",
    "\n",
    "# 2)\"이재영\"이란 이름이 몇 번 반복되나요?\n",
    "cnt2 = 0\n",
    "for i in name:\n",
    "    if re.match('이재영', i) != None:\n",
    "        cnt2+=1\n",
    "print(cnt2)\n",
    "# 3)중복을 제거한 이름을 출력하세요.\n",
    "print(set(name))\n",
    "\n",
    "# 4)중복을 제거한 이름을 오름차순으로 정렬하여 출력하세요.\n",
    "print(sorted(set(name)))"
   ]
  },
  {
   "cell_type": "code",
   "execution_count": 12,
   "metadata": {},
   "outputs": [],
   "source": [
    "# 2.n개의 정수를 가진 배열이 있다. 이 배열은 양의정수와 음의 정수를 모두 가지고 있다. 이제 당신은 이 배열을 좀 특별한 방법으로 정렬해야 한다.\n",
    "\n",
    "# 정렬이 되고 난 후, 음의 정수는 앞쪽에 양의정수는 뒷쪽에 있어야 한다. 또한 양의정수와 음의정수의 순서에는 변함이 없어야 한다.\n",
    "\n",
    "# 예. -1 1 3 -2 2 ans: -1 -2 1 3 2"
   ]
  },
  {
   "cell_type": "code",
   "execution_count": 13,
   "metadata": {},
   "outputs": [],
   "source": [
    "# 3.디지털 시계에 하루동안(00:00~23:59) 3이 표시되는 시간을 초로 환산하면 총 몇 초(second) 일까요?\n",
    "\n",
    "# 디지털 시계는 하루동안 다음과 같이 시:분(00:00~23:59)으로 표시됩니다.\n",
    "\n",
    "# 현재 시각 : 01시 3분 00초~59초이라면 -> 60초\n",
    "# 현재 시각 : 03시 정각 -> 03시00분00초~3시59분59초 -> 1시간\n",
    "# 13:00\n",
    "\n",
    "# 00:00 (60초간 표시됨)\n",
    "# 00:01 \n",
    "# 00:02 \n",
    "# ...\n",
    "# 23:59"
   ]
  },
  {
   "cell_type": "code",
   "execution_count": 14,
   "metadata": {},
   "outputs": [],
   "source": [
    "# 4.A씨는 두 개의 버전을 비교하는 프로그램을 작성해야 한다.\n",
    "\n",
    "# 버전은 다음처럼 \".\" 으로 구분된 문자열이다.\n",
    "\n",
    "# 버전 예) 1.0.0, 1.0.23, 1.1\n",
    "\n",
    "# 두 개의 버전을 비교하는 프로그램을 작성하시오.\n",
    "\n",
    "# 다음은 버전 비교의 예이다.\n",
    "\n",
    "# 0.0.2 > 0.0.1\n",
    "# 1.0.10 > 1.0.3\n",
    "# 1.2.0 > 1.1.99\n",
    "# 1.1 > 1.0.1"
   ]
  },
  {
   "cell_type": "code",
   "execution_count": null,
   "metadata": {},
   "outputs": [],
   "source": [
    "# 5.수 범위 입력받아 범위 내에 있는 각 숫자를 분해하여 곱한 결과의 전체합을 구하시오.\n",
    "# 예로, 10~15까지의 각 숫자 분해하여 곱하기의 전체 합은 다음과 같다.\n",
    "\n",
    "\n",
    "# 10 = 1 * 0 = 0\n",
    "# 11 = 1 * 1 = 1\n",
    "# 12 = 1 * 2 = 2\n",
    "# 13 = 1 * 3 = 3\n",
    "# 14 = 1 * 4 = 4\n",
    "# 15 = 1 * 5 = 5\n",
    "\n",
    "# 그러므로, 이 경우의 답은 0+1+2+3+4+5 = 15"
   ]
  }
 ],
 "metadata": {
  "kernelspec": {
   "display_name": "Python 3",
   "language": "python",
   "name": "python3"
  },
  "language_info": {
   "codemirror_mode": {
    "name": "ipython",
    "version": 3
   },
   "file_extension": ".py",
   "mimetype": "text/x-python",
   "name": "python",
   "nbconvert_exporter": "python",
   "pygments_lexer": "ipython3",
   "version": "3.11.9"
  }
 },
 "nbformat": 4,
 "nbformat_minor": 2
}
