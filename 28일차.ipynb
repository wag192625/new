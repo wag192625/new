{
 "cells": [
  {
   "cell_type": "code",
   "execution_count": 14,
   "metadata": {},
   "outputs": [],
   "source": [
    "class Cat :\n",
    "    def __init__(self, name, color):\n",
    "        self.name = name\n",
    "        self.color = color\n",
    "    # __init__ 은 실행 되자마자 첫번째로 발동하는 코드\n",
    "    # __init__ 이 쓰이는 경우는 파일명, 메서드에 사용함\n",
    "    # __init__.py 파일명이 이렇게 선언되는 경우가 있음\n",
    "    def meow(self):\n",
    "        print(f'나의 이름은 {self.name}, 색은 {self.color}, 냐옹~~')\n",
    "\n",
    "    def __str__(self):  #print()를 실행하면 발동함\n",
    "        return 'Cat(name ='+ self.name+', color =  '+self.color+')'\n",
    "    # __str__() 메서드는 init과 마찬가지로 특수한 기능\n",
    "    # 어떤 객체의 문자열 표현 방식을 정의하며, 반환값은 문자열이 됨"
   ]
  },
  {
   "cell_type": "code",
   "execution_count": 15,
   "metadata": {},
   "outputs": [],
   "source": [
    "neko = Cat('네코',' 검정색')\n",
    "neko.meow()\n"
   ]
  },
  {
   "cell_type": "code",
   "execution_count": 26,
   "metadata": {},
   "outputs": [
    {
     "name": "stdout",
     "output_type": "stream",
     "text": [
      "1\n"
     ]
    }
   ],
   "source": [
    "# 이건 함수에 대한 걸명\n",
    "def func():\n",
    "    # global res  # global = 전역변수 선언 (지역변수를 다른 곳에서도 쓸 수 있게. 함수는 보통 그 안에서만 이용해야 해서 잘 안쓰임)\n",
    "    res = 1     # 지역 변수 (함수가 종료되면 사라지는 변수. with와 비슷)\n",
    "    return res\n",
    "func()\n",
    "# print(res) 이렇게는 안됨"
   ]
  },
  {
   "cell_type": "code",
   "execution_count": 43,
   "metadata": {},
   "outputs": [],
   "source": [
    "class Cat :\n",
    "    def __init__(self, name, age):\n",
    "        self.name = name\n",
    "        self.age = age\n",
    "\n",
    "\n",
    "    def __str__(self):  #print()를 실행하면 발동함\n",
    "        return 'Cat(name ='+ self.name+', age ='+str(self.age)+')'\n",
    "    # __str__() 메서드는 init과 마찬가지로 특수한 기능\n",
    "    # 어떤 객체의 문자열 표현 방식을 정의하며, 반환값은 문자열이 됨\n",
    "\n",
    "    \n",
    "    def set_age(self, age) :    # setter\n",
    "        if age > 0 :\n",
    "            self.__age = age\n",
    "    \n",
    "    def get_age(self) :         # getter\n",
    "        return self.__age\n",
    "    #  위와 같은 경우는 캡슐화가 됐다고 할 수 있음"
   ]
  },
  {
   "cell_type": "code",
   "execution_count": 31,
   "metadata": {},
   "outputs": [
    {
     "name": "stdout",
     "output_type": "stream",
     "text": [
      "Cat(name =나비, age =  10)\n"
     ]
    }
   ],
   "source": [
    "nabi = Cat('나비',10)\n",
    "print(nabi)"
   ]
  },
  {
   "cell_type": "code",
   "execution_count": 45,
   "metadata": {},
   "outputs": [
    {
     "data": {
      "text/plain": [
       "4"
      ]
     },
     "execution_count": 45,
     "metadata": {},
     "output_type": "execute_result"
    }
   ],
   "source": [
    "nabi.age = 4\n",
    "nabi.age"
   ]
  },
  {
   "cell_type": "code",
   "execution_count": 48,
   "metadata": {},
   "outputs": [
    {
     "data": {
      "text/plain": [
       "4"
      ]
     },
     "execution_count": 48,
     "metadata": {},
     "output_type": "execute_result"
    }
   ],
   "source": [
    "nabi.set_age(4)\n",
    "nabi.get_age()"
   ]
  },
  {
   "cell_type": "code",
   "execution_count": 41,
   "metadata": {},
   "outputs": [],
   "source": [
    "# 파이썬에는 자바의 private, public, protected, default 와 달리 따로 설정이 없음\n",
    "# 이와 같은 기능이 필요하므로\n",
    "# _ 혹은 __를 사용하도록 만듦. 예시에서 사용된 self.__age 는 private 타입이 됨"
   ]
  }
 ],
 "metadata": {
  "kernelspec": {
   "display_name": "Python 3",
   "language": "python",
   "name": "python3"
  },
  "language_info": {
   "codemirror_mode": {
    "name": "ipython",
    "version": 3
   },
   "file_extension": ".py",
   "mimetype": "text/x-python",
   "name": "python",
   "nbconvert_exporter": "python",
   "pygments_lexer": "ipython3",
   "version": "3.11.9"
  }
 },
 "nbformat": 4,
 "nbformat_minor": 2
}
