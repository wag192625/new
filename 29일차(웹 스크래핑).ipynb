{
 "cells": [
  {
   "cell_type": "code",
   "execution_count": 1,
   "metadata": {},
   "outputs": [],
   "source": [
    "# 24.05.04\n",
    "# 웹 스크래핑 : 데이터를 확보(인공지능은 데이터를 통해서 결과를 예측)\n",
    "# Beautifulsoup, requests, urlibs, selenium => python 라이브러리"
   ]
  },
  {
   "cell_type": "markdown",
   "metadata": {},
   "source": [
    "<h1>이미지 저장</h1>"
   ]
  },
  {
   "cell_type": "code",
   "execution_count": 2,
   "metadata": {},
   "outputs": [],
   "source": [
    "import urllib.request"
   ]
  },
  {
   "cell_type": "code",
   "execution_count": 7,
   "metadata": {},
   "outputs": [],
   "source": [
    "url = 'https://wimg.mk.co.kr/meet/neds/2022/06/image_readtop_2022_556367_16561184505086722.jpeg'"
   ]
  },
  {
   "cell_type": "code",
   "execution_count": 15,
   "metadata": {},
   "outputs": [
    {
     "name": "stdout",
     "output_type": "stream",
     "text": [
      "저장 완료\n"
     ]
    }
   ],
   "source": [
    "urllib.request.urlretrieve(url, '일론머스크.jpeg')\n",
    "print('저장 완료')\n",
    "# 주로 사용하는 이미지는 jpg, jpeg, png"
   ]
  },
  {
   "cell_type": "code",
   "execution_count": 15,
   "metadata": {},
   "outputs": [
    {
     "name": "stdout",
     "output_type": "stream",
     "text": [
      "Active code page: 65001\n"
     ]
    }
   ],
   "source": [
    "!chcp 65001"
   ]
  },
  {
   "cell_type": "markdown",
   "metadata": {},
   "source": [
    "<h1>웹 스크래핑</h1>"
   ]
  },
  {
   "cell_type": "code",
   "execution_count": 16,
   "metadata": {},
   "outputs": [],
   "source": [
    "# https://finance.naver.com/marketindex\n",
    "\n",
    "# !pip install BeautifulSoup4 ( 뷰티풀스프 없을 때 다운로드)"
   ]
  },
  {
   "cell_type": "code",
   "execution_count": 123,
   "metadata": {},
   "outputs": [
    {
     "data": {
      "text/plain": [
       "<http.client.HTTPResponse at 0x2157051eb60>"
      ]
     },
     "execution_count": 123,
     "metadata": {},
     "output_type": "execute_result"
    }
   ],
   "source": [
    "# 가져올 웹사이트\n",
    "res = urllib.request.urlopen('https://finance.naver.com/marketindex')\n",
    "res\n"
   ]
  },
  {
   "cell_type": "code",
   "execution_count": 24,
   "metadata": {},
   "outputs": [],
   "source": [
    "# \n",
    "from bs4 import BeautifulSoup"
   ]
  },
  {
   "cell_type": "code",
   "execution_count": null,
   "metadata": {},
   "outputs": [],
   "source": [
    "#\n",
    "soup = BeautifulSoup(res,'html.parser',from_encoding='cp949')   # 한글 깨질때 from~ cp949 \n",
    "soup"
   ]
  },
  {
   "cell_type": "code",
   "execution_count": 156,
   "metadata": {},
   "outputs": [
    {
     "name": "stdout",
     "output_type": "stream",
     "text": [
      "윤동주(尹東柱, 1917년 12월 30일~1945년 2월 16일)는 일제강점기의 독립운동가, 시인, 작가이다. 본관은 파평(坡平), 아호는 해환(海煥)이다. 1917년 12월 30일 북간도 명동촌(明東村)에서 태어났다. 본적은 함경북도 청진시 포항동 76번지이다. 명동촌은 동간도의 척박한 땅이었지만 1899년 함경도 출신의 김약연, 김하규, 문병규 등이 140여 명의 식솔을 이끌고 동간도로 집단 이주한 후 윤동주의 조부인 윤하현 등이 합류하면서 '동방을 밝히는 곳(明東村)'이라는 뜻을 지닌 동간도 최대의 한인촌(韓人村)을 형성했다.\n",
      "\n"
     ]
    }
   ],
   "source": [
    "####\n",
    "from bs4 import BeautifulSoup\n",
    "\n",
    "res = urllib.request.urlopen('https://ko.m.wikipedia.org/wiki/%EC%9C%A4%EB%8F%99%EC%A3%BC')\n",
    "soup = BeautifulSoup(res,'html.parser')\n",
    "text = soup.select('#mf-section-0 > p:nth-child(4)')\n",
    "for i in text:\n",
    "    print(i.text)"
   ]
  },
  {
   "cell_type": "code",
   "execution_count": 154,
   "metadata": {},
   "outputs": [
    {
     "name": "stdout",
     "output_type": "stream",
     "text": [
      "한글 표기:\n",
      "윤동주\n",
      "한자 표기:\n",
      "尹東柱\n",
      "개정 로마자 표기:\n",
      "Yun Dongju\n",
      "매큔-라이샤워 표기:\n",
      "Yun Tongchu\n",
      "예일 표기:\n",
      "Yun Tongcwu\n",
      "국제 음성 기호:\n",
      "[jundoŋdʑu]\n"
     ]
    }
   ],
   "source": [
    "from bs4 import BeautifulSoup\n",
    "\n",
    "res = urllib.request.urlopen('https://ko.m.wikipedia.org/wiki/%EC%9C%A4%EB%8F%99%EC%A3%BC')\n",
    "soup = BeautifulSoup(res,'html.parser')\n",
    "text = soup.select('#mf-section-0 > table:nth-child(6) > tbody td ')\n",
    "text[0].text\n",
    "for i in text:\n",
    "    print(i.text,end = '')"
   ]
  },
  {
   "cell_type": "code",
   "execution_count": null,
   "metadata": {},
   "outputs": [],
   "source": [
    "text = soup.select('#container > div.market_include > div > div.market1 > div.data')[0].string\n",
    "text\n",
    "# 리스트로 한꺼번에 가져와서 [0] 쓰면 "
   ]
  },
  {
   "cell_type": "code",
   "execution_count": null,
   "metadata": {},
   "outputs": [],
   "source": [
    "# 인공지능 하는 사람은 인공지능을 모델링, 파인튜닝 할 줄 알아야 하지만\n",
    "# 적용할 도메인(대상)에 대한 정보도 많이 알아야 함\n",
    "# 의료, 경제, 농사, 개발, 보안, 시스템, 편의성, IT툴들..."
   ]
  },
  {
   "cell_type": "code",
   "execution_count": 46,
   "metadata": {},
   "outputs": [
    {
     "data": {
      "text/plain": [
       "<span class=\"value\">1,359.00</span>"
      ]
     },
     "execution_count": 46,
     "metadata": {},
     "output_type": "execute_result"
    }
   ],
   "source": [
    "# 뽑아내기\n",
    "soup.select('#container > div.market_include > div > div.market1 > div.data > ul.data_lst > li.on > a.head span')[1]\n",
    "# 예시로 div > h1 > h2 > h3 > span > a\n",
    "# root 태그 > root 아랫 태그 > ... =>div > h1 > h2 >... 이런 식으로 계단식 접근 가능\n",
    "# root 태그 h3 가능 => div h3 이런 식의 사용"
   ]
  },
  {
   "cell_type": "code",
   "execution_count": null,
   "metadata": {},
   "outputs": [],
   "source": [
    "# 스크래핑의 과정 : [웹서버 접속 - 페이지 소스 가져오기 - BeautifulSoup 객체 생성 - 원하는 내용 추출]\n",
    "#                 - 전처리(정규식) - 데이터 분석 - 모델링 - 결과물(분류기, 생성기, 탐색기)"
   ]
  },
  {
   "cell_type": "code",
   "execution_count": 48,
   "metadata": {},
   "outputs": [],
   "source": [
    "html = \"\"\"\n",
    "<html><body>\n",
    "  <ul>\n",
    "    <li><a href=\"http://www.naver.com\">naver</a></li>\n",
    "    <li><a href=\"http://www.daum.net\">daum</a></li>\n",
    "  </ul>\n",
    "</body></html>\n",
    "\"\"\""
   ]
  },
  {
   "cell_type": "code",
   "execution_count": 51,
   "metadata": {},
   "outputs": [
    {
     "data": {
      "text/plain": [
       "\n",
       "<html><body>\n",
       "<ul>\n",
       "<li><a href=\"http://www.naver.com\">naver</a></li>\n",
       "<li><a href=\"http://www.daum.net\">daum</a></li>\n",
       "</ul>\n",
       "</body></html>"
      ]
     },
     "execution_count": 51,
     "metadata": {},
     "output_type": "execute_result"
    }
   ],
   "source": [
    "soup = BeautifulSoup(html,'html.parser')\n",
    "soup"
   ]
  },
  {
   "cell_type": "code",
   "execution_count": 52,
   "metadata": {},
   "outputs": [
    {
     "data": {
      "text/plain": [
       "[<a href=\"http://www.naver.com\">naver</a>,\n",
       " <a href=\"http://www.daum.net\">daum</a>]"
      ]
     },
     "execution_count": 52,
     "metadata": {},
     "output_type": "execute_result"
    }
   ],
   "source": [
    "links = soup.find_all('a')\n",
    "links "
   ]
  },
  {
   "cell_type": "code",
   "execution_count": 55,
   "metadata": {},
   "outputs": [
    {
     "name": "stdout",
     "output_type": "stream",
     "text": [
      "http://www.naver.com\n",
      "http://www.daum.net\n",
      "naver\n",
      "daum\n"
     ]
    }
   ],
   "source": [
    "for link in links :\n",
    "    print(link.attrs['href'])\n",
    "\n",
    "for link in links :\n",
    "    print(link.string)"
   ]
  },
  {
   "cell_type": "code",
   "execution_count": 56,
   "metadata": {},
   "outputs": [],
   "source": [
    "html = \"\"\"\n",
    "<html><body>\n",
    "  <h1>스크레이핑이란?</h1>\n",
    "  <p>웹 페이지를 분석하는 것</p>\n",
    "  <p>원하는 부분을 추출하는 것</p>\n",
    "</body></html>\n",
    "\"\"\""
   ]
  },
  {
   "cell_type": "code",
   "execution_count": 59,
   "metadata": {},
   "outputs": [
    {
     "data": {
      "text/plain": [
       "bs4.BeautifulSoup"
      ]
     },
     "execution_count": 59,
     "metadata": {},
     "output_type": "execute_result"
    }
   ],
   "source": [
    "bs = BeautifulSoup(html, 'html.parser')\n",
    "type(bs)"
   ]
  },
  {
   "cell_type": "code",
   "execution_count": 63,
   "metadata": {},
   "outputs": [
    {
     "name": "stdout",
     "output_type": "stream",
     "text": [
      "<class 'bs4.element.Tag'>\n"
     ]
    },
    {
     "data": {
      "text/plain": [
       "<h1>스크레이핑이란?</h1>"
      ]
     },
     "execution_count": 63,
     "metadata": {},
     "output_type": "execute_result"
    }
   ],
   "source": [
    "print(type(bs.html))\n",
    "\n",
    "bs.html.h1\n",
    "bs.html.body.h1"
   ]
  },
  {
   "cell_type": "code",
   "execution_count": 73,
   "metadata": {},
   "outputs": [
    {
     "name": "stdout",
     "output_type": "stream",
     "text": [
      "<p>웹 페이지를 분석하는 것</p>\n",
      "<p>원하는 부분을 추출하는 것</p>\n"
     ]
    }
   ],
   "source": [
    "print(bs.html.p)\n",
    "print(bs.html.p.next_sibling.next_sibling)"
   ]
  },
  {
   "cell_type": "code",
   "execution_count": 77,
   "metadata": {},
   "outputs": [],
   "source": [
    "html = \"\"\"\n",
    "<html><body>\n",
    "  <h1 id=\"title\">스크레이핑이란?</h1>\n",
    "  <p id=\"body\">웹 페이지를 분석하는 것</p>\n",
    "  <p>원하는 부분을 추출하는 것</p>\n",
    "</body></html>\n",
    "\"\"\""
   ]
  },
  {
   "cell_type": "code",
   "execution_count": 78,
   "metadata": {},
   "outputs": [],
   "source": [
    "bs_id = BeautifulSoup(html,'html.parser')"
   ]
  },
  {
   "cell_type": "code",
   "execution_count": 87,
   "metadata": {},
   "outputs": [
    {
     "data": {
      "text/plain": [
       "<p id=\"body\">웹 페이지를 분석하는 것</p>"
      ]
     },
     "execution_count": 87,
     "metadata": {},
     "output_type": "execute_result"
    }
   ],
   "source": [
    "bs_id.html.body.h1\n",
    "bs_id.html.body.p.next_sibling.next_sibling\n",
    "bs_id.find_all('p')[0]\n",
    "bs_id.find(id = 'title')\n",
    "bs_id.find(id = 'body')"
   ]
  },
  {
   "cell_type": "code",
   "execution_count": 103,
   "metadata": {},
   "outputs": [],
   "source": [
    "html = \"\"\"\n",
    "<html><body>\n",
    "<div id=\"meigen\">\n",
    "  <h1>위키북스 도서</h1>\n",
    "  <ul class=\"items\">\n",
    "    <li>유니티 게임 이펙트 입문</li>\n",
    "    <li>스위프트로 시작하는 아이폰 앱 개발 교과서</li>\n",
    "    <li>모던 웹사이트 디자인의 정석</li>\n",
    "  </ul>\n",
    "</div>\n",
    "</body></html>\n",
    "\"\"\""
   ]
  },
  {
   "cell_type": "code",
   "execution_count": 89,
   "metadata": {},
   "outputs": [],
   "source": [
    "soup = BeautifulSoup(html,'html.parser')"
   ]
  },
  {
   "cell_type": "code",
   "execution_count": 93,
   "metadata": {},
   "outputs": [
    {
     "data": {
      "text/plain": [
       "<div id=\"meigen\">\n",
       "<h1>위키북스 도서</h1>\n",
       "<ul class=\"items\">\n",
       "<li>유니티 게임 이펙트 입문</li>\n",
       "<li>스위프트로 시작하는 아이폰 앱 개발 교과서</li>\n",
       "<li>모던 웹사이트 디자인의 정석</li>\n",
       "</ul>\n",
       "</div>"
      ]
     },
     "execution_count": 93,
     "metadata": {},
     "output_type": "execute_result"
    }
   ],
   "source": [
    "soup.find(id ='meigen')"
   ]
  },
  {
   "cell_type": "code",
   "execution_count": 98,
   "metadata": {},
   "outputs": [
    {
     "data": {
      "text/plain": [
       "'위키북스 도서'"
      ]
     },
     "execution_count": 98,
     "metadata": {},
     "output_type": "execute_result"
    }
   ],
   "source": [
    "# 동일한 결과 확인이 가능함\n",
    "soup.h1\n",
    "soup.html.body.h1.string\n",
    "soup.find(id = 'meigen').h1.string"
   ]
  },
  {
   "cell_type": "code",
   "execution_count": 143,
   "metadata": {},
   "outputs": [
    {
     "name": "stdout",
     "output_type": "stream",
     "text": [
      "<div id=\"mw-mf-viewport\">\n",
      "<div id=\"mw-mf-page-center\">\n",
      "<a class=\"mw-mf-page-center__mask\" href=\"#\"></a>\n",
      "<header class=\"header-container header-chrome\">\n",
      "<div class=\"minerva-header\">\n",
      "<nav class=\"navigation-drawer toggle-list view-border-box\">\n",
      "<input aria-expanded=\"false\" aria-haspopup=\"true\" aria-labelledby=\"mw-mf-main-menu-button\" class=\"toggle-list__checkbox\" id=\"main-menu-input\" role=\"button\" type=\"checkbox\"/>\n",
      "<label aria-hidden=\"true\" class=\"cdx-button cdx-button--size-large cdx-button--fake-button cdx-button--fake-button--enabled cdx-button--icon-only cdx-button--weight-quiet toggle-list__toggle\" data-event-name=\"ui.mainmenu\" for=\"main-menu-input\" id=\"mw-mf-main-menu-button\" role=\"button\">\n",
      "<span class=\"minerva-icon minerva-icon--menu-base20\"></span>\n",
      "<span></span>\n",
      "</label>\n",
      "<div class=\"menu view-border-box\" id=\"mw-mf-page-left\">\n",
      "<ul class=\"toggle-list__list\" id=\"p-navigation\">\n",
      "<li class=\"toggle-list-item\">\n",
      "<a class=\"toggle-list-item__anchor\" data-mw=\"interface\" href=\"/wiki/%EC%9C%84%ED%82%A4%EB%B0%B1%EA%B3%BC:%EB%8C%80%EB%AC%B8\">\n",
      "<span class=\"minerva-icon minerva-icon--home\"></span>\n",
      "<span class=\"toggle-list-item__label\">대문</span>\n",
      "</a>\n",
      "</li>\n",
      "<li class=\"toggle-list-item\">\n",
      "<a class=\"toggle-list-item__anchor\" data-mw=\"interface\" href=\"/wiki/%ED%8A%B9%EC%88%98:%EC%9E%84%EC%9D%98%EB%AC%B8%EC%84%9C\">\n",
      "<span class=\"minerva-icon minerva-icon--die\"></span>\n",
      "<span class=\"toggle-list-item__label\">임의의 문서로</span>\n",
      "</a>\n",
      "</li>\n",
      "<li class=\"toggle-list-item skin-minerva-list-item-jsonly\">\n",
      "<a class=\"toggle-list-item__anchor skin-minerva-list-item-jsonly\" data-event-name=\"menu.nearby\" data-mw=\"interface\" href=\"/wiki/%ED%8A%B9%EC%88%98:%EA%B7%BC%EC%B2%98\">\n",
      "<span class=\"minerva-icon minerva-icon--mapPin\"></span>\n",
      "<span class=\"toggle-list-item__label\">근처</span>\n",
      "</a>\n",
      "</li>\n",
      "</ul>\n",
      "<ul class=\"toggle-list__list\" id=\"p-personal\">\n",
      "<li class=\"toggle-list-item\">\n",
      "<a class=\"toggle-list-item__anchor\" data-event-name=\"menu.login\" data-mw=\"interface\" href=\"/w/index.php?title=%ED%8A%B9%EC%88%98:%EB%A1%9C%EA%B7%B8%EC%9D%B8&amp;returnto=%EC%9C%A4%EB%8F%99%EC%A3%BC\">\n",
      "<span class=\"minerva-icon minerva-icon--logIn\"></span>\n",
      "<span class=\"toggle-list-item__label\">로그인</span>\n",
      "</a>\n",
      "</li>\n",
      "</ul>\n",
      "<ul class=\"toggle-list__list\" id=\"pt-preferences\">\n",
      "<li class=\"toggle-list-item skin-minerva-list-item-jsonly\">\n",
      "<a class=\"toggle-list-item__anchor skin-minerva-list-item-jsonly\" data-event-name=\"menu.settings\" data-mw=\"interface\" href=\"/w/index.php?title=%ED%8A%B9%EC%88%98:%EB%AA%A8%EB%B0%94%EC%9D%BC%EC%84%A4%EC%A0%95&amp;returnto=%EC%9C%A4%EB%8F%99%EC%A3%BC\">\n",
      "<span class=\"minerva-icon minerva-icon--settings\"></span>\n",
      "<span class=\"toggle-list-item__label\">설정</span>\n",
      "</a>\n",
      "</li>\n",
      "</ul>\n",
      "<ul class=\"toggle-list__list\" id=\"p-donation\">\n",
      "<li class=\"toggle-list-item\">\n",
      "<a class=\"toggle-list-item__anchor\" data-event-name=\"menu.donate\" data-mw=\"interface\" href=\"//donate.wikimedia.org/wiki/Special:FundraiserRedirector?utm_source=donate&amp;utm_medium=sidebar&amp;utm_campaign=C13_ko.wikipedia.org&amp;uselang=ko&amp;utm_key=minerva\">\n",
      "<span class=\"minerva-icon minerva-icon--heart\"></span>\n",
      "<span class=\"toggle-list-item__label\">기부</span>\n",
      "</a>\n",
      "</li>\n",
      "</ul>\n",
      "<ul class=\"hlist\">\n",
      "<li class=\"toggle-list-item\">\n",
      "<a class=\"toggle-list-item__anchor\" data-mw=\"interface\" href=\"/wiki/%EC%9C%84%ED%82%A4%EB%B0%B1%EA%B3%BC:%EC%86%8C%EA%B0%9C\">\n",
      "<span class=\"toggle-list-item__label\">위키백과 소개</span>\n",
      "</a>\n",
      "</li>\n",
      "<li class=\"toggle-list-item\">\n",
      "<a class=\"toggle-list-item__anchor\" data-mw=\"interface\" href=\"/wiki/%EC%9C%84%ED%82%A4%EB%B0%B1%EA%B3%BC:%EB%A9%B4%EC%B1%85_%EC%A1%B0%ED%95%AD\">\n",
      "<span class=\"toggle-list-item__label\">면책 조항</span>\n",
      "</a>\n",
      "</li>\n",
      "</ul>\n",
      "</div>\n",
      "<label class=\"main-menu-mask\" for=\"main-menu-input\"></label>\n",
      "</nav>\n",
      "<div class=\"branding-box\">\n",
      "<a href=\"/wiki/%EC%9C%84%ED%82%A4%EB%B0%B1%EA%B3%BC:%EB%8C%80%EB%AC%B8\">\n",
      "<span><img alt=\"위키백과\" height=\"28\" src=\"/static/images/mobile/copyright/wikipedia-wordmark-ko.svg\" style=\"width: 7.5em; height: 1.75em;\" width=\"120\"/>\n",
      "</span>\n",
      "</a>\n",
      "</div>\n",
      "<form action=\"/w/index.php\" class=\"minerva-search-form\" method=\"get\">\n",
      "<div class=\"search-box\">\n",
      "<input name=\"title\" type=\"hidden\" value=\"특수:검색\">\n",
      "<input accesskey=\"f\" aria-label=\"위키백과 검색\" autocapitalize=\"sentences\" class=\"search minerva-icon--search skin-minerva-search-trigger\" id=\"searchInput\" name=\"search\" placeholder=\"위키백과 검색\" title=\"위키백과 검색 [f]\" type=\"search\"/>\n",
      "</input></div>\n",
      "<button class=\"cdx-button cdx-button--size-large cdx-button--icon-only cdx-button--weight-quiet skin-minerva-search-trigger\" id=\"searchIcon\">\n",
      "<span class=\"minerva-icon minerva-icon--search-base20\"></span>\n",
      "<span>검색</span>\n",
      "</button>\n",
      "</form>\n",
      "<nav aria-label=\"사용자 둘러보기\" class=\"minerva-user-navigation\">\n",
      "</nav>\n",
      "</div>\n",
      "</header>\n",
      "<main class=\"mw-body\" id=\"content\">\n",
      "<div class=\"banner-container\">\n",
      "<div id=\"siteNotice\"><!-- CentralNotice --></div>\n",
      "</div>\n",
      "<div class=\"pre-content heading-holder\">\n",
      "<div class=\"page-heading\">\n",
      "<h1 class=\"firstHeading mw-first-heading\" id=\"firstHeading\"><span class=\"mw-page-title-main\">윤동주</span></h1>\n",
      "<div class=\"tagline\">일제강점기 조선의 남자 시인, 독립운동가 (1917–1945)</div>\n",
      "</div>\n",
      "<nav class=\"page-actions-menu\">\n",
      "<ul class=\"page-actions-menu__list\" id=\"p-views\">\n",
      "<li class=\"page-actions-menu__list-item\" id=\"language-selector\">\n",
      "<a class=\"cdx-button cdx-button--size-large cdx-button--fake-button cdx-button--fake-button--enabled cdx-button--icon-only cdx-button--weight-quiet language-selector\" data-event-name=\"menu.languages\" data-mw=\"interface\" href=\"#p-lang\" role=\"button\" title=\"언어\">\n",
      "<span class=\"minerva-icon minerva-icon--language-base20\"></span>\n",
      "<span>언어</span>\n",
      "</a>\n",
      "</li>\n",
      "<li class=\"page-actions-menu__list-item\" id=\"page-actions-watch\">\n",
      "<a class=\"cdx-button cdx-button--size-large cdx-button--fake-button cdx-button--fake-button--enabled cdx-button--icon-only cdx-button--weight-quiet menu__item--page-actions-watch\" data-event-name=\"menu.watch\" href=\"/w/index.php?title=%ED%8A%B9%EC%88%98:%EB%A1%9C%EA%B7%B8%EC%9D%B8&amp;returnto=%EC%9C%A4%EB%8F%99%EC%A3%BC\" id=\"ca-watch\" role=\"button\">\n",
      "<span class=\"minerva-icon minerva-icon--star-base20\"></span>\n",
      "<span>주시</span>\n",
      "</a>\n",
      "</li>\n",
      "<li class=\"page-actions-menu__list-item\" id=\"page-actions-edit\">\n",
      "<a class=\"cdx-button cdx-button--size-large cdx-button--fake-button cdx-button--fake-button--enabled cdx-button--icon-only cdx-button--weight-quiet edit-page menu__item--page-actions-edit\" data-event-name=\"menu.edit\" data-mw=\"interface\" href=\"/w/index.php?title=%EC%9C%A4%EB%8F%99%EC%A3%BC&amp;action=edit\" id=\"ca-edit\" role=\"button\">\n",
      "<span class=\"minerva-icon minerva-icon--edit-base20\"></span>\n",
      "<span>편집</span>\n",
      "</a>\n",
      "</li>\n",
      "</ul>\n",
      "</nav>\n",
      "<!-- version 1.0.2 (change every time you update a partial) -->\n",
      "<div id=\"mw-content-subtitle\"></div>\n",
      "</div>\n",
      "<div class=\"content\" id=\"bodyContent\">\n",
      "<div class=\"mw-body-content\" id=\"mw-content-text\"><script>function mfTempOpenSection(id){var block=document.getElementById(\"mf-section-\"+id);block.className+=\" open-block\";block.previousSibling.className+=\" open-block\";}</script><div class=\"mw-content-ltr mw-parser-output\" dir=\"ltr\" lang=\"ko\"><section class=\"mf-section-0\" id=\"mf-section-0\"><p><span class=\"nowrap\"></span>\n",
      "</p>\n",
      "<div class=\"dablink hatnote\"><span typeof=\"mw:File\"><a href=\"/wiki/%EC%9C%84%ED%82%A4%EB%B0%B1%EA%B3%BC:%EB%8F%99%EC%9D%8C%EC%9D%B4%EC%9D%98%EC%96%B4_%EB%AC%B8%EC%84%9C\" title=\"위키백과:동음이의어 문서\"><img alt=\"\" class=\"mw-file-element\" data-file-height=\"200\" data-file-width=\"260\" decoding=\"async\" height=\"18\" src=\"//upload.wikimedia.org/wikipedia/commons/thumb/4/4a/Disambig_grey.svg/23px-Disambig_grey.svg.png\" srcset=\"//upload.wikimedia.org/wikipedia/commons/thumb/4/4a/Disambig_grey.svg/35px-Disambig_grey.svg.png 1.5x, //upload.wikimedia.org/wikipedia/commons/thumb/4/4a/Disambig_grey.svg/46px-Disambig_grey.svg.png 2x\" width=\"23\"/></a></span>  같은 이름을 가진 다른 사람에 대해서는 <a class=\"mw-disambig\" href=\"/wiki/%EC%9C%A4%EB%8F%99%EC%A3%BC_(%EB%8F%99%EC%9D%8C%EC%9D%B4%EC%9D%98)\" title=\"윤동주 (동음이의)\">윤동주 (동음이의)</a> 문서를 참고하십시오.</div>\n",
      "<style data-mw-deduplicate=\"TemplateStyles:r34311307\">.mw-parser-output .infobox-subbox{padding:0;border:none;margin:-3px;width:auto;min-width:100%;font-size:100%;clear:none;float:none;background-color:transparent}.mw-parser-output .infobox-3cols-child{margin:auto}.mw-parser-output .infobox .navbar{font-size:100%}body.skin-minerva .mw-parser-output .infobox-header,body.skin-minerva .mw-parser-output .infobox-subheader,body.skin-minerva .mw-parser-output .infobox-above,body.skin-minerva .mw-parser-output .infobox-title,body.skin-minerva .mw-parser-output .infobox-image,body.skin-minerva .mw-parser-output .infobox-full-data,body.skin-minerva .mw-parser-output .infobox-below{text-align:center}</style><p><b>윤동주</b>(尹東柱, <a href=\"/wiki/1917%EB%85%84\" title=\"1917년\">1917년</a> <a href=\"/wiki/12%EC%9B%94_30%EC%9D%BC\" title=\"12월 30일\">12월 30일</a>~<a href=\"/wiki/1945%EB%85%84\" title=\"1945년\">1945년</a> <a href=\"/wiki/2%EC%9B%94_16%EC%9D%BC\" title=\"2월 16일\">2월 16일</a>)는 <a href=\"/wiki/%EC%9D%BC%EC%A0%9C%EA%B0%95%EC%A0%90%EA%B8%B0\" title=\"일제강점기\">일제강점기</a>의 <a href=\"/wiki/%EB%8F%85%EB%A6%BD%EC%9A%B4%EB%8F%99%EA%B0%80\" title=\"독립운동가\">독립운동가</a>, <a href=\"/wiki/%EC%8B%9C_(%EB%AC%B8%ED%95%99)\" title=\"시 (문학)\">시인</a>, <a href=\"/wiki/%EC%9E%91%EA%B0%80\" title=\"작가\">작가</a>이다. 본관은 파평(坡平), 아호는 해환(海煥)이다. 1917년 12월 30일 북간도 명동촌(明東村)에서 태어났다. 본적은 함경북도 청진시 포항동 76번지이다. 명동촌은 동간도의 척박한 땅이었지만 1899년 함경도 출신의 김약연, 김하규, 문병규 등이 140여 명의 식솔을 이끌고 동간도로 집단 이주한 후 윤동주의 조부인 윤하현 등이 합류하면서 '동방을 밝히는 곳(明東村)'이라는 뜻을 지닌 동간도 최대의 한인촌(韓人村)을 형성했다.\n",
      "</p><table class=\"infobox vcard\"><tbody><tr><th class=\"infobox-above fn org\" colspan=\"2\" style=\"color: white;\"><div style=\"position:relative; width:100%; height:50px; display:table; background:#4C6099;\"><div style=\"position:absolute; bottom:0; right:0;\"><span class=\"mw-default-size\" typeof=\"mw:File\"><span><img class=\"mw-file-element\" data-file-height=\"45\" data-file-width=\"31\" decoding=\"async\" height=\"45\" src=\"//upload.wikimedia.org/wikipedia/commons/1/1e/Picto_infobox_auteur.png\" width=\"31\"/></span></span></div><span style=\"position:relative; width:100%; display:table-cell; vertical-align:middle; text-align:center; font-size:larger;\"><b>윤동주</b></span></div></th></tr><tr><td class=\"infobox-image\" colspan=\"2\"><span typeof=\"mw:File\"><a class=\"mw-file-description\" href=\"/wiki/%ED%8C%8C%EC%9D%BC:Yoon_Dong-ju.jpg\"><img class=\"mw-file-element\" data-file-height=\"450\" data-file-width=\"450\" decoding=\"async\" height=\"200\" src=\"//upload.wikimedia.org/wikipedia/commons/thumb/6/63/Yoon_Dong-ju.jpg/200px-Yoon_Dong-ju.jpg\" srcset=\"//upload.wikimedia.org/wikipedia/commons/thumb/6/63/Yoon_Dong-ju.jpg/300px-Yoon_Dong-ju.jpg 1.5x, //upload.wikimedia.org/wikipedia/commons/thumb/6/63/Yoon_Dong-ju.jpg/400px-Yoon_Dong-ju.jpg 2x\" width=\"200\"/></a></span></td></tr><tr><th class=\"infobox-header\" colspan=\"2\" style=\"background-color: #7090E0; padding-top: 4px; padding-bottom: 4px;\">작가 정보</th></tr><tr><th class=\"infobox-label\" scope=\"row\">출생</th><td class=\"infobox-data\">1917년 12월 30일<span style=\"display:none\">(<span class=\"bday\">1917-12-30</span>)</span><br/><a class=\"mw-redirect\" href=\"/wiki/%EC%A4%91%ED%99%94%EB%AF%BC%EA%B5%AD_(1912%EB%85%84~1949%EB%85%84)\" title=\"중화민국 (1912년~1949년)\">중화민국 (1912년~1949년)</a> <a href=\"/wiki/%EC%A7%80%EB%A6%B0%EC%84%B1\" title=\"지린성\">지린성</a> <a href=\"/wiki/%EB%A3%BD%EC%A7%95%EC%8B%9C\" title=\"룽징시\">룽징시</a> 명동촌(明東村)<sup class=\"reference\" id=\"cite_ref-1\"><a href=\"#cite_note-1\">[1]</a></sup><br/>(본적: 함경북도 청진시 포항동 76번지)</td></tr><tr><th class=\"infobox-label\" scope=\"row\">사망</th><td class=\"infobox-data\">1945년 2월 16일<span style=\"display:none\">(<span class=\"dday deathdate\">1945-02-16</span>)</span>(27세)</td></tr><tr><th class=\"infobox-label\" scope=\"row\">국적</th><td class=\"infobox-data\"><a href=\"/wiki/%EB%8C%80%ED%95%9C%EB%AF%BC%EA%B5%AD\" title=\"대한민국\">대한민국</a></td></tr><tr><th class=\"infobox-label\" scope=\"row\">민족</th><td class=\"infobox-data\"><a href=\"/wiki/%ED%95%9C%EB%AF%BC%EC%A1%B1\" title=\"한민족\">한민족</a></td></tr><tr><th class=\"infobox-label\" scope=\"row\">언어</th><td class=\"infobox-data\">한국어</td></tr><tr><th class=\"infobox-label\" scope=\"row\">학력</th><td class=\"infobox-data\"><a href=\"/wiki/%EC%97%B0%ED%9D%AC%EC%A0%84%EB%AC%B8%ED%95%99%EA%B5%90\" title=\"연희전문학교\">연희전문학교</a> 문과 학사 <br/> <a href=\"/wiki/%EB%A6%BF%EC%BF%84_%EB%8C%80%ED%95%99\" title=\"릿쿄 대학\">릿쿄 대학</a> 문학부 영문과 중퇴 (1942년 1학기) <br/> <a href=\"/wiki/%EB%8F%84%EC%8B%9C%EC%83%A4_%EB%8C%80%ED%95%99\" title=\"도시샤 대학\">도시샤 대학</a> 문학부 제적</td></tr><tr><th class=\"infobox-label\" scope=\"row\">친지</th><td class=\"infobox-data\">윤하현(조부) <br/> 윤재옥(증조부) <br/> 윤인석(조카) <br/> <a href=\"/wiki/%EA%B9%80%EC%95%BD%EC%97%B0\" title=\"김약연\">김약연</a>(외숙) <br/> 김학연(외숙) <br/> 송창희(고모부) <br/> 윤신영(삼촌) <br/> <a href=\"/wiki/%EC%86%A1%EB%AA%BD%EA%B7%9C\" title=\"송몽규\">송몽규</a>(고종사촌 형)<br/> 송한복(고종사촌 여동생) <br/> 송우규(고종사촌 남동생)</td></tr><tr><th class=\"infobox-label\" scope=\"row\">웹사이트</th><td class=\"infobox-data\"><a class=\"external text\" href=\"https://yoondongju.yonsei.ac.kr/yoondongju_m/index.do\" rel=\"nofollow\">연세대학교 윤동주 기념사업회</a></td></tr></tbody></table>\n",
      "<table class=\"infobox\" style=\"width: 25em; font-size: 80%;\">\n",
      "<tbody><tr>\n",
      "<th colspan=\"2\" style=\"background:#ccf; text-align:center;\">윤동주\n",
      "</th></tr>\n",
      "<tr>\n",
      "<td style=\"text-align:right; white-space: nowrap;\"><a href=\"/wiki/%ED%95%9C%EA%B8%80\" title=\"한글\">한글 표기</a>:\n",
      "</td>\n",
      "<td style=\"font-size:15px; font-family: 'DejaVu Sans', 'Arial Unicode MS', 'Lucida Sans Unicode', sans-serif\">윤동주\n",
      "</td></tr>\n",
      "<tr>\n",
      "<td style=\"text-align:right; white-space: nowrap;\"><a href=\"/wiki/%ED%95%9C%EA%B5%AD%EC%96%B4_%ED%95%9C%EC%9E%90\" title=\"한국어 한자\">한자 표기</a>:\n",
      "</td>\n",
      "<td style=\"font-size:15px; font-family: 'DejaVu Sans', 'Arial Unicode MS', 'Lucida Sans Unicode', sans-serif\">尹東柱\n",
      "</td></tr>\n",
      "<tr>\n",
      "<td style=\"text-align:right; white-space: nowrap;\"><a href=\"/wiki/%EA%B5%AD%EC%96%B4%EC%9D%98_%EB%A1%9C%EB%A7%88%EC%9E%90_%ED%91%9C%EA%B8%B0%EB%B2%95\" title=\"국어의 로마자 표기법\">개정 로마자 표기</a>:\n",
      "</td>\n",
      "<td style=\"font-size:13px; font-family: 'DejaVu Sans', 'Arial Unicode MS', 'Lucida Sans Unicode', sans-serif;\">Yun Dongju\n",
      "</td></tr>\n",
      "<tr>\n",
      "<td style=\"text-align:right; white-space: nowrap;\"><a href=\"/wiki/%EB%A7%A4%ED%81%94-%EB%9D%BC%EC%9D%B4%EC%83%A4%EC%9B%8C_%ED%91%9C%EA%B8%B0%EB%B2%95\" title=\"매큔-라이샤워 표기법\">매큔-라이샤워 표기</a>:\n",
      "</td>\n",
      "<td style=\"font-size:13px; font-family: 'DejaVu Sans', 'Arial Unicode MS', 'Lucida Sans Unicode', sans-serif\">Yun Tongchu\n",
      "</td></tr>\n",
      "<tr>\n",
      "<td style=\"text-align:right; white-space: nowrap;\"><a href=\"/wiki/%EC%98%88%EC%9D%BC_%EB%A1%9C%EB%A7%88%EC%9E%90_%ED%91%9C%EA%B8%B0%EB%B2%95\" title=\"예일 로마자 표기법\">예일 표기</a>:\n",
      "</td>\n",
      "<td style=\"font-size:13px; font-family: 'DejaVu Sans', 'Arial Unicode MS', 'Lucida Sans Unicode', sans-serif;\">Yun Tongcwu\n",
      "</td></tr>\n",
      "<tr>\n",
      "<td style=\"text-align:right; white-space: nowrap;\"><a href=\"/wiki/%EA%B5%AD%EC%A0%9C_%EC%9D%8C%EC%84%B1_%EA%B8%B0%ED%98%B8\" title=\"국제 음성 기호\">국제 음성 기호</a>:\n",
      "</td>\n",
      "<td style=\"font-size:13px; font-family: 'DejaVu Sans', 'Arial Unicode MS', 'Lucida Sans Unicode', sans-serif\"><small></small><span class=\"IPA\" lang=\"ko-Latn-fonipa\" title=\"IPA 발음\"><a href=\"/wiki/%EC%9C%84%ED%82%A4%EB%B0%B1%EA%B3%BC:IPA\" title=\"위키백과:IPA\">[jundoŋdʑu]</a></span>\n",
      "</td></tr>\n",
      "</tbody></table>\n",
      "<p><a href=\"/wiki/%EB%AA%85%EB%8F%99%ED%95%99%EA%B5%90\" title=\"명동학교\">명동학교</a>(明東學校)에서 수학하였고, 평양 <a href=\"/wiki/%EC%88%AD%EC%8B%A4%EC%A4%91%ED%95%99%EA%B5%90\" title=\"숭실중학교\">숭실중학교</a>(崇實中學校)  와 서울 <a href=\"/wiki/%EC%97%B0%ED%9D%AC%EC%A0%84%EB%AC%B8%ED%95%99%EA%B5%90\" title=\"연희전문학교\">연희전문학교</a>(延禧專門學校)를 졸업하였다. 연희전문학교 2학년 재학 중 소년(少年) 지에 시를 발표하며 정식으로 문단에 등단했다.\n",
      "</p><p><a href=\"/wiki/%EC%9D%BC%EB%B3%B8\" title=\"일본\">일본</a>에 건너가 1942년 교토 <a href=\"/wiki/%EB%8F%84%EC%8B%9C%EC%83%A4_%EB%8C%80%ED%95%99\" title=\"도시샤 대학\">도시샤 대학</a> (同志社大學)에 입학하였다. <a href=\"/wiki/1943%EB%85%84\" title=\"1943년\">1943년</a> 항일운동을 했다는 혐의로 일본 경찰에 체포되어 후쿠오카 형무소(福岡刑務所)에 투옥, 100여 편의 시를 남기고 27세의 나이에 옥중에서 요절하였다. 사인이 일본의 소금물 생체실험이라는 견해가 있고 그의 사후 <a href=\"/wiki/%EC%9D%BC%EB%B3%B8%EA%B5%B0\" title=\"일본군\">일본군</a>에 의한 <a class=\"mw-redirect\" href=\"/wiki/%EB%A7%88%EB%A3%A8%ED%83%80\" title=\"마루타\">마루타</a>, 생체실험설이 제기되었으나 불확실하다. 사후에 그의 시집 《<a href=\"/wiki/%ED%95%98%EB%8A%98%EA%B3%BC_%EB%B0%94%EB%9E%8C%EA%B3%BC_%EB%B3%84%EA%B3%BC_%EC%8B%9C\" title=\"하늘과 바람과 별과 시\">하늘과 바람과 별과 시</a>》가 출간되었다.\n",
      "</p><p><a href=\"/wiki/%EC%9D%BC%EC%A0%9C%EA%B0%95%EC%A0%90%EA%B8%B0\" title=\"일제강점기\">일제강점기</a> 후반의 양심적 지식인의 한 사람으로 인정받았으며, 그의 시는 <a class=\"mw-redirect\" href=\"/wiki/%EC%9D%BC%EC%A0%9C\" title=\"일제\">일제</a>와 <a href=\"/wiki/%EC%A1%B0%EC%84%A0%EC%B4%9D%EB%8F%85%EB%B6%80\" title=\"조선총독부\">조선총독부</a>에 대한 비판과 자아성찰 등을 소재로 하였다. 고종사촌형인 <a href=\"/wiki/%EC%86%A1%EB%AA%BD%EA%B7%9C\" title=\"송몽규\">송몽규</a> (宋夢奎) 역시 독립운동에 가담하려다가 체포되어 일제의 생체 실험 대상자로 분류되어 의문의 죽음을 맞는다. 그의 창씨개명 '히라누마'가 알려져 <a href=\"/wiki/1990%EB%85%84\" title=\"1990년\">1990년</a>대 후반 이후 논란이 일기도 했다. 본명 외에 동주(童柱)와 윤주(尹柱)라는 필명도 사용하였다.\n",
      "</p>\n",
      "<div aria-labelledby=\"mw-toc-heading\" class=\"toc\" id=\"toc\" role=\"navigation\"><input class=\"toctogglecheckbox\" id=\"toctogglecheckbox\" role=\"button\" style=\"display:none\" type=\"checkbox\"/><div class=\"toctitle\" dir=\"ltr\" lang=\"ko\"><h2 id=\"mw-toc-heading\">목차</h2><span class=\"toctogglespan\"><label class=\"toctogglelabel\" for=\"toctogglecheckbox\"></label></span></div>\n",
      "<ul>\n",
      "<li class=\"toclevel-1 tocsection-1\"><a href=\"#%EC%83%9D%EC%95%A0\"><span class=\"tocnumber\">1</span> <span class=\"toctext\">생애</span></a>\n",
      "<ul>\n",
      "<li class=\"toclevel-2 tocsection-2\"><a href=\"#%EC%83%9D%EC%95%A0_%EC%B4%88%EB%B0%98\"><span class=\"tocnumber\">1.1</span> <span class=\"toctext\">생애 초반</span></a></li>\n",
      "<li class=\"toclevel-2 tocsection-3\"><a href=\"#%EC%86%8C%EB%85%84_%EC%8B%9C%EC%A0%88\"><span class=\"tocnumber\">1.2</span> <span class=\"toctext\">소년 시절</span></a>\n",
      "<ul>\n",
      "<li class=\"toclevel-3 tocsection-4\"><a href=\"#%EC%97%B0%ED%9D%AC%EC%A0%84%EB%AC%B8_%EC%8B%9C%EC%A0%88\"><span class=\"tocnumber\">1.2.1</span> <span class=\"toctext\">연희전문 시절</span></a></li>\n",
      "</ul>\n",
      "</li>\n",
      "<li class=\"toclevel-2 tocsection-5\"><a href=\"#%EC%9D%BC%EB%B3%B8_%EC%9C%A0%ED%95%99_%EC%8B%9C%EC%A0%88\"><span class=\"tocnumber\">1.3</span> <span class=\"toctext\">일본 유학 시절</span></a>\n",
      "<ul>\n",
      "<li class=\"toclevel-3 tocsection-6\"><a href=\"#%EC%B0%BD%EC%94%A8%EA%B0%9C%EB%AA%85\"><span class=\"tocnumber\">1.3.1</span> <span class=\"toctext\">창씨개명</span></a></li>\n",
      "<li class=\"toclevel-3 tocsection-7\"><a href=\"#%EC%9D%BC%EB%B3%B8_%EC%9C%A0%ED%95%99%EC%83%9D%ED%99%9C%EA%B3%BC_%EC%B2%B4%ED%8F%AC\"><span class=\"tocnumber\">1.3.2</span> <span class=\"toctext\">일본 유학생활과 체포</span></a></li>\n",
      "</ul>\n",
      "</li>\n",
      "<li class=\"toclevel-2 tocsection-8\"><a href=\"#%ED%88%AC%EC%98%A5%EA%B3%BC_%EC%B5%9C%ED%9B%84\"><span class=\"tocnumber\">1.4</span> <span class=\"toctext\">투옥과 최후</span></a></li>\n",
      "<li class=\"toclevel-2 tocsection-9\"><a href=\"#%EC%82%AC%ED%9B%84\"><span class=\"tocnumber\">1.5</span> <span class=\"toctext\">사후</span></a></li>\n",
      "</ul>\n",
      "</li>\n",
      "<li class=\"toclevel-1 tocsection-10\"><a href=\"#%EC%9E%91%ED%92%88\"><span class=\"tocnumber\">2</span> <span class=\"toctext\">작품</span></a></li>\n",
      "<li class=\"toclevel-1 tocsection-11\"><a href=\"#%EA%B2%BD%ED%96%A5_%EB%B0%8F_%ED%8F%89%EA%B0%80\"><span class=\"tocnumber\">3</span> <span class=\"toctext\">경향 및 평가</span></a></li>\n",
      "<li class=\"toclevel-1 tocsection-12\"><a href=\"#%ED%95%99%EB%A0%A5\"><span class=\"tocnumber\">4</span> <span class=\"toctext\">학력</span></a></li>\n",
      "<li class=\"toclevel-1 tocsection-13\"><a href=\"#%EC%83%81%ED%9B%88_%EA%B2%BD%EB%A0%A5\"><span class=\"tocnumber\">5</span> <span class=\"toctext\">상훈 경력</span></a></li>\n",
      "<li class=\"toclevel-1 tocsection-14\"><a href=\"#%EA%B8%B0%EB%85%90%EA%B4%80%EA%B3%BC_%EA%B8%B0%EB%85%90%EB%AC%BC\"><span class=\"tocnumber\">6</span> <span class=\"toctext\">기념관과 기념물</span></a>\n",
      "<ul>\n",
      "<li class=\"toclevel-2 tocsection-15\"><a href=\"#%EA%B8%B0%EB%85%90%EA%B4%80\"><span class=\"tocnumber\">6.1</span> <span class=\"toctext\">기념관</span></a></li>\n",
      "<li class=\"toclevel-2 tocsection-16\"><a href=\"#%EA%B8%B0%EB%85%90%EB%AC%BC\"><span class=\"tocnumber\">6.2</span> <span class=\"toctext\">기념물</span></a></li>\n",
      "</ul>\n",
      "</li>\n",
      "<li class=\"toclevel-1 tocsection-17\"><a href=\"#%EA%B0%80%EC%A1%B1_%EA%B4%80%EA%B3%84\"><span class=\"tocnumber\">7</span> <span class=\"toctext\">가족 관계</span></a></li>\n",
      "<li class=\"toclevel-1 tocsection-18\"><a href=\"#%EA%B8%B0%ED%83%80\"><span class=\"tocnumber\">8</span> <span class=\"toctext\">기타</span></a></li>\n",
      "<li class=\"toclevel-1 tocsection-19\"><a href=\"#%EB%8C%80%EC%A4%91_%EB%AC%B8%ED%99%94%EC%97%90_%EB%82%98%ED%83%80%EB%82%9C_%EC%9C%A4%EB%8F%99%EC%A3%BC\"><span class=\"tocnumber\">9</span> <span class=\"toctext\">대중 문화에 나타난 윤동주</span></a>\n",
      "<ul>\n",
      "<li class=\"toclevel-2 tocsection-20\"><a href=\"#%EB%B0%A9%EC%86%A1\"><span class=\"tocnumber\">9.1</span> <span class=\"toctext\">방송</span></a></li>\n",
      "<li class=\"toclevel-2 tocsection-21\"><a href=\"#%EC%98%81%ED%99%94\"><span class=\"tocnumber\">9.2</span> <span class=\"toctext\">영화</span></a></li>\n",
      "<li class=\"toclevel-2 tocsection-22\"><a href=\"#%EB%85%B8%EB%9E%98\"><span class=\"tocnumber\">9.3</span> <span class=\"toctext\">노래</span></a></li>\n",
      "</ul>\n",
      "</li>\n",
      "<li class=\"toclevel-1 tocsection-23\"><a href=\"#%EA%B0%99%EC%9D%B4_%EB%B3%B4%EA%B8%B0\"><span class=\"tocnumber\">10</span> <span class=\"toctext\">같이 보기</span></a></li>\n",
      "<li class=\"toclevel-1 tocsection-24\"><a href=\"#%EA%B0%81%EC%A3%BC\"><span class=\"tocnumber\">11</span> <span class=\"toctext\">각주</span></a></li>\n",
      "<li class=\"toclevel-1 tocsection-25\"><a href=\"#%EC%B0%B8%EA%B3%A0_%EC%9E%90%EB%A3%8C\"><span class=\"tocnumber\">12</span> <span class=\"toctext\">참고 자료</span></a></li>\n",
      "<li class=\"toclevel-1 tocsection-26\"><a href=\"#%EC%99%B8%EB%B6%80_%EB%A7%81%ED%81%AC\"><span class=\"tocnumber\">13</span> <span class=\"toctext\">외부 링크</span></a></li>\n",
      "</ul>\n",
      "</div>\n",
      "</section><h2 class=\"section-heading\" onclick=\"mfTempOpenSection(1)\"><span class=\"indicator mf-icon mf-icon-expand mf-icon--small\"></span><span id=\".EC.83.9D.EC.95.A0\"></span><span class=\"mw-headline\" id=\"생애\">생애</span><span class=\"mw-editsection\">\n",
      "<a class=\"cdx-button cdx-button--size-large cdx-button--fake-button cdx-button--fake-button--enabled cdx-button--icon-only cdx-button--weight-quiet\" href=\"/w/index.php?title=%EC%9C%A4%EB%8F%99%EC%A3%BC&amp;action=edit&amp;section=1\" role=\"button\" title=\"부분 편집: 생애\">\n",
      "<span class=\"minerva-icon minerva-icon--edit\"></span>\n",
      "<span>편집</span>\n",
      "</a>\n",
      "</span>\n",
      "</h2><section class=\"mf-section-1 collapsible-block\" id=\"mf-section-1\">\n",
      "<h3><span id=\".EC.83.9D.EC.95.A0_.EC.B4.88.EB.B0.98\"></span><span class=\"mw-headline\" id=\"생애_초반\">생애 초반</span><span class=\"mw-editsection\">\n",
      "<a class=\"cdx-button cdx-button--size-large cdx-button--fake-button cdx-button--fake-button--enabled cdx-button--icon-only cdx-button--weight-quiet\" href=\"/w/index.php?title=%EC%9C%A4%EB%8F%99%EC%A3%BC&amp;action=edit&amp;section=2\" role=\"button\" title=\"부분 편집: 생애 초반\">\n",
      "<span class=\"minerva-icon minerva-icon--edit\"></span>\n",
      "<span>편집</span>\n",
      "</a>\n",
      "</span>\n",
      "</h3>\n",
      "<figure class=\"mw-default-size\" typeof=\"mw:File/Thumb\"><a class=\"mw-file-description\" href=\"/wiki/%ED%8C%8C%EC%9D%BC:%E9%BE%8D%E4%BA%95%E5%B8%82%E3%81%AB%E3%81%82%E3%82%8B%E7%94%9F%E5%AE%B6.jpg\"><noscript><img class=\"mw-file-element\" data-file-height=\"1200\" data-file-width=\"1600\" decoding=\"async\" height=\"165\" src=\"//upload.wikimedia.org/wikipedia/commons/thumb/9/94/%E9%BE%8D%E4%BA%95%E5%B8%82%E3%81%AB%E3%81%82%E3%82%8B%E7%94%9F%E5%AE%B6.jpg/220px-%E9%BE%8D%E4%BA%95%E5%B8%82%E3%81%AB%E3%81%82%E3%82%8B%E7%94%9F%E5%AE%B6.jpg\" width=\"220\"/></noscript><span class=\"lazy-image-placeholder\" data-class=\"mw-file-element\" data-height=\"165\" data-src=\"//upload.wikimedia.org/wikipedia/commons/thumb/9/94/%E9%BE%8D%E4%BA%95%E5%B8%82%E3%81%AB%E3%81%82%E3%82%8B%E7%94%9F%E5%AE%B6.jpg/220px-%E9%BE%8D%E4%BA%95%E5%B8%82%E3%81%AB%E3%81%82%E3%82%8B%E7%94%9F%E5%AE%B6.jpg\" data-srcset=\"//upload.wikimedia.org/wikipedia/commons/thumb/9/94/%E9%BE%8D%E4%BA%95%E5%B8%82%E3%81%AB%E3%81%82%E3%82%8B%E7%94%9F%E5%AE%B6.jpg/330px-%E9%BE%8D%E4%BA%95%E5%B8%82%E3%81%AB%E3%81%82%E3%82%8B%E7%94%9F%E5%AE%B6.jpg 1.5x, //upload.wikimedia.org/wikipedia/commons/thumb/9/94/%E9%BE%8D%E4%BA%95%E5%B8%82%E3%81%AB%E3%81%82%E3%82%8B%E7%94%9F%E5%AE%B6.jpg/440px-%E9%BE%8D%E4%BA%95%E5%B8%82%E3%81%AB%E3%81%82%E3%82%8B%E7%94%9F%E5%AE%B6.jpg 2x\" data-width=\"220\" style=\"width: 220px;height: 165px;\"> </span></a><figcaption>윤동주 생가</figcaption></figure>\n",
      "<p>윤동주는 <a href=\"/wiki/1917%EB%85%84\" title=\"1917년\">1917년</a> <a href=\"/wiki/12%EC%9B%94_30%EC%9D%BC\" title=\"12월 30일\">12월 30일</a>, <a class=\"mw-redirect\" href=\"/wiki/%EB%B6%81%EA%B0%84%EB%8F%84\" title=\"북간도\">북간도</a> 명동촌(明東村)에서 태어났다.<sup class=\"reference\" id=\"cite_ref-2\"><a href=\"#cite_note-2\">[2]</a></sup>이곳은 원래 북간도의 척박한 땅이었지만 1899년 함경도 출신의 김약연, 김하규, 문병규 등이 140여 명의 식솔을 이끌고 동간도로 집단 이주한 후 윤동주의 조부인 윤하현 등이 합류하면서 '동방을 밝히는 곳(明東村)'이라는 뜻을 지닌 북간도 최대의 한인촌을 형성했다.\n",
      "</p><p>윤동주의 증조부인 윤재옥은 함경북도 <a href=\"/wiki/%EC%A2%85%EC%84%B1%EA%B5%B0\" title=\"종성군\">종성군</a> 동풍면 상장포에 거주하다가 1886년 <a class=\"mw-redirect\" href=\"/wiki/%EA%B8%B8%EB%A6%BC%EC%84%B1\" title=\"길림성\">길림성</a> 자동으로 이주하였으며, 독실한 장로교회 장로인 할아버지 윤하현 장로는 명동촌으로 삶의 터전을 옮겼다. 아버지 윤영석은 1910년 명동학교의 설립자인 김약연의 누이동생인 김용과 결혼하고 명동학교에서 교사로 교편을 잡았다.\n",
      "</p><p>19세기 말 조선인들이 간도로 대거 이주하게 된 것은 함경도와 평안도 일대에 기근이 심해지자 새로운 삶의 터전을 찾아서였다. 그런데 간혹 미국의 청교도처럼 종교적인 이유에서 새로운 촌락 공동체를 건설하는 경우도 있었는데, 구세동(救世洞)·영생동(永生洞)·낙원동(樂園洞)·명신동(明信洞) 등이 대표적인 사례다. 이와 달리 유교를 신봉한 김약연은 처음에는 맹자의 정치철학에 입각하여 '신(信)·식(食)·병(兵)'의 이념을 실천하는 유교적인 이상촌을 세울 생각으로 1901년 서당인 규암재를 설립했다.\n",
      "</p><p>그러다가 이상설 등이 이웃 대불동에 설립된 서전의숙을 통해 신식교육의 필요성을 깨닫고 명동학교를 건립하였다. 이때 김약연은 서울청년학관을 졸업한 정재면을 교사로 초빙하였는데, 정재면은 학교에서 성경을 가르치고 예배를 드릴 것을 부임하는 조건으로 제시했다. 이에 김약연은 며칠을 숙고한 후 장로교로 개종하기로 결심하였으며, 평양신학교에서 공부하여 장로교회 목사가 되었다. 이로써 마을에는 교회를 설립하고 학교에는 신앙교육을 실시하는 등의 기독교 공동체로 변모하는 한편, 이동휘를 비롯한 민족주의자들을 초청하여 부흥사경회를 열어서 신앙훈련과 민족정신 고취에 힘썼다.\n",
      "</p><p>\n",
      "김약연은 독립운동을 위한 교육에만 그치지 않고 자신이 직접 <a href=\"/wiki/%EB%8F%85%EB%A6%BD%EC%9A%B4%EB%8F%99\" title=\"독립운동\">독립운동</a>에 앞장섰다. 1918년 11월 길림에서 무오독립선언에 서명한 39명 명단에 이름을 올렸으며, 1919년 3월에는 '간도 독립선언포고문' 작성에 동참하고 동간도의 3·13 만세운동을 이끌었던 탓으로 일제에 체포되어 2년 동안의 옥고를 치렀다. 일본군 간도토벌대는 1920년 10월 20일 명동학교를 파괴한데 이어, 1925년에는 명동학교를 폐쇄 조치했다. 이때까지 명동학교는 17년에 걸쳐 1,200여 명의 민족지도자를 배출하였다.</p><figure class=\"mw-halign-left\" typeof=\"mw:File/Thumb\"><a class=\"mw-file-description\" href=\"/wiki/%ED%8C%8C%EC%9D%BC:%ED%95%80%EC%8A%A8%ED%99%801.jpg\"><noscript><img class=\"mw-file-element\" data-file-height=\"240\" data-file-width=\"320\" decoding=\"async\" height=\"150\" src=\"//upload.wikimedia.org/wikipedia/ko/thumb/1/12/%ED%95%80%EC%8A%A8%ED%99%801.jpg/200px-%ED%95%80%EC%8A%A8%ED%99%801.jpg\" width=\"200\"/></noscript><span class=\"lazy-image-placeholder\" data-class=\"mw-file-element\" data-height=\"150\" data-src=\"//upload.wikimedia.org/wikipedia/ko/thumb/1/12/%ED%95%80%EC%8A%A8%ED%99%801.jpg/200px-%ED%95%80%EC%8A%A8%ED%99%801.jpg\" data-srcset=\"//upload.wikimedia.org/wikipedia/ko/thumb/1/12/%ED%95%80%EC%8A%A8%ED%99%801.jpg/300px-%ED%95%80%EC%8A%A8%ED%99%801.jpg 1.5x, //upload.wikimedia.org/wikipedia/ko/1/12/%ED%95%80%EC%8A%A8%ED%99%801.jpg 2x\" data-width=\"200\" style=\"width: 200px;height: 150px;\"> </span></a><figcaption>윤동주의 연희전문학교 시절 기숙사인 핀슨홀</figcaption></figure>\n",
      "<figure class=\"mw-halign-right\" typeof=\"mw:File/Thumb\"><a class=\"mw-file-description\" href=\"/wiki/%ED%8C%8C%EC%9D%BC:Yun_dj_%26_Mun_Ih_%26_Chang_Jh.jpg\"><noscript><img class=\"mw-file-element\" data-file-height=\"1360\" data-file-width=\"1000\" decoding=\"async\" height=\"190\" src=\"//upload.wikimedia.org/wikipedia/commons/thumb/e/e2/Yun_dj_%26_Mun_Ih_%26_Chang_Jh.jpg/140px-Yun_dj_%26_Mun_Ih_%26_Chang_Jh.jpg\" width=\"140\"/></noscript><span class=\"lazy-image-placeholder\" data-class=\"mw-file-element\" data-height=\"190\" data-src=\"//upload.wikimedia.org/wikipedia/commons/thumb/e/e2/Yun_dj_%26_Mun_Ih_%26_Chang_Jh.jpg/140px-Yun_dj_%26_Mun_Ih_%26_Chang_Jh.jpg\" data-srcset=\"//upload.wikimedia.org/wikipedia/commons/thumb/e/e2/Yun_dj_%26_Mun_Ih_%26_Chang_Jh.jpg/209px-Yun_dj_%26_Mun_Ih_%26_Chang_Jh.jpg 1.5x, //upload.wikimedia.org/wikipedia/commons/thumb/e/e2/Yun_dj_%26_Mun_Ih_%26_Chang_Jh.jpg/279px-Yun_dj_%26_Mun_Ih_%26_Chang_Jh.jpg 2x\" data-width=\"140\" style=\"width: 140px;height: 190px;\"> </span></a><figcaption>친구들과 함께가운데는 <a href=\"/wiki/%EB%AC%B8%EC%9D%B5%ED%99%98\" title=\"문익환\">문익환</a>, 오른쪽은 윤동주</figcaption></figure>\n",
      "<p>할아버지 윤하현은 장로교 장로로 부유한 농부였고, 아버지 윤영석은 명동학교에서 교사로 교편을 잡았다. 그는 어려서부터 기독교인인 할아버지 윤하현의 영향을 받았다. 그의 고모 윤신영은 송창희에게 시집갔는데, 그 고모의 아들이 독립운동가이자 그의 고종사촌형이였던 <a href=\"/wiki/%EC%86%A1%EB%AA%BD%EA%B7%9C\" title=\"송몽규\">송몽규</a>였다. 당숙은 <a href=\"/wiki/%EC%9C%A4%EC%98%81%EC%B6%98\" title=\"윤영춘\">윤영춘</a> (尹永春)으로 후일 가수가 되는 <a href=\"/wiki/%EC%9C%A4%ED%98%95%EC%A3%BC\" title=\"윤형주\">윤형주</a> (尹亨柱)는 그의 6촌 재종이었다.\n",
      "</p>\n",
      "<h3><span id=\".EC.86.8C.EB.85.84_.EC.8B.9C.EC.A0.88\"></span><span class=\"mw-headline\" id=\"소년_시절\">소년 시절</span><span class=\"mw-editsection\">\n",
      "<a class=\"cdx-button cdx-button--size-large cdx-button--fake-button cdx-button--fake-button--enabled cdx-button--icon-only cdx-button--weight-quiet\" href=\"/w/index.php?title=%EC%9C%A4%EB%8F%99%EC%A3%BC&amp;action=edit&amp;section=3\" role=\"button\" title=\"부분 편집: 소년 시절\">\n",
      "<span class=\"minerva-icon minerva-icon--edit\"></span>\n",
      "<span>편집</span>\n",
      "</a>\n",
      "</span>\n",
      "</h3>\n",
      "<p>1925년 명동소학교(明東小學校)에 입학하여 재학 시절 고종사촌인 송몽규 등과 함께 문예지 《새 명동》을 발간하였다.<sup class=\"reference\" id=\"cite_ref-윤동주_시집2_3-0\"><a href=\"#cite_note-%EC%9C%A4%EB%8F%99%EC%A3%BC_%EC%8B%9C%EC%A7%912-3\">[3]</a></sup> 6년 뒤인 1931년, 14세에 명동소학교(明東小學校)를 졸업하고, 화룡현립 제일소학교에 편입하여 1년간 수학, 가족이 용정으로 이사하여, 은진중학교(恩眞中學校)에 입학했다.\n",
      "</p><p>그러나 <a href=\"/wiki/1935%EB%85%84\" title=\"1935년\">1935년</a> 소학교 동창인 <a href=\"/wiki/%EB%AC%B8%EC%9D%B5%ED%99%98\" title=\"문익환\">문익환</a>이 다니고 있는 <a class=\"mw-redirect\" href=\"/wiki/%ED%8F%89%EC%96%91\" title=\"평양\">평양</a>의 <a href=\"/wiki/%EC%88%AD%EC%8B%A4%EC%A4%91%ED%95%99%EA%B5%90\" title=\"숭실중학교\">숭실중학교</a>로 전학하였다. 그해 10월, <a href=\"/wiki/%EC%88%AD%EC%8B%A4%EC%A4%91%ED%95%99%EA%B5%90\" title=\"숭실중학교\">숭실중학교</a> 학생회가 간행한 학우지 숭실활천( 崇實活泉 ) 제15호에 시 공상(空想)을 발표하였다. 그러나 1935년 12월, 숭실학교 학생들이 '등불참배'를 거부한 사건이 발생했고 이듬해 <a href=\"/wiki/1936%EB%85%84\" title=\"1936년\">1936년</a> <a href=\"/wiki/1%EC%9B%94_18%EC%9D%BC\" title=\"1월 18일\">1월 18일</a> 학교장 '조지 S. 맥퀸'( 한국명 윤산온 )이 신사참배를 최종적으로 거부함으로써 <a class=\"mw-redirect\" href=\"/wiki/1%EC%9B%9420%EC%9D%BC\" title=\"1월20일\">1월20일</a> 교장직에서 파면된 후 미국으로 추방될 뻔 했다. 이후 숭실중학교가 무기휴교로 폐교되어, <a href=\"/wiki/%EB%AC%B8%EC%9D%B5%ED%99%98\" title=\"문익환\">문익환</a>과 함께 용정에 있는 광명중학교로 편입하였다. 광명중에서 그는 <a href=\"/wiki/%EC%A0%95%EC%9D%BC%EA%B6%8C\" title=\"정일권\">정일권</a> 등을 만나게 된다.\n",
      "</p>\n",
      "<h4><span id=\".EC.97.B0.ED.9D.AC.EC.A0.84.EB.AC.B8_.EC.8B.9C.EC.A0.88\"></span><span class=\"mw-headline\" id=\"연희전문_시절\">연희전문 시절</span><span class=\"mw-editsection\">\n",
      "<a class=\"cdx-button cdx-button--size-large cdx-button--fake-button cdx-button--fake-button--enabled cdx-button--icon-only cdx-button--weight-quiet\" href=\"/w/index.php?title=%EC%9C%A4%EB%8F%99%EC%A3%BC&amp;action=edit&amp;section=4\" role=\"button\" title=\"부분 편집: 연희전문 시절\">\n",
      "<span class=\"minerva-icon minerva-icon--edit\"></span>\n",
      "<span>편집</span>\n",
      "</a>\n",
      "</span>\n",
      "</h4>\n",
      "<figure class=\"mw-default-size\" typeof=\"mw:File/Thumb\"><a class=\"mw-file-description\" href=\"/wiki/%ED%8C%8C%EC%9D%BC:Yun_Dong-ju.jpg\"><noscript><img class=\"mw-file-element\" data-file-height=\"2184\" data-file-width=\"1666\" decoding=\"async\" height=\"288\" src=\"//upload.wikimedia.org/wikipedia/commons/thumb/4/4f/Yun_Dong-ju.jpg/220px-Yun_Dong-ju.jpg\" width=\"220\"/></noscript><span class=\"lazy-image-placeholder\" data-class=\"mw-file-element\" data-height=\"288\" data-src=\"//upload.wikimedia.org/wikipedia/commons/thumb/4/4f/Yun_Dong-ju.jpg/220px-Yun_Dong-ju.jpg\" data-srcset=\"//upload.wikimedia.org/wikipedia/commons/thumb/4/4f/Yun_Dong-ju.jpg/330px-Yun_Dong-ju.jpg 1.5x, //upload.wikimedia.org/wikipedia/commons/thumb/4/4f/Yun_Dong-ju.jpg/440px-Yun_Dong-ju.jpg 2x\" data-width=\"220\" style=\"width: 220px;height: 288px;\"> </span></a><figcaption>연희전문 졸업사진 (1941년)</figcaption></figure>\n",
      "<p><a href=\"/wiki/1937%EB%85%84\" title=\"1937년\">1937년</a> 광명중학교 졸업반일 무렵, 상급학교 진학문제를 놓고 부친(의학과 진학 희망)과 갈등하나, 조부의 개입으로 연전 문과 진학을 결정한다. <a href=\"/wiki/1938%EB%85%84\" title=\"1938년\">1938년</a> <a href=\"/wiki/2%EC%9B%94_17%EC%9D%BC\" title=\"2월 17일\">2월 17일</a> 광명중학교를 졸업한 후 <a href=\"/wiki/%EA%B2%BD%EC%84%B1%EB%B6%80\" title=\"경성부\">경성</a>(京城)으로 유학, 그해 <a href=\"/wiki/4%EC%9B%94\" title=\"4월\">4월</a> <a href=\"/wiki/%EC%97%B0%ED%9D%AC%EC%A0%84%EB%AC%B8%ED%95%99%EA%B5%90\" title=\"연희전문학교\">연희전문학교</a>에 입학하였다. 기숙사와 하숙생활을 하며 그는 근처를 산책하며 시상을 떠올리고 시를 짓거나 벗과 담론을 하였다. 명동촌에서 같이 자란 문익환 목사에 의하면 윤동주 시인은 <a href=\"/wiki/%EC%8B%A0%ED%95%99\" title=\"신학\">신학</a>을 공부하는 자신보다 실존주의 철학자인 <a href=\"/wiki/%EC%87%A0%EB%A0%8C_%ED%82%A4%EB%A5%B4%EC%BC%80%EA%B3%A0%EB%A5%B4\" title=\"쇠렌 키르케고르\">쇠렌 키르케고르</a>의 철학에 해박했다고 한다. 문학을 공부하는 학생으로서 다양한 인문학을 공부했던 것이다.\n",
      "</p><p>연희전문학교 재학시기에 윤동주는 공부를 열심히 해서 한겨레어린이에서 펴낸 윤동주 시인 전기에 의하면, <a href=\"/wiki/%EC%96%B8%EC%96%B4%ED%95%99\" title=\"언어학\">언어학자</a>이신 고 <a href=\"/wiki/%EC%B5%9C%ED%98%84%EB%B0%B0\" title=\"최현배\">최현배</a> 선생이 한국어 과목에 만점을 주실 정도였고,문학동네에서 펴낸 《처럼》(김응교 지음)에 따르면  <a href=\"/wiki/%ED%94%84%EB%9E%91%EC%8A%A4%EC%96%B4\" title=\"프랑스어\">불어</a>, 중국어, 한국어(일제강점기 당시에는 조선어)등 다양한 나라의 말을 공부했다. 1939년 연희전문 2학년 재학 중 조선일보 학생란에 산문과 시를 발표하고 그 해 《소년(少年)》지에 시를 발표하며 처음으로 원고료를 받기도 했다.\n",
      "</p><p>또한 연희전문학교에서 공부할 때에는 《달을 쏘다》같은 수필, 슬픈 족속 같은 시들을 쓰는 등 학교 생활을 소재로 정한 글을 썼다. 1940년 일제 경찰의 학생에 대한 감시가 심해지자 후배 정병욱과 함께 연희전문 기숙사에서 나와 북아현동 누상동 등지에서 하숙생활을 함께 하며 시작에 몰두하였다. 그 후<a href=\"/wiki/1941%EB%85%84\" title=\"1941년\">1941년</a> <a href=\"/wiki/12%EC%9B%94_27%EC%9D%BC\" title=\"12월 27일\">12월 27일</a>에 <a href=\"/wiki/%EC%97%B0%ED%9D%AC%EC%A0%84%EB%AC%B8%ED%95%99%EA%B5%90\" title=\"연희전문학교\">연희전문학교</a> 문과를 졸업할 무렵 틈틈이 썼던 시들 중 19편을 골라 시집 《<a href=\"/wiki/%ED%95%98%EB%8A%98%EA%B3%BC_%EB%B0%94%EB%9E%8C%EA%B3%BC_%EB%B3%84%EA%B3%BC_%EC%8B%9C\" title=\"하늘과 바람과 별과 시\">하늘과 바람과 별과 시</a>》를 내려 했으나 일제의 탄압을 걱정하는 주위의 만류로, 자세히 말한다면 영문학자 윤양하 교수의 만류 때문에 뜻을 이루지 못하고 그 원고를 정병욱에게 증정한 후 일본 대학으로 <a class=\"mw-disambig\" href=\"/wiki/%EC%9C%A0%ED%95%99\" title=\"유학\">유학</a> 준비를 하게 된다.\n",
      "</p><p>김영철 배우가 진행하는 <a href=\"/wiki/%EB%8F%99%EB%84%A4_%ED%95%9C_%EB%B0%94%ED%80%B4_(%ED%85%94%EB%A0%88%EB%B9%84%EC%A0%84_%ED%94%84%EB%A1%9C%EA%B7%B8%EB%9E%A8)\" title=\"동네 한 바퀴 (텔레비전 프로그램)\">동네한바퀴</a> 전라남도 <a href=\"/wiki/%EA%B4%91%EC%96%91%EC%8B%9C\" title=\"광양시\">광양시</a> 편과 <a href=\"/wiki/%EC%88%99%EB%AA%85%EC%97%AC%EC%9E%90%EB%8C%80%ED%95%99%EA%B5%90\" title=\"숙명여자대학교\">숙명여자대학교</a> 김응교 교수가 쓴 《처럼》(문학동네)에 의하면, 정병욱은 학병으로 강제징병되자 어머니에게 맡기고 길을 떠나야 했는데, 정병욱의 어머니는 일제의 <a class=\"mw-redirect\" href=\"/wiki/%EB%AF%BC%EC%A1%B1%EB%A7%90%EC%82%B4%EC%A0%95%EC%B1%85\" title=\"민족말살정책\">민족말살정책</a>을 피해 우리말로 쓴 시집을 항아리에 담아 집에 보관하셨다고 한다.\n",
      "</p><p>동네한바퀴 광양시 편에 정병욱의 생가와 원고가 보전되어 있고, 원고는 시민들이 읽을 수 있도록 영인본을 전시하고 있다. 실제 인천 근현대문학관(근현대문학사를 전시하는 문학전시관이며, 본관과 기획전시실이 있다. 인천광역시 중구에 소재하며, 인천광역시 중구청 앞 길에 아트플랫폼과 함께 있다. 인천 수인선 신포역에서 내려 중구 소방서와 아트플랫폼 방면으로 직진하면 찾을 수 있다.)에서도 김소월 시인의 진달래꽃, 만해 한용운 시인의 님의 침묵 등의 시집들을 영인본으로 전시하여 인천 시민들이 읽을 수 있도록 함을 생각해보면 알 수 있듯이, 훼손을 막기 위한 지혜로써 영인본을 전시하고 있는 것.\n",
      "</p>\n",
      "<h3><span id=\".EC.9D.BC.EB.B3.B8_.EC.9C.A0.ED.95.99_.EC.8B.9C.EC.A0.88\"></span><span class=\"mw-headline\" id=\"일본_유학_시절\">일본 유학 시절</span><span class=\"mw-editsection\">\n",
      "<a class=\"cdx-button cdx-button--size-large cdx-button--fake-button cdx-button--fake-button--enabled cdx-button--icon-only cdx-button--weight-quiet\" href=\"/w/index.php?title=%EC%9C%A4%EB%8F%99%EC%A3%BC&amp;action=edit&amp;section=5\" role=\"button\" title=\"부분 편집: 일본 유학 시절\">\n",
      "<span class=\"minerva-icon minerva-icon--edit\"></span>\n",
      "<span>편집</span>\n",
      "</a>\n",
      "</span>\n",
      "</h3>\n",
      "<p>1942년 3월 <a href=\"/wiki/%EC%9D%BC%EB%B3%B8\" title=\"일본\">일본</a>으로 건너가 <a href=\"/wiki/%EC%9D%BC%EB%B3%B8_%EC%84%B1%EA%B3%B5%ED%9A%8C\" title=\"일본 성공회\">일본 성공회</a>에서 운영하는 도쿄 <a href=\"/wiki/%EB%A6%BF%EC%BF%84_%EB%8C%80%ED%95%99\" title=\"릿쿄 대학\">릿쿄 대학교</a> 문학부 영문과에 입학하였다가 10월 교토 <a href=\"/wiki/%EB%8F%84%EC%8B%9C%EC%83%A4_%EB%8C%80%ED%95%99\" title=\"도시샤 대학\">도시샤 대학교</a> 영문학과에 편입하였다.<sup class=\"reference\" id=\"cite_ref-윤동주_시집2_3-1\"><a href=\"#cite_note-%EC%9C%A4%EB%8F%99%EC%A3%BC_%EC%8B%9C%EC%A7%912-3\">[3]</a></sup> 도시샤대학교는 윤동주가 가장 좋아하는 시인 정지용이 다닌 학교로 일본 <a href=\"/wiki/%ED%9A%8C%EC%A4%91%EA%B5%90%ED%9A%8C\" title=\"회중교회\">조합교회</a>에서 경영하는 개신교 학교였다.<sup class=\"reference\" id=\"cite_ref-4\"><a href=\"#cite_note-4\">[4]</a></sup>\n",
      "</p>\n",
      "<h4><span id=\".EC.B0.BD.EC.94.A8.EA.B0.9C.EB.AA.85\"></span><span class=\"mw-headline\" id=\"창씨개명\">창씨개명</span><span class=\"mw-editsection\">\n",
      "<a class=\"cdx-button cdx-button--size-large cdx-button--fake-button cdx-button--fake-button--enabled cdx-button--icon-only cdx-button--weight-quiet\" href=\"/w/index.php?title=%EC%9C%A4%EB%8F%99%EC%A3%BC&amp;action=edit&amp;section=6\" role=\"button\" title=\"부분 편집: 창씨개명\">\n",
      "<span class=\"minerva-icon minerva-icon--edit\"></span>\n",
      "<span>편집</span>\n",
      "</a>\n",
      "</span>\n",
      "</h4>\n",
      "<figure class=\"mw-halign-left\" typeof=\"mw:File/Thumb\"><a class=\"mw-file-description\" href=\"/wiki/%ED%8C%8C%EC%9D%BC:%EC%84%9C%EC%8B%9C_%EC%9C%A1%ED%95%84_%EC%9B%90%EA%B3%A0.jpg\"><noscript><img class=\"mw-file-element\" data-file-height=\"333\" data-file-width=\"500\" decoding=\"async\" height=\"133\" src=\"//upload.wikimedia.org/wikipedia/ko/thumb/9/98/%EC%84%9C%EC%8B%9C_%EC%9C%A1%ED%95%84_%EC%9B%90%EA%B3%A0.jpg/200px-%EC%84%9C%EC%8B%9C_%EC%9C%A1%ED%95%84_%EC%9B%90%EA%B3%A0.jpg\" width=\"200\"/></noscript><span class=\"lazy-image-placeholder\" data-class=\"mw-file-element\" data-height=\"133\" data-src=\"//upload.wikimedia.org/wikipedia/ko/thumb/9/98/%EC%84%9C%EC%8B%9C_%EC%9C%A1%ED%95%84_%EC%9B%90%EA%B3%A0.jpg/200px-%EC%84%9C%EC%8B%9C_%EC%9C%A1%ED%95%84_%EC%9B%90%EA%B3%A0.jpg\" data-srcset=\"//upload.wikimedia.org/wikipedia/ko/thumb/9/98/%EC%84%9C%EC%8B%9C_%EC%9C%A1%ED%95%84_%EC%9B%90%EA%B3%A0.jpg/300px-%EC%84%9C%EC%8B%9C_%EC%9C%A1%ED%95%84_%EC%9B%90%EA%B3%A0.jpg 1.5x, //upload.wikimedia.org/wikipedia/ko/thumb/9/98/%EC%84%9C%EC%8B%9C_%EC%9C%A1%ED%95%84_%EC%9B%90%EA%B3%A0.jpg/400px-%EC%84%9C%EC%8B%9C_%EC%9C%A1%ED%95%84_%EC%9B%90%EA%B3%A0.jpg 2x\" data-width=\"200\" style=\"width: 200px;height: 133px;\"> </span></a><figcaption>서시 육필 원고 (<a href=\"/wiki/1942%EB%85%84\" title=\"1942년\">1942년</a>)</figcaption></figure>\n",
      "<figure class=\"mw-halign-right\" typeof=\"mw:File/Thumb\"><a class=\"mw-file-description\" href=\"/wiki/%ED%8C%8C%EC%9D%BC:%EC%9C%A4%EB%8F%99%EC%A3%BC_%EC%9B%90%EA%B3%A0_%EC%9B%90%EB%B3%B8.png\"><noscript><img class=\"mw-file-element\" data-file-height=\"318\" data-file-width=\"532\" decoding=\"async\" height=\"155\" src=\"//upload.wikimedia.org/wikipedia/commons/thumb/2/2a/%EC%9C%A4%EB%8F%99%EC%A3%BC_%EC%9B%90%EA%B3%A0_%EC%9B%90%EB%B3%B8.png/260px-%EC%9C%A4%EB%8F%99%EC%A3%BC_%EC%9B%90%EA%B3%A0_%EC%9B%90%EB%B3%B8.png\" width=\"260\"/></noscript><span class=\"lazy-image-placeholder\" data-class=\"mw-file-element\" data-height=\"155\" data-src=\"//upload.wikimedia.org/wikipedia/commons/thumb/2/2a/%EC%9C%A4%EB%8F%99%EC%A3%BC_%EC%9B%90%EA%B3%A0_%EC%9B%90%EB%B3%B8.png/260px-%EC%9C%A4%EB%8F%99%EC%A3%BC_%EC%9B%90%EA%B3%A0_%EC%9B%90%EB%B3%B8.png\" data-srcset=\"//upload.wikimedia.org/wikipedia/commons/thumb/2/2a/%EC%9C%A4%EB%8F%99%EC%A3%BC_%EC%9B%90%EA%B3%A0_%EC%9B%90%EB%B3%B8.png/390px-%EC%9C%A4%EB%8F%99%EC%A3%BC_%EC%9B%90%EA%B3%A0_%EC%9B%90%EB%B3%B8.png 1.5x, //upload.wikimedia.org/wikipedia/commons/thumb/2/2a/%EC%9C%A4%EB%8F%99%EC%A3%BC_%EC%9B%90%EA%B3%A0_%EC%9B%90%EB%B3%B8.png/520px-%EC%9C%A4%EB%8F%99%EC%A3%BC_%EC%9B%90%EA%B3%A0_%EC%9B%90%EB%B3%B8.png 2x\" data-width=\"260\" style=\"width: 260px;height: 155px;\"> </span></a><figcaption>윤동주의 원고 원본</figcaption></figure>\n",
      "<style data-mw-deduplicate=\"TemplateStyles:r34311305\">.mw-parser-output .hatnote{}.mw-parser-output div.hatnote{padding-left:1.6em;margin-bottom:0.5em}.mw-parser-output .hatnote i{font-style:normal}.mw-parser-output .hatnote+link+.hatnote{margin-top:-0.5em}</style><div class=\"hatnote navigation-not-searchable\" role=\"note\"><span typeof=\"mw:File\"><span title=\"&lt;nowiki /&gt;\"><noscript><img alt=\"&lt;nowiki /&gt;\" class=\"mw-file-element\" data-file-height=\"128\" data-file-width=\"128\" decoding=\"async\" height=\"16\" src=\"//upload.wikimedia.org/wikipedia/commons/thumb/e/ec/Crystal_Clear_app_xmag.svg/16px-Crystal_Clear_app_xmag.svg.png\" width=\"16\"/></noscript><span class=\"lazy-image-placeholder\" data-alt=\"&lt;nowiki /&gt;\" data-class=\"mw-file-element\" data-height=\"16\" data-src=\"//upload.wikimedia.org/wikipedia/commons/thumb/e/ec/Crystal_Clear_app_xmag.svg/16px-Crystal_Clear_app_xmag.svg.png\" data-srcset=\"//upload.wikimedia.org/wikipedia/commons/thumb/e/ec/Crystal_Clear_app_xmag.svg/24px-Crystal_Clear_app_xmag.svg.png 1.5x, //upload.wikimedia.org/wikipedia/commons/thumb/e/ec/Crystal_Clear_app_xmag.svg/32px-Crystal_Clear_app_xmag.svg.png 2x\" data-width=\"16\" style=\"width: 16px;height: 16px;\"> </span></span></span> <a href=\"/wiki/%EC%B0%BD%EC%94%A8%EA%B0%9C%EB%AA%85\" title=\"창씨개명\">창씨개명</a> 및 <a class=\"mw-disambig\" href=\"/wiki/%EC%84%9C%EC%8B%9C\" title=\"서시\">서시</a>  문서를 참고하십시오.</div><p>윤동주 집안은 1941년 말 '히라누마'(平沼)로 창씨한 것으로 되어 있다.<sup class=\"reference\" id=\"cite_ref-whtjs012_5-0\"><a href=\"#cite_note-whtjs012-5\">[5]</a></sup> <a href=\"/wiki/%EC%9D%BC%EB%B3%B8\" title=\"일본\">일본</a> 유학에 뜻을 둔 윤동주의 도일을 위하여 성씨를 히라누마로 창씨를 개명하게 되었다.\n",
      "</p><p>윤동주의 창씨개명은 본인의 의사와는 관계없는 것이었다. 그의 연보에 의하면 윤동주가 전시의 학제 단축으로 3개월 앞당겨 <a href=\"/wiki/%EC%97%B0%ED%9D%AC%EC%A0%84%EB%AC%B8%ED%95%99%EA%B5%90\" title=\"연희전문학교\">연희전문학교</a> 4학년을 졸업하면서 <a href=\"/wiki/1941%EB%85%84\" title=\"1941년\">1941년</a> 연말에 \"고향 집에서 일제의 탄압과 동주의 도일 수속을 위해 성씨를 ' 히라누마 ' 로 창씨하였다<sup class=\"reference\" id=\"cite_ref-6\"><a href=\"#cite_note-6\">[6]</a></sup><sup class=\"reference\" id=\"cite_ref-7\"><a href=\"#cite_note-7\">[7]</a></sup>는 것이다. 개명 후 윤동주는 매우 괴로워했다 한다.\n",
      "</p><p>창씨개명계를 내기 닷새 후 그는 <a href=\"/wiki/%EC%B0%BD%EC%94%A8%EA%B0%9C%EB%AA%85\" title=\"창씨개명\">창씨개명</a>에 따른 고통과 참담한 비애를 그린 시 <a href=\"/wiki/%EC%B0%B8%ED%9A%8C%EB%A1%9D\" title=\"참회록\">참회록</a>을 썼다.<sup class=\"reference\" id=\"cite_ref-8\"><a href=\"#cite_note-8\">[8]</a></sup> 윤동주의 창씨개명설은 해방 이후에는 잘 알려지지 않았다가 <a href=\"/wiki/1990%EB%85%84\" title=\"1990년\">1990년</a>대에 와서 널리 알려지게 되었는데, 일제가 한민족의 전통을 말살하려고 우리말과 글이 아닌, 일본의 말과 글을 강요하는 <a href=\"/wiki/%EC%8B%9D%EB%AF%BC%EC%A3%BC%EC%9D%98\" title=\"식민주의\">식민주의</a>에 동조해서가 아니라 창씨 개명을 하지 않으면 유학에 필요한 입출국 서류를 만들 수 없는 즉, 유학을 위해서 어쩔 수 없이 한 것임을 기억해야 한다.\n",
      "</p>\n",
      "<h4><span id=\".EC.9D.BC.EB.B3.B8_.EC.9C.A0.ED.95.99.EC.83.9D.ED.99.9C.EA.B3.BC_.EC.B2.B4.ED.8F.AC\"></span><span class=\"mw-headline\" id=\"일본_유학생활과_체포\">일본 유학생활과 체포</span><span class=\"mw-editsection\">\n",
      "<a class=\"cdx-button cdx-button--size-large cdx-button--fake-button cdx-button--fake-button--enabled cdx-button--icon-only cdx-button--weight-quiet\" href=\"/w/index.php?title=%EC%9C%A4%EB%8F%99%EC%A3%BC&amp;action=edit&amp;section=7\" role=\"button\" title=\"부분 편집: 일본 유학생활과 체포\">\n",
      "<span class=\"minerva-icon minerva-icon--edit\"></span>\n",
      "<span>편집</span>\n",
      "</a>\n",
      "</span>\n",
      "</h4>\n",
      "<figure class=\"mw-halign-left\" typeof=\"mw:File/Thumb\"><a class=\"mw-file-description\" href=\"/wiki/%ED%8C%8C%EC%9D%BC:%EC%9C%A4%EB%8F%99%EC%A3%BC_%EC%86%A1%EB%AA%BD%EA%B7%9C.jpg\"><noscript><img class=\"mw-file-element\" data-file-height=\"206\" data-file-width=\"250\" decoding=\"async\" height=\"107\" src=\"//upload.wikimedia.org/wikipedia/commons/thumb/3/3c/%EC%9C%A4%EB%8F%99%EC%A3%BC_%EC%86%A1%EB%AA%BD%EA%B7%9C.jpg/130px-%EC%9C%A4%EB%8F%99%EC%A3%BC_%EC%86%A1%EB%AA%BD%EA%B7%9C.jpg\" width=\"130\"/></noscript><span class=\"lazy-image-placeholder\" data-class=\"mw-file-element\" data-height=\"107\" data-src=\"//upload.wikimedia.org/wikipedia/commons/thumb/3/3c/%EC%9C%A4%EB%8F%99%EC%A3%BC_%EC%86%A1%EB%AA%BD%EA%B7%9C.jpg/130px-%EC%9C%A4%EB%8F%99%EC%A3%BC_%EC%86%A1%EB%AA%BD%EA%B7%9C.jpg\" data-srcset=\"//upload.wikimedia.org/wikipedia/commons/thumb/3/3c/%EC%9C%A4%EB%8F%99%EC%A3%BC_%EC%86%A1%EB%AA%BD%EA%B7%9C.jpg/195px-%EC%9C%A4%EB%8F%99%EC%A3%BC_%EC%86%A1%EB%AA%BD%EA%B7%9C.jpg 1.5x, //upload.wikimedia.org/wikipedia/commons/3/3c/%EC%9C%A4%EB%8F%99%EC%A3%BC_%EC%86%A1%EB%AA%BD%EA%B7%9C.jpg 2x\" data-width=\"130\" style=\"width: 130px;height: 107px;\"> </span></a><figcaption>친구이자 고종사촌인 <a href=\"/wiki/%EC%86%A1%EB%AA%BD%EA%B7%9C\" title=\"송몽규\">송몽규</a> 등과 함께  (앞줄 가운데가 <a href=\"/wiki/%EC%86%A1%EB%AA%BD%EA%B7%9C\" title=\"송몽규\">송몽규</a>, 뒷줄 오른쪽 맨 끝이 윤동주</figcaption></figure>\n",
      "<p><a href=\"/wiki/1942%EB%85%84\" title=\"1942년\">1942년</a>에는 <a href=\"/wiki/%EC%9D%BC%EB%B3%B8\" title=\"일본\">일본</a>으로 건너가 <a href=\"/wiki/%EB%8F%84%EC%BF%84\" title=\"도쿄\">도쿄</a> <a href=\"/wiki/%EB%A6%BF%EC%BF%84_%EB%8C%80%ED%95%99\" title=\"릿쿄 대학\">릿쿄 대학</a>(<span lang=\"ja\">立教大学</span>) 영문과에 입학하였고, 6개월 후에 중퇴하여 <a href=\"/wiki/%EA%B5%90%ED%86%A0%EC%8B%9C\" title=\"교토시\">교토시</a> <a href=\"/wiki/%EB%8F%84%EC%8B%9C%EC%83%A4_%EB%8C%80%ED%95%99\" title=\"도시샤 대학\">도시샤 대학</a> 문학부로 전학하였다. 그러나 그는 불령선인으로 지목되어 일본경찰의 감시를 당하고 있었다.\n",
      "</p>\n",
      "<figure class=\"mw-halign-right\" typeof=\"mw:File/Thumb\"><a class=\"mw-file-description\" href=\"/wiki/%ED%8C%8C%EC%9D%BC:%EC%9C%A4%EB%8F%99%EC%A3%BC_%EC%8B%9C%EB%B9%84.jpg\"><noscript><img class=\"mw-file-element\" data-file-height=\"480\" data-file-width=\"640\" decoding=\"async\" height=\"173\" src=\"//upload.wikimedia.org/wikipedia/ko/thumb/d/da/%EC%9C%A4%EB%8F%99%EC%A3%BC_%EC%8B%9C%EB%B9%84.jpg/230px-%EC%9C%A4%EB%8F%99%EC%A3%BC_%EC%8B%9C%EB%B9%84.jpg\" width=\"230\"/></noscript><span class=\"lazy-image-placeholder\" data-class=\"mw-file-element\" data-height=\"173\" data-src=\"//upload.wikimedia.org/wikipedia/ko/thumb/d/da/%EC%9C%A4%EB%8F%99%EC%A3%BC_%EC%8B%9C%EB%B9%84.jpg/230px-%EC%9C%A4%EB%8F%99%EC%A3%BC_%EC%8B%9C%EB%B9%84.jpg\" data-srcset=\"//upload.wikimedia.org/wikipedia/ko/thumb/d/da/%EC%9C%A4%EB%8F%99%EC%A3%BC_%EC%8B%9C%EB%B9%84.jpg/345px-%EC%9C%A4%EB%8F%99%EC%A3%BC_%EC%8B%9C%EB%B9%84.jpg 1.5x, //upload.wikimedia.org/wikipedia/ko/thumb/d/da/%EC%9C%A4%EB%8F%99%EC%A3%BC_%EC%8B%9C%EB%B9%84.jpg/460px-%EC%9C%A4%EB%8F%99%EC%A3%BC_%EC%8B%9C%EB%B9%84.jpg 2x\" data-width=\"230\" style=\"width: 230px;height: 173px;\"> </span></a><figcaption><a href=\"/wiki/%EC%97%B0%EC%84%B8%EB%8C%80%ED%95%99%EA%B5%90\" title=\"연세대학교\">연세대학교</a> 신촌 캠퍼스 경내에 있는 윤동주 시비</figcaption></figure>\n",
      "<p><a href=\"/wiki/1943%EB%85%84\" title=\"1943년\">1943년</a> <a href=\"/wiki/7%EC%9B%94_14%EC%9D%BC\" title=\"7월 14일\">7월 14일</a>, 귀향길에 오르기 전 <a href=\"/wiki/%EC%B9%98%EC%95%88%EC%9C%A0%EC%A7%80%EB%B2%95\" title=\"치안유지법\">치안유지법</a>에 따른 사상범으로 일본 경찰에 체포되어 교토의 카모가와 경찰서에 구금되었다. 이듬해 교토 지방 재판소에서 2년형을 선고받고 후쿠오카 형무소에 수감되었다. <a href=\"/wiki/1944%EB%85%84\" title=\"1944년\">1944년</a> <a href=\"/wiki/3%EC%9B%94_31%EC%9D%BC\" title=\"3월 31일\">3월 31일</a> 교토지방재판소 제1 형사부 이시이 히라오 재판장 명의로 된 판결문은 징역 2년형을 선고하면서 “윤동주는 어릴 적부터 민족학교 교육을 받고 사상적 문화적으로 심독했으며 친구 감화 등에 의해 대단한 민족의식을 갖고 내선(일본과 조선)의 차별 문제에 대하여 깊은 원망의 뜻을 품고 있었고, 조선 독립의 야망을 실현시키려 하는 망동을 했다.”라고 적혀 있다.<sup class=\"reference\" id=\"cite_ref-9\"><a href=\"#cite_note-9\">[9]</a></sup> 교토지방 재판소에서 송몽규와 함께 치안유지법 제5조 위반죄로 징역 2년을 선고받은 뒤 후쿠오카 형무소로 이송되었다.\n",
      "</p>\n",
      "<h3><span id=\".ED.88.AC.EC.98.A5.EA.B3.BC_.EC.B5.9C.ED.9B.84\"></span><span class=\"mw-headline\" id=\"투옥과_최후\">투옥과 최후</span><span class=\"mw-editsection\">\n",
      "<a class=\"cdx-button cdx-button--size-large cdx-button--fake-button cdx-button--fake-button--enabled cdx-button--icon-only cdx-button--weight-quiet\" href=\"/w/index.php?title=%EC%9C%A4%EB%8F%99%EC%A3%BC&amp;action=edit&amp;section=8\" role=\"button\" title=\"부분 편집: 투옥과 최후\">\n",
      "<span class=\"minerva-icon minerva-icon--edit\"></span>\n",
      "<span>편집</span>\n",
      "</a>\n",
      "</span>\n",
      "</h3>\n",
      "<figure class=\"mw-default-size\" typeof=\"mw:File/Thumb\"><a class=\"mw-file-description\" href=\"/wiki/%ED%8C%8C%EC%9D%BC:%EC%9C%A4%EB%8F%99%EC%A3%BC_%EB%AC%B8%ED%95%99%EA%B4%80%EC%97%90_%EC%A0%84%EC%8B%9C%EB%90%9C_%EB%AC%98%EB%B9%84_%EC%82%AC%EC%A7%84_180707.jpg\"><noscript><img class=\"mw-file-element\" data-file-height=\"3328\" data-file-width=\"2253\" decoding=\"async\" height=\"325\" src=\"//upload.wikimedia.org/wikipedia/commons/thumb/a/af/%EC%9C%A4%EB%8F%99%EC%A3%BC_%EB%AC%B8%ED%95%99%EA%B4%80%EC%97%90_%EC%A0%84%EC%8B%9C%EB%90%9C_%EB%AC%98%EB%B9%84_%EC%82%AC%EC%A7%84_180707.jpg/220px-%EC%9C%A4%EB%8F%99%EC%A3%BC_%EB%AC%B8%ED%95%99%EA%B4%80%EC%97%90_%EC%A0%84%EC%8B%9C%EB%90%9C_%EB%AC%98%EB%B9%84_%EC%82%AC%EC%A7%84_180707.jpg\" width=\"220\"/></noscript><span class=\"lazy-image-placeholder\" data-class=\"mw-file-element\" data-height=\"325\" data-src=\"//upload.wikimedia.org/wikipedia/commons/thumb/a/af/%EC%9C%A4%EB%8F%99%EC%A3%BC_%EB%AC%B8%ED%95%99%EA%B4%80%EC%97%90_%EC%A0%84%EC%8B%9C%EB%90%9C_%EB%AC%98%EB%B9%84_%EC%82%AC%EC%A7%84_180707.jpg/220px-%EC%9C%A4%EB%8F%99%EC%A3%BC_%EB%AC%B8%ED%95%99%EA%B4%80%EC%97%90_%EC%A0%84%EC%8B%9C%EB%90%9C_%EB%AC%98%EB%B9%84_%EC%82%AC%EC%A7%84_180707.jpg\" data-srcset=\"//upload.wikimedia.org/wikipedia/commons/thumb/a/af/%EC%9C%A4%EB%8F%99%EC%A3%BC_%EB%AC%B8%ED%95%99%EA%B4%80%EC%97%90_%EC%A0%84%EC%8B%9C%EB%90%9C_%EB%AC%98%EB%B9%84_%EC%82%AC%EC%A7%84_180707.jpg/330px-%EC%9C%A4%EB%8F%99%EC%A3%BC_%EB%AC%B8%ED%95%99%EA%B4%80%EC%97%90_%EC%A0%84%EC%8B%9C%EB%90%9C_%EB%AC%98%EB%B9%84_%EC%82%AC%EC%A7%84_180707.jpg 1.5x, //upload.wikimedia.org/wikipedia/commons/thumb/a/af/%EC%9C%A4%EB%8F%99%EC%A3%BC_%EB%AC%B8%ED%95%99%EA%B4%80%EC%97%90_%EC%A0%84%EC%8B%9C%EB%90%9C_%EB%AC%98%EB%B9%84_%EC%82%AC%EC%A7%84_180707.jpg/440px-%EC%9C%A4%EB%8F%99%EC%A3%BC_%EB%AC%B8%ED%95%99%EA%B4%80%EC%97%90_%EC%A0%84%EC%8B%9C%EB%90%9C_%EB%AC%98%EB%B9%84_%EC%82%AC%EC%A7%84_180707.jpg 2x\" data-width=\"220\" style=\"width: 220px;height: 325px;\"> </span></a><figcaption>윤동주문학관에 전시된 윤동주의 묘비 사진</figcaption></figure>\n",
      "<p><a href=\"/wiki/1945%EB%85%84\" title=\"1945년\">1945년</a> <a href=\"/wiki/2%EC%9B%94_16%EC%9D%BC\" title=\"2월 16일\">2월 16일</a> 오전 3시 36분 후쿠오카 형무소에서 옥사하였다. 시신은 화장된 뒤 가족들에게 인도되어 그 해 3월 장례식을 치른 후 <a href=\"/wiki/%EC%A7%80%EB%A6%B0%EC%84%B1\" title=\"지린성\">지린성</a> <a href=\"/wiki/%EB%A3%BD%EC%A7%95%EC%8B%9C\" title=\"룽징시\">룽징시</a>에 유해가 묻혔다(향년 27세). 그의 조부 윤하현의 비석으로 마련한 흰 돌을 그의 비석으로 사용하였다.\n",
      "</p><p>같은 해 2월 26일, '2월 16일 동주 사망, 시체를 가지러 오라'는 전보가 고향집에 배달되었다. 부친 <a href=\"/wiki/%EC%9C%A4%EC%98%81%EC%84%9D\" title=\"윤영석\">윤영석</a>과 당숙 <a href=\"/wiki/%EC%9C%A4%EC%98%81%EC%B6%98\" title=\"윤영춘\">윤영춘</a>이 시신을 인수, 수습하러 <a href=\"/wiki/%EC%9D%BC%EB%B3%B8\" title=\"일본\">일본</a>으로 건너갔다. 그런데 뒤늦게 '동주 위독하니 보석할 수 있음. 만일 사망시에는 시체를 가져가거나 아니면 큐슈제대(九州帝大) 의학부에 해부용으로 제공할 것임. 속답 바람'이라는 우편 통지서가 고향집에 배달되었다. 후일 윤동주의 동생 윤일주는 이를 두고 \"사망 전보보다 10일이나 늦게 온 이것을 본 집안 사람들의 원통함은 이를 갈고도 남음이 있었다.\"고 회고하였다.\n",
      "</p><p>한편, 그의 죽음에 관해서는 옥중에서 정체를 알 수 없는 주사를 정기적으로 맞은 결과이며, 이는 일제의 생체실험의 일환이었다는 주장도 제기되고 있다.<sup class=\"reference\" id=\"cite_ref-10\"><a href=\"#cite_note-10\">[10]</a></sup>\n",
      "</p>\n",
      "<h3><span id=\".EC.82.AC.ED.9B.84\"></span><span class=\"mw-headline\" id=\"사후\">사후</span><span class=\"mw-editsection\">\n",
      "<a class=\"cdx-button cdx-button--size-large cdx-button--fake-button cdx-button--fake-button--enabled cdx-button--icon-only cdx-button--weight-quiet\" href=\"/w/index.php?title=%EC%9C%A4%EB%8F%99%EC%A3%BC&amp;action=edit&amp;section=9\" role=\"button\" title=\"부분 편집: 사후\">\n",
      "<span class=\"minerva-icon minerva-icon--edit\"></span>\n",
      "<span>편집</span>\n",
      "</a>\n",
      "</span>\n",
      "</h3>\n",
      "<p><a href=\"/wiki/1947%EB%85%84\" title=\"1947년\">1947년</a> <a href=\"/wiki/2%EC%9B%94\" title=\"2월\">2월</a> <a href=\"/wiki/%EC%A0%95%EC%A7%80%EC%9A%A9\" title=\"정지용\">정지용</a>의 소개로 <a href=\"/wiki/%EA%B2%BD%ED%96%A5%EC%8B%A0%EB%AC%B8\" title=\"경향신문\">경향신문</a>에 유작이 처음 소개되고 함께 추도회가 거행된다.\n",
      "</p><p><a href=\"/wiki/1948%EB%85%84\" title=\"1948년\">1948년</a> 2월 윤동주의 3주기 추도식에 맞춰 윤동주의 유작 31편과 <a href=\"/wiki/%EC%A0%95%EC%A7%80%EC%9A%A9\" title=\"정지용\">정지용</a>의 서문으로 이루어진 유고시집 《<a href=\"/wiki/%ED%95%98%EB%8A%98%EA%B3%BC_%EB%B0%94%EB%9E%8C%EA%B3%BC_%EB%B3%84%EA%B3%BC_%EC%8B%9C\" title=\"하늘과 바람과 별과 시\">하늘과 바람과 별과 시</a>》 초간본을 임시로 발간하였고, 같은 해 3월 정식으로 정음사에서 간행하였다.<sup class=\"reference\" id=\"cite_ref-11\"><a href=\"#cite_note-11\">[11]</a></sup> 이후 <a href=\"/wiki/1962%EB%85%84\" title=\"1962년\">1962년</a> <a href=\"/wiki/3%EC%9B%94\" title=\"3월\">3월</a>부터 독립유공자를 대량으로 발굴 포상할 때, 그에게도 <a href=\"/wiki/%EA%B1%B4%EA%B5%AD%ED%9B%88%EC%9E%A5\" title=\"건국훈장\">건국공로훈장</a> 서훈이 신청되었으나 유족들이 사양하였다. <a href=\"/wiki/1990%EB%85%84\" title=\"1990년\">1990년</a> <a href=\"/wiki/8%EC%9B%94_15%EC%9D%BC\" title=\"8월 15일\">8월 15일</a>에야 <a href=\"/wiki/%EA%B1%B4%EA%B5%AD%ED%9B%88%EC%9E%A5\" title=\"건국훈장\">건국공로훈장 독립장</a>이 추서되었다. 1985년에는 그의 시정신을 계승하기 위한 <a href=\"/wiki/%EC%9C%A4%EB%8F%99%EC%A3%BC%EB%AC%B8%ED%95%99%EC%83%81\" title=\"윤동주문학상\">윤동주문학상</a>이 한국문인협회에 의해 제정되었다.\n",
      "</p>\n",
      "</section><h2 class=\"section-heading\" onclick=\"mfTempOpenSection(2)\"><span class=\"indicator mf-icon mf-icon-expand mf-icon--small\"></span><span id=\".EC.9E.91.ED.92.88\"></span><span class=\"mw-headline\" id=\"작품\">작품</span><span class=\"mw-editsection\">\n",
      "<a class=\"cdx-button cdx-button--size-large cdx-button--fake-button cdx-button--fake-button--enabled cdx-button--icon-only cdx-button--weight-quiet\" href=\"/w/index.php?title=%EC%9C%A4%EB%8F%99%EC%A3%BC&amp;action=edit&amp;section=10\" role=\"button\" title=\"부분 편집: 작품\">\n",
      "<span class=\"minerva-icon minerva-icon--edit\"></span>\n",
      "<span>편집</span>\n",
      "</a>\n",
      "</span>\n",
      "</h2><section class=\"mf-section-2 collapsible-block\" id=\"mf-section-2\">\n",
      "<figure typeof=\"mw:File/Thumb\"><a class=\"mw-file-description\" href=\"/wiki/%ED%8C%8C%EC%9D%BC:Sky,_Wind,_Star_and_Poem.jpg\"><noscript><img class=\"mw-file-element\" data-file-height=\"1500\" data-file-width=\"1500\" decoding=\"async\" height=\"150\" src=\"//upload.wikimedia.org/wikipedia/commons/thumb/3/3f/Sky%2C_Wind%2C_Star_and_Poem.jpg/150px-Sky%2C_Wind%2C_Star_and_Poem.jpg\" width=\"150\"/></noscript><span class=\"lazy-image-placeholder\" data-class=\"mw-file-element\" data-height=\"150\" data-src=\"//upload.wikimedia.org/wikipedia/commons/thumb/3/3f/Sky%2C_Wind%2C_Star_and_Poem.jpg/150px-Sky%2C_Wind%2C_Star_and_Poem.jpg\" data-srcset=\"//upload.wikimedia.org/wikipedia/commons/thumb/3/3f/Sky%2C_Wind%2C_Star_and_Poem.jpg/225px-Sky%2C_Wind%2C_Star_and_Poem.jpg 1.5x, //upload.wikimedia.org/wikipedia/commons/thumb/3/3f/Sky%2C_Wind%2C_Star_and_Poem.jpg/300px-Sky%2C_Wind%2C_Star_and_Poem.jpg 2x\" data-width=\"150\" style=\"width: 150px;height: 150px;\"> </span></a><figcaption>《하늘과 바람과 별과 시》 초간본 (1948.2.)</figcaption></figure>\n",
      "<p>윤동주의 시집은 사후에 출간되어 큰 반향을 일으켰다.\n",
      "</p>\n",
      "<ul><li>《새 명동》</li>\n",
      "<li>《서시(序詩)》</li>\n",
      "<li>《또 다른 고향》</li>\n",
      "<li>《<a href=\"/wiki/%EB%B3%84_%ED%97%A4%EB%8A%94_%EB%B0%A4\" title=\"별 헤는 밤\">별 헤는 밤</a>》</li>\n",
      "<li>《<a href=\"/wiki/%ED%95%98%EB%8A%98%EA%B3%BC_%EB%B0%94%EB%9E%8C%EA%B3%BC_%EB%B3%84%EA%B3%BC_%EC%8B%9C\" title=\"하늘과 바람과 별과 시\">하늘과 바람과 별과 시</a>》 — 그의 대부분의 작품은 이 유고시집에 실려 있다. 1948년의 초간본은 31편이 수록되었으나, 유족들이 보관하고 있던 시를 추가하여 <a href=\"/wiki/1976%EB%85%84\" title=\"1976년\">1976년</a> 3판에서는 모두 116편이 실리게 되었다.</li>\n",
      "<li>《사진판 윤동주 자필 시고전집》</li>\n",
      "<li>《별을 사랑하는 아이들아》</li>\n",
      "<li>《<a href=\"/wiki/%EC%89%BD%EA%B2%8C_%EC%94%8C%EC%96%B4%EC%A7%84_%EC%8B%9C\" title=\"쉽게 씌어진 시\">쉽게 씌어진 시</a>》</li></ul>\n",
      "</section><h2 class=\"section-heading\" onclick=\"mfTempOpenSection(3)\"><span class=\"indicator mf-icon mf-icon-expand mf-icon--small\"></span><span id=\".EA.B2.BD.ED.96.A5_.EB.B0.8F_.ED.8F.89.EA.B0.80\"></span><span class=\"mw-headline\" id=\"경향_및_평가\">경향 및 평가</span><span class=\"mw-editsection\">\n",
      "<a class=\"cdx-button cdx-button--size-large cdx-button--fake-button cdx-button--fake-button--enabled cdx-button--icon-only cdx-button--weight-quiet\" href=\"/w/index.php?title=%EC%9C%A4%EB%8F%99%EC%A3%BC&amp;action=edit&amp;section=11\" role=\"button\" title=\"부분 편집: 경향 및 평가\">\n",
      "<span class=\"minerva-icon minerva-icon--edit\"></span>\n",
      "<span>편집</span>\n",
      "</a>\n",
      "</span>\n",
      "</h2><section class=\"mf-section-3 collapsible-block\" id=\"mf-section-3\">\n",
      "<p>민족적 저항시인, 강인한 의지와 부드러운 서정을 지닌 시인으로 평가되며,<sup class=\"reference\" id=\"cite_ref-12\"><a href=\"#cite_note-12\">[12]</a></sup><sup class=\"reference\" id=\"cite_ref-13\"><a href=\"#cite_note-13\">[13]</a></sup> <a href=\"/wiki/1986%EB%85%84\" title=\"1986년\">1986년</a>에는 20대 젊은이들이 가장 좋아하는 <a href=\"/wiki/%EC%8B%9C%EC%9D%B8\" title=\"시인\">시인</a>으로 선정되었다.<sup class=\"reference\" id=\"cite_ref-14\"><a href=\"#cite_note-14\">[14]</a></sup> 북한에서는 ‘일제말기 독립의식을 고취한 애국적 시인’으로 평가되고 있다.<sup class=\"reference\" id=\"cite_ref-15\"><a href=\"#cite_note-15\">[15]</a></sup>\n",
      "</p><p>그의 시는 생활에서 우러나오는 내용을 서정적으로 표현하였으며, 인간과 우주에 대한 깊은 사색, 식민지 지식인의 고뇌와 진실한 자기성찰의 의식이 담겨 있다고 평가된다.<sup class=\"reference\" id=\"cite_ref-신동아_12_16-0\"><a href=\"#cite_note-%EC%8B%A0%EB%8F%99%EC%95%84_12-16\">[16]</a></sup>\n",
      "</p>\n",
      "</section><h2 class=\"section-heading\" onclick=\"mfTempOpenSection(4)\"><span class=\"indicator mf-icon mf-icon-expand mf-icon--small\"></span><span id=\".ED.95.99.EB.A0.A5\"></span><span class=\"mw-headline\" id=\"학력\">학력</span><span class=\"mw-editsection\">\n",
      "<a class=\"cdx-button cdx-button--size-large cdx-button--fake-button cdx-button--fake-button--enabled cdx-button--icon-only cdx-button--weight-quiet\" href=\"/w/index.php?title=%EC%9C%A4%EB%8F%99%EC%A3%BC&amp;action=edit&amp;section=12\" role=\"button\" title=\"부분 편집: 학력\">\n",
      "<span class=\"minerva-icon minerva-icon--edit\"></span>\n",
      "<span>편집</span>\n",
      "</a>\n",
      "</span>\n",
      "</h2><section class=\"mf-section-4 collapsible-block\" id=\"mf-section-4\">\n",
      "<ul><li><a class=\"mw-redirect\" href=\"/wiki/%EB%AA%85%EB%8F%99%EC%86%8C%ED%95%99%EA%B5%90\" title=\"명동소학교\">명동소학교</a> 졸업</li>\n",
      "<li>은진중학교 수료</li>\n",
      "<li><a href=\"/wiki/%ED%8F%89%EC%95%88%EB%82%A8%EB%8F%84\" title=\"평안남도\">평안남도</a> <a class=\"mw-redirect\" href=\"/wiki/%ED%8F%89%EC%96%91%EC%A7%81%ED%95%A0%EC%8B%9C\" title=\"평양직할시\">평양</a> <a href=\"/wiki/%EC%88%AD%EC%8B%A4%EA%B3%A0%EB%93%B1%ED%95%99%EA%B5%90\" title=\"숭실고등학교\">숭실고등보통학교</a> 수료</li>\n",
      "<li><a class=\"mw-redirect\" href=\"/wiki/%EA%B8%B8%EB%A6%BC%EA%B4%91%EB%AA%85%EC%A4%91%ED%95%99%EA%B5%90\" title=\"길림광명중학교\">길림광명중학교</a> 졸업</li>\n",
      "<li><a href=\"/wiki/%EC%97%B0%EC%84%B8%EB%8C%80%ED%95%99%EA%B5%90\" title=\"연세대학교\">경성 연희전문학교</a> 등업사</li>\n",
      "<li><a href=\"/wiki/%EC%9D%BC%EB%B3%B8\" title=\"일본\">일본</a> <a href=\"/wiki/%EB%A6%BF%EC%BF%84_%EB%8C%80%ED%95%99\" title=\"릿쿄 대학\">릿쿄 대학</a> 영어영문학과 중퇴</li>\n",
      "<li><a href=\"/wiki/%EC%9D%BC%EB%B3%B8\" title=\"일본\">일본</a> <a href=\"/wiki/%EB%8F%84%EC%8B%9C%EC%83%A4_%EB%8C%80%ED%95%99\" title=\"도시샤 대학\">도시샤 대학</a> 영어영문학과 제적</li></ul>\n",
      "</section><h2 class=\"section-heading\" onclick=\"mfTempOpenSection(5)\"><span class=\"indicator mf-icon mf-icon-expand mf-icon--small\"></span><span id=\".EC.83.81.ED.9B.88_.EA.B2.BD.EB.A0.A5\"></span><span class=\"mw-headline\" id=\"상훈_경력\">상훈 경력</span><span class=\"mw-editsection\">\n",
      "<a class=\"cdx-button cdx-button--size-large cdx-button--fake-button cdx-button--fake-button--enabled cdx-button--icon-only cdx-button--weight-quiet\" href=\"/w/index.php?title=%EC%9C%A4%EB%8F%99%EC%A3%BC&amp;action=edit&amp;section=13\" role=\"button\" title=\"부분 편집: 상훈 경력\">\n",
      "<span class=\"minerva-icon minerva-icon--edit\"></span>\n",
      "<span>편집</span>\n",
      "</a>\n",
      "</span>\n",
      "</h2><section class=\"mf-section-5 collapsible-block\" id=\"mf-section-5\">\n",
      "<ul><li><a href=\"/wiki/%EC%88%AD%EC%8B%A4%EA%B3%A0%EB%93%B1%ED%95%99%EA%B5%90\" title=\"숭실고등학교\">서울 숭실고등학교</a> 명예 졸업장 추서</li>\n",
      "<li><a href=\"/wiki/1990%EB%85%84\" title=\"1990년\">1990년</a> <a href=\"/wiki/8%EC%9B%94_15%EC%9D%BC\" title=\"8월 15일\">8월 15일</a> <a href=\"/wiki/%EB%8C%80%ED%95%9C%EB%AF%BC%EA%B5%AD\" title=\"대한민국\">대한민국</a> <a href=\"/wiki/%EA%B1%B4%EA%B5%AD%ED%9B%88%EC%9E%A5\" title=\"건국훈장\">건국공로훈장 독립장</a></li>\n",
      "<li><a class=\"mw-redirect\" href=\"/wiki/%EA%B5%AD%EB%AF%BC%ED%9B%88%EC%9E%A5\" title=\"국민훈장\">국민훈장</a></li>\n",
      "<li>1999년 한국예술평론가협의회 선정 20세기를 빛낸 한국의 예술인</li></ul>\n",
      "</section><h2 class=\"section-heading\" onclick=\"mfTempOpenSection(6)\"><span class=\"indicator mf-icon mf-icon-expand mf-icon--small\"></span><span id=\".EA.B8.B0.EB.85.90.EA.B4.80.EA.B3.BC_.EA.B8.B0.EB.85.90.EB.AC.BC\"></span><span class=\"mw-headline\" id=\"기념관과_기념물\">기념관과 기념물</span><span class=\"mw-editsection\">\n",
      "<a class=\"cdx-button cdx-button--size-large cdx-button--fake-button cdx-button--fake-button--enabled cdx-button--icon-only cdx-button--weight-quiet\" href=\"/w/index.php?title=%EC%9C%A4%EB%8F%99%EC%A3%BC&amp;action=edit&amp;section=14\" role=\"button\" title=\"부분 편집: 기념관과 기념물\">\n",
      "<span class=\"minerva-icon minerva-icon--edit\"></span>\n",
      "<span>편집</span>\n",
      "</a>\n",
      "</span>\n",
      "</h2><section class=\"mf-section-6 collapsible-block\" id=\"mf-section-6\">\n",
      "<h3><span id=\".EA.B8.B0.EB.85.90.EA.B4.80\"></span><span class=\"mw-headline\" id=\"기념관\">기념관</span><span class=\"mw-editsection\">\n",
      "<a class=\"cdx-button cdx-button--size-large cdx-button--fake-button cdx-button--fake-button--enabled cdx-button--icon-only cdx-button--weight-quiet\" href=\"/w/index.php?title=%EC%9C%A4%EB%8F%99%EC%A3%BC&amp;action=edit&amp;section=15\" role=\"button\" title=\"부분 편집: 기념관\">\n",
      "<span class=\"minerva-icon minerva-icon--edit\"></span>\n",
      "<span>편집</span>\n",
      "</a>\n",
      "</span>\n",
      "</h3>\n",
      "<figure class=\"mw-halign-right\" typeof=\"mw:File/Thumb\"><a class=\"mw-file-description\" href=\"/wiki/%ED%8C%8C%EC%9D%BC:%ED%95%80%EC%8A%A8%ED%99%802.jpg\"><noscript><img class=\"mw-file-element\" data-file-height=\"240\" data-file-width=\"320\" decoding=\"async\" height=\"150\" src=\"//upload.wikimedia.org/wikipedia/ko/thumb/8/8e/%ED%95%80%EC%8A%A8%ED%99%802.jpg/200px-%ED%95%80%EC%8A%A8%ED%99%802.jpg\" width=\"200\"/></noscript><span class=\"lazy-image-placeholder\" data-class=\"mw-file-element\" data-height=\"150\" data-src=\"//upload.wikimedia.org/wikipedia/ko/thumb/8/8e/%ED%95%80%EC%8A%A8%ED%99%802.jpg/200px-%ED%95%80%EC%8A%A8%ED%99%802.jpg\" data-srcset=\"//upload.wikimedia.org/wikipedia/ko/thumb/8/8e/%ED%95%80%EC%8A%A8%ED%99%802.jpg/300px-%ED%95%80%EC%8A%A8%ED%99%802.jpg 1.5x, //upload.wikimedia.org/wikipedia/ko/8/8e/%ED%95%80%EC%8A%A8%ED%99%802.jpg 2x\" data-width=\"200\" style=\"width: 200px;height: 150px;\"> </span></a><figcaption>핀슨홀과 윤동주</figcaption></figure>\n",
      "<figure class=\"mw-default-size\" typeof=\"mw:File/Thumb\"><a class=\"mw-file-description\" href=\"/wiki/%ED%8C%8C%EC%9D%BC:%EC%9C%A4%EB%8F%99%EC%A3%BC%EB%AC%B8%ED%95%99%EA%B4%80_180707_01.jpg\"><noscript><img class=\"mw-file-element\" data-file-height=\"4000\" data-file-width=\"6000\" decoding=\"async\" height=\"147\" src=\"//upload.wikimedia.org/wikipedia/commons/thumb/d/d4/%EC%9C%A4%EB%8F%99%EC%A3%BC%EB%AC%B8%ED%95%99%EA%B4%80_180707_01.jpg/220px-%EC%9C%A4%EB%8F%99%EC%A3%BC%EB%AC%B8%ED%95%99%EA%B4%80_180707_01.jpg\" width=\"220\"/></noscript><span class=\"lazy-image-placeholder\" data-class=\"mw-file-element\" data-height=\"147\" data-src=\"//upload.wikimedia.org/wikipedia/commons/thumb/d/d4/%EC%9C%A4%EB%8F%99%EC%A3%BC%EB%AC%B8%ED%95%99%EA%B4%80_180707_01.jpg/220px-%EC%9C%A4%EB%8F%99%EC%A3%BC%EB%AC%B8%ED%95%99%EA%B4%80_180707_01.jpg\" data-srcset=\"//upload.wikimedia.org/wikipedia/commons/thumb/d/d4/%EC%9C%A4%EB%8F%99%EC%A3%BC%EB%AC%B8%ED%95%99%EA%B4%80_180707_01.jpg/330px-%EC%9C%A4%EB%8F%99%EC%A3%BC%EB%AC%B8%ED%95%99%EA%B4%80_180707_01.jpg 1.5x, //upload.wikimedia.org/wikipedia/commons/thumb/d/d4/%EC%9C%A4%EB%8F%99%EC%A3%BC%EB%AC%B8%ED%95%99%EA%B4%80_180707_01.jpg/440px-%EC%9C%A4%EB%8F%99%EC%A3%BC%EB%AC%B8%ED%95%99%EA%B4%80_180707_01.jpg 2x\" data-width=\"220\" style=\"width: 220px;height: 147px;\"> </span></a><figcaption><a href=\"/wiki/%EC%9C%A4%EB%8F%99%EC%A3%BC%EB%AC%B8%ED%95%99%EA%B4%80\" title=\"윤동주문학관\">윤동주문학관</a></figcaption></figure>\n",
      "<dl><dt>연세대학교</dt></dl>\n",
      "<ul><li>윤동주의 연희전문학교 재학 당시 학생 기숙사로 이용되었던 연세대학교 핀슨홀 일부가 윤동주 기념관으로 꾸며져 있다. 향후 핀슨홀 전체를 윤동주 기념관으로 개편할 계획이다.<sup class=\"reference\" id=\"cite_ref-17\"><a href=\"#cite_note-17\">[17]</a></sup></li></ul>\n",
      "<dl><dt>종로구</dt></dl>\n",
      "<ul><li>종로문화재단에서 서울특별시 종로구 청운동에 <a href=\"/wiki/%EC%9C%A4%EB%8F%99%EC%A3%BC%EB%AC%B8%ED%95%99%EA%B4%80\" title=\"윤동주문학관\">윤동주문학관</a>을 운영 중이다.<sup class=\"reference\" id=\"cite_ref-18\"><a href=\"#cite_note-18\">[18]</a></sup></li></ul>\n",
      "<dl><dt>연변</dt></dl>\n",
      "<ul><li>용정의 용정 중학교에 윤동주 기념관이 있다.<sup class=\"reference\" id=\"cite_ref-19\"><a href=\"#cite_note-19\">[19]</a></sup></li></ul>\n",
      "<h3><span id=\".EA.B8.B0.EB.85.90.EB.AC.BC\"></span><span class=\"mw-headline\" id=\"기념물\">기념물</span><span class=\"mw-editsection\">\n",
      "<a class=\"cdx-button cdx-button--size-large cdx-button--fake-button cdx-button--fake-button--enabled cdx-button--icon-only cdx-button--weight-quiet\" href=\"/w/index.php?title=%EC%9C%A4%EB%8F%99%EC%A3%BC&amp;action=edit&amp;section=16\" role=\"button\" title=\"부분 편집: 기념물\">\n",
      "<span class=\"minerva-icon minerva-icon--edit\"></span>\n",
      "<span>편집</span>\n",
      "</a>\n",
      "</span>\n",
      "</h3>\n",
      "<ul><li><a href=\"/wiki/1968%EB%85%84\" title=\"1968년\">1968년</a> <a href=\"/wiki/11%EC%9B%94_2%EC%9D%BC\" title=\"11월 2일\">11월 2일</a> <a href=\"/wiki/%EC%97%B0%EC%84%B8%EB%8C%80%ED%95%99%EA%B5%90\" title=\"연세대학교\">연세대학교</a> 등이 모금한 성금으로 연세대에 유작 〈서시〉가 새겨진 ‘윤동주 시비(詩碑)’가 건립되었다.</li>\n",
      "<li>1985년부터 《월간문학지》에서 그를 기념한 「윤동주문학상」 수상자를 매년 선정, 수상하였다.</li>\n",
      "<li><a href=\"/wiki/1990%EB%85%84\" title=\"1990년\">1990년</a> <a href=\"/wiki/%EB%8C%80%ED%95%9C%EB%AF%BC%EA%B5%AD\" title=\"대한민국\">대한민국</a> <a href=\"/wiki/%EC%A0%95%EB%B6%80\" title=\"정부\">정부</a>에서 그의 공훈을 기리어 <a href=\"/wiki/%EA%B1%B4%EA%B5%AD%ED%9B%88%EC%9E%A5\" title=\"건국훈장\">건국공로훈장</a> 독립장을 추서하였다.<sup class=\"reference\" id=\"cite_ref-20\"><a href=\"#cite_note-20\">[20]</a></sup></li>\n",
      "<li><a href=\"/wiki/1992%EB%85%84\" title=\"1992년\">1992년</a> 9월, 모교인 용정 중학교에 〈서시(序詩)〉가 새겨진 시비가 건립되었다.<sup class=\"reference\" id=\"cite_ref-21\"><a href=\"#cite_note-21\">[21]</a></sup></li>\n",
      "<li><a href=\"/wiki/1995%EB%85%84\" title=\"1995년\">1995년</a> <a href=\"/wiki/%EC%9D%BC%EB%B3%B8\" title=\"일본\">일본</a> <a href=\"/wiki/%EB%8F%84%EC%8B%9C%EC%83%A4_%EB%8C%80%ED%95%99\" title=\"도시샤 대학\">도시샤 대학</a>에 친필 〈서시〉와 일본어 번역본이 새겨진 시비가 건립되었다.<sup class=\"reference\" id=\"cite_ref-22\"><a href=\"#cite_note-22\">[22]</a></sup> 2005년에는 윤동주가 가장 좋아했던 시인 정지용의 시비가 그 옆에 건립되었다.<sup class=\"reference\" id=\"cite_ref-23\"><a href=\"#cite_note-23\">[23]</a></sup> 또한 교토 대학 부근 그가 머물던 곳에 기념비를 세우려는 움직임이 있다.</li>\n",
      "<li><a href=\"/wiki/1999%EB%85%84\" title=\"1999년\">1999년</a> <a href=\"/wiki/%ED%95%9C%EA%B5%AD\" title=\"한국\">한국</a>예술평론가협의회에서 <a href=\"/wiki/20%EC%84%B8%EA%B8%B0\" title=\"20세기\">20세기</a>를 빛낸 <a href=\"/wiki/%ED%95%9C%EA%B5%AD\" title=\"한국\">한국</a>의 <a href=\"/wiki/%EC%98%88%EC%88%A0\" title=\"예술\">예술</a>인으로 선정되었다.</li></ul>\n",
      "</section><h2 class=\"section-heading\" onclick=\"mfTempOpenSection(7)\"><span class=\"indicator mf-icon mf-icon-expand mf-icon--small\"></span><span id=\".EA.B0.80.EC.A1.B1_.EA.B4.80.EA.B3.84\"></span><span class=\"mw-headline\" id=\"가족_관계\">가족 관계</span><span class=\"mw-editsection\">\n",
      "<a class=\"cdx-button cdx-button--size-large cdx-button--fake-button cdx-button--fake-button--enabled cdx-button--icon-only cdx-button--weight-quiet\" href=\"/w/index.php?title=%EC%9C%A4%EB%8F%99%EC%A3%BC&amp;action=edit&amp;section=17\" role=\"button\" title=\"부분 편집: 가족 관계\">\n",
      "<span class=\"minerva-icon minerva-icon--edit\"></span>\n",
      "<span>편집</span>\n",
      "</a>\n",
      "</span>\n",
      "</h2><section class=\"mf-section-7 collapsible-block\" id=\"mf-section-7\">\n",
      "<ul><li>고조부: 이씨</li>\n",
      "<li>증조부: 윤재옥</li>\n",
      "<li>조부: 윤하현(尹夏鉉, <a href=\"/wiki/1875%EB%85%84\" title=\"1875년\">1875년</a> <a href=\"/wiki/3%EC%9B%94_8%EC%9D%BC\" title=\"3월 8일\">3월 8일</a>(<a href=\"/wiki/%EC%9D%8C%EB%A0%A5_2%EC%9B%94_1%EC%9D%BC\" title=\"음력 2월 1일\">음력 2월 1일</a>) ~ <a href=\"/wiki/1948%EB%85%84\" title=\"1948년\">1948년</a> <a href=\"/wiki/9%EC%9B%94_4%EC%9D%BC\" title=\"9월 4일\">9월 4일</a>)</li>\n",
      "<li>조모: 강씨부인</li>\n",
      "<li>아버지: 윤영석(尹永錫, <a href=\"/wiki/1895%EB%85%84\" title=\"1895년\">1895년</a> <a href=\"/wiki/8%EC%9B%94_1%EC%9D%BC\" title=\"8월 1일\">8월 1일</a> ~ <a href=\"/wiki/1965%EB%85%84\" title=\"1965년\">1965년</a> <a href=\"/wiki/4%EC%9B%94_20%EC%9D%BC\" title=\"4월 20일\">4월 20일</a>)</li>\n",
      "<li>어머니: 김용(金龍, <a href=\"/wiki/1891%EB%85%84\" title=\"1891년\">1891년</a> <a href=\"/wiki/10%EC%9B%94_1%EC%9D%BC\" title=\"10월 1일\">10월 1일</a> ~ <a href=\"/wiki/1948%EB%85%84\" title=\"1948년\">1948년</a> <a href=\"/wiki/9%EC%9B%94_26%EC%9D%BC\" title=\"9월 26일\">9월 26일</a>, 본관은 전주(全州))\n",
      "<ul><li>누이: 윤혜원(尹惠媛, <a href=\"/wiki/1924%EB%85%84\" title=\"1924년\">1924년</a> ~ <a href=\"/wiki/2011%EB%85%84\" title=\"2011년\">2011년</a> <a href=\"/wiki/12%EC%9B%94_11%EC%9D%BC\" title=\"12월 11일\">12월 11일</a>)</li>\n",
      "<li>매제: 오형범(<a href=\"/wiki/1924%EB%85%84\" title=\"1924년\">1924년</a> ~ <a href=\"/wiki/2015%EB%85%84\" title=\"2015년\">2015년</a> <a href=\"/wiki/3%EC%9B%94_11%EC%9D%BC\" title=\"3월 11일\">3월 11일</a>)\n",
      "<ul><li>생질 조카: 오철주</li></ul></li>\n",
      "<li>남동생: <a href=\"/wiki/%EC%9C%A4%EC%9D%BC%EC%A3%BC_(%EC%8B%9C%EC%9D%B8)\" title=\"윤일주 (시인)\">윤일주</a>(尹一柱, 아명은 윤달환, <a href=\"/wiki/1927%EB%85%84\" title=\"1927년\">1927년</a> <a href=\"/wiki/11%EC%9B%94_23%EC%9D%BC\" title=\"11월 23일\">11월 23일</a> ~ <a href=\"/wiki/1985%EB%85%84\" title=\"1985년\">1985년</a> <a href=\"/wiki/11%EC%9B%94_28%EC%9D%BC\" title=\"11월 28일\">11월 28일</a>, 前 성균관대 건축공학과 교수)</li>\n",
      "<li>제수: 정덕희(<a href=\"/wiki/%EC%A0%95%EB%B3%91%EC%9A%B1\" title=\"정병욱\">정병욱</a>의 <a class=\"mw-redirect\" href=\"/wiki/%EC%97%AC%EB%8F%99%EC%83%9D\" title=\"여동생\">여동생</a>)\n",
      "<ul><li>조카: 윤인석(尹仁石, <a href=\"/wiki/1956%EB%85%84\" title=\"1956년\">1956년</a> ~ 現 성균관대 건축학과 교수)</li></ul></li>\n",
      "<li>남동생: 윤광주(尹光柱, 아명은 윤별환, <a href=\"/wiki/1930%EB%85%84\" title=\"1930년\">1930년</a> <a href=\"/wiki/6%EC%9B%94_19%EC%9D%BC\" title=\"6월 19일\">6월 19일</a> ~ <a href=\"/wiki/1966%EB%85%84\" title=\"1966년\">1966년</a> <a href=\"/wiki/10%EC%9B%94_8%EC%9D%BC\" title=\"10월 8일\">10월 8일</a>, 시인.)</li></ul></li>\n",
      "<li>고모: 윤신영(<a href=\"/wiki/1897%EB%85%84\" title=\"1897년\">1897년</a>~?)</li>\n",
      "<li>고모부: 송창희(<a href=\"/wiki/1891%EB%85%84\" title=\"1891년\">1891년</a>~<a href=\"/wiki/1971%EB%85%84\" title=\"1971년\">1971년</a>)</li>\n",
      "<li>이복외삼촌: <a href=\"/wiki/%EA%B9%80%EC%95%BD%EC%97%B0\" title=\"김약연\">김약연</a>(金躍淵, <a href=\"/wiki/1868%EB%85%84\" title=\"1868년\">1868년</a> <a href=\"/wiki/9%EC%9B%94_12%EC%9D%BC\" title=\"9월 12일\">9월 12일</a> ~ <a href=\"/wiki/1942%EB%85%84\" title=\"1942년\">1942년</a> <a href=\"/wiki/10%EC%9B%94_29%EC%9D%BC\" title=\"10월 29일\">10월 29일</a>), 한학자, 독립운동가</li>\n",
      "<li>사돈: <a href=\"/wiki/%EC%A0%95%EB%B3%91%EC%9A%B1\" title=\"정병욱\">정병욱</a>(鄭炳昱, <a href=\"/wiki/1922%EB%85%84\" title=\"1922년\">1922년</a> <a href=\"/wiki/3%EC%9B%94_25%EC%9D%BC\" title=\"3월 25일\">3월 25일</a> ~ <a href=\"/wiki/1982%EB%85%84\" title=\"1982년\">1982년</a> <a href=\"/wiki/10%EC%9B%94_12%EC%9D%BC\" title=\"10월 12일\">10월 12일</a>, 국문학자)</li></ul>\n",
      "</section><h2 class=\"section-heading\" onclick=\"mfTempOpenSection(8)\"><span class=\"indicator mf-icon mf-icon-expand mf-icon--small\"></span><span id=\".EA.B8.B0.ED.83.80\"></span><span class=\"mw-headline\" id=\"기타\">기타</span><span class=\"mw-editsection\">\n",
      "<a class=\"cdx-button cdx-button--size-large cdx-button--fake-button cdx-button--fake-button--enabled cdx-button--icon-only cdx-button--weight-quiet\" href=\"/w/index.php?title=%EC%9C%A4%EB%8F%99%EC%A3%BC&amp;action=edit&amp;section=18\" role=\"button\" title=\"부분 편집: 기타\">\n",
      "<span class=\"minerva-icon minerva-icon--edit\"></span>\n",
      "<span>편집</span>\n",
      "</a>\n",
      "</span>\n",
      "</h2><section class=\"mf-section-8 collapsible-block\" id=\"mf-section-8\">\n",
      "<ul><li>윤동주의 창씨개명은 <a href=\"/wiki/1990%EB%85%84\" title=\"1990년\">1990년</a>대 이후에 알려지게 되었다. 그의 창씨개명설을 지적받게 되자 윤동주를 연구하던 한 교수는 이를 언급하기를 꽤 난처해했다 한다.<sup class=\"reference\" id=\"cite_ref-whtjs012_5-1\"><a href=\"#cite_note-whtjs012-5\">[5]</a></sup> 윤동주의 창씨개명설은 <a href=\"/wiki/2005%EB%85%84\" title=\"2005년\">2005년</a> 이후에 공식적으로 언급 인정되었다. 다만 윤동주가 일본 유학을 위해 어쩔 수 없이 개명에 참여했다는 설이 유력하다.</li>\n",
      "<li>학창 시절 때 <a href=\"/wiki/%EC%B6%95%EA%B5%AC\" title=\"축구\">축구</a>를 좋아하여 <a href=\"/wiki/%EC%B6%95%EA%B5%AC_%EC%84%A0%EC%88%98\" title=\"축구 선수\">축구 선수</a>로 활약했었다는 기록이 있다. 당시 학교 축구단은 현대와 같은 축구부와 같은 개념과는 사뭇 다르며, 기록에도 축구 <b>선수</b>라는 표현을 사용했다.<sup class=\"reference\" id=\"cite_ref-24\"><a href=\"#cite_note-24\">[24]</a></sup>이는 단순히 윤동주 시인이 과거 축구를 좋아했다는 사실로 그치는 것이 아닌 집회의 자유가 없었던 일제강점기에 체육 활동 등으로 당시 일제의 억압에 저항했다는 사실에 의의를 둔다.</li></ul>\n",
      "</section><h2 class=\"section-heading\" onclick=\"mfTempOpenSection(9)\"><span class=\"indicator mf-icon mf-icon-expand mf-icon--small\"></span><span id=\".EB.8C.80.EC.A4.91_.EB.AC.B8.ED.99.94.EC.97.90_.EB.82.98.ED.83.80.EB.82.9C_.EC.9C.A4.EB.8F.99.EC.A3.BC\"></span><span class=\"mw-headline\" id=\"대중_문화에_나타난_윤동주\">대중 문화에 나타난 윤동주</span><span class=\"mw-editsection\">\n",
      "<a class=\"cdx-button cdx-button--size-large cdx-button--fake-button cdx-button--fake-button--enabled cdx-button--icon-only cdx-button--weight-quiet\" href=\"/w/index.php?title=%EC%9C%A4%EB%8F%99%EC%A3%BC&amp;action=edit&amp;section=19\" role=\"button\" title=\"부분 편집: 대중 문화에 나타난 윤동주\">\n",
      "<span class=\"minerva-icon minerva-icon--edit\"></span>\n",
      "<span>편집</span>\n",
      "</a>\n",
      "</span>\n",
      "</h2><section class=\"mf-section-9 collapsible-block\" id=\"mf-section-9\">\n",
      "<h3><span id=\".EB.B0.A9.EC.86.A1\"></span><span class=\"mw-headline\" id=\"방송\">방송</span><span class=\"mw-editsection\">\n",
      "<a class=\"cdx-button cdx-button--size-large cdx-button--fake-button cdx-button--fake-button--enabled cdx-button--icon-only cdx-button--weight-quiet\" href=\"/w/index.php?title=%EC%9C%A4%EB%8F%99%EC%A3%BC&amp;action=edit&amp;section=20\" role=\"button\" title=\"부분 편집: 방송\">\n",
      "<span class=\"minerva-icon minerva-icon--edit\"></span>\n",
      "<span>편집</span>\n",
      "</a>\n",
      "</span>\n",
      "</h3>\n",
      "<ul><li><a class=\"mw-redirect\" href=\"/wiki/KBS1\" title=\"KBS1\">KBS1</a> 《마돈나여 광야에서 별을 노래하라》 제2부 〈하늘과 바람과 별과 시〉 - 영상시극, <a href=\"/wiki/1984%EB%85%84\" title=\"1984년\">1984년</a> 12월 22일(방영시간 120분)<sup class=\"reference\" id=\"cite_ref-25\"><a href=\"#cite_note-25\">[25]</a></sup></li>\n",
      "<li><a class=\"mw-redirect\" href=\"/wiki/KBS1\" title=\"KBS1\">KBS1</a> 《영상기행3.1절 — 민족시인 尹東柱》, 1988년 3월 1일(방영시간 60분)<sup class=\"reference\" id=\"cite_ref-26\"><a href=\"#cite_note-26\">[26]</a></sup></li>\n",
      "<li><a class=\"mw-redirect\" href=\"/wiki/NHK\" title=\"NHK\">NHK</a> 《NHK스페셜》 〈하늘과 바람과 별과 詩, 尹東柱, 일본통치하의 청춘과 죽음〉, 1995년 3월 11일(방영시간 60분)<sup class=\"reference\" id=\"cite_ref-27\"><a href=\"#cite_note-27\">[27]</a></sup></li>\n",
      "<li><a class=\"mw-redirect\" href=\"/wiki/EBS\" title=\"EBS\">EBS</a>《<a href=\"/wiki/%EC%A7%80%EC%8B%9D%EC%B1%84%EB%84%90e\" title=\"지식채널e\">지식채널e</a>》하늘과 바람과 별과 시 1부: 별 (2006년 7월 31일 방영), 2부: 시 (2006년 8월 7일 방영)</li>\n",
      "<li><a class=\"mw-redirect\" href=\"/wiki/KBS\" title=\"KBS\">KBS</a>《<a href=\"/wiki/%ED%95%B4%ED%94%BC%EC%84%A0%EB%8D%B0%EC%9D%B4\" title=\"해피선데이\">해피선데이</a> - <a href=\"/wiki/1%EB%B0%95_2%EC%9D%BC\" title=\"1박 2일\">1박 2일</a>》백두산 탐방 특집 윤동주 생가 방문 (<a href=\"/wiki/2008%EB%85%84\" title=\"2008년\">2008년</a> <a href=\"/wiki/6%EC%9B%94\" title=\"6월\">6</a>~<a href=\"/wiki/7%EC%9B%94\" title=\"7월\">7월</a>)</li>\n",
      "<li><a href=\"/wiki/SBS\" title=\"SBS\">SBS</a>《<a href=\"/wiki/%EA%B7%B8%EA%B2%83%EC%9D%B4_%EC%95%8C%EA%B3%A0%EC%8B%B6%EB%8B%A4\" title=\"그것이 알고싶다\">그것이 알고싶다</a>》윤동주 그 죽음의 미스터리, 후쿠오카 형무소에선 무슨 일이 있었나 (<a href=\"/wiki/2009%EB%85%84\" title=\"2009년\">2009년</a> <a href=\"/wiki/8%EC%9B%94_15%EC%9D%BC\" title=\"8월 15일\">8월 15일</a>)</li>\n",
      "<li><a class=\"mw-redirect\" href=\"/wiki/MBC\" title=\"MBC\">MBC</a>《<a class=\"mw-redirect\" href=\"/wiki/MBC%EC%8A%A4%ED%8E%98%EC%85%9C\" title=\"MBC스페셜\">MBC스페셜</a>》가을, 윤동주 생각 (<a href=\"/wiki/2011%EB%85%84\" title=\"2011년\">2011년</a> <a href=\"/wiki/11%EC%9B%94_4%EC%9D%BC\" title=\"11월 4일\">11월 4일</a>)</li>\n",
      "<li><a class=\"mw-redirect\" href=\"/wiki/KBS1\" title=\"KBS1\">KBS1</a> 《KBS공사창립특집》 불멸의 청년, 윤동주 (2016년 3월 6일)</li></ul>\n",
      "<h3><span id=\".EC.98.81.ED.99.94\"></span><span class=\"mw-headline\" id=\"영화\">영화</span><span class=\"mw-editsection\">\n",
      "<a class=\"cdx-button cdx-button--size-large cdx-button--fake-button cdx-button--fake-button--enabled cdx-button--icon-only cdx-button--weight-quiet\" href=\"/w/index.php?title=%EC%9C%A4%EB%8F%99%EC%A3%BC&amp;action=edit&amp;section=21\" role=\"button\" title=\"부분 편집: 영화\">\n",
      "<span class=\"minerva-icon minerva-icon--edit\"></span>\n",
      "<span>편집</span>\n",
      "</a>\n",
      "</span>\n",
      "</h3>\n",
      "<ul><li>《<a href=\"/wiki/%EB%8F%99%EC%A3%BC_(%EC%98%81%ED%99%94)\" title=\"동주 (영화)\">동주</a>》(2016, <a href=\"/wiki/%EA%B0%95%ED%95%98%EB%8A%98\" title=\"강하늘\">강하늘</a>)</li>\n",
      "<li>《<a href=\"/wiki/%EC%8B%9C%EC%9D%B8%EC%9D%98_%EB%B0%A9\" title=\"시인의 방\">시인의 방</a>》(2022, <a href=\"/wiki/%EC%9D%B4%EC%83%81%EC%9C%A4_(%EB%B0%B0%EC%9A%B0)\" title=\"이상윤 (배우)\">이상윤</a>)</li></ul>\n",
      "<h3><span id=\".EB.85.B8.EB.9E.98\"></span><span class=\"mw-headline\" id=\"노래\">노래</span><span class=\"mw-editsection\">\n",
      "<a class=\"cdx-button cdx-button--size-large cdx-button--fake-button cdx-button--fake-button--enabled cdx-button--icon-only cdx-button--weight-quiet\" href=\"/w/index.php?title=%EC%9C%A4%EB%8F%99%EC%A3%BC&amp;action=edit&amp;section=22\" role=\"button\" title=\"부분 편집: 노래\">\n",
      "<span class=\"minerva-icon minerva-icon--edit\"></span>\n",
      "<span>편집</span>\n",
      "</a>\n",
      "</span>\n",
      "</h3>\n",
      "<ul><li>무서운 시간 (정민석, 고영월, 존 노, 김바울)</li>\n",
      "<li>당신의 밤 (황광희, 개코, feat. 오혁)</li>\n",
      "<li>별 헤는 밤 (김민규, 윤현선)</li>\n",
      "<li>소년 (홍이삭)</li></ul>\n",
      "</section><h2 class=\"section-heading\" onclick=\"mfTempOpenSection(10)\"><span class=\"indicator mf-icon mf-icon-expand mf-icon--small\"></span><span id=\".EA.B0.99.EC.9D.B4_.EB.B3.B4.EA.B8.B0\"></span><span class=\"mw-headline\" id=\"같이_보기\">같이 보기</span><span class=\"mw-editsection\">\n",
      "<a class=\"cdx-button cdx-button--size-large cdx-button--fake-button cdx-button--fake-button--enabled cdx-button--icon-only cdx-button--weight-quiet\" href=\"/w/index.php?title=%EC%9C%A4%EB%8F%99%EC%A3%BC&amp;action=edit&amp;section=23\" role=\"button\" title=\"부분 편집: 같이 보기\">\n",
      "<span class=\"minerva-icon minerva-icon--edit\"></span>\n",
      "<span>편집</span>\n",
      "</a>\n",
      "</span>\n",
      "</h2><section class=\"mf-section-10 collapsible-block\" id=\"mf-section-10\">\n",
      "<div>\n",
      "<table class=\"multicol\" role=\"presentation\" style=\"border-collapse: collapse; padding: 0; border: 0; background:transparent; width:100%;\">\n",
      "<tbody><tr>\n",
      "<td style=\"width: 33.33%;text-align: left; vertical-align: top;\">\n",
      "<ul><li><a href=\"/wiki/%EB%8F%84%EC%8B%9C%EC%83%A4_%EB%8C%80%ED%95%99\" title=\"도시샤 대학\">도시샤 대학</a></li>\n",
      "<li><a href=\"/wiki/%EB%A6%BF%EC%BF%84_%EB%8C%80%ED%95%99\" title=\"릿쿄 대학\">릿쿄 대학</a></li>\n",
      "<li><a href=\"/wiki/%EC%97%B0%ED%9D%AC%EC%A0%84%EB%AC%B8%ED%95%99%EA%B5%90\" title=\"연희전문학교\">연희전문학교</a></li>\n",
      "<li><a href=\"/wiki/%EC%86%A1%EB%AA%BD%EA%B7%9C\" title=\"송몽규\">송몽규</a></li>\n",
      "<li><a href=\"/wiki/%EB%AC%B8%EC%9D%B5%ED%99%98\" title=\"문익환\">문익환</a></li>\n",
      "<li><a href=\"/wiki/%EC%A0%95%EB%B3%91%EC%9A%B1\" title=\"정병욱\">정병욱</a></li>\n",
      "<li><a href=\"/wiki/%EC%95%88%EB%B3%91%EC%9A%B1\" title=\"안병욱\">안병욱</a></li>\n",
      "<li><a href=\"/wiki/%EC%9E%A5%EC%A4%80%ED%95%98\" title=\"장준하\">장준하</a></li>\n",
      "<li><a href=\"/wiki/%EC%A0%95%EC%A7%80%EC%9A%A9\" title=\"정지용\">정지용</a></li>\n",
      "<li><a href=\"/wiki/%EA%B9%80%EA%B8%B0%EC%B0%BD_(%ED%99%94%EA%B0%80)\" title=\"김기창 (화가)\">김기창</a></li>\n",
      "<li><a href=\"/wiki/%EC%B0%B8%ED%9A%8C%EB%A1%9D\" title=\"참회록\">참회록</a></li>\n",
      "<li><a href=\"/wiki/%EA%B9%80%EC%98%81%EB%9E%91\" title=\"김영랑\">김영랑</a></li>\n",
      "<li><a href=\"/wiki/%EB%B0%95%EB%AA%A9%EC%9B%94\" title=\"박목월\">박목월</a></li>\n",
      "<li><a href=\"/wiki/%EB%B0%95%EB%91%90%EC%A7%84\" title=\"박두진\">박두진</a></li>\n",
      "<li><a href=\"/wiki/%EB%B0%95%EC%A2%85%ED%99%94\" title=\"박종화\">박종화</a></li>\n",
      "<li><a class=\"mw-redirect\" href=\"/wiki/%EC%86%A1%EC%A7%84%EC%9A%B0_(%EC%A0%95%EC%B9%98%EC%9D%B8)\" title=\"송진우 (정치인)\">송진우</a></li>\n",
      "<li><a href=\"/wiki/%EC%8B%AC%EB%A0%A8%EC%88%98\" title=\"심련수\">심련수</a></li>\n",
      "<li><a href=\"/wiki/%EC%9D%B4%EA%B4%91%EC%88%98\" title=\"이광수\">이광수</a></li>\n",
      "<li><a href=\"/wiki/%EC%9E%A5%EB%A9%B4\" title=\"장면\">장면</a></li>\n",
      "<li><a href=\"/wiki/%EC%A1%B0%EC%A7%80%ED%9B%88\" title=\"조지훈\">조지훈</a></li>\n",
      "<li><a class=\"mw-redirect\" href=\"/wiki/%EB%A7%88%EB%A3%A8%ED%83%80\" title=\"마루타\">마루타</a></li>\n",
      "<li><a href=\"/wiki/%EC%97%B0%EC%84%B8%EB%8C%80%ED%95%99%EA%B5%90\" title=\"연세대학교\">연세대학교</a></li>\n",
      "<li><a href=\"/wiki/%ED%9B%84%EC%BF%A0%EC%98%A4%EC%B9%B4%ED%98%84\" title=\"후쿠오카현\">후쿠오카현</a></li>\n",
      "<li><a href=\"/wiki/%EC%9C%A4%EC%98%81%EC%B6%98\" title=\"윤영춘\">윤영춘</a></li>\n",
      "<li><a href=\"/wiki/%EA%B9%80%EC%86%8C%EC%9B%94\" title=\"김소월\">김소월</a></li>\n",
      "<li><a href=\"/wiki/%EC%9C%A4%EB%AA%85%EC%84%A0_(1900%EB%85%84)\" title=\"윤명선 (1900년)\">윤명선</a></li>\n",
      "<li><a href=\"/wiki/%EC%A1%B0%EB%A7%8C%EC%8B%9D\" title=\"조만식\">조만식</a></li>\n",
      "<li><a href=\"/wiki/%EC%9C%A4%ED%98%95%EC%A3%BC\" title=\"윤형주\">윤형주</a></li>\n",
      "<li><a href=\"/wiki/%EB%A7%88%EA%B4%91%EC%88%98\" title=\"마광수\">마광수</a></li></ul>\n",
      "<p>\n",
      "</p>\n",
      "</td></tr></tbody></table></div>\n",
      "</section><h2 class=\"section-heading\" onclick=\"mfTempOpenSection(11)\"><span class=\"indicator mf-icon mf-icon-expand mf-icon--small\"></span><span id=\".EA.B0.81.EC.A3.BC\"></span><span class=\"mw-headline\" id=\"각주\">각주</span><span class=\"mw-editsection\">\n",
      "<a class=\"cdx-button cdx-button--size-large cdx-button--fake-button cdx-button--fake-button--enabled cdx-button--icon-only cdx-button--weight-quiet\" href=\"/w/index.php?title=%EC%9C%A4%EB%8F%99%EC%A3%BC&amp;action=edit&amp;section=24\" role=\"button\" title=\"부분 편집: 각주\">\n",
      "<span class=\"minerva-icon minerva-icon--edit\"></span>\n",
      "<span>편집</span>\n",
      "</a>\n",
      "</span>\n",
      "</h2><section class=\"mf-section-11 collapsible-block\" id=\"mf-section-11\">\n",
      "<div class=\"mw-references-wrap mw-references-columns\"><ol class=\"references\">\n",
      "<li id=\"cite_note-1\"><span class=\"mw-cite-backlink\"><a href=\"#cite_ref-1\">↑</a></span> <span class=\"reference-text\"><a class=\"mw-redirect\" href=\"/wiki/%EB%B6%81%EA%B0%84%EB%8F%84\" title=\"북간도\">북간도</a> 또는 동간도 명동촌으로도 불린다. <cite class=\"citation web\"><a class=\"external text\" href=\"https://terms.naver.com/entry.naver?docId=1133201&amp;cid=40942&amp;categoryId=33384\" rel=\"nofollow\">“윤동주”</a>. 《<a class=\"mw-redirect\" href=\"/wiki/%EB%91%90%EC%82%B0%EB%B0%B1%EA%B3%BC\" title=\"두산백과\">두산백과</a>》<span class=\"reference-accessdate\">. 2024년 2월 3일에 확인함</span>.</cite><span class=\"Z3988\" title=\"ctx_ver=Z39.88-2004&amp;rft_val_fmt=info%3Aofi%2Ffmt%3Akev%3Amtx%3Ajournal&amp;rft.genre=unknown&amp;rft.jtitle=%EB%91%90%EC%82%B0%EB%B0%B1%EA%B3%BC&amp;rft.atitle=%EC%9C%A4%EB%8F%99%EC%A3%BC&amp;rft_id=https%3A%2F%2Fterms.naver.com%2Fentry.naver%3FdocId%3D1133201%26cid%3D40942%26categoryId%3D33384&amp;rfr_id=info%3Asid%2Fko.wikipedia.org%3A%EC%9C%A4%EB%8F%99%EC%A3%BC\"><span style=\"display:none;\"> </span></span></span>\n",
      "</li>\n",
      "<li id=\"cite_note-2\"><span class=\"mw-cite-backlink\"><a href=\"#cite_ref-2\">↑</a></span> <span class=\"reference-text\"><cite class=\"citation news\"><a class=\"external text\" href=\"https://www.koreaworldtimes.com/topics/news/8691/\" rel=\"nofollow\"><bdi lang=\"ja\">中韓でもめる愛国詩人？ 存在していない国の国籍をつけられた尹東柱</bdi></a>. 《KoreaWorldTimes》 (일본어). 2021년 2월 20일<span class=\"reference-accessdate\">. 2021년 5월 30일에 확인함</span>.</cite><span class=\"Z3988\" title=\"ctx_ver=Z39.88-2004&amp;rft_val_fmt=info%3Aofi%2Ffmt%3Akev%3Amtx%3Ajournal&amp;rft.genre=article&amp;rft.jtitle=KoreaWorldTimes&amp;rft.atitle=%E4%B8%AD%E9%9F%93%E3%81%A7%E3%82%82%E3%82%81%E3%82%8B%E6%84%9B%E5%9B%BD%E8%A9%A9%E4%BA%BA%EF%BC%9F+%E5%AD%98%E5%9C%A8%E3%81%97%E3%81%A6%E3%81%84%E3%81%AA%E3%81%84%E5%9B%BD%E3%81%AE%E5%9B%BD%E7%B1%8D%E3%82%92%E3%81%A4%E3%81%91%E3%82%89%E3%82%8C%E3%81%9F%E5%B0%B9%E6%9D%B1%E6%9F%B1&amp;rft.date=2021-02-20&amp;rft_id=https%3A%2F%2Fwww.koreaworldtimes.com%2Ftopics%2Fnews%2F8691%2F&amp;rfr_id=info%3Asid%2Fko.wikipedia.org%3A%EC%9C%A4%EB%8F%99%EC%A3%BC\"><span style=\"display:none;\"> </span></span></span>\n",
      "</li>\n",
      "<li id=\"cite_note-윤동주_시집2-3\"><span class=\"mw-cite-backlink\">↑ <sup><a href=\"#cite_ref-%EC%9C%A4%EB%8F%99%EC%A3%BC_%EC%8B%9C%EC%A7%912_3-0\">가</a></sup> <sup><a href=\"#cite_ref-%EC%9C%A4%EB%8F%99%EC%A3%BC_%EC%8B%9C%EC%A7%912_3-1\">나</a></sup></span> <span class=\"reference-text\">윤동주 시집 《하늘과 바람과 별과 시》</span>\n",
      "</li>\n",
      "<li id=\"cite_note-4\"><span class=\"mw-cite-backlink\"><a href=\"#cite_ref-4\">↑</a></span> <span class=\"reference-text\">네이버캐스트 독립운동가 &lt;윤동주&gt;</span>\n",
      "</li>\n",
      "<li id=\"cite_note-whtjs012-5\"><span class=\"mw-cite-backlink\">↑ <sup><a href=\"#cite_ref-whtjs012_5-0\">가</a></sup> <sup><a href=\"#cite_ref-whtjs012_5-1\">나</a></sup></span> <span class=\"reference-text\"><a class=\"external text\" href=\"http://www.chosun.com/editorials/news/200410/200410180343.html\" rel=\"nofollow\">김기창과 윤동주</a> <a class=\"external text\" href=\"https://web.archive.org/web/20160705190610/http://www.chosun.com/editorials/news/200410/200410180343.html\" rel=\"nofollow\">Archived</a> 2016년 7월 5일 - <a href=\"/wiki/%EC%9B%A8%EC%9D%B4%EB%B0%B1_%EB%A8%B8%EC%8B%A0\" title=\"웨이백 머신\">웨이백 머신</a> - 조선일보</span>\n",
      "</li>\n",
      "<li id=\"cite_note-6\"><span class=\"mw-cite-backlink\"><a href=\"#cite_ref-6\">↑</a></span> <span class=\"reference-text\">유종호, 나의 해방 전후:1940-1949 (민음사, 2004) 12페이지</span>\n",
      "</li>\n",
      "<li id=\"cite_note-7\"><span class=\"mw-cite-backlink\"><a href=\"#cite_ref-7\">↑</a></span> <span class=\"reference-text\">조한서, 《윤동주:겨레의 마음에 별이 된 시인》 (도서출판 아름다운사람들, 2005) 122페이지</span>\n",
      "</li>\n",
      "<li id=\"cite_note-8\"><span class=\"mw-cite-backlink\"><a href=\"#cite_ref-8\">↑</a></span> <span class=\"reference-text\">윤동주, 《오줌싸개 지도(윤동주 시집)》 (효리원, 2005) 119페이지</span>\n",
      "</li>\n",
      "<li id=\"cite_note-9\"><span class=\"mw-cite-backlink\"><a href=\"#cite_ref-9\">↑</a></span> <span class=\"reference-text\"><a class=\"external text\" href=\"http://www.segye.com/Articles/NEWS/CULTURE/Article.asp?aid=20100715000015&amp;subctg1=&amp;subctg2=\" rel=\"nofollow\">(단독) “윤동주, 조선독립 실현시키려 했다”</a> <a href=\"/wiki/%EC%84%B8%EA%B3%84%EC%9D%BC%EB%B3%B4\" title=\"세계일보\">세계일보</a> 2010년 7월 15일 작성</span>\n",
      "</li>\n",
      "<li id=\"cite_note-10\"><span class=\"mw-cite-backlink\"><a href=\"#cite_ref-10\">↑</a></span> <span class=\"reference-text\"><a class=\"external text\" href=\"http://news.khan.co.kr/kh_news/khan_art_view.html?artid=200602131741061&amp;code=960205\" rel=\"nofollow\">박덕규, 「‘민족시인’ 윤동주-폭압의 겨울, 봄을 그리며 별로 지다」, 《경향닷컴》, 2006.2.</a></span>\n",
      "</li>\n",
      "<li id=\"cite_note-11\"><span class=\"mw-cite-backlink\"><a href=\"#cite_ref-11\">↑</a></span> <span class=\"reference-text\"><cite class=\"citation news\">조상인 (2017년 3월 1일). <a class=\"external text\" href=\"http://www.sedaily.com/NewsView/1OD7AM1Z6O\" rel=\"nofollow\">“윤동주 첫 시집표지는 파란색 아니라 갈색?”</a>. 서울경제<span class=\"reference-accessdate\">. 2018년 8월 28일에 확인함</span>.</cite><span class=\"Z3988\" title=\"ctx_ver=Z39.88-2004&amp;rft_val_fmt=info%3Aofi%2Ffmt%3Akev%3Amtx%3Ajournal&amp;rft.genre=article&amp;rft.atitle=%EC%9C%A4%EB%8F%99%EC%A3%BC+%EC%B2%AB+%EC%8B%9C%EC%A7%91%ED%91%9C%EC%A7%80%EB%8A%94+%ED%8C%8C%EB%9E%80%EC%83%89+%EC%95%84%EB%8B%88%EB%9D%BC+%EA%B0%88%EC%83%89%3F&amp;rft.date=2017-03-01&amp;rft.au=%EC%A1%B0%EC%83%81%EC%9D%B8&amp;rft_id=http%3A%2F%2Fwww.sedaily.com%2FNewsView%2F1OD7AM1Z6O&amp;rfr_id=info%3Asid%2Fko.wikipedia.org%3A%EC%9C%A4%EB%8F%99%EC%A3%BC\"><span style=\"display:none;\"> </span></span></span>\n",
      "</li>\n",
      "<li id=\"cite_note-12\"><span class=\"mw-cite-backlink\"><a href=\"#cite_ref-12\">↑</a></span> <span class=\"reference-text\"><a href=\"/wiki/%EB%B0%95%EB%91%90%EC%A7%84\" title=\"박두진\">박두진</a>, 「殉節의 詩人 尹東柱」, 《동아일보》, 1965.3.4</span>\n",
      "</li>\n",
      "<li id=\"cite_note-13\"><span class=\"mw-cite-backlink\"><a href=\"#cite_ref-13\">↑</a></span> <span class=\"reference-text\"><a href=\"/wiki/%EC%A0%95%ED%95%9C%EB%AA%A8\" title=\"정한모\">정한모</a>, 「저하늘의 빛나는 별로」, 《경향신문》, 1965.2.17.</span>\n",
      "</li>\n",
      "<li id=\"cite_note-14\"><span class=\"mw-cite-backlink\"><a href=\"#cite_ref-14\">↑</a></span> <span class=\"reference-text\"><cite class=\"citation news\"><a class=\"external text\" href=\"http://dna.naver.com/viewer/index.nhn?articleId=1986020400209210001&amp;editNo=2&amp;printCount=1&amp;publishDate=1986-02-04&amp;officeId=00020&amp;pageNo=10&amp;printNo=19797&amp;publishType=00020\" rel=\"nofollow\">“<span style=\"padding-left:0.2em;\">\"</span>가장 좋아하는 詩人은 尹東柱<span style=\"padding-right:0.2em;\">\"</span>”</a>. <a href=\"/wiki/%EB%8F%99%EC%95%84%EC%9D%BC%EB%B3%B4\" title=\"동아일보\">동아일보</a>. 1986년 2월 4일.</cite><span class=\"Z3988\" title=\"ctx_ver=Z39.88-2004&amp;rft_val_fmt=info%3Aofi%2Ffmt%3Akev%3Amtx%3Ajournal&amp;rft.genre=article&amp;rft.atitle=%22%EA%B0%80%EC%9E%A5+%EC%A2%8B%EC%95%84%ED%95%98%EB%8A%94+%E8%A9%A9%E4%BA%BA%EC%9D%80+%E5%B0%B9%E6%9D%B1%E6%9F%B1%22&amp;rft.date=1986-02-04&amp;rft_id=http%3A%2F%2Fdna.naver.com%2Fviewer%2Findex.nhn%3FarticleId%3D1986020400209210001%26editNo%3D2%26printCount%3D1%26publishDate%3D1986-02-04%26officeId%3D00020%26pageNo%3D10%26printNo%3D19797%26publishType%3D00020&amp;rfr_id=info%3Asid%2Fko.wikipedia.org%3A%EC%9C%A4%EB%8F%99%EC%A3%BC\"><span style=\"display:none;\"> </span></span><style data-mw-deduplicate=\"TemplateStyles:r36482206\">.mw-parser-output .fix{background-color:#fff9f9;color:DarkSlateGray;border:1px solid #ffdcdc}</style><sup class=\"정리_필요 noprint\">[<a href=\"/wiki/%EC%9C%84%ED%82%A4%EB%B0%B1%EA%B3%BC:%EA%B9%A8%EC%A7%84_%EB%A7%81%ED%81%AC\" title=\"위키백과:깨진 링크\">깨진 링크</a>(<a class=\"external text\" href=\"https://web.archive.org/web/*/http://dna.naver.com/viewer/index.nhn?articleId=1986020400209210001&amp;editNo=2&amp;printCount=1&amp;publishDate=1986-02-04&amp;officeId=00020&amp;pageNo=10&amp;printNo=19797&amp;publishType=00020\" rel=\"nofollow\">과거 내용 찾기</a>)]</sup></span>\n",
      "</li>\n",
      "<li id=\"cite_note-15\"><span class=\"mw-cite-backlink\"><a href=\"#cite_ref-15\">↑</a></span> <span class=\"reference-text\">尹東柱 遺稿詩 북한서 발굴, 《동아일보》, 1992.4.27</span>\n",
      "</li>\n",
      "<li id=\"cite_note-신동아_12-16\"><span class=\"mw-cite-backlink\"><a href=\"#cite_ref-%EC%8B%A0%EB%8F%99%EC%95%84_12_16-0\">↑</a></span> <span class=\"reference-text\"><a class=\"external text\" href=\"http://www.donga.com/docs/magazine/shin/2005/03/24/200503240500029/200503240500029_1.html\" rel=\"nofollow\">윤필립, 「윤동주 서거 60년, 알려지지 않은 이야기들」, 《신동아》, 2005.4.</a><link href=\"mw-data:TemplateStyles:r36482206\" rel=\"mw-deduplicated-inline-style\"/><sup class=\"정리_필요 noprint\">[<a href=\"/wiki/%EC%9C%84%ED%82%A4%EB%B0%B1%EA%B3%BC:%EA%B9%A8%EC%A7%84_%EB%A7%81%ED%81%AC\" title=\"위키백과:깨진 링크\">깨진 링크</a>(<a class=\"external text\" href=\"https://web.archive.org/web/*/http://www.donga.com/docs/magazine/shin/2005/03/24/200503240500029/200503240500029_1.html\" rel=\"nofollow\">과거 내용 찾기</a>)]</sup></span>\n",
      "</li>\n",
      "<li id=\"cite_note-17\"><span class=\"mw-cite-backlink\"><a href=\"#cite_ref-17\">↑</a></span> <span class=\"reference-text\"><a class=\"external text\" href=\"http://www.hankyung.com/news/app/newsview.php?aid=201302063794g\" rel=\"nofollow\">연세대에 '윤동주 기념관' 문 연다</a>, 《한국경제》, 2013.2.6</span>\n",
      "</li>\n",
      "<li id=\"cite_note-18\"><span class=\"mw-cite-backlink\"><a href=\"#cite_ref-18\">↑</a></span> <span class=\"reference-text\"><cite class=\"citation web\"><a class=\"external text\" href=\"https://web.archive.org/web/20180709153801/https://www.jfac.or.kr/site/main/content/yoondj01\" rel=\"nofollow\">“윤동주문학관”</a>. 2018년 7월 9일에 <a class=\"external text\" href=\"https://www.jfac.or.kr/site/main/content/yoondj01\" rel=\"nofollow\">원본 문서</a>에서 보존된 문서<span class=\"reference-accessdate\">. 2018년 7월 9일에 확인함</span>.</cite><span class=\"Z3988\" title=\"ctx_ver=Z39.88-2004&amp;rft_val_fmt=info%3Aofi%2Ffmt%3Akev%3Amtx%3Abook&amp;rft.genre=unknown&amp;rft.btitle=%EC%9C%A4%EB%8F%99%EC%A3%BC%EB%AC%B8%ED%95%99%EA%B4%80&amp;rft_id=https%3A%2F%2Fwww.jfac.or.kr%2Fsite%2Fmain%2Fcontent%2Fyoondj01&amp;rfr_id=info%3Asid%2Fko.wikipedia.org%3A%EC%9C%A4%EB%8F%99%EC%A3%BC\"><span style=\"display:none;\"> </span></span></span>\n",
      "</li>\n",
      "<li id=\"cite_note-19\"><span class=\"mw-cite-backlink\"><a href=\"#cite_ref-19\">↑</a></span> <span class=\"reference-text\"><a class=\"external text\" href=\"http://www.koreatimes.com/article/255244\" rel=\"nofollow\">'윤동주 시인을 생각한다' ...낭만파클럽, 30일 다양한 행사</a> <a class=\"external text\" href=\"https://web.archive.org/web/20161009122509/http://www.koreatimes.com/article/255244\" rel=\"nofollow\">Archived</a> 2016년 10월 9일 - <a href=\"/wiki/%EC%9B%A8%EC%9D%B4%EB%B0%B1_%EB%A8%B8%EC%8B%A0\" title=\"웨이백 머신\">웨이백 머신</a>, 《미주한국일보》, 2005.7.6</span>\n",
      "</li>\n",
      "<li id=\"cite_note-20\"><span class=\"mw-cite-backlink\"><a href=\"#cite_ref-20\">↑</a></span> <span class=\"reference-text\"><cite class=\"citation news\"><a class=\"external text\" href=\"http://dna.naver.com/viewer/index.nhn?articleId=1990081500329208005&amp;editNo=3&amp;printCount=1&amp;publishDate=1990-08-15&amp;officeId=00032&amp;pageNo=8&amp;printNo=13812&amp;publishType=00020\" rel=\"nofollow\">“시인 尹東柱 건국훈장 독립장 추서”</a>. <a href=\"/wiki/%EA%B2%BD%ED%96%A5%EC%8B%A0%EB%AC%B8\" title=\"경향신문\">경향신문</a>. 1990년 8월 15일.</cite><span class=\"Z3988\" title=\"ctx_ver=Z39.88-2004&amp;rft_val_fmt=info%3Aofi%2Ffmt%3Akev%3Amtx%3Ajournal&amp;rft.genre=article&amp;rft.atitle=%EC%8B%9C%EC%9D%B8+%E5%B0%B9%E6%9D%B1%E6%9F%B1+%EA%B1%B4%EA%B5%AD%ED%9B%88%EC%9E%A5+%EB%8F%85%EB%A6%BD%EC%9E%A5+%EC%B6%94%EC%84%9C&amp;rft.date=1990-08-15&amp;rft_id=http%3A%2F%2Fdna.naver.com%2Fviewer%2Findex.nhn%3FarticleId%3D1990081500329208005%26editNo%3D3%26printCount%3D1%26publishDate%3D1990-08-15%26officeId%3D00032%26pageNo%3D8%26printNo%3D13812%26publishType%3D00020&amp;rfr_id=info%3Asid%2Fko.wikipedia.org%3A%EC%9C%A4%EB%8F%99%EC%A3%BC\"><span style=\"display:none;\"> </span></span><link href=\"mw-data:TemplateStyles:r36482206\" rel=\"mw-deduplicated-inline-style\"/><sup class=\"정리_필요 noprint\">[<a href=\"/wiki/%EC%9C%84%ED%82%A4%EB%B0%B1%EA%B3%BC:%EA%B9%A8%EC%A7%84_%EB%A7%81%ED%81%AC\" title=\"위키백과:깨진 링크\">깨진 링크</a>(<a class=\"external text\" href=\"https://web.archive.org/web/*/http://dna.naver.com/viewer/index.nhn?articleId=1990081500329208005&amp;editNo=3&amp;printCount=1&amp;publishDate=1990-08-15&amp;officeId=00032&amp;pageNo=8&amp;printNo=13812&amp;publishType=00020\" rel=\"nofollow\">과거 내용 찾기</a>)]</sup></span>\n",
      "</li>\n",
      "<li id=\"cite_note-21\"><span class=\"mw-cite-backlink\"><a href=\"#cite_ref-21\">↑</a></span> <span class=\"reference-text\">中國에「尹東柱 詩碑」건립, 《동아일보》, 1992.9.29</span>\n",
      "</li>\n",
      "<li id=\"cite_note-22\"><span class=\"mw-cite-backlink\"><a href=\"#cite_ref-22\">↑</a></span> <span class=\"reference-text\">윤동주詩碑 日서 내일 제막, 《경향신문》, 1995.2.15</span>\n",
      "</li>\n",
      "<li id=\"cite_note-23\"><span class=\"mw-cite-backlink\"><a href=\"#cite_ref-23\">↑</a></span> <span class=\"reference-text\"><a class=\"external text\" href=\"http://www.donga.com/fbin/output?n=200512280074\" rel=\"nofollow\">日도시샤大 정지용 시비 제막…오양호 인천대 교수 특별기고</a>, 《동아일보》, 2005.12.28.</span>\n",
      "</li>\n",
      "<li id=\"cite_note-24\"><span class=\"mw-cite-backlink\"><a href=\"#cite_ref-24\">↑</a></span> <span class=\"reference-text\"><cite class=\"citation news\">류청 외 7명 (2016년 10월 7일). <a class=\"external text\" href=\"https://web.archive.org/web/20190106213053/https://storyfunding.daum.net/episode/12965\" rel=\"nofollow\">“시인 윤동주도 축구 선수였다 일제강점기, 간도에서는 열띤 축구가 벌어졌다”</a>. Story funding. 2019년 1월 6일에 <a class=\"external text\" href=\"https://storyfunding.daum.net/episode/12965\" rel=\"nofollow\">원본 문서</a>에서 보존된 문서<span class=\"reference-accessdate\">. 2023년 7월 10일에 확인함</span>.</cite><span class=\"Z3988\" title=\"ctx_ver=Z39.88-2004&amp;rft_val_fmt=info%3Aofi%2Ffmt%3Akev%3Amtx%3Ajournal&amp;rft.genre=article&amp;rft.atitle=%EC%8B%9C%EC%9D%B8+%EC%9C%A4%EB%8F%99%EC%A3%BC%EB%8F%84+%EC%B6%95%EA%B5%AC+%EC%84%A0%EC%88%98%EC%98%80%EB%8B%A4+%EC%9D%BC%EC%A0%9C%EA%B0%95%EC%A0%90%EA%B8%B0%2C+%EA%B0%84%EB%8F%84%EC%97%90%EC%84%9C%EB%8A%94+%EC%97%B4%EB%9D%A4+%EC%B6%95%EA%B5%AC%EA%B0%80+%EB%B2%8C%EC%96%B4%EC%A1%8C%EB%8B%A4&amp;rft.date=2016-10-07&amp;rft.au=%EB%A5%98%EC%B2%AD+%EC%99%B8+7%EB%AA%85&amp;rft_id=https%3A%2F%2Fstoryfunding.daum.net%2Fepisode%2F12965&amp;rfr_id=info%3Asid%2Fko.wikipedia.org%3A%EC%9C%A4%EB%8F%99%EC%A3%BC\"><span style=\"display:none;\"> </span></span></span>\n",
      "</li>\n",
      "<li id=\"cite_note-25\"><span class=\"mw-cite-backlink\"><a href=\"#cite_ref-25\">↑</a></span> <span class=\"reference-text\">「詩(시)와 영상」이엮어낸 진한感動, 《동아일보》, 1984.12.24 - 광복절에 방영되는 것으로 기획되었으나 한일회담을 앞두고 반일감정 자극의 우려로 연기되었다.</span>\n",
      "</li>\n",
      "<li id=\"cite_note-26\"><span class=\"mw-cite-backlink\"><a href=\"#cite_ref-26\">↑</a></span> <span class=\"reference-text\">「영상기행—민족시인 윤동주」&lt;KBS1 밤7.30&gt;, 《동아일보》, 1988.3.1</span>\n",
      "</li>\n",
      "<li id=\"cite_note-27\"><span class=\"mw-cite-backlink\"><a href=\"#cite_ref-27\">↑</a></span> <span class=\"reference-text\">日 NHK 尹東柱특집…\"京郷新聞서 대중에 첫 소개\", 《경향신문》, 1995.3.12</span>\n",
      "</li>\n",
      "</ol></div>\n",
      "</section><h2 class=\"section-heading\" onclick=\"mfTempOpenSection(12)\"><span class=\"indicator mf-icon mf-icon-expand mf-icon--small\"></span><span id=\".EC.B0.B8.EA.B3.A0_.EC.9E.90.EB.A3.8C\"></span><span class=\"mw-headline\" id=\"참고_자료\">참고 자료</span><span class=\"mw-editsection\">\n",
      "<a class=\"cdx-button cdx-button--size-large cdx-button--fake-button cdx-button--fake-button--enabled cdx-button--icon-only cdx-button--weight-quiet\" href=\"/w/index.php?title=%EC%9C%A4%EB%8F%99%EC%A3%BC&amp;action=edit&amp;section=25\" role=\"button\" title=\"부분 편집: 참고 자료\">\n",
      "<span class=\"minerva-icon minerva-icon--edit\"></span>\n",
      "<span>편집</span>\n",
      "</a>\n",
      "</span>\n",
      "</h2><section class=\"mf-section-12 collapsible-block\" id=\"mf-section-12\">\n",
      "<ul><li>윤동주, 《하늘과 바람과* <a class=\"external text\" href=\"http://www.korean.go.kr/nkview/nklife/2004_2/14_7.html\" rel=\"nofollow\">이상섭, 「윤동주의 무서운 아이러니」, 《새국어생활》제14권, 국립국어원</a></li>\n",
      "<li><a class=\"external text\" href=\"https://www.newsen.com/news_view.php?uid=200908160112231001\" rel=\"nofollow\">\"욘사마보다 윤사마가 좋아\" 생체실험 희생의혹 윤동주, 日에서 부활하다</a> 뉴스엔 2009년 8월 16일자</li></ul>\n",
      "<ul><li>네이버캐스트 <a class=\"external text\" href=\"https://terms.naver.com/entry.nhn?docId=3573499&amp;cid=59011&amp;categoryId=59011\" rel=\"nofollow\">독립운동가 - 윤동주</a></li></ul>\n",
      "</section><h2 class=\"section-heading\" onclick=\"mfTempOpenSection(13)\"><span class=\"indicator mf-icon mf-icon-expand mf-icon--small\"></span><span id=\".EC.99.B8.EB.B6.80_.EB.A7.81.ED.81.AC\"></span><span class=\"mw-headline\" id=\"외부_링크\">외부 링크</span><span class=\"mw-editsection\">\n",
      "<a class=\"cdx-button cdx-button--size-large cdx-button--fake-button cdx-button--fake-button--enabled cdx-button--icon-only cdx-button--weight-quiet\" href=\"/w/index.php?title=%EC%9C%A4%EB%8F%99%EC%A3%BC&amp;action=edit&amp;section=26\" role=\"button\" title=\"부분 편집: 외부 링크\">\n",
      "<span class=\"minerva-icon minerva-icon--edit\"></span>\n",
      "<span>편집</span>\n",
      "</a>\n",
      "</span>\n",
      "</h2><section class=\"mf-section-13 collapsible-block\" id=\"mf-section-13\">\n",
      "<style data-mw-deduplicate=\"TemplateStyles:r36480479\">.mw-parser-output .side-box{margin:4px 0;box-sizing:border-box;border:1px solid #aaa;font-size:88%;line-height:1.25em;background-color:#f9f9f9;display:flow-root}.mw-parser-output .side-box-abovebelow,.mw-parser-output .side-box-text{padding:0.25em 0.9em}.mw-parser-output .side-box-image{padding:2px 0 2px 0.9em;text-align:center}.mw-parser-output .side-box-imageright{padding:2px 0.9em 2px 0;text-align:center}@media(min-width:500px){.mw-parser-output .side-box-flex{display:flex;align-items:center}.mw-parser-output .side-box-text{flex:1}}@media(min-width:720px){.mw-parser-output .side-box{width:238px}.mw-parser-output .side-box-right{clear:right;float:right;margin-left:1em}.mw-parser-output .side-box-left{margin-right:1em}}</style><div class=\"side-box metadata side-box-right plainlinks\"><style data-mw-deduplicate=\"TemplateStyles:r36480595\">.mw-parser-output .plainlist ol,.mw-parser-output .plainlist ul{line-height:inherit;list-style:none;margin:0;padding:0}.mw-parser-output .plainlist ol li,.mw-parser-output .plainlist ul li{margin-bottom:0}</style>\n",
      "<div class=\"side-box-flex\">\n",
      "<div class=\"side-box-image\"><span typeof=\"mw:File\"><span><noscript><img alt=\"\" class=\"mw-file-element\" data-file-height=\"1376\" data-file-width=\"1024\" decoding=\"async\" height=\"40\" src=\"//upload.wikimedia.org/wikipedia/commons/thumb/4/4a/Commons-logo.svg/30px-Commons-logo.svg.png\" width=\"30\"/></noscript><span class=\"lazy-image-placeholder\" data-alt=\"\" data-class=\"mw-file-element\" data-height=\"40\" data-src=\"//upload.wikimedia.org/wikipedia/commons/thumb/4/4a/Commons-logo.svg/30px-Commons-logo.svg.png\" data-srcset=\"//upload.wikimedia.org/wikipedia/commons/thumb/4/4a/Commons-logo.svg/45px-Commons-logo.svg.png 1.5x, //upload.wikimedia.org/wikipedia/commons/thumb/4/4a/Commons-logo.svg/59px-Commons-logo.svg.png 2x\" data-width=\"30\" style=\"width: 30px;height: 40px;\"> </span></span></span></div>\n",
      "<div class=\"side-box-text plainlist\"><b><a href=\"/wiki/%EC%9C%84%ED%82%A4%EB%AF%B8%EB%94%94%EC%96%B4_%EA%B3%B5%EC%9A%A9\" title=\"위키미디어 공용\">위키미디어 공용</a></b>에 관련된<br/>미디어 자료가 있습니다.\n",
      "<div style=\"padding-left:1em;\"><b><a class=\"extiw\" href=\"https://commons.wikimedia.org/wiki/%EC%9C%A4%EB%8F%99%EC%A3%BC\" title=\"commons:윤동주\">윤동주</a></b></div></div></div>\n",
      "</div><link href=\"mw-data:TemplateStyles:r36480479\" rel=\"mw-deduplicated-inline-style\"/><div class=\"side-box metadata side-box-right plainlinks\"><link href=\"mw-data:TemplateStyles:r36480595\" rel=\"mw-deduplicated-inline-style\"/>\n",
      "<div class=\"side-box-flex\">\n",
      "<div class=\"side-box-image\"><span typeof=\"mw:File\"><span><noscript><img alt=\"\" class=\"mw-file-element\" data-file-height=\"430\" data-file-width=\"410\" decoding=\"async\" height=\"40\" src=\"//upload.wikimedia.org/wikipedia/commons/thumb/4/4c/Wikisource-logo.svg/38px-Wikisource-logo.svg.png\" width=\"38\"/></noscript><span class=\"lazy-image-placeholder\" data-alt=\"\" data-class=\"mw-file-element\" data-height=\"40\" data-src=\"//upload.wikimedia.org/wikipedia/commons/thumb/4/4c/Wikisource-logo.svg/38px-Wikisource-logo.svg.png\" data-srcset=\"//upload.wikimedia.org/wikipedia/commons/thumb/4/4c/Wikisource-logo.svg/57px-Wikisource-logo.svg.png 1.5x, //upload.wikimedia.org/wikipedia/commons/thumb/4/4c/Wikisource-logo.svg/76px-Wikisource-logo.svg.png 2x\" data-width=\"38\" style=\"width: 38px;height: 40px;\"> </span></span></span></div>\n",
      "<div class=\"side-box-text plainlist\"><b><a href=\"/wiki/%EC%9C%84%ED%82%A4%EB%AC%B8%ED%97%8C\" title=\"위키문헌\">위키문헌</a></b>에 이 사람이<br/>저술한 작품이 있습니다.\n",
      "<div style=\"padding-left:1em;\"><b><a class=\"extiw\" href=\"https://ko.wikisource.org/wiki/%EC%A0%80%EC%9E%90:%EC%9C%A4%EB%8F%99%EC%A3%BC\" title=\"s:저자:윤동주\">윤동주</a></b></div></div></div>\n",
      "</div>\n",
      "<ul><li><a class=\"external text\" href=\"http://e-gonghun.mpva.go.kr/user/ContribuReportDetail.do?goTocode=20002&amp;pageTitle=Merit&amp;mngNo=4974\" rel=\"nofollow\">윤동주 : 독립유공자 공훈록</a> - <a href=\"/wiki/%EB%8C%80%ED%95%9C%EB%AF%BC%EA%B5%AD_%EA%B5%AD%EA%B0%80%EB%B3%B4%ED%9B%88%EC%B2%98\" title=\"대한민국 국가보훈처\">국가보훈처</a></li>\n",
      "<li><a class=\"external text\" href=\"http://yoondongju.yonsei.ac.kr/\" rel=\"nofollow\">연세대학교 윤동주 기념사업회</a></li>\n",
      "<li><a class=\"external text\" href=\"http://encykorea.aks.ac.kr/Contents/Index?contents_id=E0042294\" rel=\"nofollow\">〈윤동주〉</a>, 《한국민족문화대백과》, 한국학중앙연구원</li>\n",
      "<li><a class=\"external text\" href=\"https://terms.naver.com/entry.nhn?docId=955833&amp;cid=41708&amp;categoryId=41713\" rel=\"nofollow\">윤동주, 시인이란 슬픈 천명을 안고 간 청년 시인</a> <a class=\"external text\" href=\"https://web.archive.org/web/20171231051541/https://terms.naver.com/entry.nhn?docId=955833&amp;cid=41708&amp;categoryId=41713\" rel=\"nofollow\">Archived</a> 2017년 12월 31일 - <a href=\"/wiki/%EC%9B%A8%EC%9D%B4%EB%B0%B1_%EB%A8%B8%EC%8B%A0\" title=\"웨이백 머신\">웨이백 머신</a> - 네이버캐스트</li>\n",
      "<li><a class=\"external text\" href=\"http://news.mk.co.kr/newsRead.php?sc=30200004&amp;cm=%EC%A0%95%EC%B9%98_%EC%B5%9C%EC%8B%A0&amp;year=2008&amp;no=169932&amp;selFlag=&amp;relatedcode=&amp;wonNo=&amp;sID=302\" rel=\"nofollow\">「北문학지 \"윤동주는 반일 애국시인\"」</a><link href=\"mw-data:TemplateStyles:r36482206\" rel=\"mw-deduplicated-inline-style\"/><sup class=\"정리_필요 noprint\">[<a href=\"/wiki/%EC%9C%84%ED%82%A4%EB%B0%B1%EA%B3%BC:%EA%B9%A8%EC%A7%84_%EB%A7%81%ED%81%AC\" title=\"위키백과:깨진 링크\">깨진 링크</a>(<a class=\"external text\" href=\"https://web.archive.org/web/*/http://news.mk.co.kr/newsRead.php?sc=30200004&amp;cm=%EC%A0%95%EC%B9%98_%EC%B5%9C%EC%8B%A0&amp;year=2008&amp;no=169932&amp;selFlag=&amp;relatedcode=&amp;wonNo=&amp;sID=302\" rel=\"nofollow\">과거 내용 찾기</a>)]</sup>, 매일경제, 2008.3.26.</li>\n",
      "<li><a class=\"external text\" href=\"http://au.christiantoday.co.kr/view.htm?id=2766\" rel=\"nofollow\">윤동주의 신앙은 기독교 구국정신과 일치</a><link href=\"mw-data:TemplateStyles:r36482206\" rel=\"mw-deduplicated-inline-style\"/><sup class=\"정리_필요 noprint\">[<a href=\"/wiki/%EC%9C%84%ED%82%A4%EB%B0%B1%EA%B3%BC:%EA%B9%A8%EC%A7%84_%EB%A7%81%ED%81%AC\" title=\"위키백과:깨진 링크\">깨진 링크</a>(<a class=\"external text\" href=\"https://web.archive.org/web/*/http://au.christiantoday.co.kr/view.htm?id=2766\" rel=\"nofollow\">과거 내용 찾기</a>)]</sup></li>\n",
      "<li><a class=\"external text\" href=\"https://web.archive.org/web/20160705190610/http://www.chosun.com/editorials/news/200410/200410180343.html\" rel=\"nofollow\">김기창과 윤동주</a> - 조선일보</li>\n",
      "<li><a class=\"external text\" href=\"http://search.i815.or.kr/ImageViewer/ImageViewer.jsp?tid=co&amp;id=1-009001-000\" rel=\"nofollow\">윤동주 사진</a> <a class=\"external text\" href=\"https://web.archive.org/web/20200808122745/http://search.i815.or.kr/ImageViewer/ImageViewer.jsp?tid=co&amp;id=1-009001-000\" rel=\"nofollow\">Archived</a> 2020년 8월 8일 - <a href=\"/wiki/%EC%9B%A8%EC%9D%B4%EB%B0%B1_%EB%A8%B8%EC%8B%A0\" title=\"웨이백 머신\">웨이백 머신</a>, 한국독립운동사정보시스템</li>\n",
      "<li><a class=\"external text\" href=\"https://web.archive.org/web/20160304113052/http://www.etoday.co.kr/news/section/newsview.php?TM=news&amp;SM=4102&amp;idxno=360363\" rel=\"nofollow\">가수 윤형주, 알고보니 시인 윤동주의 친척 동생 화제</a></li></ul>\n",
      "<div class=\"navbox-styles\"><style data-mw-deduplicate=\"TemplateStyles:r36480591\">.mw-parser-output .hlist dl,.mw-parser-output .hlist ol,.mw-parser-output .hlist ul{margin:0;padding:0}.mw-parser-output .hlist dd,.mw-parser-output .hlist dt,.mw-parser-output .hlist li{margin:0;display:inline}.mw-parser-output .hlist.inline,.mw-parser-output .hlist.inline dl,.mw-parser-output .hlist.inline ol,.mw-parser-output .hlist.inline ul,.mw-parser-output .hlist dl dl,.mw-parser-output .hlist dl ol,.mw-parser-output .hlist dl ul,.mw-parser-output .hlist ol dl,.mw-parser-output .hlist ol ol,.mw-parser-output .hlist ol ul,.mw-parser-output .hlist ul dl,.mw-parser-output .hlist ul ol,.mw-parser-output .hlist ul ul{display:inline}.mw-parser-output .hlist .mw-empty-li{display:none}.mw-parser-output .hlist dt::after{content:\": \"}.mw-parser-output .hlist dd::after,.mw-parser-output .hlist li::after{content:\" · \";font-weight:bold}.mw-parser-output .hlist dd:last-child::after,.mw-parser-output .hlist dt:last-child::after,.mw-parser-output .hlist li:last-child::after{content:none}.mw-parser-output .hlist dd dd:first-child::before,.mw-parser-output .hlist dd dt:first-child::before,.mw-parser-output .hlist dd li:first-child::before,.mw-parser-output .hlist dt dd:first-child::before,.mw-parser-output .hlist dt dt:first-child::before,.mw-parser-output .hlist dt li:first-child::before,.mw-parser-output .hlist li dd:first-child::before,.mw-parser-output .hlist li dt:first-child::before,.mw-parser-output .hlist li li:first-child::before{content:\" (\";font-weight:normal}.mw-parser-output .hlist dd dd:last-child::after,.mw-parser-output .hlist dd dt:last-child::after,.mw-parser-output .hlist dd li:last-child::after,.mw-parser-output .hlist dt dd:last-child::after,.mw-parser-output .hlist dt dt:last-child::after,.mw-parser-output .hlist dt li:last-child::after,.mw-parser-output .hlist li dd:last-child::after,.mw-parser-output .hlist li dt:last-child::after,.mw-parser-output .hlist li li:last-child::after{content:\")\";font-weight:normal}.mw-parser-output .hlist ol{counter-reset:listitem}.mw-parser-output .hlist ol>li{counter-increment:listitem}.mw-parser-output .hlist ol>li::before{content:\" \"counter(listitem)\"\\a0 \"}.mw-parser-output .hlist dd ol>li:first-child::before,.mw-parser-output .hlist dt ol>li:first-child::before,.mw-parser-output .hlist li ol>li:first-child::before{content:\" (\"counter(listitem)\"\\a0 \"}.mw-parser-output .hlist-pipe dd:after,.mw-parser-output .hlist-pipe li:after{content:\" | \";font-weight:normal}.mw-parser-output .hlist-hyphen dd:after,.mw-parser-output .hlist-hyphen li:after{content:\" - \";font-weight:normal}.mw-parser-output .hlist-comma dd:after,.mw-parser-output .hlist-comma li:after{content:\", \";font-weight:normal}.mw-parser-output .hlist-slash dd:after,.mw-parser-output .hlist-slash li:after{content:\" / \";font-weight:normal}</style><style data-mw-deduplicate=\"TemplateStyles:r36429174\">.mw-parser-output .navbox{box-sizing:border-box;border:1px solid #a2a9b1;width:100%;clear:both;font-size:88%;text-align:center;padding:1px;margin:1em auto 0}.mw-parser-output .navbox .navbox{margin-top:0}.mw-parser-output .navbox+.navbox,.mw-parser-output .navbox+.navbox-styles+.navbox{margin-top:-1px}.mw-parser-output .navbox-inner,.mw-parser-output .navbox-subgroup{width:100%}.mw-parser-output .navbox-group,.mw-parser-output .navbox-title,.mw-parser-output .navbox-abovebelow{padding:0.25em 1em;line-height:1.5em;text-align:center}.mw-parser-output .navbox-group{white-space:nowrap;text-align:right}.mw-parser-output .navbox,.mw-parser-output .navbox-subgroup{background-color:#fdfdfd}.mw-parser-output .navbox-list{line-height:1.5em;border-color:#fdfdfd}.mw-parser-output .navbox-list-with-group{text-align:left;border-left-width:2px;border-left-style:solid}.mw-parser-output tr+tr>.navbox-abovebelow,.mw-parser-output tr+tr>.navbox-group,.mw-parser-output tr+tr>.navbox-image,.mw-parser-output tr+tr>.navbox-list{border-top:2px solid #fdfdfd}.mw-parser-output .navbox-title{background-color:#ccf}.mw-parser-output .navbox-abovebelow,.mw-parser-output .navbox-group,.mw-parser-output .navbox-subgroup .navbox-title{background-color:#ddf}.mw-parser-output .navbox-subgroup .navbox-group,.mw-parser-output .navbox-subgroup .navbox-abovebelow{background-color:#e6e6ff}.mw-parser-output .navbox-even{background-color:#f7f7f7}.mw-parser-output .navbox-odd{background-color:transparent}.mw-parser-output .navbox .hlist td dl,.mw-parser-output .navbox .hlist td ol,.mw-parser-output .navbox .hlist td ul,.mw-parser-output .navbox td.hlist dl,.mw-parser-output .navbox td.hlist ol,.mw-parser-output .navbox td.hlist ul{padding:0.125em 0}.mw-parser-output .navbox .navbar{display:block;font-size:100%}.mw-parser-output .navbox-title .navbar{float:left;text-align:left;margin-right:0.5em}</style><link href=\"mw-data:TemplateStyles:r36480591\" rel=\"mw-deduplicated-inline-style\"/></div>\n",
      "<div class=\"navbox-styles\"><link href=\"mw-data:TemplateStyles:r36480591\" rel=\"mw-deduplicated-inline-style\"/><link href=\"mw-data:TemplateStyles:r36429174\" rel=\"mw-deduplicated-inline-style\"/><link href=\"mw-data:TemplateStyles:r36480591\" rel=\"mw-deduplicated-inline-style\"/></div>\n",
      "<div class=\"navbox-styles\"><link href=\"mw-data:TemplateStyles:r36480591\" rel=\"mw-deduplicated-inline-style\"/><link href=\"mw-data:TemplateStyles:r36429174\" rel=\"mw-deduplicated-inline-style\"/></div>\n",
      "<!-- \n",
      "NewPP limit report\n",
      "Parsed by mw2361\n",
      "Cached time: 20240430113659\n",
      "Cache expiry: 2592000\n",
      "Reduced expiry: false\n",
      "Complications: [vary‐revision‐sha1, show‐toc]\n",
      "CPU time usage: 0.415 seconds\n",
      "Real time usage: 0.604 seconds\n",
      "Preprocessor visited node count: 2756/1000000\n",
      "Post‐expand include size: 63134/2097152 bytes\n",
      "Template argument size: 7497/2097152 bytes\n",
      "Highest expansion depth: 15/100\n",
      "Expensive parser function count: 17/500\n",
      "Unstrip recursion depth: 1/20\n",
      "Unstrip post‐expand size: 50017/5000000 bytes\n",
      "Lua time usage: 0.154/10.000 seconds\n",
      "Lua memory usage: 4455247/52428800 bytes\n",
      "Number of Wikibase entities loaded: 1/400\n",
      "-->\n",
      "<!--\n",
      "Transclusion expansion time report (%,ms,calls,template)\n",
      "100.00%  489.199      1 -total\n",
      " 24.16%  118.174      1 틀:위키데이터_속성_추적\n",
      " 15.71%   76.871      2 틀:둘러보기_상자\n",
      " 14.57%   71.257      1 틀:1992년-이_달의_문화_인물\n",
      " 12.52%   61.241      2 틀:웹_인용\n",
      " 12.19%   59.629      1 틀:작가_정보\n",
      " 10.82%   52.947      1 틀:Infobox\n",
      "  9.36%   45.767      1 틀:전거_통제\n",
      "  6.39%   31.242      2 틀:Sister\n",
      "  6.08%   29.746      2 틀:사이드_박스\n",
      "-->\n",
      "<!-- Saved in parser cache with key kowiki:pcache:idhash:28258-0!canonical and timestamp 20240430113659 and revision id 36841672. Rendering was triggered because: page-view\n",
      " -->\n",
      "</section></div>\n",
      "<!-- MobileFormatter took 0.014 seconds --><!--esi <esi:include src=\"/esitest-fa8a495983347898/content\" /> --><noscript><img alt=\"\" height=\"1\" src=\"https://login.m.wikimedia.org/wiki/Special:CentralAutoLogin/start?type=1x1&amp;mobile=1\" style=\"border: none; position: absolute;\" width=\"1\"/></noscript>\n",
      "<div class=\"printfooter\" data-nosnippet=\"\">원본 주소 \"<a dir=\"ltr\" href=\"https://ko.wikipedia.org/w/index.php?title=윤동주&amp;oldid=36841672\">https://ko.wikipedia.org/w/index.php?title=윤동주&amp;oldid=36841672</a>\"</div></div>\n",
      "</div>\n",
      "<div class=\"post-content\" id=\"page-secondary-actions\">\n",
      "</div>\n",
      "</main>\n",
      "<footer class=\"mw-footer minerva-footer\" role=\"contentinfo\">\n",
      "<a class=\"last-modified-bar\" href=\"/w/index.php?title=%EC%9C%A4%EB%8F%99%EC%A3%BC&amp;action=history\">\n",
      "<div class=\"post-content last-modified-bar__content\">\n",
      "<span class=\"minerva-icon minerva-icon-size-medium minerva-icon--modified-history\"></span>\n",
      "<span class=\"last-modified-bar__text modified-enhancement\" data-timestamp=\"1714476975\" data-user-gender=\"unknown\" data-user-name=\"182.224.159.123\">\n",
      "<span>2024년 4월 30일 (화) 20:36에 마지막으로 편집됨</span>\n",
      "</span>\n",
      "<span class=\"minerva-icon minerva-icon-size-small minerva-icon--expand\"></span>\n",
      "</div>\n",
      "</a>\n",
      "<div class=\"post-content footer-content\">\n",
      "<div id=\"mw-data-after-content\">\n",
      "<div class=\"read-more-container\"></div>\n",
      "</div>\n",
      "<div id=\"p-lang\">\n",
      "<h4>언어</h4>\n",
      "<section>\n",
      "<ul class=\"minerva-languages\" id=\"p-variants\"></ul>\n",
      "<ul class=\"minerva-languages\"><li class=\"interlanguage-link interwiki-az mw-list-item\"><a class=\"interlanguage-link-target\" href=\"https://az.wikipedia.org/wiki/Yun_Donq-Cu\" hreflang=\"az\" lang=\"az\" title=\"Yun Donq-Cu – 아제르바이잔어\"><span>Azərbaycanca</span></a></li><li class=\"interlanguage-link interwiki-en mw-list-item\"><a class=\"interlanguage-link-target\" href=\"https://en.wikipedia.org/wiki/Yun_Dong-ju\" hreflang=\"en\" lang=\"en\" title=\"Yun Dong-ju – 영어\"><span>English</span></a></li><li class=\"interlanguage-link interwiki-es mw-list-item\"><a class=\"interlanguage-link-target\" href=\"https://es.wikipedia.org/wiki/Yun_Dong-ju\" hreflang=\"es\" lang=\"es\" title=\"Yun Dong-ju – 스페인어\"><span>Español</span></a></li><li class=\"interlanguage-link interwiki-fr mw-list-item\"><a class=\"interlanguage-link-target\" href=\"https://fr.wikipedia.org/wiki/Yun_Dong-ju\" hreflang=\"fr\" lang=\"fr\" title=\"Yun Dong-ju – 프랑스어\"><span>Français</span></a></li><li class=\"interlanguage-link interwiki-hu mw-list-item\"><a class=\"interlanguage-link-target\" href=\"https://hu.wikipedia.org/wiki/Jun_Dongdzsu\" hreflang=\"hu\" lang=\"hu\" title=\"Jun Dongdzsu – 헝가리어\"><span>Magyar</span></a></li><li class=\"interlanguage-link interwiki-hy mw-list-item\"><a class=\"interlanguage-link-target\" href=\"https://hy.wikipedia.org/wiki/%D5%85%D5%B8%D6%82%D5%B6_%D4%B4%D5%B8%D5%B6%D5%A3-%D5%8B%D5%B8%D6%82\" hreflang=\"hy\" lang=\"hy\" title=\"Յուն Դոնգ-Ջու – 아르메니아어\"><span>Հայերեն</span></a></li><li class=\"interlanguage-link interwiki-it mw-list-item\"><a class=\"interlanguage-link-target\" href=\"https://it.wikipedia.org/wiki/Yun_Dong-ju\" hreflang=\"it\" lang=\"it\" title=\"Yun Dong-ju – 이탈리아어\"><span>Italiano</span></a></li><li class=\"interlanguage-link interwiki-ja mw-list-item\"><a class=\"interlanguage-link-target\" href=\"https://ja.wikipedia.org/wiki/%E5%B0%B9%E6%9D%B1%E6%9F%B1\" hreflang=\"ja\" lang=\"ja\" title=\"尹東柱 – 일본어\"><span>日本語</span></a></li><li class=\"interlanguage-link interwiki-ru mw-list-item\"><a class=\"interlanguage-link-target\" href=\"https://ru.wikipedia.org/wiki/%D0%AE%D0%BD_%D0%94%D0%BE%D0%BD%D1%87%D0%B6%D1%83\" hreflang=\"ru\" lang=\"ru\" title=\"Юн Дончжу – 러시아어\"><span>Русский</span></a></li><li class=\"interlanguage-link interwiki-vi mw-list-item\"><a class=\"interlanguage-link-target\" href=\"https://vi.wikipedia.org/wiki/Yun_Dong-ju\" hreflang=\"vi\" lang=\"vi\" title=\"Yun Dong-ju – 베트남어\"><span>Tiếng Việt</span></a></li><li class=\"interlanguage-link interwiki-zh mw-list-item\"><a class=\"interlanguage-link-target\" href=\"https://zh.wikipedia.org/wiki/%E5%B0%B9%E4%B8%9C%E6%9F%B1\" hreflang=\"zh\" lang=\"zh\" title=\"尹东柱 – 중국어\"><span>中文</span></a></li><li class=\"interlanguage-link interwiki-zh-classical mw-list-item\"><a class=\"interlanguage-link-target\" href=\"https://zh-classical.wikipedia.org/wiki/%E5%B0%B9%E6%9D%B1%E6%9F%B1\" hreflang=\"lzh\" lang=\"lzh\" title=\"尹東柱 – Literary Chinese\"><span>文言</span></a></li></ul>\n",
      "</section>\n",
      "</div> <div class=\"minerva-footer-logo\"><img alt=\"위키백과\" height=\"28\" src=\"/static/images/mobile/copyright/wikipedia-wordmark-ko.svg\" style=\"width: 7.5em; height: 1.75em;\" width=\"120\">\n",
      "</img></div>\n",
      "<ul class=\"footer-info hlist hlist-separated\" id=\"footer-info\">\n",
      "<li id=\"footer-info-lastmod\"> 이 문서는 2024년 4월 30일 (화) 20:36에 마지막으로 편집되었습니다.</li>\n",
      "<li id=\"footer-info-copyright\">별도로 명시하지 않은 경우, 내용은 <a class=\"external\" href=\"https://creativecommons.org/licenses/by-sa/4.0/deed.ko\" rel=\"nofollow\">CC BY-SA 4.0</a>에 따라 사용할 수 있습니다.</li>\n",
      "</ul>\n",
      "<ul class=\"footer-places hlist hlist-separated\" id=\"footer-places\">\n",
      "<li id=\"footer-places-privacy\"><a href=\"https://foundation.wikimedia.org/wiki/Special:MyLanguage/Policy:Privacy_policy\">개인정보처리방침</a></li>\n",
      "<li id=\"footer-places-about\"><a href=\"/wiki/%EC%9C%84%ED%82%A4%EB%B0%B1%EA%B3%BC:%EC%86%8C%EA%B0%9C\">위키백과 소개</a></li>\n",
      "<li id=\"footer-places-disclaimers\"><a href=\"/wiki/%EC%9C%84%ED%82%A4%EB%B0%B1%EA%B3%BC:%EB%A9%B4%EC%B1%85_%EC%A1%B0%ED%95%AD\">면책 조항</a></li>\n",
      "<li id=\"footer-places-wm-codeofconduct\"><a href=\"https://foundation.wikimedia.org/wiki/Special:MyLanguage/Policy:Universal_Code_of_Conduct\">행동 강령</a></li>\n",
      "<li id=\"footer-places-developers\"><a href=\"https://developer.wikimedia.org\">개발자</a></li>\n",
      "<li id=\"footer-places-statslink\"><a href=\"https://stats.wikimedia.org/#/ko.wikipedia.org\">통계</a></li>\n",
      "<li id=\"footer-places-cookiestatement\"><a href=\"https://foundation.wikimedia.org/wiki/Special:MyLanguage/Policy:Cookie_statement\">쿠키 정책</a></li>\n",
      "<li id=\"footer-places-terms-use\"><a href=\"https://foundation.m.wikimedia.org/wiki/Special:MyLanguage/Policy:Terms_of_Use/ko\">이용 약관</a></li>\n",
      "<li id=\"footer-places-desktop-toggle\"><a data-event-name=\"switch_to_desktop\" href=\"//ko.wikipedia.org/w/index.php?title=%EC%9C%A4%EB%8F%99%EC%A3%BC&amp;mobileaction=toggle_view_desktop\" id=\"mw-mf-display-toggle\">데스크톱</a></li>\n",
      "</ul>\n",
      "</div>\n",
      "</footer>\n",
      "</div>\n",
      "</div>\n"
     ]
    }
   ],
   "source": [
    "# 리스트로 출력\n",
    "soup.select('div')\n",
    "\n",
    "# print(type(soup.select_one('div')))\n",
    "print(soup.select_one('div'))"
   ]
  },
  {
   "cell_type": "code",
   "execution_count": 107,
   "metadata": {},
   "outputs": [
    {
     "data": {
      "text/plain": [
       "<li>유니티 게임 이펙트 입문</li>"
      ]
     },
     "execution_count": 107,
     "metadata": {},
     "output_type": "execute_result"
    }
   ],
   "source": [
    "soup.select('li')\n",
    "soup.select_one('li')"
   ]
  },
  {
   "cell_type": "code",
   "execution_count": 113,
   "metadata": {},
   "outputs": [
    {
     "data": {
      "text/plain": [
       "'위키북스 도서'"
      ]
     },
     "execution_count": 113,
     "metadata": {},
     "output_type": "execute_result"
    }
   ],
   "source": [
    "soup.select_one('html body div h1')\n",
    "soup.select_one('div#meigen h1')\n",
    "soup.select_one('div#meigen > h1').string\n",
    "soup.select_one('div#meigen > h1').text\n",
    "soup.select_one('div#meigen > h1').get_text()"
   ]
  },
  {
   "cell_type": "code",
   "execution_count": null,
   "metadata": {},
   "outputs": [],
   "source": [
    "soup = BeautifulSoup()"
   ]
  }
 ],
 "metadata": {
  "kernelspec": {
   "display_name": "Python 3",
   "language": "python",
   "name": "python3"
  },
  "language_info": {
   "codemirror_mode": {
    "name": "ipython",
    "version": 3
   },
   "file_extension": ".py",
   "mimetype": "text/x-python",
   "name": "python",
   "nbconvert_exporter": "python",
   "pygments_lexer": "ipython3",
   "version": "3.11.9"
  }
 },
 "nbformat": 4,
 "nbformat_minor": 2
}
