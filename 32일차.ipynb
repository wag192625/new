{
 "cells": [
  {
   "cell_type": "code",
   "execution_count": 15,
   "metadata": {},
   "outputs": [
    {
     "name": "stdout",
     "output_type": "stream",
     "text": [
      "이순신(한국 한자: 李舜臣, 1545년 4월 28일 (음력 3월 8일) ~ 1598년 12월 16일 (음력 11월 19일))은 조선 중기의 무신이다. 본관은 덕수(德水), 자는 여해(汝諧), 시호는 충무(忠武)였으며 한성 출신이었다. 문반 가문 출신으로 1576년(선조 9년) 무과(武科)에 급제하여 그 관직이 동구비보 권관, 훈련원 봉사, 발포진 수군만호, 조산보 만호, 전라남도수사를 거쳐 정헌대부 삼도수군통제사에 이르렀다.[2]\n",
      "\n"
     ]
    }
   ],
   "source": [
    "import urllib.request\n",
    "from bs4 import BeautifulSoup\n",
    "import re\n",
    "\n",
    "res = urllib.request.urlopen('https://ko.wikipedia.org/wiki/%EC%9D%B4%EC%88%9C%EC%8B%A0')\n",
    "soup = BeautifulSoup(res,'html.parser')\n",
    "text = soup.select('#mw-content-text > div.mw-content-ltr.mw-parser-output > p:nth-child(5)')\n",
    "for i in text:\n",
    "    print(i.text)\n",
    "\n"
   ]
  },
  {
   "cell_type": "code",
   "execution_count": 38,
   "metadata": {},
   "outputs": [
    {
     "name": "stdout",
     "output_type": "stream",
     "text": [
      "1545년\n",
      "4월 28일\n",
      "음력 3월 8일\n",
      "1598년\n",
      "12월 16일\n",
      "음력 11월 19일\n"
     ]
    }
   ],
   "source": [
    "text = soup.select('#mw-content-text > div.mw-content-ltr.mw-parser-output > p:nth-child(5) a')\n",
    "text[1].string\n",
    "for i in text[1:7]:\n",
    "    print(i.text)"
   ]
  },
  {
   "cell_type": "code",
   "execution_count": 133,
   "metadata": {},
   "outputs": [
    {
     "name": "stdout",
     "output_type": "stream",
     "text": [
      "관련 작품[편집]\n",
      "관련 서적[편집]\n",
      "《난중일기》: 임진왜란 당시 이순신이 기술한 전쟁 일기.\n",
      "《충무공이순신전서》: 유고 전집으로 정조의 어명으로 교서관(校書館) 관리 유득공(柳得恭)의 주도 아래 찬수를 시작하여 정조 19년(1795년)에 간행되었다.[44] 14권 8책의 활자본.\n",
      "《이순신전》(李舜臣傳): 대한민국 임시정부의 독립신문에서 1923년 2월에 박은식(朴殷植)이 편저하여 발행하였다.\n",
      "《구국의 명장 이순신》: 최석남이 쓴 이순신의 전기, 이순신의 자살설을 주장하고 있다, 1992년, ISBN(13) : 9788909002318\n",
      "《난중일기 \"Das Kriegstagebuch,Nanjung Ilgi\"》 《Gründel, 2013 독일 마인쯔 대학 출판사》ISBN 3-00-017418-4,\n",
      "《이양숙 덕수 이씨,그륜델 ,독일어 번역, 출판 》\n",
      "《이순신 : 폴른 어벤져(Yi Soon Shin : Fallen Avenger)》은 미국의 만화작가 온리 콤판이 우연히 텔레비전에서 이순신을 접한 후 감명받아 만든 만화이다. 총 12권의 시리즈로 구성되어있다.[1]\n",
      "드라마[편집]\n",
      "KBS\n",
      "충무공탄신특집극 《이순신》 (KBS, 1977년) - 김흥기\n",
      "대하드라마 《불멸의 이순신》 (KBS1, 2004년~2005년) - 김명민 (아역 : 유승호)\n",
      "대하드라마 《징비록》 (KBS1, 2015년) - 김석훈\n",
      "5부작 드라마 《임진왜란 1592》 (KBS1, 2016년) - 최수종\n",
      "MBC\n",
      "대하드라마 《조선왕조 오백년 - 임진왜란》 (MBC, 1985년~1986년) - 김무생\n",
      "월화드라마 《구가의서》 (MBC, 2013년) - 유동근\n",
      "SBS\n",
      "대하드라마 《임꺽정》 (SBS, 1996년) - 정태우(특별출연)\n",
      "대하드라마 《왕의 여자》 (SBS, 2003년) - 권태원(특별출연)\n",
      "영화[편집]\n",
      "《성웅 이순신》 (1962년) - 김승길\n",
      "《성웅 이순신》 (1971년) - 김진규\n",
      "《난중일기》 (1978년) - 김진규\n",
      "《천군》 (2005년) - 박중훈\n",
      "《명량》 (2014년) - 최민식\n",
      "《한산: 용의 출현》 (2022년) - 박해일\n",
      "《노량: 죽음의 바다》 (2023년) - 김윤석\n",
      "뮤지컬[편집]\n",
      "《이순신》 (2008년 ~ 2013년) - 민영기\n",
      "《영웅을 기다리며》 (2009년) - 박호산, 임기홍\n",
      "《영웅을 기다리며》 (2009년) - 배성우, 최성원, 이필승\n",
      "《영웅을 기다리며》 (2010년) - 박호산, 이건영, 김대종\n",
      "《영웅을 기다리며》 (2012년) - 손광업, 조휘\n",
      "《영웅을 기다리며》 (2013년) - 박호산, 임기홍, 원종환\n",
      "《영웅을 기다리며》 (2015년) - 임기홍, 원종환\n",
      "《영웅을 기다리며》 (2016년) - 정동진, 김민건\n"
     ]
    }
   ],
   "source": [
    "text_h2 = soup.select('#mw-content-text > div.mw-content-ltr.mw-parser-output h2')\n",
    "text_h3 = soup.select('#mw-content-text > div.mw-content-ltr.mw-parser-output h3')\n",
    "text_ul = soup.select('#mw-content-text > div.mw-content-ltr.mw-parser-output ul')\n",
    "text_dl = soup.select('#mw-content-text > div.mw-content-ltr.mw-parser-output dl')\n",
    "print(text_h2[11].text)\n",
    "print(text_h3[18].text)\n",
    "print(text_ul[24].text)\n",
    "\n",
    "print(text_h3[19].text)\n",
    "\n",
    "print(text_dl[7].text)\n",
    "print(text_ul[25].text)\n",
    "\n",
    "print(text_dl[8].text)\n",
    "print(text_ul[26].text)\n",
    "\n",
    "print(text_dl[9].text)\n",
    "print(text_ul[27].text)\n",
    "\n",
    "print(text_h3[20].text)\n",
    "print(text_ul[28].text)\n",
    "\n",
    "print(text_h3[21].text)\n",
    "print(text_ul[29].text)\n",
    "# for i in range(4):\n",
    "#     print(text_h3[18+i].text)\n",
    "#     print(text_ul[24+i].text)"
   ]
  }
 ],
 "metadata": {
  "kernelspec": {
   "display_name": "Python 3",
   "language": "python",
   "name": "python3"
  },
  "language_info": {
   "codemirror_mode": {
    "name": "ipython",
    "version": 3
   },
   "file_extension": ".py",
   "mimetype": "text/x-python",
   "name": "python",
   "nbconvert_exporter": "python",
   "pygments_lexer": "ipython3",
   "version": "3.11.9"
  }
 },
 "nbformat": 4,
 "nbformat_minor": 2
}
