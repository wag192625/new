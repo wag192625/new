{
 "cells": [
  {
   "cell_type": "code",
   "execution_count": 61,
   "metadata": {},
   "outputs": [
    {
     "name": "stdout",
     "output_type": "stream",
     "text": [
      "800640\n"
     ]
    }
   ],
   "source": [
    "# 3.디지털 시계에 하루동안(00:00~23:59) 3이 표시되는 시간을 초로 환산하면 총 몇 초(second) 일까요?\n",
    "\n",
    "# 디지털 시계는 하루동안 다음과 같이 시:분(00:00~23:59)으로 표시됩니다.\n",
    "\n",
    "# 현재 시각 : 01시 3분 00초~59초이라면 -> 60초\n",
    "# 현재 시각 : 03시 정각 -> 03시00분00초~3시59분59초 -> 1시간\n",
    "# 13:00\n",
    "\n",
    "# 00:00 (60초간 표시됨)\n",
    "# 00:01 \n",
    "# 00:02 \n",
    "# ...\n",
    "# 23:59\n",
    "hour1 : 0\n",
    "min1 : 0\n",
    "sec1 : 0\n",
    "time1 = '00:00'\n",
    "lst = []\n",
    "for i in time1 :\n",
    "    if i != ':' :\n",
    "        lst.append(int(i))\n",
    "    else :\n",
    "        lst.append(i)\n",
    "# print(type(lst[0]))\n",
    "cnt = 0\n",
    "while(True):\n",
    "    lst[4]+=1\n",
    "    # @@@@시간 계산@@@@@\n",
    "    if lst[4] == 10:\n",
    "        lst[4] = 0\n",
    "        lst[3] +=1\n",
    "    elif lst[3] == 6:\n",
    "        lst[3] = 0\n",
    "        lst[1] +=1\n",
    "    elif lst[1] == 10:\n",
    "        lst[1] = 0\n",
    "        lst[0] +=1\n",
    "    elif lst[0] == 2 :\n",
    "        if lst[1] == 4 :\n",
    "            break\n",
    "    # @@@@시간 계산 끝@@@@\n",
    "\n",
    "    if 3 in lst :\n",
    "        if lst[4] == 3:\n",
    "            cnt += 60\n",
    "        if lst[3] == 3:\n",
    "            cnt += 600\n",
    "        if lst[1] == 3:\n",
    "            cnt += 3600\n",
    "        # print('3이 들어가는 시간',lst,cnt)\n",
    "print(cnt)"
   ]
  },
  {
   "cell_type": "code",
   "execution_count": 59,
   "metadata": {},
   "outputs": [
    {
     "name": "stdout",
     "output_type": "stream",
     "text": [
      "[3, 4, 5]\n"
     ]
    }
   ],
   "source": [
    "# 1. 연속된 세 개의 정수를 더해 12가 되는 경우는 3, 4, 5입니다. 두 정수 num과 total이 주어집니다. \n",
    "# 연속된 수 num개를 더한 값이 total이 될 때, 정수 배열을 오름차순으로 담아 return하도록 solution함수를 완성해보세요.\n",
    "\n",
    "# 제한사항\n",
    "# 1 ≤ num ≤ 10\n",
    "# 0 ≤ total ≤ 100\n",
    "# num개의 연속된 수를 더하여 total이 될 수 없는 테스트 케이스는 없습니다.\n",
    "# 입출력 예\n",
    "# num\ttotal\tresult\n",
    "# 3\t12\t[3, 4, 5]\n",
    "# 5\t15\t[1, 2, 3, 4, 5]\n",
    "# 4\t14\t[2, 3, 4, 5]\n",
    "# 5\t5\t[-1, 0, 1, 2, 3]\n",
    "# 2\t7\t[3,4]\n",
    "# 1\t5\t[5]\n",
    "\n",
    "num = 3\n",
    "total = 12\n",
    "result = []\n",
    "cnt = 0\n",
    "total2= total\n",
    "while(True):\n",
    "    if num == 1:\n",
    "        result.append(total)\n",
    "    if sum(result) == total :\n",
    "        # print(result)\n",
    "        break\n",
    "    for i in range(num):\n",
    "        total2 -= 1\n",
    "        result.append(total2)\n",
    "        if len(result) == num :\n",
    "            break\n",
    "    else:\n",
    "        total2 = total\n",
    "        cnt += 1\n",
    "        total2 -= cnt\n",
    "        result = []\n",
    "result = sorted(result)\n",
    "print(result)"
   ]
  },
  {
   "cell_type": "code",
   "execution_count": 62,
   "metadata": {},
   "outputs": [
    {
     "data": {
      "text/plain": [
       "18"
      ]
     },
     "execution_count": 62,
     "metadata": {},
     "output_type": "execute_result"
    }
   ],
   "source": [
    "# 2. 네이버 글자수세기 등 특정 글의 글자를 세는 프로그램은 일반적으로 공백을 제외한 글자수만을 세는 기능도 가지고 있다.\n",
    "# 어떠한 문자열을 입력받았을 때 줄바꿈과 공백을 제외한 글자수만을 리턴하는 코드를 작성하시오.\n",
    "\n",
    "# 입력 예시\n",
    "# 공백을 제외한\n",
    "# 글자수만을 세는 코드 테스트\n",
    "\n",
    "# 출력 예시\n",
    "# 18\n",
    "text = '''공백을 제외한\n",
    "        글자수만을 세는 코드 테스트'''\n",
    "text.split(' ')\n",
    "lst = []\n",
    "for i in text :\n",
    "    if i not in ' ' :\n",
    "        lst.append(i)\n",
    "    if i == '\\n' :\n",
    "        lst.pop(-1)\n",
    "len(lst)"
   ]
  },
  {
   "cell_type": "code",
   "execution_count": 57,
   "metadata": {},
   "outputs": [
    {
     "name": "stdout",
     "output_type": "stream",
     "text": [
      "cmia ho\n",
      "91061\n"
     ]
    }
   ],
   "source": [
    "# 3. 문자와 숫자가섞인 문자열을 입력받을때 구별하여출력해라\n",
    "\n",
    "# 입력 예시\n",
    "# \"c910m6ia 1ho\"\n",
    "\n",
    "# 출력 예시\n",
    "# str : cma ho\n",
    "# int : 91061\n",
    "import re\n",
    "text = \"c910m6ia 1ho\"\n",
    "\n",
    "str1 = []\n",
    "int1 = []\n",
    "# str = re.findall('[a-zA-Zㄱ-ㅎ가-힣ㅏ-ㅣ ]+',text)\n",
    "# str = ''.join(str)\n",
    "\n",
    "# int = re.findall('[0-9]+',text)\n",
    "# int = ''.join(int)\n",
    "# print(str)\n",
    "# print(int)\n",
    "\n",
    "for i in text :\n",
    "    if re.findall('[0-9]+',i):\n",
    "        int1.append(i)\n",
    "    else :\n",
    "        str1.append(i)\n",
    "str1 = ''.join(str1)\n",
    "int1 = ''.join(int1)\n",
    "print(str1)\n",
    "print(int1)"
   ]
  }
 ],
 "metadata": {
  "kernelspec": {
   "display_name": "Python 3",
   "language": "python",
   "name": "python3"
  },
  "language_info": {
   "codemirror_mode": {
    "name": "ipython",
    "version": 3
   },
   "file_extension": ".py",
   "mimetype": "text/x-python",
   "name": "python",
   "nbconvert_exporter": "python",
   "pygments_lexer": "ipython3",
   "version": "3.11.9"
  }
 },
 "nbformat": 4,
 "nbformat_minor": 2
}
