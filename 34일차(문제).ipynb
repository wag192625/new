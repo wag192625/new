{
 "cells": [
  {
   "cell_type": "code",
   "execution_count": 72,
   "metadata": {},
   "outputs": [
    {
     "name": "stdout",
     "output_type": "stream",
     "text": [
      "['1213th', '1341st', '5234th', '5132nd']\n"
     ]
    }
   ],
   "source": [
    "# 2. 기수(Cardinal)를 입력하면 영어 서수(Ordinal)로 출력하는 함수를 작성합니다.\n",
    "\n",
    "# 1, 21, 31, 41, ... → 1st, 21st, 31st, 41st, ...\n",
    "# 2, 22, 32, 42, ... → 2nd, 22nd, 32nd, 42nd, ...\n",
    "# 3, 23, 33, 43, ... → 3rd, 23rd, 33rd, 43rd, ...\n",
    "# 11, 12, 13, 111, 112, 113, 211, 212, 213, ...  → 11th, 12th, 13th, 111th, 112th, 113th, 211th, 212th, 213th, ...\n",
    "# 4, 5, 6, 11, 12, 13, 101, 111, 112, ... → 4th, 5th, 6th, 11th, 12th, 13th, 101st, 111th, 112th, ...\n",
    "\n",
    "# 1=st 2=nd 3=rd 4~=th / 11,12,13 = th\n",
    "\n",
    "lst = [1,2,3,11,21,12,22,13,23,101,102,103,104,114,121]\n",
    "# lst = [1213,1341,5234,5132]\n",
    "lst = list(map(str,lst))\n",
    "lst2 = []\n",
    "for i in lst :\n",
    "    if i[-1] in ('1','2','3'):                  # 1의 자리에 1,2,3 이 있다면\n",
    "        if len(i) == 1 :                        # 길이가 하나뿐이라면\n",
    "            if i[-1] == '1':\n",
    "                lst2.append(''.join([i,'st']))\n",
    "            elif i[-1] == '2':\n",
    "                lst2.append(''.join([i,'nd']))\n",
    "            elif i[-1] == '3':\n",
    "                lst2.append(''.join([i,'rd']))\n",
    "\n",
    "        elif i[-2] == '1':                      # 10의 자리가 1이라면\n",
    "            lst2.append(''.join([i,'th']))\n",
    "        \n",
    "        else :                                  # 길이가 1이 아니고 10의 자리의 숫자가 1이 아니라면(st,nd,rd 최종구분점)\n",
    "            if i[-1] == '1':\n",
    "                lst2.append(''.join([i,'st']))\n",
    "            elif i[-1] == '2':\n",
    "                lst2.append(''.join([i,'nd']))\n",
    "            elif i[-1] == '3':\n",
    "                lst2.append(''.join([i,'rd']))\n",
    "    else:                                       # 1의 자리에 1,2,3 이외의 숫자\n",
    "        lst2.append(''.join([i,'th']))\n",
    "print(lst2)"
   ]
  },
  {
   "cell_type": "code",
   "execution_count": 88,
   "metadata": {},
   "outputs": [
    {
     "name": "stdout",
     "output_type": "stream",
     "text": [
      "['C', 'D', 'E', 'F', 'G', 'A', 'B']\n"
     ]
    }
   ],
   "source": [
    "# 3.아래 조건에 따라 리스트를 회전하는 프로그램을 작성하시오.\n",
    "# 조건\n",
    "# 입력값은 한 행의 문자열로 주어지며, 각 값은 공백으로 구분된다.\n",
    "# 첫 번째 값은 리스트를 회전하는 양과 방향(음수의 경우 좌측으로, 양수의 경우 우측으로 회전)이다.\n",
    "# 첫 번째 값을 제외한 나머지 값은 리스트의 각 항목의 값이다.\n",
    "# 회전된 리스트를 문자열로 출력한다.\n",
    "# 구현에 이용할 자료구조에 대한 조건이나 제약은 없다.\n",
    "# 입력되는 리스트의 항목의 개수는 유한한다.\n",
    "\n",
    "# 입출력예\n",
    "# 예 1)\n",
    "# 입력: 1 10 20 30 40 50\n",
    "# 출력: 50 10 20 30 40\n",
    "# +1 이니깐 우측으로 1번 회전해서 50이 처음으로\n",
    "\n",
    "# 예 2)\n",
    "# 입력: 4 가 나 다 라 마 바 사\n",
    "# 출력: 라 마 바 사 가 나 다\n",
    "\n",
    "# 예 3)\n",
    "# 입력: -2 A B C D E F G\n",
    "# 출력: C D E F G A B\n",
    "# -2 이니깐 앞에 두개를 뒤에 붙임\n",
    "\n",
    "# 예 4)\n",
    "# 입력: 0 똘기 떵이 호치 새초미\n",
    "# 출력: 똘기 떵이 호치 새초미\n",
    "\n",
    "\n",
    "\n",
    "# lst = [1, 10, 20, 30, 40, 50]\n",
    "lst = ['-2', 'A', 'B', 'C', 'D','E', 'F', 'G']\n",
    "# lst = ['0', '똘기', '떵이', '호치', '새초미']\n",
    "num = int(lst[0])   # 회전할 값\n",
    "lst2 = lst[1:]      # 최종값\n",
    "cnt = 0\n",
    "\n",
    "if num >= 0:\n",
    "    while[True]:\n",
    "        if cnt == num :\n",
    "            break\n",
    "        lst2.insert(0,lst2[-1])\n",
    "        lst2.pop()\n",
    "        cnt+=1\n",
    "\n",
    "elif num <= 0:\n",
    "    while[True]:\n",
    "        if cnt == num:\n",
    "            break\n",
    "        lst2.append(lst2[0])\n",
    "        del(lst2[0])\n",
    "        cnt -=1\n",
    "print(lst2)"
   ]
  }
 ],
 "metadata": {
  "kernelspec": {
   "display_name": "Python 3",
   "language": "python",
   "name": "python3"
  },
  "language_info": {
   "codemirror_mode": {
    "name": "ipython",
    "version": 3
   },
   "file_extension": ".py",
   "mimetype": "text/x-python",
   "name": "python",
   "nbconvert_exporter": "python",
   "pygments_lexer": "ipython3",
   "version": "3.11.9"
  }
 },
 "nbformat": 4,
 "nbformat_minor": 2
}
