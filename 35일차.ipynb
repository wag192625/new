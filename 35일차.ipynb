{
 "cells": [
  {
   "cell_type": "code",
   "execution_count": 3,
   "metadata": {},
   "outputs": [
    {
     "name": "stdout",
     "output_type": "stream",
     "text": [
      "233168\n"
     ]
    }
   ],
   "source": [
    "# 10미만의 자연수에서 3과 5의 배수를 구하면 3,5,6,9이다. 이들의 총합은 23이다. \n",
    "# 1000미만의 자연수에서 3,5의 배수의 총합을 구하라.\n",
    "num = 0\n",
    "for i in range(1,1000):\n",
    "    if i % 3 == 0 or i % 5 == 0 :\n",
    "        num += i\n",
    "print(num)"
   ]
  },
  {
   "cell_type": "code",
   "execution_count": 24,
   "metadata": {},
   "outputs": [
    {
     "data": {
      "text/plain": [
       "49293"
      ]
     },
     "execution_count": 24,
     "metadata": {},
     "output_type": "execute_result"
    }
   ],
   "source": [
    "# 어떤 자연수 n이 있을 때, d(n)을 n의 각 자릿수 숫자들과 n 자신을 더한 숫자라고 정의하자.\n",
    "# 예를 들어 # d(91) = 9 + 1 + 91 = 101 # 이 때, n을 d(n)의 제네레이터(generator)라고 한다. 위의 예에서 91은 101의 제네레이터이다.\n",
    "# d(91) 의 제네레이터 = 91\n",
    "\n",
    "# 어떤 숫자들은 하나 이상의 제네레이터를 가지고 있는데, 101의 제네레이터는 91 뿐 아니라 100도 있다.\n",
    "# d(101) = 1 + 0 + 0 + 100 = 101\n",
    "\n",
    "# 그런데 반대로, 제네레이터가 없는 숫자들도 있으며, 이런 숫자를 인도의 수학자 Kaprekar가 셀프 넘버(self-number)라 이름 붙였다.\n",
    "# 예를 들어 1,3,5,7,9,20,31 은 셀프 넘버 들이다.\n",
    "# 1 이상이고 5000 보다 작은 모든 셀프 넘버들의 합을 구하라. # 1<= n <5000\n",
    "\n",
    "generator = []\n",
    "lst = []\n",
    "\n",
    "for i in range(1,1000):\n",
    "    num = 0\n",
    "    for j in str(i) :\n",
    "        num+=int(j)\n",
    "    num+=i\n",
    "    generator.append(num)\n",
    "for i in range(1,1000):\n",
    "    if i not in generator:\n",
    "        lst.append(i)\n",
    "sum(lst)"
   ]
  }
 ],
 "metadata": {
  "kernelspec": {
   "display_name": "Python 3",
   "language": "python",
   "name": "python3"
  },
  "language_info": {
   "codemirror_mode": {
    "name": "ipython",
    "version": 3
   },
   "file_extension": ".py",
   "mimetype": "text/x-python",
   "name": "python",
   "nbconvert_exporter": "python",
   "pygments_lexer": "ipython3",
   "version": "3.11.9"
  }
 },
 "nbformat": 4,
 "nbformat_minor": 2
}
