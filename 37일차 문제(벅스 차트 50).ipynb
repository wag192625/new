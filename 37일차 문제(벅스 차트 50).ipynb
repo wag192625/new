{
 "cells": [
  {
   "cell_type": "code",
   "execution_count": null,
   "metadata": {},
   "outputs": [],
   "source": [
    "# 숙제 \n",
    "# 벅스 뮤직 1~50위권 순위, 그룹명, 노래명, 앨범을 DataFrame에 저장하여 excel 파일로 저장"
   ]
  },
  {
   "cell_type": "code",
   "execution_count": 1,
   "metadata": {},
   "outputs": [],
   "source": [
    "from bs4 import BeautifulSoup\n",
    "from selenium import webdriver\n",
    "import pandas as pd\n",
    "wd = webdriver.Chrome() # 크롬창 열기 (wd는 웹드라이버 약칭)\n",
    "\n",
    "url = 'https://music.bugs.co.kr/chart'\n",
    "wd.get(url) # 크롬창에서 벅스 차트 열기"
   ]
  },
  {
   "cell_type": "code",
   "execution_count": null,
   "metadata": {},
   "outputs": [],
   "source": [
    "html = wd.page_source   # 벅스 차트의 소스를 html로 지정\n",
    "soup = BeautifulSoup(html, 'html.parser')   # 뷰티풀수프로 파싱"
   ]
  },
  {
   "cell_type": "code",
   "execution_count": null,
   "metadata": {},
   "outputs": [],
   "source": [
    "song_data = []\n",
    "for i in range(50):\n",
    "    rank = i+1\n",
    "    title = soup.select('#CHARTrealtime > table > tbody > tr > td input')[i].attrs['title'] # 노래 제목만 추출\n",
    "    artist = soup.select('#CHARTrealtime > table > tbody > tr >td p a')[i].text    # 가수만 추출\n",
    "    album = soup.select('#CHARTrealtime > table > tbody > tr >td a.album')[i].text  # 앨범만 추출\n",
    "    song_data.append([rank, title, artist, album])\n",
    "song_data"
   ]
  },
  {
   "cell_type": "code",
   "execution_count": null,
   "metadata": {},
   "outputs": [],
   "source": [
    "import pandas as pd # 판다스\n",
    "\n",
    "df = pd.DataFrame(song_data,columns=['순위', '제목', '가수', '앨범'])\n",
    "df.tail()\n",
    "df.to_excel('bugs_chart50.xlsx', index=False) # 액셀로 추출 /인덱스는 왼쪽 숫자 제거"
   ]
  },
  {
   "cell_type": "code",
   "execution_count": null,
   "metadata": {},
   "outputs": [],
   "source": [
    "df = pd.read_excel('bugs_chart50.xlsx')\n",
    "df"
   ]
  }
 ],
 "metadata": {
  "kernelspec": {
   "display_name": "Python 3",
   "language": "python",
   "name": "python3"
  },
  "language_info": {
   "codemirror_mode": {
    "name": "ipython",
    "version": 3
   },
   "file_extension": ".py",
   "mimetype": "text/x-python",
   "name": "python",
   "nbconvert_exporter": "python",
   "pygments_lexer": "ipython3",
   "version": "3.11.9"
  }
 },
 "nbformat": 4,
 "nbformat_minor": 2
}
