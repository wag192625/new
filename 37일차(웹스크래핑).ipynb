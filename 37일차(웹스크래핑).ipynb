{
 "cells": [
  {
   "cell_type": "markdown",
   "metadata": {},
   "source": [
    "34일차 문제 줄이기"
   ]
  },
  {
   "cell_type": "code",
   "execution_count": 144,
   "metadata": {},
   "outputs": [
    {
     "name": "stdout",
     "output_type": "stream",
     "text": [
      "['2nd', '3rd', '11th', '12th', '22nd', '13th', '23rd', '102nd', '103rd', '114th']\n"
     ]
    }
   ],
   "source": [
    "# 2. 기수(Cardinal)를 입력하면 영어 서수(Ordinal)로 출력하는 함수를 작성합니다.\n",
    "\n",
    "# 1, 21, 31, 41, ... → 1st, 21st, 31st, 41st, ...\n",
    "# 2, 22, 32, 42, ... → 2nd, 22nd, 32nd, 42nd, ...\n",
    "# 3, 23, 33, 43, ... → 3rd, 23rd, 33rd, 43rd, ...\n",
    "# 11, 12, 13, 111, 112, 113, 211, 212, 213, ...  → 11th, 12th, 13th, 111th, 112th, 113th, 211th, 212th, 213th, ...\n",
    "# 4, 5, 6, 11, 12, 13, 101, 111, 112, ... → 4th, 5th, 6th, 11th, 12th, 13th, 101st, 111th, 112th, ...\n",
    "\n",
    "# 1=st 2=nd 3=rd 4~=th / 11,12,13 = th\n",
    "\n",
    "lst = [1,2,3,11,21,12,22,13,23,101,102,103,104,114,121]\n",
    "# lst = [1213,1341,5234,5132]\n",
    "lst = list(map(str,lst))\n",
    "lst2 = []\n",
    "res = []\n",
    "for i in lst :\n",
    "    if(int(i)>10 and i[-2] != '2' and i[-2] != '3' and 20>int(i[-2:]) > 10) or( 10 > int(i) > 3) : # 10의 자리와 그 안의 숫자 판별\n",
    "        res.append(i+'th')\n",
    "    elif(i[-1] == '3'):\n",
    "        res.append(i+'rd')\n",
    "    elif(i[-1] == '2'):\n",
    "        res.append(i+'nd')\n",
    "    elif(i[-1] == '3'):\n",
    "        res.append(i+'st')\n",
    "print(res)"
   ]
  },
  {
   "cell_type": "code",
   "execution_count": 11,
   "metadata": {},
   "outputs": [
    {
     "data": {
      "text/plain": [
       "['C', 'D', 'E', 'F', 'G', 'A', 'B']"
      ]
     },
     "execution_count": 11,
     "metadata": {},
     "output_type": "execute_result"
    }
   ],
   "source": [
    "# 3.아래 조건에 따라 리스트를 회전하는 프로그램을 작성하시오.\n",
    "# 조건\n",
    "# 입력값은 한 행의 문자열로 주어지며, 각 값은 공백으로 구분된다.\n",
    "# 첫 번째 값은 리스트를 회전하는 양과 방향(음수의 경우 좌측으로, 양수의 경우 우측으로 회전)이다.\n",
    "# 첫 번째 값을 제외한 나머지 값은 리스트의 각 항목의 값이다.\n",
    "# 회전된 리스트를 문자열로 출력한다.\n",
    "# 구현에 이용할 자료구조에 대한 조건이나 제약은 없다.\n",
    "# 입력되는 리스트의 항목의 개수는 유한한다.\n",
    "\n",
    "# 입출력예\n",
    "# 예 1)\n",
    "# 입력: 1 10 20 30 40 50\n",
    "# 출력: 50 10 20 30 40\n",
    "# +1 이니깐 우측으로 1번 회전해서 50이 처음으로\n",
    "\n",
    "# 예 2)\n",
    "# 입력: 4 가 나 다 라 마 바 사\n",
    "# 출력: 라 마 바 사 가 나 다\n",
    "\n",
    "# 예 3)\n",
    "# 입력: -2 A B C D E F G\n",
    "# 출력: C D E F G A B\n",
    "# -2 이니깐 앞에 두개를 뒤에 붙임\n",
    "\n",
    "# 예 4)\n",
    "# 입력: 0 똘기 떵이 호치 새초미\n",
    "# 출력: 똘기 떵이 호치 새초미\n",
    "\n",
    "lst = '-2 A B C D E F G'.split()\n",
    "lst\n",
    "\n",
    "cnt, word = int(lst[0]), lst[1:]\n",
    "word[-cnt:]+word[:-cnt]"
   ]
  },
  {
   "cell_type": "markdown",
   "metadata": {},
   "source": [
    "웹 스크래핑 2일차"
   ]
  },
  {
   "cell_type": "code",
   "execution_count": 2,
   "metadata": {},
   "outputs": [],
   "source": [
    "# 웹 스크래핑\n",
    "html = \"\"\"\n",
    "<ul>\n",
    "  <li><a href=\"hoge.html\">hoge</li>\n",
    "  <li><a href=\"https://example.com/fuga\">fuga*</li>\n",
    "  <li><a href=\"https://example.com/foo\">foo*</li>\n",
    "  <li><a href=\"http://example.com/aaa\">aaa</li>\n",
    "</ul>\n",
    "\"\"\"\n",
    "from bs4 import BeautifulSoup"
   ]
  },
  {
   "cell_type": "code",
   "execution_count": 3,
   "metadata": {},
   "outputs": [],
   "source": [
    "soup = BeautifulSoup(html,'html.parser')"
   ]
  },
  {
   "cell_type": "code",
   "execution_count": 8,
   "metadata": {},
   "outputs": [
    {
     "data": {
      "text/plain": [
       "'http://example.com/aaa'"
      ]
     },
     "execution_count": 8,
     "metadata": {},
     "output_type": "execute_result"
    }
   ],
   "source": [
    "soup.select('li > a')[-1].attrs['href']"
   ]
  },
  {
   "cell_type": "code",
   "execution_count": 12,
   "metadata": {},
   "outputs": [
    {
     "data": {
      "text/plain": [
       "[<a href=\"https://example.com/fuga\">fuga*</a>,\n",
       " <a href=\"https://example.com/foo\">foo*</a>,\n",
       " <a href=\"http://example.com/aaa\">aaa</a>]"
      ]
     },
     "execution_count": 12,
     "metadata": {},
     "output_type": "execute_result"
    }
   ],
   "source": [
    "import re\n",
    "soup.find_all(href=re.compile('^http'))"
   ]
  },
  {
   "cell_type": "code",
   "execution_count": 13,
   "metadata": {},
   "outputs": [],
   "source": [
    "# selenium : 웹스크래핑 도구(많이 쓰이는 도구) scrapy\n",
    "# beutifulsoup : html 파싱, 데이터를 추출하고 가공."
   ]
  },
  {
   "cell_type": "code",
   "execution_count": 1,
   "metadata": {},
   "outputs": [],
   "source": [
    "# 셀레니움 설치\n",
    "# pip install selenium\n",
    "\n",
    "# 설치된 라이브러리 확인(쥬피터노트북)\n",
    "# pip list"
   ]
  },
  {
   "cell_type": "code",
   "execution_count": 9,
   "metadata": {},
   "outputs": [],
   "source": [
    "from bs4 import BeautifulSoup\n",
    "from selenium import webdriver"
   ]
  },
  {
   "cell_type": "code",
   "execution_count": 3,
   "metadata": {},
   "outputs": [],
   "source": [
    "wd = webdriver.Chrome()\n",
    "# 실행을 한번만 하고 열린 창으로 해야함"
   ]
  },
  {
   "cell_type": "code",
   "execution_count": 4,
   "metadata": {},
   "outputs": [],
   "source": [
    "wd.get('https://www.naver.com') # 웹 드라이버 화면으로 입력한 주소로 접속"
   ]
  },
  {
   "cell_type": "code",
   "execution_count": null,
   "metadata": {},
   "outputs": [],
   "source": [
    "html = wd.page_source\n",
    "html"
   ]
  },
  {
   "cell_type": "markdown",
   "metadata": {},
   "source": [
    "웹스크래핑 복습"
   ]
  },
  {
   "cell_type": "code",
   "execution_count": 8,
   "metadata": {},
   "outputs": [],
   "source": [
    "html = '''\n",
    "<html>\n",
    "    <head>\n",
    "    </head>\n",
    "    <body>\n",
    "        <h1> 우리동네시장</h1>\n",
    "            <div class = 'sale'>\n",
    "                <p id='fruits1' class='fruits'>\n",
    "                    <span class = 'name'> 바나나 </span>\n",
    "                    <span class = 'price'> 3000원 </span>\n",
    "                    <span class = 'inventory'> 500개 </span>\n",
    "                    <span class = 'store'> 가나다상회 </span>\n",
    "                    <a href = 'http://bit.ly/forPlaywithData' > 홈페이지 </a>\n",
    "                </p>\n",
    "            </div>\n",
    "            <div class = 'prepare'>\n",
    "                <p id='fruits2' class='fruits'>\n",
    "                    <span class ='name'> 파인애플 </span>\n",
    "                </p>\n",
    "            </div>\n",
    "    </body>\n",
    "</html>\n",
    "'''"
   ]
  },
  {
   "cell_type": "code",
   "execution_count": 10,
   "metadata": {},
   "outputs": [],
   "source": [
    "html = BeautifulSoup(html,'html.parser')"
   ]
  },
  {
   "cell_type": "code",
   "execution_count": 27,
   "metadata": {},
   "outputs": [
    {
     "data": {
      "text/plain": [
       "'3000원'"
      ]
     },
     "execution_count": 27,
     "metadata": {},
     "output_type": "execute_result"
    }
   ],
   "source": [
    "# html.select('body > div > p' )\n",
    "# html.select('html > body .fruits' )\n",
    "html.select('span')[1].text.strip()"
   ]
  },
  {
   "cell_type": "markdown",
   "metadata": {},
   "source": [
    "복습 끝"
   ]
  },
  {
   "cell_type": "markdown",
   "metadata": {},
   "source": [
    "멜론 in100차트 추출"
   ]
  },
  {
   "cell_type": "code",
   "execution_count": 28,
   "metadata": {},
   "outputs": [],
   "source": [
    "url = 'https://www.melon.com/chart/index.htm'\n",
    "wd.get(url)"
   ]
  },
  {
   "cell_type": "code",
   "execution_count": 29,
   "metadata": {},
   "outputs": [],
   "source": [
    "html = wd.page_source\n",
    "soup = BeautifulSoup(html, 'html.parser')"
   ]
  },
  {
   "cell_type": "code",
   "execution_count": 73,
   "metadata": {},
   "outputs": [
    {
     "data": {
      "text/plain": [
       "'Magnetic 곡 선택'"
      ]
     },
     "execution_count": 73,
     "metadata": {},
     "output_type": "execute_result"
    }
   ],
   "source": [
    "soup.select('#frm > div > table > tbody >tr > td div.wrap input')[1].attrs['title']"
   ]
  },
  {
   "cell_type": "code",
   "execution_count": 96,
   "metadata": {},
   "outputs": [
    {
     "data": {
      "text/plain": [
       "'SPOT! (feat. JENNIE)'"
      ]
     },
     "execution_count": 96,
     "metadata": {},
     "output_type": "execute_result"
    }
   ],
   "source": [
    "songs = soup.select('tr')\n",
    "songs=songs[1:]\n",
    "songs[0].select('div')[5].text.strip().split('\\n')[0]"
   ]
  },
  {
   "cell_type": "code",
   "execution_count": 111,
   "metadata": {},
   "outputs": [
    {
     "data": {
      "text/plain": [
       "'지코 (ZICO)지코 (ZICO)'"
      ]
     },
     "execution_count": 111,
     "metadata": {},
     "output_type": "execute_result"
    }
   ],
   "source": [
    "(songs[0].select('div')[5].text.strip().split('\\n')[-1])"
   ]
  },
  {
   "cell_type": "code",
   "execution_count": 112,
   "metadata": {},
   "outputs": [
    {
     "name": "stdout",
     "output_type": "stream",
     "text": [
      "Melon 1 SPOT! (feat. JENNIE)\n",
      "Melon 2 Magnetic\n",
      "Melon 3 해야 (HEYA)\n",
      "Melon 4 나는 아픈 건 딱 질색이니까\n",
      "Melon 5 고민중독\n",
      "Melon 6 첫 만남은 계획대로 되지 않아\n",
      "Melon 7 미안해 미워해 사랑해\n",
      "Melon 8 천상연\n",
      "Melon 9 SHEESH\n",
      "Melon 10 밤양갱\n",
      "Melon 11 예뻤어\n",
      "Melon 12 사랑은 늘 도망가\n",
      "Melon 13 Love wins all\n",
      "Melon 14 한 페이지가 될 수 있게\n",
      "Melon 15 MAESTRO\n",
      "Melon 16 우리들의 블루스\n",
      "Melon 17 소나기\n",
      "Melon 18 비의 랩소디\n",
      "Melon 19 모래 알갱이\n",
      "Melon 20 온기\n",
      "Melon 21 다시 만날 수 있을까\n",
      "Melon 22 EASY\n",
      "Melon 23 Do or Die\n",
      "Melon 24 To. X\n",
      "Melon 25 이제 나만 믿어요\n",
      "Melon 26 Home\n",
      "Melon 27 에피소드\n",
      "Melon 28 그대만 있다면 (여름날 우리 X 너드커넥션 (Nerd Connection))\n",
      "Melon 29 무지개\n",
      "Melon 30 London Boy\n",
      "Melon 31 Hype Boy\n",
      "Melon 32 Smart\n",
      "Melon 33 Polaroid\n",
      "Melon 34 Seven (feat. Latto) - Clean Ver.\n",
      "Melon 35 인생찬가\n",
      "Melon 36 I AM\n",
      "Melon 37 헤어지자 말해요\n",
      "Melon 38 연애편지\n",
      "Melon 39 Welcome to the Show\n",
      "Melon 40 Drama\n",
      "Melon 41 Super Shy\n",
      "Melon 42 ETA\n",
      "Melon 43 Love 119\n",
      "Melon 44 파이팅 해야지 (Feat. 이영지)\n",
      "Melon 45 Perfect Night\n",
      "Melon 46 손오공\n",
      "Melon 47 청춘찬가\n",
      "Melon 48 Ditto\n",
      "Melon 49 인사\n",
      "Melon 50 Lucky Girl Syndrome\n",
      "Melon 51 WAY 4 LUV\n",
      "Melon 52 사랑인가 봐\n",
      "Melon 53 홀씨\n",
      "Melon 54 너의 모든 순간\n",
      "Melon 55 MANIAC\n",
      "Melon 56 보금자리\n",
      "Melon 57 봄날\n",
      "Melon 58 사막에서 꽃을 피우듯\n",
      "Melon 59 Dynamite\n",
      "Melon 60 OMG\n",
      "Melon 61 퀸카 (Queencard)\n",
      "Melon 62 꿈\n",
      "Melon 63 Impossible\n",
      "Melon 64 Love Lee\n",
      "Melon 65 Midas Touch\n",
      "Melon 66 Get A Guitar\n",
      "Melon 67 Attention\n",
      "Melon 68 주저하는 연인들을 위해\n",
      "Melon 69 LOVE DIVE\n",
      "Melon 70 Spicy\n",
      "Melon 71 우리 영화\n",
      "Melon 72 사건의 지평선\n",
      "Melon 73 Baddie\n",
      "Melon 74 Siren\n",
      "Melon 75 어떻게 이별까지 사랑하겠어, 널 사랑하는 거지\n",
      "Melon 76 Super Lady\n",
      "Melon 77 슬픈 초대장\n",
      "Melon 78 음악의 신\n",
      "Melon 79 From\n",
      "Melon 80 I Don't Think That I Like Her\n",
      "Melon 81 Watch Me Woo!\n",
      "Melon 82 취중고백\n",
      "Melon 83 모든 날, 모든 순간 (Every day, Every Moment)\n",
      "Melon 84 잘 지내자, 우리 (여름날 우리 X 로이킴)\n",
      "Melon 85 심(心)\n",
      "Melon 86 그대가 내 안에 박혔다(그내박)\n",
      "Melon 87 You & Me\n",
      "Melon 88 다정히 내 이름을 부르면\n",
      "Melon 89 혹시 세상에 혼자 남겨진 것 같다면\n",
      "Melon 90 사랑하지 않아서 그랬어\n",
      "Melon 91 Kitsch\n",
      "Melon 92 버추얼 아이돌\n",
      "Melon 93 LALALI\n",
      "Melon 94 후라이의 꿈\n",
      "Melon 95 멈춰줘\n",
      "Melon 96 반딧불 (Little Light)\n",
      "Melon 97 좋아해요\n",
      "Melon 98 Steal The Show (From “엘리멘탈”)\n",
      "Melon 99 By Your Side\n",
      "Melon 100 Shopper\n"
     ]
    }
   ],
   "source": [
    "song_data = []\n",
    "for i in range(100):\n",
    "    numbering = i+1\n",
    "    title =songs[i].select('div')[5].text.strip().split('\\n')[0]\n",
    "    song_data.append(['Melon',numbering,title])\n",
    "    print('Melon',numbering,title)"
   ]
  },
  {
   "cell_type": "code",
   "execution_count": 114,
   "metadata": {},
   "outputs": [
    {
     "name": "stdout",
     "output_type": "stream",
     "text": [
      "['Melon', 1, 'SPOT! (feat. JENNIE)']\n",
      "['Melon', 2, 'Magnetic']\n",
      "['Melon', 3, '해야 (HEYA)']\n",
      "['Melon', 4, '나는 아픈 건 딱 질색이니까']\n",
      "['Melon', 5, '고민중독']\n",
      "['Melon', 6, '첫 만남은 계획대로 되지 않아']\n",
      "['Melon', 7, '미안해 미워해 사랑해']\n",
      "['Melon', 8, '천상연']\n",
      "['Melon', 9, 'SHEESH']\n",
      "['Melon', 10, '밤양갱']\n",
      "['Melon', 11, '예뻤어']\n",
      "['Melon', 12, '사랑은 늘 도망가']\n",
      "['Melon', 13, 'Love wins all']\n",
      "['Melon', 14, '한 페이지가 될 수 있게']\n",
      "['Melon', 15, 'MAESTRO']\n",
      "['Melon', 16, '우리들의 블루스']\n",
      "['Melon', 17, '소나기']\n",
      "['Melon', 18, '비의 랩소디']\n",
      "['Melon', 19, '모래 알갱이']\n",
      "['Melon', 20, '온기']\n",
      "['Melon', 21, '다시 만날 수 있을까']\n",
      "['Melon', 22, 'EASY']\n",
      "['Melon', 23, 'Do or Die']\n",
      "['Melon', 24, 'To. X']\n",
      "['Melon', 25, '이제 나만 믿어요']\n",
      "['Melon', 26, 'Home']\n",
      "['Melon', 27, '에피소드']\n",
      "['Melon', 28, '그대만 있다면 (여름날 우리 X 너드커넥션 (Nerd Connection))']\n",
      "['Melon', 29, '무지개']\n",
      "['Melon', 30, 'London Boy']\n",
      "['Melon', 31, 'Hype Boy']\n",
      "['Melon', 32, 'Smart']\n",
      "['Melon', 33, 'Polaroid']\n",
      "['Melon', 34, 'Seven (feat. Latto) - Clean Ver.']\n",
      "['Melon', 35, '인생찬가']\n",
      "['Melon', 36, 'I AM']\n",
      "['Melon', 37, '헤어지자 말해요']\n",
      "['Melon', 38, '연애편지']\n",
      "['Melon', 39, 'Welcome to the Show']\n",
      "['Melon', 40, 'Drama']\n",
      "['Melon', 41, 'Super Shy']\n",
      "['Melon', 42, 'ETA']\n",
      "['Melon', 43, 'Love 119']\n",
      "['Melon', 44, '파이팅 해야지 (Feat. 이영지)']\n",
      "['Melon', 45, 'Perfect Night']\n",
      "['Melon', 46, '손오공']\n",
      "['Melon', 47, '청춘찬가']\n",
      "['Melon', 48, 'Ditto']\n",
      "['Melon', 49, '인사']\n",
      "['Melon', 50, 'Lucky Girl Syndrome']\n",
      "['Melon', 51, 'WAY 4 LUV']\n",
      "['Melon', 52, '사랑인가 봐']\n",
      "['Melon', 53, '홀씨']\n",
      "['Melon', 54, '너의 모든 순간']\n",
      "['Melon', 55, 'MANIAC']\n",
      "['Melon', 56, '보금자리']\n",
      "['Melon', 57, '봄날']\n",
      "['Melon', 58, '사막에서 꽃을 피우듯']\n",
      "['Melon', 59, 'Dynamite']\n",
      "['Melon', 60, 'OMG']\n",
      "['Melon', 61, '퀸카 (Queencard)']\n",
      "['Melon', 62, '꿈']\n",
      "['Melon', 63, 'Impossible']\n",
      "['Melon', 64, 'Love Lee']\n",
      "['Melon', 65, 'Midas Touch']\n",
      "['Melon', 66, 'Get A Guitar']\n",
      "['Melon', 67, 'Attention']\n",
      "['Melon', 68, '주저하는 연인들을 위해']\n",
      "['Melon', 69, 'LOVE DIVE']\n",
      "['Melon', 70, 'Spicy']\n",
      "['Melon', 71, '우리 영화']\n",
      "['Melon', 72, '사건의 지평선']\n",
      "['Melon', 73, 'Baddie']\n",
      "['Melon', 74, 'Siren']\n",
      "['Melon', 75, '어떻게 이별까지 사랑하겠어, 널 사랑하는 거지']\n",
      "['Melon', 76, 'Super Lady']\n",
      "['Melon', 77, '슬픈 초대장']\n",
      "['Melon', 78, '음악의 신']\n",
      "['Melon', 79, 'From']\n",
      "['Melon', 80, \"I Don't Think That I Like Her\"]\n",
      "['Melon', 81, 'Watch Me Woo!']\n",
      "['Melon', 82, '취중고백']\n",
      "['Melon', 83, '모든 날, 모든 순간 (Every day, Every Moment)']\n",
      "['Melon', 84, '잘 지내자, 우리 (여름날 우리 X 로이킴)']\n",
      "['Melon', 85, '심(心)']\n",
      "['Melon', 86, '그대가 내 안에 박혔다(그내박)']\n",
      "['Melon', 87, 'You & Me']\n",
      "['Melon', 88, '다정히 내 이름을 부르면']\n",
      "['Melon', 89, '혹시 세상에 혼자 남겨진 것 같다면']\n",
      "['Melon', 90, '사랑하지 않아서 그랬어']\n",
      "['Melon', 91, 'Kitsch']\n",
      "['Melon', 92, '버추얼 아이돌']\n",
      "['Melon', 93, 'LALALI']\n",
      "['Melon', 94, '후라이의 꿈']\n",
      "['Melon', 95, '멈춰줘']\n",
      "['Melon', 96, '반딧불 (Little Light)']\n",
      "['Melon', 97, '좋아해요']\n",
      "['Melon', 98, 'Steal The Show (From “엘리멘탈”)']\n",
      "['Melon', 99, 'By Your Side']\n",
      "['Melon', 100, 'Shopper']\n"
     ]
    }
   ],
   "source": [
    "for i in song_data:\n",
    "    print(i)"
   ]
  },
  {
   "cell_type": "markdown",
   "metadata": {},
   "source": [
    "판다스 맛보기"
   ]
  },
  {
   "cell_type": "code",
   "execution_count": null,
   "metadata": {},
   "outputs": [],
   "source": [
    "# pip install pandas\n",
    "# 판다스 설치"
   ]
  },
  {
   "cell_type": "code",
   "execution_count": 108,
   "metadata": {},
   "outputs": [],
   "source": [
    "import pandas as pd"
   ]
  },
  {
   "cell_type": "code",
   "execution_count": null,
   "metadata": {},
   "outputs": [],
   "source": [
    "# pip install openpyxl"
   ]
  },
  {
   "cell_type": "code",
   "execution_count": 125,
   "metadata": {},
   "outputs": [],
   "source": [
    "# 데이터프레임 = 엑셀\n",
    "df = pd.DataFrame(song_data,columns=['서비스', '순위', '노래명'])\n",
    "df.head()\n",
    "df.to_excel('melon_chart100.xlsx', index=False) # 인덱스는 왼쪽 숫자"
   ]
  },
  {
   "cell_type": "code",
   "execution_count": 128,
   "metadata": {},
   "outputs": [
    {
     "data": {
      "text/html": [
       "<div>\n",
       "<style scoped>\n",
       "    .dataframe tbody tr th:only-of-type {\n",
       "        vertical-align: middle;\n",
       "    }\n",
       "\n",
       "    .dataframe tbody tr th {\n",
       "        vertical-align: top;\n",
       "    }\n",
       "\n",
       "    .dataframe thead th {\n",
       "        text-align: right;\n",
       "    }\n",
       "</style>\n",
       "<table border=\"1\" class=\"dataframe\">\n",
       "  <thead>\n",
       "    <tr style=\"text-align: right;\">\n",
       "      <th></th>\n",
       "      <th>서비스</th>\n",
       "      <th>순위</th>\n",
       "      <th>노래명</th>\n",
       "    </tr>\n",
       "  </thead>\n",
       "  <tbody>\n",
       "    <tr>\n",
       "      <th>0</th>\n",
       "      <td>Melon</td>\n",
       "      <td>1</td>\n",
       "      <td>SPOT! (feat. JENNIE)</td>\n",
       "    </tr>\n",
       "    <tr>\n",
       "      <th>1</th>\n",
       "      <td>Melon</td>\n",
       "      <td>2</td>\n",
       "      <td>Magnetic</td>\n",
       "    </tr>\n",
       "    <tr>\n",
       "      <th>2</th>\n",
       "      <td>Melon</td>\n",
       "      <td>3</td>\n",
       "      <td>해야 (HEYA)</td>\n",
       "    </tr>\n",
       "    <tr>\n",
       "      <th>3</th>\n",
       "      <td>Melon</td>\n",
       "      <td>4</td>\n",
       "      <td>나는 아픈 건 딱 질색이니까</td>\n",
       "    </tr>\n",
       "    <tr>\n",
       "      <th>4</th>\n",
       "      <td>Melon</td>\n",
       "      <td>5</td>\n",
       "      <td>고민중독</td>\n",
       "    </tr>\n",
       "    <tr>\n",
       "      <th>...</th>\n",
       "      <td>...</td>\n",
       "      <td>...</td>\n",
       "      <td>...</td>\n",
       "    </tr>\n",
       "    <tr>\n",
       "      <th>95</th>\n",
       "      <td>Melon</td>\n",
       "      <td>96</td>\n",
       "      <td>반딧불 (Little Light)</td>\n",
       "    </tr>\n",
       "    <tr>\n",
       "      <th>96</th>\n",
       "      <td>Melon</td>\n",
       "      <td>97</td>\n",
       "      <td>좋아해요</td>\n",
       "    </tr>\n",
       "    <tr>\n",
       "      <th>97</th>\n",
       "      <td>Melon</td>\n",
       "      <td>98</td>\n",
       "      <td>Steal The Show (From “엘리멘탈”)</td>\n",
       "    </tr>\n",
       "    <tr>\n",
       "      <th>98</th>\n",
       "      <td>Melon</td>\n",
       "      <td>99</td>\n",
       "      <td>By Your Side</td>\n",
       "    </tr>\n",
       "    <tr>\n",
       "      <th>99</th>\n",
       "      <td>Melon</td>\n",
       "      <td>100</td>\n",
       "      <td>Shopper</td>\n",
       "    </tr>\n",
       "  </tbody>\n",
       "</table>\n",
       "<p>100 rows × 3 columns</p>\n",
       "</div>"
      ],
      "text/plain": [
       "      서비스   순위                           노래명\n",
       "0   Melon    1          SPOT! (feat. JENNIE)\n",
       "1   Melon    2                      Magnetic\n",
       "2   Melon    3                     해야 (HEYA)\n",
       "3   Melon    4               나는 아픈 건 딱 질색이니까\n",
       "4   Melon    5                          고민중독\n",
       "..    ...  ...                           ...\n",
       "95  Melon   96            반딧불 (Little Light)\n",
       "96  Melon   97                          좋아해요\n",
       "97  Melon   98  Steal The Show (From “엘리멘탈”)\n",
       "98  Melon   99                  By Your Side\n",
       "99  Melon  100                       Shopper\n",
       "\n",
       "[100 rows x 3 columns]"
      ]
     },
     "execution_count": 128,
     "metadata": {},
     "output_type": "execute_result"
    }
   ],
   "source": [
    "df = pd.read_excel('melon_chart100.xlsx')\n",
    "df"
   ]
  },
  {
   "cell_type": "markdown",
   "metadata": {},
   "source": [
    "웹 스크래핑 입력"
   ]
  },
  {
   "cell_type": "code",
   "execution_count": 129,
   "metadata": {},
   "outputs": [],
   "source": [
    "from bs4 import BeautifulSoup\n",
    "from selenium import webdriver\n",
    "\n",
    "url='https://nid.naver.com/nidlogin.login?mode=form&url=https://www.naver.com/'\n",
    "wd= webdriver.Chrome()"
   ]
  },
  {
   "cell_type": "code",
   "execution_count": 130,
   "metadata": {},
   "outputs": [],
   "source": [
    "wd.get(url)"
   ]
  },
  {
   "cell_type": "code",
   "execution_count": 132,
   "metadata": {},
   "outputs": [],
   "source": [
    "my_id = '#id'\n",
    "my_pw = '#pw'"
   ]
  },
  {
   "cell_type": "code",
   "execution_count": 136,
   "metadata": {},
   "outputs": [],
   "source": [
    "input_id = wd.find_element('css selector', my_id).click()\n",
    "# 입력\n"
   ]
  },
  {
   "cell_type": "code",
   "execution_count": 142,
   "metadata": {},
   "outputs": [],
   "source": [
    "input_id = wd.find_element('css selector', my_id)\n",
    "input_id.send_keys('내 아이디')\n",
    "input_pw = wd.find_element('css selector', my_pw)\n",
    "input_pw.send_keys('내 비번')"
   ]
  },
  {
   "cell_type": "code",
   "execution_count": 143,
   "metadata": {},
   "outputs": [],
   "source": [
    "input_pw.submit()"
   ]
  },
  {
   "cell_type": "code",
   "execution_count": 101,
   "metadata": {},
   "outputs": [],
   "source": [
    "# 숙제 \n",
    "# 벅스 뮤직 1~50위권 순위, 그룹명, 노래명, 앨범을 DataFrame에 저장하여 excel 파일로 저장\n",
    "\n",
    "\n",
    "\n"
   ]
  },
  {
   "cell_type": "code",
   "execution_count": 2,
   "metadata": {},
   "outputs": [],
   "source": [
    "from bs4 import BeautifulSoup\n",
    "from selenium import webdriver\n",
    "import pandas as pd\n",
    "wd = webdriver.Chrome() # 크롬창 열기 (wd는 웹드라이버 약칭)\n",
    "\n",
    "url = 'https://music.bugs.co.kr/chart'\n",
    "wd.get(url) # 크롬창에서 벅스 차트 열기"
   ]
  },
  {
   "cell_type": "code",
   "execution_count": 3,
   "metadata": {},
   "outputs": [],
   "source": [
    "html = wd.page_source   # 벅스 차트의 소스를 html로 지정\n",
    "soup = BeautifulSoup(html, 'html.parser')   # 뷰티풀수프로 파싱"
   ]
  },
  {
   "cell_type": "code",
   "execution_count": 100,
   "metadata": {},
   "outputs": [
    {
     "data": {
      "text/plain": [
       "'IVE (아이브)'"
      ]
     },
     "execution_count": 100,
     "metadata": {},
     "output_type": "execute_result"
    }
   ],
   "source": [
    "soup.select('#CHARTrealtime > table > tbody > tr > td input')[0].attrs['title'] # 노래 제목만 추출\n",
    "soup.select('#CHARTrealtime > table > tbody > tr >td p a')[0].text    # 가수만 추출\n",
    "soup.select('#CHARTrealtime > table > tbody > tr >td a.album')[0].text  # 앨범만 추출\n"
   ]
  },
  {
   "cell_type": "code",
   "execution_count": 105,
   "metadata": {},
   "outputs": [
    {
     "data": {
      "text/plain": [
       "[[1, '해야 (HEYA)', 'IVE (아이브)', 'IVE SWITCH'],\n",
       " [2, 'SPOT! (feat. JENNIE)', '지코 (ZICO)', 'SPOT!'],\n",
       " [3, 'Magnetic', '아일릿(ILLIT)', 'SUPER REAL ME'],\n",
       " [4, '고민중독', 'QWER', \"1st Mini Album 'MANITO'\"],\n",
       " [5, '첫 만남은 계획대로 되지 않아', 'TWS (투어스)', 'TWS 1st Mini Album ‘Sparkling Blue’'],\n",
       " [6, '나는 아픈 건 딱 질색이니까', '(여자)아이들', '2'],\n",
       " [7, 'SHEESH', 'BABYMONSTER', 'BABYMONS7ER'],\n",
       " [8, '소나기', '이클립스 (ECLIPSE)', '선재 업고 튀어 OST Part 1'],\n",
       " [9, '미안해 미워해 사랑해', 'Crush', '눈물의 여왕 OST Part.4'],\n",
       " [10, '밤양갱', '비비(BIBI)', '밤양갱'],\n",
       " [11, 'Welcome to the Show', 'DAY6 (데이식스)', 'Fourever'],\n",
       " [12, '한 페이지가 될 수 있게', 'DAY6 (데이식스)', 'The Book of Us : Gravity'],\n",
       " [13, 'Lucky Girl Syndrome', '아일릿(ILLIT)', 'SUPER REAL ME'],\n",
       " [14, '예뻤어', 'DAY6 (데이식스)', 'Every DAY6 February'],\n",
       " [15, 'Hype Boy', 'NewJeans', \"NewJeans 1st EP 'New Jeans'\"],\n",
       " [16, 'ETA', 'NewJeans', \"NewJeans 2nd EP 'Get Up'\"],\n",
       " [17, 'MAESTRO', '세븐틴(SEVENTEEN)', \"SEVENTEEN BEST ALBUM ‘17 IS RIGHT HERE'\"],\n",
       " [18, '천상연', '이창섭', \"천상연 (웹툰 '선녀외전' X 이창섭 (LEE CHANGSUB))\"],\n",
       " [19, 'Midas Touch', 'KISS OF LIFE', 'Midas Touch'],\n",
       " [20, 'Love wins all', '아이유(IU)', 'The Winning'],\n",
       " [21, '에피소드', '이무진', '에피소드'],\n",
       " [22, 'Ditto', 'NewJeans', \"NewJeans 'OMG'\"],\n",
       " [23, 'Attention', 'NewJeans', \"NewJeans 1st EP 'New Jeans'\"],\n",
       " [24, 'To. X', '태연 (TAEYEON)', 'To. X - The 5th Mini Album'],\n",
       " [25, 'Super Shy', 'NewJeans', \"NewJeans 2nd EP 'Get Up'\"],\n",
       " [26, 'Run Run', '이클립스 (ECLIPSE)', '선재 업고 튀어 OST Part 1'],\n",
       " [27, 'Siren', 'RIIZE', 'RIIZING'],\n",
       " [28, 'Smart', 'LE SSERAFIM (르세라핌)', 'EASY'],\n",
       " [29, 'I AM', 'IVE (아이브)', \"I've IVE\"],\n",
       " [30, 'EASY', 'LE SSERAFIM (르세라핌)', 'EASY'],\n",
       " [31, 'Impossible', 'RIIZE', 'RIIZING'],\n",
       " [32, 'New Jeans', 'NewJeans', \"NewJeans 2nd EP 'Get Up'\"],\n",
       " [33, '비의 랩소디', '임재현', '비의 랩소디'],\n",
       " [34, 'Love 119', 'RIIZE', 'Love 119'],\n",
       " [35,\n",
       "  '그대만 있다면 (여름날 우리 X 너드커넥션 (Nerd Connection))',\n",
       "  '너드커넥션(Nerd Connection)',\n",
       "  '그대만 있다면 (여름날 우리 X 너드커넥션 (Nerd Connection))'],\n",
       " [36, 'MANIAC', 'VIVIZ (비비지)', \"The 4th Mini Album 'VERSUS'\"],\n",
       " [37, '반딧불 (Little Light)', '도영 (DOYOUNG)', '청춘의 포말 (YOUTH) - The 1st Album'],\n",
       " [38, '멈춰줘', '헤이즈(Heize)', '눈물의 여왕 OST Part.3'],\n",
       " [39, '그랬나봐', '유회승 (엔플라잉)', '선재 업고 튀어 OST Part 6'],\n",
       " [40, 'Get A Guitar', 'RIIZE', 'Get A Guitar'],\n",
       " [41, 'OMG', 'NewJeans', \"NewJeans 'OMG'\"],\n",
       " [42, 'Perfect Night', 'LE SSERAFIM (르세라핌)', 'Perfect Night'],\n",
       " [43, 'Discord', 'QWER', \"1st Single Album 'Harmony from Discord'\"],\n",
       " [44, 'Drama', 'aespa', 'Drama - The 4th Mini Album'],\n",
       " [45, 'HAPPY', 'DAY6 (데이식스)', 'Fourever'],\n",
       " [46, '헤어지자 말해요', '박재정', '1집 Alone'],\n",
       " [47, 'Love me or Leave me', 'DAY6 (데이식스)', 'The Book of Us : The Demon'],\n",
       " [48, 'LOVE DIVE', 'IVE (아이브)', 'LOVE DIVE'],\n",
       " [49, 'Girls Never Die', 'tripleS (트리플에스)', '<ASSEMBLE24>'],\n",
       " [50, '자꾸만 웃게 돼', '부석순(SEVENTEEN)', '눈물의 여왕 OST Part.1']]"
      ]
     },
     "execution_count": 105,
     "metadata": {},
     "output_type": "execute_result"
    }
   ],
   "source": [
    "song_data = []\n",
    "for i in range(50):\n",
    "    rank = i+1\n",
    "    title = soup.select('#CHARTrealtime > table > tbody > tr > td input')[i].attrs['title'] # 노래 제목만 추출\n",
    "    artist = soup.select('#CHARTrealtime > table > tbody > tr >td p a')[i].text    # 가수만 추출\n",
    "    album = soup.select('#CHARTrealtime > table > tbody > tr >td a.album')[i].text  # 앨범만 추출\n",
    "    song_data.append([rank, title, artist, album])\n",
    "song_data"
   ]
  }
 ],
 "metadata": {
  "kernelspec": {
   "display_name": "Python 3",
   "language": "python",
   "name": "python3"
  },
  "language_info": {
   "codemirror_mode": {
    "name": "ipython",
    "version": 3
   },
   "file_extension": ".py",
   "mimetype": "text/x-python",
   "name": "python",
   "nbconvert_exporter": "python",
   "pygments_lexer": "ipython3",
   "version": "3.11.9"
  }
 },
 "nbformat": 4,
 "nbformat_minor": 2
}
