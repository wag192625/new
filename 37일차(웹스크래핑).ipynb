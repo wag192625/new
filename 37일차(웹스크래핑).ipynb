{
 "cells": [
  {
   "cell_type": "markdown",
   "metadata": {},
   "source": [
    "34일차 문제 줄이기"
   ]
  },
  {
   "cell_type": "code",
   "execution_count": 144,
   "metadata": {},
   "outputs": [
    {
     "name": "stdout",
     "output_type": "stream",
     "text": [
      "['2nd', '3rd', '11th', '12th', '22nd', '13th', '23rd', '102nd', '103rd', '114th']\n"
     ]
    }
   ],
   "source": [
    "# 2. 기수(Cardinal)를 입력하면 영어 서수(Ordinal)로 출력하는 함수를 작성합니다.\n",
    "\n",
    "# 1, 21, 31, 41, ... → 1st, 21st, 31st, 41st, ...\n",
    "# 2, 22, 32, 42, ... → 2nd, 22nd, 32nd, 42nd, ...\n",
    "# 3, 23, 33, 43, ... → 3rd, 23rd, 33rd, 43rd, ...\n",
    "# 11, 12, 13, 111, 112, 113, 211, 212, 213, ...  → 11th, 12th, 13th, 111th, 112th, 113th, 211th, 212th, 213th, ...\n",
    "# 4, 5, 6, 11, 12, 13, 101, 111, 112, ... → 4th, 5th, 6th, 11th, 12th, 13th, 101st, 111th, 112th, ...\n",
    "\n",
    "# 1=st 2=nd 3=rd 4~=th / 11,12,13 = th\n",
    "\n",
    "lst = [1,2,3,11,21,12,22,13,23,101,102,103,104,114,121]\n",
    "# lst = [1213,1341,5234,5132]\n",
    "lst = list(map(str,lst))\n",
    "lst2 = []\n",
    "res = []\n",
    "for i in lst :\n",
    "    if(int(i)>10 and i[-2] != '2' and i[-2] != '3' and 20>int(i[-2:]) > 10) or( 10 > int(i) > 3) : # 10의 자리와 그 안의 숫자 판별\n",
    "        res.append(i+'th')\n",
    "    elif(i[-1] == '3'):\n",
    "        res.append(i+'rd')\n",
    "    elif(i[-1] == '2'):\n",
    "        res.append(i+'nd')\n",
    "    elif(i[-1] == '3'):\n",
    "        res.append(i+'st')\n",
    "print(res)"
   ]
  },
  {
   "cell_type": "code",
   "execution_count": 11,
   "metadata": {},
   "outputs": [
    {
     "data": {
      "text/plain": [
       "['C', 'D', 'E', 'F', 'G', 'A', 'B']"
      ]
     },
     "execution_count": 11,
     "metadata": {},
     "output_type": "execute_result"
    }
   ],
   "source": [
    "# 3.아래 조건에 따라 리스트를 회전하는 프로그램을 작성하시오.\n",
    "# 조건\n",
    "# 입력값은 한 행의 문자열로 주어지며, 각 값은 공백으로 구분된다.\n",
    "# 첫 번째 값은 리스트를 회전하는 양과 방향(음수의 경우 좌측으로, 양수의 경우 우측으로 회전)이다.\n",
    "# 첫 번째 값을 제외한 나머지 값은 리스트의 각 항목의 값이다.\n",
    "# 회전된 리스트를 문자열로 출력한다.\n",
    "# 구현에 이용할 자료구조에 대한 조건이나 제약은 없다.\n",
    "# 입력되는 리스트의 항목의 개수는 유한한다.\n",
    "\n",
    "# 입출력예\n",
    "# 예 1)\n",
    "# 입력: 1 10 20 30 40 50\n",
    "# 출력: 50 10 20 30 40\n",
    "# +1 이니깐 우측으로 1번 회전해서 50이 처음으로\n",
    "\n",
    "# 예 2)\n",
    "# 입력: 4 가 나 다 라 마 바 사\n",
    "# 출력: 라 마 바 사 가 나 다\n",
    "\n",
    "# 예 3)\n",
    "# 입력: -2 A B C D E F G\n",
    "# 출력: C D E F G A B\n",
    "# -2 이니깐 앞에 두개를 뒤에 붙임\n",
    "\n",
    "# 예 4)\n",
    "# 입력: 0 똘기 떵이 호치 새초미\n",
    "# 출력: 똘기 떵이 호치 새초미\n",
    "\n",
    "lst = '-2 A B C D E F G'.split()\n",
    "lst\n",
    "\n",
    "cnt, word = int(lst[0]), lst[1:]\n",
    "word[-cnt:]+word[:-cnt]"
   ]
  },
  {
   "cell_type": "markdown",
   "metadata": {},
   "source": [
    "웹 스크래핑 2일차"
   ]
  },
  {
   "cell_type": "code",
   "execution_count": 2,
   "metadata": {},
   "outputs": [],
   "source": [
    "# 웹 스크래핑\n",
    "html = \"\"\"\n",
    "<ul>\n",
    "  <li><a href=\"hoge.html\">hoge</li>\n",
    "  <li><a href=\"https://example.com/fuga\">fuga*</li>\n",
    "  <li><a href=\"https://example.com/foo\">foo*</li>\n",
    "  <li><a href=\"http://example.com/aaa\">aaa</li>\n",
    "</ul>\n",
    "\"\"\"\n",
    "from bs4 import BeautifulSoup"
   ]
  },
  {
   "cell_type": "code",
   "execution_count": 3,
   "metadata": {},
   "outputs": [],
   "source": [
    "soup = BeautifulSoup(html,'html.parser')"
   ]
  },
  {
   "cell_type": "code",
   "execution_count": 8,
   "metadata": {},
   "outputs": [
    {
     "data": {
      "text/plain": [
       "'http://example.com/aaa'"
      ]
     },
     "execution_count": 8,
     "metadata": {},
     "output_type": "execute_result"
    }
   ],
   "source": [
    "soup.select('li > a')[-1].attrs['href']"
   ]
  },
  {
   "cell_type": "code",
   "execution_count": 12,
   "metadata": {},
   "outputs": [
    {
     "data": {
      "text/plain": [
       "[<a href=\"https://example.com/fuga\">fuga*</a>,\n",
       " <a href=\"https://example.com/foo\">foo*</a>,\n",
       " <a href=\"http://example.com/aaa\">aaa</a>]"
      ]
     },
     "execution_count": 12,
     "metadata": {},
     "output_type": "execute_result"
    }
   ],
   "source": [
    "import re\n",
    "soup.find_all(href=re.compile('^http'))"
   ]
  },
  {
   "cell_type": "code",
   "execution_count": 13,
   "metadata": {},
   "outputs": [],
   "source": [
    "# selenium : 웹스크래핑 도구(많이 쓰이는 도구) scrapy\n",
    "# beutifulsoup : html 파싱, 데이터를 추출하고 가공."
   ]
  },
  {
   "cell_type": "code",
   "execution_count": 1,
   "metadata": {},
   "outputs": [],
   "source": [
    "# 셀레니움 설치\n",
    "# pip install selenium\n",
    "\n",
    "# 설치된 라이브러리 확인(쥬피터노트북)\n",
    "# pip list"
   ]
  },
  {
   "cell_type": "code",
   "execution_count": 9,
   "metadata": {},
   "outputs": [],
   "source": [
    "from bs4 import BeautifulSoup\n",
    "from selenium import webdriver"
   ]
  },
  {
   "cell_type": "code",
   "execution_count": 3,
   "metadata": {},
   "outputs": [],
   "source": [
    "wd = webdriver.Chrome()\n",
    "# 실행을 한번만 하고 열린 창으로 해야함"
   ]
  },
  {
   "cell_type": "code",
   "execution_count": 4,
   "metadata": {},
   "outputs": [],
   "source": [
    "wd.get('https://www.naver.com') # 웹 드라이버 화면으로 입력한 주소로 접속"
   ]
  },
  {
   "cell_type": "code",
   "execution_count": null,
   "metadata": {},
   "outputs": [],
   "source": [
    "html = wd.page_source\n",
    "html"
   ]
  },
  {
   "cell_type": "markdown",
   "metadata": {},
   "source": [
    "웹스크래핑 복습"
   ]
  },
  {
   "cell_type": "code",
   "execution_count": 8,
   "metadata": {},
   "outputs": [],
   "source": [
    "html = '''\n",
    "<html>\n",
    "    <head>\n",
    "    </head>\n",
    "    <body>\n",
    "        <h1> 우리동네시장</h1>\n",
    "            <div class = 'sale'>\n",
    "                <p id='fruits1' class='fruits'>\n",
    "                    <span class = 'name'> 바나나 </span>\n",
    "                    <span class = 'price'> 3000원 </span>\n",
    "                    <span class = 'inventory'> 500개 </span>\n",
    "                    <span class = 'store'> 가나다상회 </span>\n",
    "                    <a href = 'http://bit.ly/forPlaywithData' > 홈페이지 </a>\n",
    "                </p>\n",
    "            </div>\n",
    "            <div class = 'prepare'>\n",
    "                <p id='fruits2' class='fruits'>\n",
    "                    <span class ='name'> 파인애플 </span>\n",
    "                </p>\n",
    "            </div>\n",
    "    </body>\n",
    "</html>\n",
    "'''"
   ]
  },
  {
   "cell_type": "code",
   "execution_count": 10,
   "metadata": {},
   "outputs": [],
   "source": [
    "html = BeautifulSoup(html,'html.parser')"
   ]
  },
  {
   "cell_type": "code",
   "execution_count": 27,
   "metadata": {},
   "outputs": [
    {
     "data": {
      "text/plain": [
       "'3000원'"
      ]
     },
     "execution_count": 27,
     "metadata": {},
     "output_type": "execute_result"
    }
   ],
   "source": [
    "# html.select('body > div > p' )\n",
    "# html.select('html > body .fruits' )\n",
    "html.select('span')[1].text.strip()"
   ]
  },
  {
   "cell_type": "markdown",
   "metadata": {},
   "source": [
    "복습 끝"
   ]
  },
  {
   "cell_type": "markdown",
   "metadata": {},
   "source": [
    "멜론 in100차트 추출"
   ]
  },
  {
   "cell_type": "code",
   "execution_count": 28,
   "metadata": {},
   "outputs": [],
   "source": [
    "url = 'https://www.melon.com/chart/index.htm'\n",
    "wd.get(url)"
   ]
  },
  {
   "cell_type": "code",
   "execution_count": 29,
   "metadata": {},
   "outputs": [],
   "source": [
    "html = wd.page_source\n",
    "soup = BeautifulSoup(html, 'html.parser')"
   ]
  },
  {
   "cell_type": "code",
   "execution_count": 73,
   "metadata": {},
   "outputs": [
    {
     "data": {
      "text/plain": [
       "'Magnetic 곡 선택'"
      ]
     },
     "execution_count": 73,
     "metadata": {},
     "output_type": "execute_result"
    }
   ],
   "source": [
    "soup.select('#frm > div > table > tbody >tr > td div.wrap input')[1].attrs['title']"
   ]
  },
  {
   "cell_type": "code",
   "execution_count": 96,
   "metadata": {},
   "outputs": [
    {
     "data": {
      "text/plain": [
       "'SPOT! (feat. JENNIE)'"
      ]
     },
     "execution_count": 96,
     "metadata": {},
     "output_type": "execute_result"
    }
   ],
   "source": [
    "songs = soup.select('tr')\n",
    "songs=songs[1:]\n",
    "songs[0].select('div')[5].text.strip().split('\\n')[0]"
   ]
  },
  {
   "cell_type": "code",
   "execution_count": 111,
   "metadata": {},
   "outputs": [
    {
     "data": {
      "text/plain": [
       "'지코 (ZICO)지코 (ZICO)'"
      ]
     },
     "execution_count": 111,
     "metadata": {},
     "output_type": "execute_result"
    }
   ],
   "source": [
    "(songs[0].select('div')[5].text.strip().split('\\n')[-1])"
   ]
  },
  {
   "cell_type": "code",
   "execution_count": 112,
   "metadata": {},
   "outputs": [
    {
     "name": "stdout",
     "output_type": "stream",
     "text": [
      "Melon 1 SPOT! (feat. JENNIE)\n",
      "Melon 2 Magnetic\n",
      "Melon 3 해야 (HEYA)\n",
      "Melon 4 나는 아픈 건 딱 질색이니까\n",
      "Melon 5 고민중독\n",
      "Melon 6 첫 만남은 계획대로 되지 않아\n",
      "Melon 7 미안해 미워해 사랑해\n",
      "Melon 8 천상연\n",
      "Melon 9 SHEESH\n",
      "Melon 10 밤양갱\n",
      "Melon 11 예뻤어\n",
      "Melon 12 사랑은 늘 도망가\n",
      "Melon 13 Love wins all\n",
      "Melon 14 한 페이지가 될 수 있게\n",
      "Melon 15 MAESTRO\n",
      "Melon 16 우리들의 블루스\n",
      "Melon 17 소나기\n",
      "Melon 18 비의 랩소디\n",
      "Melon 19 모래 알갱이\n",
      "Melon 20 온기\n",
      "Melon 21 다시 만날 수 있을까\n",
      "Melon 22 EASY\n",
      "Melon 23 Do or Die\n",
      "Melon 24 To. X\n",
      "Melon 25 이제 나만 믿어요\n",
      "Melon 26 Home\n",
      "Melon 27 에피소드\n",
      "Melon 28 그대만 있다면 (여름날 우리 X 너드커넥션 (Nerd Connection))\n",
      "Melon 29 무지개\n",
      "Melon 30 London Boy\n",
      "Melon 31 Hype Boy\n",
      "Melon 32 Smart\n",
      "Melon 33 Polaroid\n",
      "Melon 34 Seven (feat. Latto) - Clean Ver.\n",
      "Melon 35 인생찬가\n",
      "Melon 36 I AM\n",
      "Melon 37 헤어지자 말해요\n",
      "Melon 38 연애편지\n",
      "Melon 39 Welcome to the Show\n",
      "Melon 40 Drama\n",
      "Melon 41 Super Shy\n",
      "Melon 42 ETA\n",
      "Melon 43 Love 119\n",
      "Melon 44 파이팅 해야지 (Feat. 이영지)\n",
      "Melon 45 Perfect Night\n",
      "Melon 46 손오공\n",
      "Melon 47 청춘찬가\n",
      "Melon 48 Ditto\n",
      "Melon 49 인사\n",
      "Melon 50 Lucky Girl Syndrome\n",
      "Melon 51 WAY 4 LUV\n",
      "Melon 52 사랑인가 봐\n",
      "Melon 53 홀씨\n",
      "Melon 54 너의 모든 순간\n",
      "Melon 55 MANIAC\n",
      "Melon 56 보금자리\n",
      "Melon 57 봄날\n",
      "Melon 58 사막에서 꽃을 피우듯\n",
      "Melon 59 Dynamite\n",
      "Melon 60 OMG\n",
      "Melon 61 퀸카 (Queencard)\n",
      "Melon 62 꿈\n",
      "Melon 63 Impossible\n",
      "Melon 64 Love Lee\n",
      "Melon 65 Midas Touch\n",
      "Melon 66 Get A Guitar\n",
      "Melon 67 Attention\n",
      "Melon 68 주저하는 연인들을 위해\n",
      "Melon 69 LOVE DIVE\n",
      "Melon 70 Spicy\n",
      "Melon 71 우리 영화\n",
      "Melon 72 사건의 지평선\n",
      "Melon 73 Baddie\n",
      "Melon 74 Siren\n",
      "Melon 75 어떻게 이별까지 사랑하겠어, 널 사랑하는 거지\n",
      "Melon 76 Super Lady\n",
      "Melon 77 슬픈 초대장\n",
      "Melon 78 음악의 신\n",
      "Melon 79 From\n",
      "Melon 80 I Don't Think That I Like Her\n",
      "Melon 81 Watch Me Woo!\n",
      "Melon 82 취중고백\n",
      "Melon 83 모든 날, 모든 순간 (Every day, Every Moment)\n",
      "Melon 84 잘 지내자, 우리 (여름날 우리 X 로이킴)\n",
      "Melon 85 심(心)\n",
      "Melon 86 그대가 내 안에 박혔다(그내박)\n",
      "Melon 87 You & Me\n",
      "Melon 88 다정히 내 이름을 부르면\n",
      "Melon 89 혹시 세상에 혼자 남겨진 것 같다면\n",
      "Melon 90 사랑하지 않아서 그랬어\n",
      "Melon 91 Kitsch\n",
      "Melon 92 버추얼 아이돌\n",
      "Melon 93 LALALI\n",
      "Melon 94 후라이의 꿈\n",
      "Melon 95 멈춰줘\n",
      "Melon 96 반딧불 (Little Light)\n",
      "Melon 97 좋아해요\n",
      "Melon 98 Steal The Show (From “엘리멘탈”)\n",
      "Melon 99 By Your Side\n",
      "Melon 100 Shopper\n"
     ]
    }
   ],
   "source": [
    "song_data = []\n",
    "for i in range(100):\n",
    "    numbering = i+1\n",
    "    title =songs[i].select('div')[5].text.strip().split('\\n')[0]\n",
    "    song_data.append(['Melon',numbering,title])\n",
    "    print('Melon',numbering,title)"
   ]
  },
  {
   "cell_type": "code",
   "execution_count": 114,
   "metadata": {},
   "outputs": [
    {
     "name": "stdout",
     "output_type": "stream",
     "text": [
      "['Melon', 1, 'SPOT! (feat. JENNIE)']\n",
      "['Melon', 2, 'Magnetic']\n",
      "['Melon', 3, '해야 (HEYA)']\n",
      "['Melon', 4, '나는 아픈 건 딱 질색이니까']\n",
      "['Melon', 5, '고민중독']\n",
      "['Melon', 6, '첫 만남은 계획대로 되지 않아']\n",
      "['Melon', 7, '미안해 미워해 사랑해']\n",
      "['Melon', 8, '천상연']\n",
      "['Melon', 9, 'SHEESH']\n",
      "['Melon', 10, '밤양갱']\n",
      "['Melon', 11, '예뻤어']\n",
      "['Melon', 12, '사랑은 늘 도망가']\n",
      "['Melon', 13, 'Love wins all']\n",
      "['Melon', 14, '한 페이지가 될 수 있게']\n",
      "['Melon', 15, 'MAESTRO']\n",
      "['Melon', 16, '우리들의 블루스']\n",
      "['Melon', 17, '소나기']\n",
      "['Melon', 18, '비의 랩소디']\n",
      "['Melon', 19, '모래 알갱이']\n",
      "['Melon', 20, '온기']\n",
      "['Melon', 21, '다시 만날 수 있을까']\n",
      "['Melon', 22, 'EASY']\n",
      "['Melon', 23, 'Do or Die']\n",
      "['Melon', 24, 'To. X']\n",
      "['Melon', 25, '이제 나만 믿어요']\n",
      "['Melon', 26, 'Home']\n",
      "['Melon', 27, '에피소드']\n",
      "['Melon', 28, '그대만 있다면 (여름날 우리 X 너드커넥션 (Nerd Connection))']\n",
      "['Melon', 29, '무지개']\n",
      "['Melon', 30, 'London Boy']\n",
      "['Melon', 31, 'Hype Boy']\n",
      "['Melon', 32, 'Smart']\n",
      "['Melon', 33, 'Polaroid']\n",
      "['Melon', 34, 'Seven (feat. Latto) - Clean Ver.']\n",
      "['Melon', 35, '인생찬가']\n",
      "['Melon', 36, 'I AM']\n",
      "['Melon', 37, '헤어지자 말해요']\n",
      "['Melon', 38, '연애편지']\n",
      "['Melon', 39, 'Welcome to the Show']\n",
      "['Melon', 40, 'Drama']\n",
      "['Melon', 41, 'Super Shy']\n",
      "['Melon', 42, 'ETA']\n",
      "['Melon', 43, 'Love 119']\n",
      "['Melon', 44, '파이팅 해야지 (Feat. 이영지)']\n",
      "['Melon', 45, 'Perfect Night']\n",
      "['Melon', 46, '손오공']\n",
      "['Melon', 47, '청춘찬가']\n",
      "['Melon', 48, 'Ditto']\n",
      "['Melon', 49, '인사']\n",
      "['Melon', 50, 'Lucky Girl Syndrome']\n",
      "['Melon', 51, 'WAY 4 LUV']\n",
      "['Melon', 52, '사랑인가 봐']\n",
      "['Melon', 53, '홀씨']\n",
      "['Melon', 54, '너의 모든 순간']\n",
      "['Melon', 55, 'MANIAC']\n",
      "['Melon', 56, '보금자리']\n",
      "['Melon', 57, '봄날']\n",
      "['Melon', 58, '사막에서 꽃을 피우듯']\n",
      "['Melon', 59, 'Dynamite']\n",
      "['Melon', 60, 'OMG']\n",
      "['Melon', 61, '퀸카 (Queencard)']\n",
      "['Melon', 62, '꿈']\n",
      "['Melon', 63, 'Impossible']\n",
      "['Melon', 64, 'Love Lee']\n",
      "['Melon', 65, 'Midas Touch']\n",
      "['Melon', 66, 'Get A Guitar']\n",
      "['Melon', 67, 'Attention']\n",
      "['Melon', 68, '주저하는 연인들을 위해']\n",
      "['Melon', 69, 'LOVE DIVE']\n",
      "['Melon', 70, 'Spicy']\n",
      "['Melon', 71, '우리 영화']\n",
      "['Melon', 72, '사건의 지평선']\n",
      "['Melon', 73, 'Baddie']\n",
      "['Melon', 74, 'Siren']\n",
      "['Melon', 75, '어떻게 이별까지 사랑하겠어, 널 사랑하는 거지']\n",
      "['Melon', 76, 'Super Lady']\n",
      "['Melon', 77, '슬픈 초대장']\n",
      "['Melon', 78, '음악의 신']\n",
      "['Melon', 79, 'From']\n",
      "['Melon', 80, \"I Don't Think That I Like Her\"]\n",
      "['Melon', 81, 'Watch Me Woo!']\n",
      "['Melon', 82, '취중고백']\n",
      "['Melon', 83, '모든 날, 모든 순간 (Every day, Every Moment)']\n",
      "['Melon', 84, '잘 지내자, 우리 (여름날 우리 X 로이킴)']\n",
      "['Melon', 85, '심(心)']\n",
      "['Melon', 86, '그대가 내 안에 박혔다(그내박)']\n",
      "['Melon', 87, 'You & Me']\n",
      "['Melon', 88, '다정히 내 이름을 부르면']\n",
      "['Melon', 89, '혹시 세상에 혼자 남겨진 것 같다면']\n",
      "['Melon', 90, '사랑하지 않아서 그랬어']\n",
      "['Melon', 91, 'Kitsch']\n",
      "['Melon', 92, '버추얼 아이돌']\n",
      "['Melon', 93, 'LALALI']\n",
      "['Melon', 94, '후라이의 꿈']\n",
      "['Melon', 95, '멈춰줘']\n",
      "['Melon', 96, '반딧불 (Little Light)']\n",
      "['Melon', 97, '좋아해요']\n",
      "['Melon', 98, 'Steal The Show (From “엘리멘탈”)']\n",
      "['Melon', 99, 'By Your Side']\n",
      "['Melon', 100, 'Shopper']\n"
     ]
    }
   ],
   "source": [
    "for i in song_data:\n",
    "    print(i)"
   ]
  },
  {
   "cell_type": "markdown",
   "metadata": {},
   "source": [
    "판다스 맛보기"
   ]
  },
  {
   "cell_type": "code",
   "execution_count": null,
   "metadata": {},
   "outputs": [],
   "source": [
    "# pip install pandas\n",
    "# 판다스 설치"
   ]
  },
  {
   "cell_type": "code",
   "execution_count": 108,
   "metadata": {},
   "outputs": [],
   "source": [
    "import pandas as pd"
   ]
  },
  {
   "cell_type": "code",
   "execution_count": null,
   "metadata": {},
   "outputs": [],
   "source": [
    "# pip install openpyxl"
   ]
  },
  {
   "cell_type": "code",
   "execution_count": 125,
   "metadata": {},
   "outputs": [],
   "source": [
    "# 데이터프레임 = 엑셀\n",
    "df = pd.DataFrame(song_data,columns=['서비스', '순위', '노래명'])\n",
    "df.head()\n",
    "df.to_excel('melon_chart100.xlsx', index=False) # 인덱스는 왼쪽 숫자"
   ]
  },
  {
   "cell_type": "code",
   "execution_count": 128,
   "metadata": {},
   "outputs": [
    {
     "data": {
      "text/html": [
       "<div>\n",
       "<style scoped>\n",
       "    .dataframe tbody tr th:only-of-type {\n",
       "        vertical-align: middle;\n",
       "    }\n",
       "\n",
       "    .dataframe tbody tr th {\n",
       "        vertical-align: top;\n",
       "    }\n",
       "\n",
       "    .dataframe thead th {\n",
       "        text-align: right;\n",
       "    }\n",
       "</style>\n",
       "<table border=\"1\" class=\"dataframe\">\n",
       "  <thead>\n",
       "    <tr style=\"text-align: right;\">\n",
       "      <th></th>\n",
       "      <th>서비스</th>\n",
       "      <th>순위</th>\n",
       "      <th>노래명</th>\n",
       "    </tr>\n",
       "  </thead>\n",
       "  <tbody>\n",
       "    <tr>\n",
       "      <th>0</th>\n",
       "      <td>Melon</td>\n",
       "      <td>1</td>\n",
       "      <td>SPOT! (feat. JENNIE)</td>\n",
       "    </tr>\n",
       "    <tr>\n",
       "      <th>1</th>\n",
       "      <td>Melon</td>\n",
       "      <td>2</td>\n",
       "      <td>Magnetic</td>\n",
       "    </tr>\n",
       "    <tr>\n",
       "      <th>2</th>\n",
       "      <td>Melon</td>\n",
       "      <td>3</td>\n",
       "      <td>해야 (HEYA)</td>\n",
       "    </tr>\n",
       "    <tr>\n",
       "      <th>3</th>\n",
       "      <td>Melon</td>\n",
       "      <td>4</td>\n",
       "      <td>나는 아픈 건 딱 질색이니까</td>\n",
       "    </tr>\n",
       "    <tr>\n",
       "      <th>4</th>\n",
       "      <td>Melon</td>\n",
       "      <td>5</td>\n",
       "      <td>고민중독</td>\n",
       "    </tr>\n",
       "    <tr>\n",
       "      <th>...</th>\n",
       "      <td>...</td>\n",
       "      <td>...</td>\n",
       "      <td>...</td>\n",
       "    </tr>\n",
       "    <tr>\n",
       "      <th>95</th>\n",
       "      <td>Melon</td>\n",
       "      <td>96</td>\n",
       "      <td>반딧불 (Little Light)</td>\n",
       "    </tr>\n",
       "    <tr>\n",
       "      <th>96</th>\n",
       "      <td>Melon</td>\n",
       "      <td>97</td>\n",
       "      <td>좋아해요</td>\n",
       "    </tr>\n",
       "    <tr>\n",
       "      <th>97</th>\n",
       "      <td>Melon</td>\n",
       "      <td>98</td>\n",
       "      <td>Steal The Show (From “엘리멘탈”)</td>\n",
       "    </tr>\n",
       "    <tr>\n",
       "      <th>98</th>\n",
       "      <td>Melon</td>\n",
       "      <td>99</td>\n",
       "      <td>By Your Side</td>\n",
       "    </tr>\n",
       "    <tr>\n",
       "      <th>99</th>\n",
       "      <td>Melon</td>\n",
       "      <td>100</td>\n",
       "      <td>Shopper</td>\n",
       "    </tr>\n",
       "  </tbody>\n",
       "</table>\n",
       "<p>100 rows × 3 columns</p>\n",
       "</div>"
      ],
      "text/plain": [
       "      서비스   순위                           노래명\n",
       "0   Melon    1          SPOT! (feat. JENNIE)\n",
       "1   Melon    2                      Magnetic\n",
       "2   Melon    3                     해야 (HEYA)\n",
       "3   Melon    4               나는 아픈 건 딱 질색이니까\n",
       "4   Melon    5                          고민중독\n",
       "..    ...  ...                           ...\n",
       "95  Melon   96            반딧불 (Little Light)\n",
       "96  Melon   97                          좋아해요\n",
       "97  Melon   98  Steal The Show (From “엘리멘탈”)\n",
       "98  Melon   99                  By Your Side\n",
       "99  Melon  100                       Shopper\n",
       "\n",
       "[100 rows x 3 columns]"
      ]
     },
     "execution_count": 128,
     "metadata": {},
     "output_type": "execute_result"
    }
   ],
   "source": [
    "df = pd.read_excel('melon_chart100.xlsx')\n",
    "df"
   ]
  },
  {
   "cell_type": "markdown",
   "metadata": {},
   "source": [
    "웹 스크래핑 입력"
   ]
  },
  {
   "cell_type": "code",
   "execution_count": 129,
   "metadata": {},
   "outputs": [],
   "source": [
    "from bs4 import BeautifulSoup\n",
    "from selenium import webdriver\n",
    "\n",
    "url='https://nid.naver.com/nidlogin.login?mode=form&url=https://www.naver.com/'\n",
    "wd= webdriver.Chrome()"
   ]
  },
  {
   "cell_type": "code",
   "execution_count": 130,
   "metadata": {},
   "outputs": [],
   "source": [
    "wd.get(url)"
   ]
  },
  {
   "cell_type": "code",
   "execution_count": 132,
   "metadata": {},
   "outputs": [],
   "source": [
    "my_id = '#id'\n",
    "my_pw = '#pw'"
   ]
  },
  {
   "cell_type": "code",
   "execution_count": 136,
   "metadata": {},
   "outputs": [],
   "source": [
    "input_id = wd.find_element('css selector', my_id).click()\n",
    "# 입력\n"
   ]
  },
  {
   "cell_type": "code",
   "execution_count": 142,
   "metadata": {},
   "outputs": [],
   "source": [
    "input_id = wd.find_element('css selector', my_id)\n",
    "input_id.send_keys('내 아이디')\n",
    "input_pw = wd.find_element('css selector', my_pw)\n",
    "input_pw.send_keys('내 비번')"
   ]
  },
  {
   "cell_type": "code",
   "execution_count": 143,
   "metadata": {},
   "outputs": [],
   "source": [
    "input_pw.submit()"
   ]
  },
  {
   "cell_type": "code",
   "execution_count": 101,
   "metadata": {},
   "outputs": [],
   "source": [
    "# 숙제 \n",
    "# 벅스 뮤직 1~50위권 순위, 그룹명, 노래명, 앨범을 DataFrame에 저장하여 excel 파일로 저장\n",
    "\n",
    "\n",
    "\n"
   ]
  },
  {
   "cell_type": "code",
   "execution_count": 2,
   "metadata": {},
   "outputs": [],
   "source": [
    "from bs4 import BeautifulSoup\n",
    "from selenium import webdriver\n",
    "import pandas as pd\n",
    "wd = webdriver.Chrome() # 크롬창 열기 (wd는 웹드라이버 약칭)\n",
    "\n",
    "url = 'https://music.bugs.co.kr/chart'\n",
    "wd.get(url) # 크롬창에서 벅스 차트 열기"
   ]
  },
  {
   "cell_type": "code",
   "execution_count": 3,
   "metadata": {},
   "outputs": [],
   "source": [
    "html = wd.page_source   # 벅스 차트의 소스를 html로 지정\n",
    "soup = BeautifulSoup(html, 'html.parser')   # 뷰티풀수프로 파싱"
   ]
  },
  {
   "cell_type": "code",
   "execution_count": 100,
   "metadata": {},
   "outputs": [
    {
     "data": {
      "text/plain": [
       "'IVE (아이브)'"
      ]
     },
     "execution_count": 100,
     "metadata": {},
     "output_type": "execute_result"
    }
   ],
   "source": [
    "# soup.select('#CHARTrealtime > table > tbody > tr > td input')[0].attrs['title'] # 노래 제목만 추출\n",
    "# soup.select('#CHARTrealtime > table > tbody > tr >td p a')[0].text    # 가수만 추출\n",
    "# soup.select('#CHARTrealtime > table > tbody > tr >td a.album')[0].text  # 앨범만 추출\n"
   ]
  },
  {
   "cell_type": "code",
   "execution_count": null,
   "metadata": {},
   "outputs": [],
   "source": [
    "song_data = []\n",
    "for i in range(50):\n",
    "    rank = i+1\n",
    "    title = soup.select('#CHARTrealtime > table > tbody > tr > td input')[i].attrs['title'] # 노래 제목만 추출\n",
    "    artist = soup.select('#CHARTrealtime > table > tbody > tr >td p a')[i].text    # 가수만 추출\n",
    "    album = soup.select('#CHARTrealtime > table > tbody > tr >td a.album')[i].text  # 앨범만 추출\n",
    "    song_data.append([rank, title, artist, album])\n",
    "song_data"
   ]
  },
  {
   "cell_type": "code",
   "execution_count": 110,
   "metadata": {},
   "outputs": [],
   "source": [
    "import pandas as pd # 판다스\n",
    "\n",
    "df = pd.DataFrame(song_data,columns=['순위', '제목', '가수', '앨범'])\n",
    "df.tail()\n",
    "df.to_excel('bugs_chart50.xlsx', index=False) # 액셀로 추출 /인덱스는 왼쪽 숫자 제거"
   ]
  },
  {
   "cell_type": "code",
   "execution_count": 112,
   "metadata": {},
   "outputs": [
    {
     "data": {
      "text/html": [
       "<div>\n",
       "<style scoped>\n",
       "    .dataframe tbody tr th:only-of-type {\n",
       "        vertical-align: middle;\n",
       "    }\n",
       "\n",
       "    .dataframe tbody tr th {\n",
       "        vertical-align: top;\n",
       "    }\n",
       "\n",
       "    .dataframe thead th {\n",
       "        text-align: right;\n",
       "    }\n",
       "</style>\n",
       "<table border=\"1\" class=\"dataframe\">\n",
       "  <thead>\n",
       "    <tr style=\"text-align: right;\">\n",
       "      <th></th>\n",
       "      <th>순위</th>\n",
       "      <th>제목</th>\n",
       "      <th>가수</th>\n",
       "      <th>앨범</th>\n",
       "    </tr>\n",
       "  </thead>\n",
       "  <tbody>\n",
       "    <tr>\n",
       "      <th>0</th>\n",
       "      <td>1</td>\n",
       "      <td>해야 (HEYA)</td>\n",
       "      <td>IVE (아이브)</td>\n",
       "      <td>IVE SWITCH</td>\n",
       "    </tr>\n",
       "    <tr>\n",
       "      <th>1</th>\n",
       "      <td>2</td>\n",
       "      <td>SPOT! (feat. JENNIE)</td>\n",
       "      <td>지코 (ZICO)</td>\n",
       "      <td>SPOT!</td>\n",
       "    </tr>\n",
       "    <tr>\n",
       "      <th>2</th>\n",
       "      <td>3</td>\n",
       "      <td>Magnetic</td>\n",
       "      <td>아일릿(ILLIT)</td>\n",
       "      <td>SUPER REAL ME</td>\n",
       "    </tr>\n",
       "    <tr>\n",
       "      <th>3</th>\n",
       "      <td>4</td>\n",
       "      <td>고민중독</td>\n",
       "      <td>QWER</td>\n",
       "      <td>1st Mini Album 'MANITO'</td>\n",
       "    </tr>\n",
       "    <tr>\n",
       "      <th>4</th>\n",
       "      <td>5</td>\n",
       "      <td>첫 만남은 계획대로 되지 않아</td>\n",
       "      <td>TWS (투어스)</td>\n",
       "      <td>TWS 1st Mini Album ‘Sparkling Blue’</td>\n",
       "    </tr>\n",
       "    <tr>\n",
       "      <th>5</th>\n",
       "      <td>6</td>\n",
       "      <td>나는 아픈 건 딱 질색이니까</td>\n",
       "      <td>(여자)아이들</td>\n",
       "      <td>2</td>\n",
       "    </tr>\n",
       "    <tr>\n",
       "      <th>6</th>\n",
       "      <td>7</td>\n",
       "      <td>SHEESH</td>\n",
       "      <td>BABYMONSTER</td>\n",
       "      <td>BABYMONS7ER</td>\n",
       "    </tr>\n",
       "    <tr>\n",
       "      <th>7</th>\n",
       "      <td>8</td>\n",
       "      <td>소나기</td>\n",
       "      <td>이클립스 (ECLIPSE)</td>\n",
       "      <td>선재 업고 튀어 OST Part 1</td>\n",
       "    </tr>\n",
       "    <tr>\n",
       "      <th>8</th>\n",
       "      <td>9</td>\n",
       "      <td>미안해 미워해 사랑해</td>\n",
       "      <td>Crush</td>\n",
       "      <td>눈물의 여왕 OST Part.4</td>\n",
       "    </tr>\n",
       "    <tr>\n",
       "      <th>9</th>\n",
       "      <td>10</td>\n",
       "      <td>밤양갱</td>\n",
       "      <td>비비(BIBI)</td>\n",
       "      <td>밤양갱</td>\n",
       "    </tr>\n",
       "    <tr>\n",
       "      <th>10</th>\n",
       "      <td>11</td>\n",
       "      <td>Welcome to the Show</td>\n",
       "      <td>DAY6 (데이식스)</td>\n",
       "      <td>Fourever</td>\n",
       "    </tr>\n",
       "    <tr>\n",
       "      <th>11</th>\n",
       "      <td>12</td>\n",
       "      <td>한 페이지가 될 수 있게</td>\n",
       "      <td>DAY6 (데이식스)</td>\n",
       "      <td>The Book of Us : Gravity</td>\n",
       "    </tr>\n",
       "    <tr>\n",
       "      <th>12</th>\n",
       "      <td>13</td>\n",
       "      <td>Lucky Girl Syndrome</td>\n",
       "      <td>아일릿(ILLIT)</td>\n",
       "      <td>SUPER REAL ME</td>\n",
       "    </tr>\n",
       "    <tr>\n",
       "      <th>13</th>\n",
       "      <td>14</td>\n",
       "      <td>예뻤어</td>\n",
       "      <td>DAY6 (데이식스)</td>\n",
       "      <td>Every DAY6 February</td>\n",
       "    </tr>\n",
       "    <tr>\n",
       "      <th>14</th>\n",
       "      <td>15</td>\n",
       "      <td>Hype Boy</td>\n",
       "      <td>NewJeans</td>\n",
       "      <td>NewJeans 1st EP 'New Jeans'</td>\n",
       "    </tr>\n",
       "    <tr>\n",
       "      <th>15</th>\n",
       "      <td>16</td>\n",
       "      <td>ETA</td>\n",
       "      <td>NewJeans</td>\n",
       "      <td>NewJeans 2nd EP 'Get Up'</td>\n",
       "    </tr>\n",
       "    <tr>\n",
       "      <th>16</th>\n",
       "      <td>17</td>\n",
       "      <td>MAESTRO</td>\n",
       "      <td>세븐틴(SEVENTEEN)</td>\n",
       "      <td>SEVENTEEN BEST ALBUM ‘17 IS RIGHT HERE'</td>\n",
       "    </tr>\n",
       "    <tr>\n",
       "      <th>17</th>\n",
       "      <td>18</td>\n",
       "      <td>천상연</td>\n",
       "      <td>이창섭</td>\n",
       "      <td>천상연 (웹툰 '선녀외전' X 이창섭 (LEE CHANGSUB))</td>\n",
       "    </tr>\n",
       "    <tr>\n",
       "      <th>18</th>\n",
       "      <td>19</td>\n",
       "      <td>Midas Touch</td>\n",
       "      <td>KISS OF LIFE</td>\n",
       "      <td>Midas Touch</td>\n",
       "    </tr>\n",
       "    <tr>\n",
       "      <th>19</th>\n",
       "      <td>20</td>\n",
       "      <td>Love wins all</td>\n",
       "      <td>아이유(IU)</td>\n",
       "      <td>The Winning</td>\n",
       "    </tr>\n",
       "    <tr>\n",
       "      <th>20</th>\n",
       "      <td>21</td>\n",
       "      <td>에피소드</td>\n",
       "      <td>이무진</td>\n",
       "      <td>에피소드</td>\n",
       "    </tr>\n",
       "    <tr>\n",
       "      <th>21</th>\n",
       "      <td>22</td>\n",
       "      <td>Ditto</td>\n",
       "      <td>NewJeans</td>\n",
       "      <td>NewJeans 'OMG'</td>\n",
       "    </tr>\n",
       "    <tr>\n",
       "      <th>22</th>\n",
       "      <td>23</td>\n",
       "      <td>Attention</td>\n",
       "      <td>NewJeans</td>\n",
       "      <td>NewJeans 1st EP 'New Jeans'</td>\n",
       "    </tr>\n",
       "    <tr>\n",
       "      <th>23</th>\n",
       "      <td>24</td>\n",
       "      <td>To. X</td>\n",
       "      <td>태연 (TAEYEON)</td>\n",
       "      <td>To. X - The 5th Mini Album</td>\n",
       "    </tr>\n",
       "    <tr>\n",
       "      <th>24</th>\n",
       "      <td>25</td>\n",
       "      <td>Super Shy</td>\n",
       "      <td>NewJeans</td>\n",
       "      <td>NewJeans 2nd EP 'Get Up'</td>\n",
       "    </tr>\n",
       "    <tr>\n",
       "      <th>25</th>\n",
       "      <td>26</td>\n",
       "      <td>Run Run</td>\n",
       "      <td>이클립스 (ECLIPSE)</td>\n",
       "      <td>선재 업고 튀어 OST Part 1</td>\n",
       "    </tr>\n",
       "    <tr>\n",
       "      <th>26</th>\n",
       "      <td>27</td>\n",
       "      <td>Siren</td>\n",
       "      <td>RIIZE</td>\n",
       "      <td>RIIZING</td>\n",
       "    </tr>\n",
       "    <tr>\n",
       "      <th>27</th>\n",
       "      <td>28</td>\n",
       "      <td>Smart</td>\n",
       "      <td>LE SSERAFIM (르세라핌)</td>\n",
       "      <td>EASY</td>\n",
       "    </tr>\n",
       "    <tr>\n",
       "      <th>28</th>\n",
       "      <td>29</td>\n",
       "      <td>I AM</td>\n",
       "      <td>IVE (아이브)</td>\n",
       "      <td>I've IVE</td>\n",
       "    </tr>\n",
       "    <tr>\n",
       "      <th>29</th>\n",
       "      <td>30</td>\n",
       "      <td>EASY</td>\n",
       "      <td>LE SSERAFIM (르세라핌)</td>\n",
       "      <td>EASY</td>\n",
       "    </tr>\n",
       "    <tr>\n",
       "      <th>30</th>\n",
       "      <td>31</td>\n",
       "      <td>Impossible</td>\n",
       "      <td>RIIZE</td>\n",
       "      <td>RIIZING</td>\n",
       "    </tr>\n",
       "    <tr>\n",
       "      <th>31</th>\n",
       "      <td>32</td>\n",
       "      <td>New Jeans</td>\n",
       "      <td>NewJeans</td>\n",
       "      <td>NewJeans 2nd EP 'Get Up'</td>\n",
       "    </tr>\n",
       "    <tr>\n",
       "      <th>32</th>\n",
       "      <td>33</td>\n",
       "      <td>비의 랩소디</td>\n",
       "      <td>임재현</td>\n",
       "      <td>비의 랩소디</td>\n",
       "    </tr>\n",
       "    <tr>\n",
       "      <th>33</th>\n",
       "      <td>34</td>\n",
       "      <td>Love 119</td>\n",
       "      <td>RIIZE</td>\n",
       "      <td>Love 119</td>\n",
       "    </tr>\n",
       "    <tr>\n",
       "      <th>34</th>\n",
       "      <td>35</td>\n",
       "      <td>그대만 있다면 (여름날 우리 X 너드커넥션 (Nerd Connection))</td>\n",
       "      <td>너드커넥션(Nerd Connection)</td>\n",
       "      <td>그대만 있다면 (여름날 우리 X 너드커넥션 (Nerd Connection))</td>\n",
       "    </tr>\n",
       "    <tr>\n",
       "      <th>35</th>\n",
       "      <td>36</td>\n",
       "      <td>MANIAC</td>\n",
       "      <td>VIVIZ (비비지)</td>\n",
       "      <td>The 4th Mini Album 'VERSUS'</td>\n",
       "    </tr>\n",
       "    <tr>\n",
       "      <th>36</th>\n",
       "      <td>37</td>\n",
       "      <td>반딧불 (Little Light)</td>\n",
       "      <td>도영 (DOYOUNG)</td>\n",
       "      <td>청춘의 포말 (YOUTH) - The 1st Album</td>\n",
       "    </tr>\n",
       "    <tr>\n",
       "      <th>37</th>\n",
       "      <td>38</td>\n",
       "      <td>멈춰줘</td>\n",
       "      <td>헤이즈(Heize)</td>\n",
       "      <td>눈물의 여왕 OST Part.3</td>\n",
       "    </tr>\n",
       "    <tr>\n",
       "      <th>38</th>\n",
       "      <td>39</td>\n",
       "      <td>그랬나봐</td>\n",
       "      <td>유회승 (엔플라잉)</td>\n",
       "      <td>선재 업고 튀어 OST Part 6</td>\n",
       "    </tr>\n",
       "    <tr>\n",
       "      <th>39</th>\n",
       "      <td>40</td>\n",
       "      <td>Get A Guitar</td>\n",
       "      <td>RIIZE</td>\n",
       "      <td>Get A Guitar</td>\n",
       "    </tr>\n",
       "    <tr>\n",
       "      <th>40</th>\n",
       "      <td>41</td>\n",
       "      <td>OMG</td>\n",
       "      <td>NewJeans</td>\n",
       "      <td>NewJeans 'OMG'</td>\n",
       "    </tr>\n",
       "    <tr>\n",
       "      <th>41</th>\n",
       "      <td>42</td>\n",
       "      <td>Perfect Night</td>\n",
       "      <td>LE SSERAFIM (르세라핌)</td>\n",
       "      <td>Perfect Night</td>\n",
       "    </tr>\n",
       "    <tr>\n",
       "      <th>42</th>\n",
       "      <td>43</td>\n",
       "      <td>Discord</td>\n",
       "      <td>QWER</td>\n",
       "      <td>1st Single Album 'Harmony from Discord'</td>\n",
       "    </tr>\n",
       "    <tr>\n",
       "      <th>43</th>\n",
       "      <td>44</td>\n",
       "      <td>Drama</td>\n",
       "      <td>aespa</td>\n",
       "      <td>Drama - The 4th Mini Album</td>\n",
       "    </tr>\n",
       "    <tr>\n",
       "      <th>44</th>\n",
       "      <td>45</td>\n",
       "      <td>HAPPY</td>\n",
       "      <td>DAY6 (데이식스)</td>\n",
       "      <td>Fourever</td>\n",
       "    </tr>\n",
       "    <tr>\n",
       "      <th>45</th>\n",
       "      <td>46</td>\n",
       "      <td>헤어지자 말해요</td>\n",
       "      <td>박재정</td>\n",
       "      <td>1집 Alone</td>\n",
       "    </tr>\n",
       "    <tr>\n",
       "      <th>46</th>\n",
       "      <td>47</td>\n",
       "      <td>Love me or Leave me</td>\n",
       "      <td>DAY6 (데이식스)</td>\n",
       "      <td>The Book of Us : The Demon</td>\n",
       "    </tr>\n",
       "    <tr>\n",
       "      <th>47</th>\n",
       "      <td>48</td>\n",
       "      <td>LOVE DIVE</td>\n",
       "      <td>IVE (아이브)</td>\n",
       "      <td>LOVE DIVE</td>\n",
       "    </tr>\n",
       "    <tr>\n",
       "      <th>48</th>\n",
       "      <td>49</td>\n",
       "      <td>Girls Never Die</td>\n",
       "      <td>tripleS (트리플에스)</td>\n",
       "      <td>&lt;ASSEMBLE24&gt;</td>\n",
       "    </tr>\n",
       "    <tr>\n",
       "      <th>49</th>\n",
       "      <td>50</td>\n",
       "      <td>자꾸만 웃게 돼</td>\n",
       "      <td>부석순(SEVENTEEN)</td>\n",
       "      <td>눈물의 여왕 OST Part.1</td>\n",
       "    </tr>\n",
       "  </tbody>\n",
       "</table>\n",
       "</div>"
      ],
      "text/plain": [
       "    순위                                          제목                      가수  \\\n",
       "0    1                                   해야 (HEYA)               IVE (아이브)   \n",
       "1    2                        SPOT! (feat. JENNIE)               지코 (ZICO)   \n",
       "2    3                                    Magnetic              아일릿(ILLIT)   \n",
       "3    4                                        고민중독                    QWER   \n",
       "4    5                            첫 만남은 계획대로 되지 않아               TWS (투어스)   \n",
       "5    6                             나는 아픈 건 딱 질색이니까                 (여자)아이들   \n",
       "6    7                                      SHEESH             BABYMONSTER   \n",
       "7    8                                         소나기          이클립스 (ECLIPSE)   \n",
       "8    9                                 미안해 미워해 사랑해                   Crush   \n",
       "9   10                                         밤양갱                비비(BIBI)   \n",
       "10  11                         Welcome to the Show             DAY6 (데이식스)   \n",
       "11  12                               한 페이지가 될 수 있게             DAY6 (데이식스)   \n",
       "12  13                         Lucky Girl Syndrome              아일릿(ILLIT)   \n",
       "13  14                                         예뻤어             DAY6 (데이식스)   \n",
       "14  15                                    Hype Boy                NewJeans   \n",
       "15  16                                         ETA                NewJeans   \n",
       "16  17                                     MAESTRO          세븐틴(SEVENTEEN)   \n",
       "17  18                                         천상연                     이창섭   \n",
       "18  19                                 Midas Touch            KISS OF LIFE   \n",
       "19  20                               Love wins all                 아이유(IU)   \n",
       "20  21                                        에피소드                     이무진   \n",
       "21  22                                       Ditto                NewJeans   \n",
       "22  23                                   Attention                NewJeans   \n",
       "23  24                                       To. X            태연 (TAEYEON)   \n",
       "24  25                                   Super Shy                NewJeans   \n",
       "25  26                                     Run Run          이클립스 (ECLIPSE)   \n",
       "26  27                                       Siren                   RIIZE   \n",
       "27  28                                       Smart      LE SSERAFIM (르세라핌)   \n",
       "28  29                                        I AM               IVE (아이브)   \n",
       "29  30                                        EASY      LE SSERAFIM (르세라핌)   \n",
       "30  31                                  Impossible                   RIIZE   \n",
       "31  32                                   New Jeans                NewJeans   \n",
       "32  33                                      비의 랩소디                     임재현   \n",
       "33  34                                    Love 119                   RIIZE   \n",
       "34  35  그대만 있다면 (여름날 우리 X 너드커넥션 (Nerd Connection))  너드커넥션(Nerd Connection)   \n",
       "35  36                                      MANIAC             VIVIZ (비비지)   \n",
       "36  37                          반딧불 (Little Light)            도영 (DOYOUNG)   \n",
       "37  38                                         멈춰줘              헤이즈(Heize)   \n",
       "38  39                                        그랬나봐              유회승 (엔플라잉)   \n",
       "39  40                                Get A Guitar                   RIIZE   \n",
       "40  41                                         OMG                NewJeans   \n",
       "41  42                               Perfect Night      LE SSERAFIM (르세라핌)   \n",
       "42  43                                     Discord                    QWER   \n",
       "43  44                                       Drama                   aespa   \n",
       "44  45                                       HAPPY             DAY6 (데이식스)   \n",
       "45  46                                    헤어지자 말해요                     박재정   \n",
       "46  47                         Love me or Leave me             DAY6 (데이식스)   \n",
       "47  48                                   LOVE DIVE               IVE (아이브)   \n",
       "48  49                             Girls Never Die         tripleS (트리플에스)   \n",
       "49  50                                    자꾸만 웃게 돼          부석순(SEVENTEEN)   \n",
       "\n",
       "                                            앨범  \n",
       "0                                   IVE SWITCH  \n",
       "1                                        SPOT!  \n",
       "2                                SUPER REAL ME  \n",
       "3                      1st Mini Album 'MANITO'  \n",
       "4          TWS 1st Mini Album ‘Sparkling Blue’  \n",
       "5                                            2  \n",
       "6                                  BABYMONS7ER  \n",
       "7                          선재 업고 튀어 OST Part 1  \n",
       "8                            눈물의 여왕 OST Part.4  \n",
       "9                                          밤양갱  \n",
       "10                                    Fourever  \n",
       "11                    The Book of Us : Gravity  \n",
       "12                               SUPER REAL ME  \n",
       "13                         Every DAY6 February  \n",
       "14                 NewJeans 1st EP 'New Jeans'  \n",
       "15                    NewJeans 2nd EP 'Get Up'  \n",
       "16     SEVENTEEN BEST ALBUM ‘17 IS RIGHT HERE'  \n",
       "17        천상연 (웹툰 '선녀외전' X 이창섭 (LEE CHANGSUB))  \n",
       "18                                 Midas Touch  \n",
       "19                                 The Winning  \n",
       "20                                        에피소드  \n",
       "21                              NewJeans 'OMG'  \n",
       "22                 NewJeans 1st EP 'New Jeans'  \n",
       "23                  To. X - The 5th Mini Album  \n",
       "24                    NewJeans 2nd EP 'Get Up'  \n",
       "25                         선재 업고 튀어 OST Part 1  \n",
       "26                                     RIIZING  \n",
       "27                                        EASY  \n",
       "28                                    I've IVE  \n",
       "29                                        EASY  \n",
       "30                                     RIIZING  \n",
       "31                    NewJeans 2nd EP 'Get Up'  \n",
       "32                                      비의 랩소디  \n",
       "33                                    Love 119  \n",
       "34  그대만 있다면 (여름날 우리 X 너드커넥션 (Nerd Connection))  \n",
       "35                 The 4th Mini Album 'VERSUS'  \n",
       "36              청춘의 포말 (YOUTH) - The 1st Album  \n",
       "37                           눈물의 여왕 OST Part.3  \n",
       "38                         선재 업고 튀어 OST Part 6  \n",
       "39                                Get A Guitar  \n",
       "40                              NewJeans 'OMG'  \n",
       "41                               Perfect Night  \n",
       "42     1st Single Album 'Harmony from Discord'  \n",
       "43                  Drama - The 4th Mini Album  \n",
       "44                                    Fourever  \n",
       "45                                    1집 Alone  \n",
       "46                  The Book of Us : The Demon  \n",
       "47                                   LOVE DIVE  \n",
       "48                                <ASSEMBLE24>  \n",
       "49                           눈물의 여왕 OST Part.1  "
      ]
     },
     "execution_count": 112,
     "metadata": {},
     "output_type": "execute_result"
    }
   ],
   "source": [
    "df = pd.read_excel('bugs_chart50.xlsx')\n",
    "df"
   ]
  }
 ],
 "metadata": {
  "kernelspec": {
   "display_name": "Python 3",
   "language": "python",
   "name": "python3"
  },
  "language_info": {
   "codemirror_mode": {
    "name": "ipython",
    "version": 3
   },
   "file_extension": ".py",
   "mimetype": "text/x-python",
   "name": "python",
   "nbconvert_exporter": "python",
   "pygments_lexer": "ipython3",
   "version": "3.11.9"
  }
 },
 "nbformat": 4,
 "nbformat_minor": 2
}
