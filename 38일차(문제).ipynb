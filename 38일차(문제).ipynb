{
 "cells": [
  {
   "cell_type": "code",
   "execution_count": 12,
   "metadata": {},
   "outputs": [
    {
     "name": "stdout",
     "output_type": "stream",
     "text": [
      "[2]\n",
      "[2, 1]\n",
      "[2, 1, 4]\n",
      "[2, 1, 4, 5]\n",
      "[2, 1, 4, 5, 4]\n",
      "[2, 1, 4, 5, 4, 3]\n",
      "[4, 3]\n"
     ]
    }
   ],
   "source": [
    "# 3.\n",
    "# 1차원의 점들이 주어졌을 때, 그 중 가장 거리가 짧은 것의 쌍을 출력하는 함수를 작성하시오. (단 점들의 배열은 모두 정렬되어있다고 가정한다.)\n",
    "# 예를들어 S={1, 3, 4, 8, 13, 17, 20} 이 주어졌다면, 결과값은 (3, 4)가 될 것이다.\n",
    "# S={1, 3, 4, 8, 13, 17, 20}\n",
    "s=[1, 3, 4, 8, 13, 17, 20]\n",
    "lst=[]\n",
    "num = 0\n",
    "aaa = 0\n",
    "bbb = []\n",
    "for i in s :\n",
    "    if i == s[0]:\n",
    "        None\n",
    "    else :\n",
    "        num+=1\n",
    "        aaa = i-s[num-1]    # 서로 차이\n",
    "        # print('i=', i,'s=',s[num-1])\n",
    "        # print('aaa=',aaa)\n",
    "        bbb.append(aaa)\n",
    "        print(bbb)\n",
    "        if aaa < bbb[0] :\n",
    "            lst.append(i)\n",
    "            lst.append(s[num-1])\n",
    "        \n",
    "print(lst)"
   ]
  },
  {
   "cell_type": "code",
   "execution_count": 3,
   "metadata": {},
   "outputs": [
    {
     "data": {
      "text/plain": [
       "19"
      ]
     },
     "execution_count": 3,
     "metadata": {},
     "output_type": "execute_result"
    }
   ],
   "source": [
    "# 4.\n",
    "# 초보자 프로그래머 홍길동은 사용자가 입력한 양의정수(범위는 int)각 자리수를 더해 출력하는 프로그램을 만들고 싶어한다.\n",
    "# ex) 5923의 결과는 5+9+2+3인 19이다 \n",
    "# ex) 200의 결과는 2+0+0인 2이다 \n",
    "# ex) 6719283의 결과는 6+7+1+9+2+8+3인 36이다.\n",
    "\n",
    "num = 5923\n",
    "lst = []\n",
    "for i in str(num):\n",
    "    lst.append(int(i))\n",
    "sum(lst)"
   ]
  }
 ],
 "metadata": {
  "kernelspec": {
   "display_name": "Python 3",
   "language": "python",
   "name": "python3"
  },
  "language_info": {
   "codemirror_mode": {
    "name": "ipython",
    "version": 3
   },
   "file_extension": ".py",
   "mimetype": "text/x-python",
   "name": "python",
   "nbconvert_exporter": "python",
   "pygments_lexer": "ipython3",
   "version": "3.11.9"
  }
 },
 "nbformat": 4,
 "nbformat_minor": 2
}
