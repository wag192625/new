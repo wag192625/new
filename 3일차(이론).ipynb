{
 "cells": [
  {
   "cell_type": "markdown",
   "metadata": {},
   "source": [
    "파이썬의 특징\n",
    "\n",
    "1. 인터프리터 언어다! -> 인터프리터가 뭐냐???\n",
    "    1. python = 인터프리터, c = 컴파일러\n",
    "    2. 인터프리터 -> 동시통역 (컴퓨터는 기계어만 알아들음. (0,1)) - 고수준 언어 = 사람한테 친숙\n",
    "    3. c -> 컴파일러. 모든 코드룰 다 읽음. 이후에 통째로 번역 시도. -> 저수준 언어 - 컴퓨터가 알아듣기 쉬움(기계어)\n",
    "2. 파이썬은 대화형이다. -> prompt에 코드 작성 가능\n",
    "3. 파이썬은 객체지향형이다!! -> class(클래스), object(객체), 캡슐화(접근제어 컨트롤 가능하면 됨), 상속(오버로딩, 오버라이딩), 다형성()\n",
    "4. 배우기 쉽다.인간에게 친숙한 언어(1번과 동일한 내용)\n",
    "5. 이식성이 -> 호환성도 좋고 어디 붙여도 모나지 않음. 인공지능, 언리얼5\n",
    "6. 메모리 관리 다소 쉬움. c였으면 *(포인터) 주소를 참조할 수 있고 삭제나 이것저것 가능, 파이썬 신경 쓸 필요가 없다!\n"
   ]
  },
  {
   "cell_type": "markdown",
   "metadata": {},
   "source": [
    "<h2>예약어</h2>"
   ]
  },
  {
   "cell_type": "markdown",
   "metadata": {},
   "source": [
    "예약어 = 정해져 있는 함수 혹은 클래스와 같은 사용하기로 정해져 있는 단어(코드)를 의미함.\n",
    "    and, assert, break, class, def, del, elif, else, except, in, in, lamda, with, while (이런 애들을 변수로 쓰면 안됨!!)\n",
    "언어별로 예약어가 다름, 그래서 가급적이면 'list'같은거 변수로 쓰지 말 것. string, number 같은 것도\n",
    "int, integer 이런거 변수명으로 X!!  왜냐? 다른 언어에서는 이게 예약어임"
   ]
  },
  {
   "cell_type": "markdown",
   "metadata": {},
   "source": [
    "<h2>행과 들여쓰기</h2>"
   ]
  },
  {
   "cell_type": "markdown",
   "metadata": {},
   "source": [
    "행은 한 줄 띄어쓰기\n",
    "자바에서는 한 줄 띄어쓰기가 중요하지 않음. 왜냐하면 ;을 붙이면 한 줄 종료여서임\n",
    "System.out.print('1'); // 종료됨\n",
    "파이썬은 한줄 띄어쓰기가 안되면 코드가 안끝나는 것.\n",
    "\n",
    "들여쓰기    (자바랑 다름!!)\n",
    "if True:    // 올바른 예시\n",
    "    print('True') \n",
    "\n",
    "if True:    // 잘못된 예시\n",
    "print('True')   //들여쓰기는 ':' 이후에 무조건 적용되어야 한다."
   ]
  },
  {
   "cell_type": "markdown",
   "metadata": {},
   "source": [
    "<h2>출력문</h2>\n"
   ]
  },
  {
   "cell_type": "markdown",
   "metadata": {},
   "source": [
    "print 'true'    // 이거 따라하지 말 것 => 버전이 2.x일때 사용되던 문법임\n",
    "print ('true')  // 현재는 이렇게 사용\n",
    "\n",
    "if문은 사용 가능\n",
    "if true:\n",
    "    print('true')\n",
    "\n",
    "if(true):   <- 나중에 바뀔수도 있어서 요샌 이렇게 쓴다고 함\n",
    "    print()"
   ]
  },
  {
   "cell_type": "markdown",
   "metadata": {},
   "source": [
    "<h2>파이썬 문자열</h2>\n"
   ]
  },
  {
   "cell_type": "markdown",
   "metadata": {},
   "source": [
    "x = 'string'\n",
    "x = \"string\"\n",
    "x = '''string'''\n",
    "x = \"\"\"stri\n",
    "ng\n",
    "\"\"\"\n",
    "\n",
    "파이썬은 모두 문자열(string)\n",
    "String - char\n",
    "\n",
    "자바는 문자(char), 문자열(String)\n",
    "\n",
    "char a = 'a';\n",
    "char a = 'ab'; // 에러남! -> chaar 타입은 한 글자만 가능"
   ]
  },
  {
   "cell_type": "markdown",
   "metadata": {},
   "source": [
    "<h2>주석</h2>"
   ]
  },
  {
   "cell_type": "markdown",
   "metadata": {},
   "source": [
    "파이썬의 주석은 '#'을 사용하는 것"
   ]
  },
  {
   "cell_type": "markdown",
   "metadata": {},
   "source": [
    "<h2>변수 선언</h2>"
   ]
  },
  {
   "cell_type": "markdown",
   "metadata": {},
   "source": [
    "var(변수명) = val(값 혹은 데이터)\n",
    "    이렇게 선언이 됨\n",
    "\n",
    "타입 선언이 없음\n",
    "\n",
    "a = b = c = 1\n",
    "print(a,b,c)    //출력: 1 (동시 선언 가능)\n",
    "\n",
    "a, b, c = 1, '정명훈', 3\n",
    "print(a, b, c)  //출력 : 1, '정명훈', 3 (한 줄에 각각 선언 가능, 문자열도 가능)\n",
    "\n",
    "a, b, c = [1, 2, 3] // 리스트 형식도 분배해서 변수 할당 가능\n",
    "print(a,b,c)    //출력 : 1, 2, 3"
   ]
  },
  {
   "cell_type": "markdown",
   "metadata": {},
   "source": []
  },
  {
   "cell_type": "markdown",
   "metadata": {},
   "source": [
    "<h2> 자료형 </h2>\n",
    "\n",
    "    1. 숫자\n",
    "    2. 문자열\n",
    "    3. 리스트\n",
    "    4. 튜플\n",
    "    5. 딕셔너리(사전)"
   ]
  },
  {
   "cell_type": "code",
   "execution_count": null,
   "metadata": {},
   "outputs": [],
   "source": [
    "num1 = 1    # 숫자 데이터\n",
    "num2 = 10   #"
   ]
  },
  {
   "cell_type": "code",
   "execution_count": 3,
   "metadata": {},
   "outputs": [
    {
     "name": "stdout",
     "output_type": "stream",
     "text": [
      "hello world\n",
      "h\n",
      "ell\n",
      "lo world\n",
      "hello\n",
      "hello worldhello world\n"
     ]
    }
   ],
   "source": [
    "st = 'hello world' # 왜 hello world를 주구장창 갈기냐? 이유는 모름\n",
    "# print(st)\n",
    "# print(st[0])    # 인덱싱이 가능함 = charactor같이 한 글자씩 추출\n",
    "# print(st[1:4])  # 본격적 인덱싱\n",
    "# print(st[3:])\n",
    "# print(st[:5])   # 생략된 구간은 끝을 의미함\n",
    "\n",
    "print(st * 2)   # 문자열에 연산이 가능함(곱셈에 한정)\n",
    "print(st + ' hi')   # 문자열 덧셈이 가능함"
   ]
  },
  {
   "cell_type": "markdown",
   "metadata": {},
   "source": [
    "<h2>리스트</h2>"
   ]
  },
  {
   "cell_type": "code",
   "execution_count": 14,
   "metadata": {},
   "outputs": [
    {
     "name": "stdout",
     "output_type": "stream",
     "text": [
      "abcd\n",
      "[123, 1.5, 'join']\n",
      "['abcd', 123, 1.5, 'join'] 삭제 전\n"
     ]
    },
    {
     "data": {
      "text/plain": [
       "([123, 1.5, 'join'], '삭제 후')"
      ]
     },
     "execution_count": 14,
     "metadata": {},
     "output_type": "execute_result"
    }
   ],
   "source": [
    "lst = ['abcd', 123, 1.5, 'join']    # 심지어 함수도 들어갈 수 있음\n",
    "# 짧은 지식\n",
    "# 리스트는 모든 타입의 데이터가 각자 들어가도 문제 없음\n",
    "# array != list\n",
    "# array string 타입이면 string의 데이터만 들어감\n",
    "# Int [] array = [1, 2, 3] 아마 자바는 이런식으로\n",
    "print(lst[0])\n",
    "print(lst[1:])\n",
    "\n",
    "print(lst, '삭제 전')\n",
    "del lst[0]  # 리스트의 0번째 인덱스 삭제\n",
    "# del 변수명[인덱스 번호]\n",
    "\n",
    "lst, '삭제 후'"
   ]
  },
  {
   "cell_type": "code",
   "execution_count": 13,
   "metadata": {},
   "outputs": [],
   "source": [
    "# lst. remove(123)\n",
    "lst2 = [123, 123, 234]\n",
    "lst2.remove(123)\n",
    "lst2\n",
    "# 리스트에 사용하는 del 함수와 remove함수는 비슷하지만 다름\n",
    "# del은 인덱스 번호를 사용하는데 반면, remoce는 인덱스에 해당하는 데이터 이름을 삭제 지정이 가능함\n",
    "word_list = ['array', 'sea', 'see', 'item', 'battle', 'bottle']\n",
    "word_list[0]    #'array'"
   ]
  },
  {
   "cell_type": "code",
   "execution_count": 24,
   "metadata": {},
   "outputs": [
    {
     "data": {
      "text/plain": [
       "('abcd', 123, 1.4)"
      ]
     },
     "execution_count": 24,
     "metadata": {},
     "output_type": "execute_result"
    }
   ],
   "source": [
    "# 튜플(tuple)   리스트랑 비슷 (잘 안 씀)\n",
    "\n",
    "tu = ('abcd', 123, 1.4) #튜플은 소괄호로 선언\n",
    "tu  #선언 방식에 괄호 모양만 차이가 남\n",
    "\n",
    "# 언제 쓰는걸까? => 고정된 값을 사용 => 상수일 경우 = const 타입 = 값이 불변하는 변수일 경우 튜플을 사용.\n",
    "\n",
    "# tu[0] = '아하'  # 선언된 이상 값을 변경할 수 없어서 오류남\n",
    "tu = list(tu)\n",
    "tu\n",
    "\n",
    "tu = tuple(tu)\n",
    "tu\n",
    "\n",
    "# 리스트와 차이점 = 변경이 불가능함(데이터 수정, 삭제, 갱신, 추가) but 타입 변경 가능"
   ]
  },
  {
   "cell_type": "code",
   "execution_count": 36,
   "metadata": {},
   "outputs": [
    {
     "data": {
      "text/plain": [
       "'jung'"
      ]
     },
     "execution_count": 36,
     "metadata": {},
     "output_type": "execute_result"
    }
   ],
   "source": [
    "# 사전(dictionay) dict -- 자바에서는 hash(차이점은 있음)\n",
    "key_value = {'name': 'jung', 'age': 26, 'addr':'천안'} #중괄호 씀\n",
    "key_value\n",
    "#키(key) : 값(value)\n",
    "\n",
    "# for i in key_value:\n",
    "#     print(i)    #키값만 나옴\n",
    "\n",
    "# for i in key_value:\n",
    "#     print(key_value.get(i))   #키값만 나옴\n",
    "\n",
    "# for k, v in key_value.items():  #\n",
    "#     print(k,v)\n",
    "\n",
    "print(key_value.keys())\n",
    "print(key_value.values())\n",
    "# key_value[1]      # 인덱싱이 안됨\n",
    "print(key_value['name'])   # 인덱싱은 안되지만 키값을 넣으면 value를 반환함"
   ]
  },
  {
   "cell_type": "code",
   "execution_count": 38,
   "metadata": {},
   "outputs": [
    {
     "data": {
      "text/plain": [
       "{'a': 1, 'b': 2, 'c': 3}"
      ]
     },
     "execution_count": 38,
     "metadata": {},
     "output_type": "execute_result"
    }
   ],
   "source": [
    "# dict 사용방법2    나중에 다시 설명해줌\n",
    "lst1 = ['a', 'b', 'c']\n",
    "lst2 = [1, 2, 3]\n",
    "dict_data = dict(zip(lst1, lst2))\n",
    "dict_data"
   ]
  },
  {
   "cell_type": "markdown",
   "metadata": {},
   "source": [
    "<h2>파이썬 연산자</h2>"
   ]
  },
  {
   "cell_type": "code",
   "execution_count": 59,
   "metadata": {},
   "outputs": [
    {
     "name": "stdout",
     "output_type": "stream",
     "text": [
      "True\n"
     ]
    }
   ],
   "source": [
    "# 산술 연산자\n",
    "# +, -, *, /(사칙연산)\n",
    "# ** == 제곱\n",
    "# %  == 나머지\n",
    "# // == 몫\n",
    "\n",
    "# 비교 연산자\n",
    "# ==(같음), !=(다름), >, <, <=, >= \n",
    "\n",
    "# 논리 연산자\n",
    "# and, or, not\n",
    "\n",
    "# 멤버십 연산자\n",
    "# in, not in\n",
    "\n",
    "1 in [1,2,3]\n",
    "\n",
    "# 아이덴티티 연산자\n",
    "# in(==), not is(!=)\n",
    "a = 'abc'\n",
    "b = a\n",
    "print(a is b)\n",
    "\n",
    "# 할당 연산자\n",
    "# +=, -=, *=, /=,    %=, **=, //="
   ]
  },
  {
   "cell_type": "code",
   "execution_count": null,
   "metadata": {},
   "outputs": [],
   "source": [
    "# 연산자에 대해서 공부했는데 이중 우선순위가 있음 (괄호는 전부 제외)\n",
    "# 1. **\n",
    "# 2. *, /, %, //\n",
    "# 3. +, -               <-  여기까지만 알면 됨\n",
    "\n",
    "# 4. <, >, <=, >= (비교 연산자)\n",
    "# 5. ==, != (평등 연산자)\n",
    "# 6. = (할당 연산자)\n",
    "# 7. is, is not\n",
    "# 8. in, in not"
   ]
  },
  {
   "cell_type": "code",
   "execution_count": null,
   "metadata": {},
   "outputs": [],
   "source": []
  },
  {
   "cell_type": "markdown",
   "metadata": {},
   "source": [
    "코테 \n",
    "2문제는 그냥 생각한대로 구현됨??    \n",
    "세번째 문제는 문법 응용이 잘됨??    -- <-- 이 구간이 딕셔너리   말도 해?\n",
    "네번째부터는 알고리즘 공부했니??    -- 합격 컷                  생각을 할 줄 아네??\n",
    "막바지쯤에는 너 좀 치니??           --너 신입 아니지?           사람이었어??"
   ]
  }
 ],
 "metadata": {
  "kernelspec": {
   "display_name": "Python 3",
   "language": "python",
   "name": "python3"
  },
  "language_info": {
   "codemirror_mode": {
    "name": "ipython",
    "version": 3
   },
   "file_extension": ".py",
   "mimetype": "text/x-python",
   "name": "python",
   "nbconvert_exporter": "python",
   "pygments_lexer": "ipython3",
   "version": "3.11.9"
  }
 },
 "nbformat": 4,
 "nbformat_minor": 2
}
