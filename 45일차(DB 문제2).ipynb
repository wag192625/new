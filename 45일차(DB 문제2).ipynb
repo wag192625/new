{
 "cells": [
  {
   "cell_type": "code",
   "execution_count": null,
   "metadata": {},
   "outputs": [],
   "source": [
    "# CREATE TABLE stadium (\n",
    "# STADIUM_ID    CHAR(3) NOT NULL,\n",
    "# STADIUM_NAME  VARCHAR2(20) NOT NULL,\n",
    "# HOMETEAM_ID   CHAR(3),\n",
    "# SEAT_COUNT    NUMBER,\n",
    "# ADDRESS     VARCHAR2(60),\n",
    "# DDD         VARCHAR2(3),\n",
    "# TEL         VARCHAR2(10),\n",
    "# CONSTRAINT stadium_PK PRIMARY KEY (STADIUM_ID)\n",
    "# );\n",
    "# INSERT INTO stadium VALUES ('E01','한밭종합운동장','K10',30000,'대전 광역시 중구 부사동 162-1','042','221-2002');                                              \n",
    "# INSERT INTO stadium VALUES ('C02','부산구장','K06',30000,'부산광역시 서구 서대신동 3가 210번지','051','247-5771');                                             \n",
    "# INSERT INTO stadium VALUES ('B01','부천구장','K04',35000,'부천시 원미구 춘의동 산 19번지','031','666-0496');                                                   \n",
    "# INSERT INTO stadium VALUES ('B02','성남구장','K08',27000,'성남시 중원구 성남동 3110번지','031','753-3956');                                                    \n",
    "# INSERT INTO stadium VALUES ('B04','수원월드컵구장','K02',50000,'수원시 팔달구 우만1동 228번지','031','259-2150');                                              \n",
    "# INSERT INTO stadium VALUES ('B05','안양구장','K09',22500,'경기도 동안구 비산3동 1025번지','031','380-7212');                                                  \n",
    "# INSERT INTO stadium VALUES ('C04','울산문수구장','K01',46102,'울산광역시 남구 옥산 산5번지 울산체육공원','052','220-');                                        \n",
    "# INSERT INTO stadium VALUES ('D01','전남구장','K07',20009,'전남 광양시 금호동 700','061','792-5600');                                                           \n",
    "# INSERT INTO stadium VALUES ('D03','전북구장','K05',28000,'전북 덕진구 덕진동 1가 1220','063','273-1763');                                                      \n",
    "# INSERT INTO stadium VALUES ('C06','포항구장','K03',25000,'경북 포항시 남구 괴동 1번지','054','282-2002');                                                     \n",
    "# INSERT INTO stadium VALUES ('B03','수원구장','','','경기도 수원시','','');       \n",
    "# INSERT INTO stadium VALUES ('C01','김천구장','','','경북 김천시','','');         \n",
    "# INSERT INTO stadium VALUES ('C03','울산구장','','','울산광역시','','');          \n",
    "# INSERT INTO stadium VALUES ('C05','창원구장','','','경남 창원시','','');         \n",
    "# INSERT INTO stadium VALUES ('D02','전주구장','','','전북 전주시','','');         \n",
    "# INSERT INTO stadium VALUES ('E02','대전월드컵구장','',41000,'대전광역시 유성구 노은동 270번지','','');                                                         \n",
    "# INSERT INTO stadium VALUES ('A01','서울 월드컵경기장','',63930,'','','');"
   ]
  },
  {
   "cell_type": "code",
   "execution_count": null,
   "metadata": {},
   "outputs": [],
   "source": [
    "\n",
    "# -- 각 경기장의 STADIUM_NAME, SEAT_COUNT, TEL을 각각 이름, 좌석수, 전화번호라는 별칭을 사용하여 출력하는 SQL 쿼리를 작성\n",
    "# -- SELECT STADIUM_NAME as '이름', SEAT_COUNT as '좌석수', TEL as '전화번호' from stadium\n",
    "\n",
    "# -- 각 홈팀(HOMETEAM_ID)에 대해 평균 좌석수를 표시하되, 평균 좌석수가 30,000을 초과하는 홈팀만 표시하세요. 결과에는 홈팀 ID와 평균 좌석수를 반올림하여 표시\n",
    "# -- SELECT HOMETEAM_ID, round(avg(SEAT_COUNT)) from stadium\n",
    "# -- where SEAT_COUNT >= 30000\n",
    "# -- GROUP by HOMETEAM_ID;\n",
    "\n",
    "# -- # 각 도시에 있는 경기장의 수를 표시하는 SQL 쿼리를 작성하세요. 결과에는 도시 이름과 경기장 수를 포함\n",
    "# -- SELECT STADIUM_NAME, count(ADDRESS) from stadium\n",
    "# -- GROUP by STADIUM_NAME;\n",
    "\n",
    "\n",
    "# -- # 최대 좌석수를 가진 경기장의 이름을 찾는 SQL 쿼리를 작성하세요. 결과에는 경기장 이름과 좌석수를 포함하세요.\n",
    "# -- SELECT STADIUM_NAME, max(SEAT_COUNT) from stadium\n",
    "# -- where SEAT_COUNT;\n",
    "\n",
    "\n",
    "# -- # 지역 번호가 031인 경기장의 총 좌석수를 계산하는 SQL 쿼리를 작성하세요. 결과에는 해당 지역 번호의 총 좌석수를 포함\n",
    "# SELECT DDD, sum(SEAT_COUNT) from stadium\n",
    "# where DDD = '031';\n",
    "# -- GROUP by SEAT_COUNT\n",
    "# -- HAVING DDD = '031'"
   ]
  }
 ],
 "metadata": {
  "language_info": {
   "name": "python"
  }
 },
 "nbformat": 4,
 "nbformat_minor": 2
}
