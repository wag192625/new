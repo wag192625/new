{
 "cells": [
  {
   "cell_type": "code",
   "execution_count": 1,
   "metadata": {},
   "outputs": [
    {
     "ename": "SyntaxError",
     "evalue": "incomplete input (2243139385.py, line 50)",
     "output_type": "error",
     "traceback": [
      "\u001b[1;36m  Cell \u001b[1;32mIn[1], line 50\u001b[1;36m\u001b[0m\n\u001b[1;33m    # 따라서 [1, 9] 구간에 두 개 이상의 선분이 겹쳐있으므로, 8을 return 합니다.\u001b[0m\n\u001b[1;37m                                                       ^\u001b[0m\n\u001b[1;31mSyntaxError\u001b[0m\u001b[1;31m:\u001b[0m incomplete input\n"
     ]
    }
   ],
   "source": [
    "# 1. 선분 3개가 평행하게 놓여 있습니다. 세 선분의 시작과 끝 좌표가 \n",
    "# [[start, end], [start, end], [start, end]] 형태로 들어있는 2차원 배열 lines가 매개변수로 주어질 때, \n",
    "# 두 개 이상의 선분이 겹치는 부분의 길이를 return 하도록 solution 함수를 완성해보세요.\n",
    "# lines가 [[0, 2], [-3, -1], [-2, 1]]일 때 그림으로 나타내면 다음과 같습니다.\n",
    "# 선분이 두 개 이상 겹친 곳은 [-2, -1], [0, 1]로 길이 2만큼 겹쳐있습니다.\n",
    "\n",
    "# 제한사항\n",
    "# lines의 길이 = 3\n",
    "# lines의 원소의 길이 = 2\n",
    "# 모든 선분은 길이가 1 이상입니다.\n",
    "# lines의 원소는 [a, b] 형태이며, a, b는 각각 선분의 양 끝점 입니다.\n",
    "# -100 ≤ a < b ≤ 100\n",
    "\n",
    "# 입출력 예\n",
    "# lines result\n",
    "# [[0, 1], [2, 5], [3, 9]] 2\n",
    "# [[-1, 1], [1, 3], [3, 9]] 0\n",
    "# [[-1, 1], [1, 3], [3, 9]] 8\n",
    "\n",
    "lines = [[0, 1], [2, 5], [3, 9]]\n",
    "# lines = [[-1, 1], [1, 3], [3, 9]]\n",
    "# lines = [[-1, 1], [1, 3], [3, 9]]\n",
    "num = 0\n",
    "\n",
    "# for i in lines:\n",
    "#     for j in lines :\n",
    "#         if i != j :\n",
    "            # print(j)\n",
    "            # if range(j[0],j[1]) in range(i[0],i[1]):\n",
    "            #     print(j)\n",
    "            # for k in j :\n",
    "            #     if k in range(i[0],i[1]):\n",
    "            #         # print(range(i[0],i[1]))\n",
    "            #         # print(k)\n",
    "            #         num += i[1]-k\n",
    "            #         # print(i[1]-k)\n",
    "# print(num)\n",
    "# for i in lines:\n",
    "#     for \n",
    "\n",
    "# 입출력 예 설명\n",
    "# 입출력 예 #1\n",
    "# 두 번째, 세 번째 선분 [2, 5], [3, 9]가 [3, 5] 구간에 겹쳐있으므로 2를 return 합니다.\n",
    "# 입출력 예 #2\n",
    "# 겹친 선분이 없으므로 0을 return 합니다.\n",
    "# 입출력 예 #3\n",
    "# 첫 번째와 두 번째 선분이 [3, 5] 구간에서 겹칩니다.\n",
    "# 첫 번째와 세 번째 선분 [1, 5] 구간에서 겹칩니다.\n",
    "# 두 번째와 세 번째 선분 [3, 9] 구간에서 겹칩니다.\n",
    "# 따라서 [1, 9] 구간에 두 개 이상의 선분이 겹쳐있으므로, 8을 return 합니다.\n"
   ]
  },
  {
   "cell_type": "code",
   "execution_count": 6,
   "metadata": {},
   "outputs": [
    {
     "data": {
      "text/plain": [
       "[29, 6]"
      ]
     },
     "execution_count": 6,
     "metadata": {},
     "output_type": "execute_result"
    }
   ],
   "source": [
    "# 2.\n",
    "# 첫 번째 분수의 분자와 분모를 뜻하는 numer1, denom1, \n",
    "# 두 번째 분수의 분자와 분모를 뜻하는 numer2, denom2가 매개변수로 주어집니다. \n",
    "# 두 분수를 더한 값을 기약 분수로 나타냈을 때 \n",
    "# 분자와 분모를 순서대로 담은 배열을 return 하도록 solution 함수를 완성해보세요.\n",
    "\n",
    "# 제한사항\n",
    "# 0 <numer1, denom1, numer2, denom2 < 1,000\n",
    "\n",
    "# 입출력 예\n",
    "# numer1 denom1 numer2 denom2 result\n",
    "# 1              2         3          4        [5, 4]\n",
    "# 9             2          1          3        [29, 6]\n",
    "# 입출력 예 설명\n",
    "# 입출력 예 #1\n",
    "# 1 / 2 + 3 / 4 = 5 / 4입니다. 따라서 [5, 4]를 return 합니다.\n",
    "# 입출력 예 #2\n",
    "# 9 / 2 + 1 / 3 = 29 / 6입니다. 따라서 [29, 6]을 return 합니다.\n",
    "\n",
    "# numer1 = 1\n",
    "# denom1 = 2\n",
    "# numer2 = 3\n",
    "# denom2 = 4 \n",
    "\n",
    "# numer1 = 9\n",
    "# denom1 = 2\n",
    "# numer2 = 1\n",
    "# denom2 = 3 \n",
    "lst = []\n",
    "\n",
    "def solution(numer1, denom1, numer2, denom2) :\n",
    "    if denom2 % denom1 == 0 :\n",
    "        lst.append(int(numer2+numer1*(denom2/denom1)))\n",
    "        lst.append(denom2)\n",
    "    elif denom1 % denom2 == 0 :\n",
    "        lst.append(int(numer1+numer2*(denom1/denom2)))\n",
    "        lst.append(denom1)\n",
    "    else:\n",
    "        lst.append(numer1*denom2+numer2*denom1)\n",
    "        lst.append(denom1*denom2)\n",
    "    return(lst)\n",
    "# solution(1,2,3,4)\n",
    "solution(9,2,1,3)"
   ]
  }
 ],
 "metadata": {
  "kernelspec": {
   "display_name": "Python 3",
   "language": "python",
   "name": "python3"
  },
  "language_info": {
   "codemirror_mode": {
    "name": "ipython",
    "version": 3
   },
   "file_extension": ".py",
   "mimetype": "text/x-python",
   "name": "python",
   "nbconvert_exporter": "python",
   "pygments_lexer": "ipython3",
   "version": "3.11.9"
  }
 },
 "nbformat": 4,
 "nbformat_minor": 2
}
