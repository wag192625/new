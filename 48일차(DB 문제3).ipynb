{
 "cells": [
  {
   "cell_type": "code",
   "execution_count": null,
   "metadata": {},
   "outputs": [],
   "source": [
    "# -- 고객 테이블을 조회하시오\n",
    "# SELECT * from 고객;\n",
    "\n",
    "# --  field7의 데이터가 null 인것만 전체 데이터 추출\n",
    "# SELECT * from 고객 where field7 is NULL;\n",
    "\n",
    "# --  field1이 EENQU 인 데이터의 field5를 추출\n",
    "# SELECT field5 from 고객 where field1 = 'EENQU';\n",
    "\n",
    "# --  마일리지가 10000이상인 사람을 조회하고 마일리지 컬럼을 '마일리지총합'이라고 변경하여 추출\n",
    "# select field2, field9 as '마일리지총합' from 고객 where field9 >= 10000;\n",
    "\n",
    "# --  임의의 행 데이터를 추가.\n",
    "# --SELECT *, NULL as '임의의 행'  from 고객;\n",
    "\n",
    "# --  field2의 중복되는 데이터가 2개 이상인 데이터를 추출\n",
    "# SELECT field2, count(field2) from 고객\n",
    "# GROUP by field2 HAVING count(field2) >1 ;"
   ]
  }
 ],
 "metadata": {
  "language_info": {
   "name": "python"
  }
 },
 "nbformat": 4,
 "nbformat_minor": 2
}
