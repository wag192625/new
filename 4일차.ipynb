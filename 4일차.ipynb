{
 "cells": [
  {
   "cell_type": "markdown",
   "metadata": {},
   "source": [
    "반복문, if문."
   ]
  },
  {
   "cell_type": "code",
   "execution_count": 9,
   "metadata": {},
   "outputs": [
    {
     "name": "stdout",
     "output_type": "stream",
     "text": [
      "9\n",
      "8\n",
      "7\n",
      "6\n",
      "5\n"
     ]
    }
   ],
   "source": [
    "# 반복문이란?\n",
    "# 1, 2, 3, ... 과 같이 연속적으로 실행하는 코드 함수나 코딩 작업 하는것\n",
    "# whire, for\n",
    "\n",
    "# 사용 방법\n",
    "# while(실행되야 하는 조건):\n",
    "    # 실행할 코드\n",
    "\n",
    "# while(True):    # 조건이 충족되면 미충족이 될때까지 계속 반복\n",
    "#     print(1)\n",
    "a = 10\n",
    "# while(a<10) :\n",
    "#     print(a)\n",
    "\n",
    "while(a > 5):\n",
    "    a-=1\n",
    "    print(a)"
   ]
  },
  {
   "cell_type": "code",
   "execution_count": 11,
   "metadata": {},
   "outputs": [
    {
     "name": "stdout",
     "output_type": "stream",
     "text": [
      "0\n",
      "1\n",
      "2\n",
      "3\n",
      "4\n"
     ]
    }
   ],
   "source": [
    "# for문\n",
    "# for i(변수명) in range(시작하는 숫자, 종료 숫자, 횟수)\n",
    "# for 문에 range 말고 다른거 써도 됨\n",
    "for i in range(5):\n",
    "    print(i)\n",
    "\n",
    "# for, while 차이\n",
    "# for문 = 데이터의 범위 + 횟수가 정해짐\n",
    "# while문 = 특정 상황이 충족되면 멈춤. 실제 개발에서는 잘 안쓰임"
   ]
  },
  {
   "cell_type": "code",
   "execution_count": 32,
   "metadata": {},
   "outputs": [
    {
     "name": "stdout",
     "output_type": "stream",
     "text": [
      "대한민국충청남도천안시\n"
     ]
    }
   ],
   "source": [
    "#1~20까지 중 3의 배수만 출력\n",
    "# for i in range(3,20,3):\n",
    "#     print(i)\n",
    "\n",
    "lst = ['대한', '민국', '충청', '남도', '천안시']\n",
    "res = ''\n",
    "for i in lst:\n",
    "    res += i\n",
    "print(res)\n",
    "\n",
    "# for i in lst:\n",
    "#     print(i, end=' ') # i 를 출력하고 두번째 인덱스로 넘어갈 때 띄어쓰기(기본적으로 엔터)\n",
    "#     print(1,2,3, sep='a', end='')"
   ]
  },
  {
   "cell_type": "code",
   "execution_count": 34,
   "metadata": {},
   "outputs": [
    {
     "name": "stdout",
     "output_type": "stream",
     "text": [
      "몰라\n"
     ]
    }
   ],
   "source": [
    "# if문 - 참일 경우 실행 구문 \n",
    "# if(변수를 넣었을 때 변수에 데이터가 있으면 True 없으면 False) :\n",
    "a = 'ㅇㅇ'\n",
    "if(a == '일') :\n",
    "    print(1)\n",
    "elif(a == '이'):\n",
    "    print(2)\n",
    "else:\n",
    "    print('몰라')"
   ]
  },
  {
   "cell_type": "code",
   "execution_count": 45,
   "metadata": {},
   "outputs": [
    {
     "name": "stdout",
     "output_type": "stream",
     "text": [
      "middle\n",
      "10\n"
     ]
    }
   ],
   "source": [
    "a = 5\n",
    "#a가 3보다 크고 10보다 작으면 middle이라고 출력\n",
    "if(3<a<10):\n",
    "    print('middle')\n",
    "\n",
    "b = 10\n",
    "if(a<1):\n",
    "    print(a)\n",
    "if(b>5):\n",
    "    print(b)\n",
    "if(a<1 and b>5):\n",
    "    print(a+b)\n",
    "# else:\n",
    "#     print('다름')"
   ]
  },
  {
   "cell_type": "code",
   "execution_count": 2,
   "metadata": {},
   "outputs": [
    {
     "name": "stdout",
     "output_type": "stream",
     "text": [
      "<class 'str'> 1\n"
     ]
    },
    {
     "data": {
      "text/plain": [
       "'1'"
      ]
     },
     "execution_count": 2,
     "metadata": {},
     "output_type": "execute_result"
    }
   ],
   "source": [
    "# input()\n",
    "num = input()   # 무슨 데이터를 입력해도 다 받아냄. 다만, 전부 문자열로 받아냄\n",
    "print(type(num), num)\n",
    "num #입력값 1 => 출력은'1'\n",
    "# num + 15    # 입력값 : 15, 출력 : 자바스크립트라면 1515"
   ]
  },
  {
   "cell_type": "code",
   "execution_count": 7,
   "metadata": {},
   "outputs": [
    {
     "name": "stdout",
     "output_type": "stream",
     "text": [
      " 1\n"
     ]
    }
   ],
   "source": [
    "# num 변수가 있는데 \n",
    "num = int(input())\n",
    "aaa = num\n",
    "while(num):\n",
    "    num -= 1\n",
    "    \n",
    "    print(' '*aaa+str(aaa))\n",
    "# ,는 한번 띄어씀"
   ]
  },
  {
   "cell_type": "code",
   "execution_count": 76,
   "metadata": {},
   "outputs": [
    {
     "name": "stdout",
     "output_type": "stream",
     "text": [
      "   3\n",
      "   3\n",
      "   3\n"
     ]
    }
   ],
   "source": [
    "num = int(input())\n",
    "for i in range(num):\n",
    "    print(' '*num+str(num))\n",
    "# for문은 반복 수가 정해져있어서 굳이 while문처럼 aaa 붙일 필요 없음"
   ]
  },
  {
   "cell_type": "code",
   "execution_count": 99,
   "metadata": {},
   "outputs": [
    {
     "name": "stdout",
     "output_type": "stream",
     "text": [
      "1 1\n",
      "2 4\n",
      "3 9\n",
      "4 16\n",
      "5 25\n"
     ]
    }
   ],
   "source": [
    "num = int(input())\n",
    "# for i in range(1,num+1):\n",
    "#     print(i, i*i)\n",
    "\n",
    "\n",
    "bbb = 0\n",
    "while(num):\n",
    "    num -=1\n",
    "    bbb +=1\n",
    "    print(bbb, bbb*bbb)"
   ]
  },
  {
   "cell_type": "code",
   "execution_count": 103,
   "metadata": {},
   "outputs": [
    {
     "name": "stdout",
     "output_type": "stream",
     "text": [
      "5\n"
     ]
    }
   ],
   "source": [
    "num = input()\n",
    "if(num == '일') :\n",
    "    print(1)\n",
    "elif(num == '이'):\n",
    "    print(2)\n",
    "elif(num == '삼'):\n",
    "    print(3)\n",
    "elif(num == '사'):\n",
    "    print(4)\n",
    "elif(num == '오'):\n",
    "    print(5)\n"
   ]
  },
  {
   "cell_type": "code",
   "execution_count": 113,
   "metadata": {},
   "outputs": [
    {
     "name": "stdout",
     "output_type": "stream",
     "text": [
      "5\n"
     ]
    }
   ],
   "source": [
    "num = input()\n",
    "key_value = {'일':1,'이':2,'삼':3,'사':4,'오':5}\n",
    "print(key_value.get(num))"
   ]
  },
  {
   "cell_type": "code",
   "execution_count": 137,
   "metadata": {},
   "outputs": [
    {
     "name": "stdout",
     "output_type": "stream",
     "text": [
      "13\n"
     ]
    }
   ],
   "source": [
    "# num = int(input())\n",
    "# input() 여러번 들어가지 않도록!!!\n",
    "# 직접 입력된 고정값 같은 것은 건들지 않도록(수정 가급적 X)\n",
    "# for문은 가급적이면 3중 for문까지 가지 말 것!!(어떻게 하더라도!!)\n",
    "ccc = 0\n",
    "while(True):\n",
    "    num = int(input())\n",
    "    ccc = ccc+num\n",
    "    # print(ccc)\n",
    "    if(num<=0):\n",
    "        print(ccc)\n",
    "        break"
   ]
  },
  {
   "cell_type": "code",
   "execution_count": 138,
   "metadata": {},
   "outputs": [],
   "source": [
    "# map(함수명, 적용될 데이터)\n",
    "data = list(map(int, input().split()))\n",
    "data"
   ]
  },
  {
   "cell_type": "code",
   "execution_count": 8,
   "metadata": {},
   "outputs": [
    {
     "data": {
      "text/plain": [
       "{1, 3, 4, 5, 7, 23, 56}"
      ]
     },
     "execution_count": 8,
     "metadata": {},
     "output_type": "execute_result"
    }
   ],
   "source": [
    "# try, set, map, lambda 문제풀이(특히 딕셔너리)(for, while, if문)\n",
    "# 리스트 컴프리핸션(if문 for문을 온전히 잘 다룰 때 학습시작할 것)\n",
    "# 모듈 사용 (import) = pandas, numpy, math, datetime, time, re, pickle, os, glob ...\n",
    "# 텍스트파일 다루기 \n",
    "# 함수, 클래스\n",
    "set([1,1,23,56,7,5,3,4,3])"
   ]
  }
 ],
 "metadata": {
  "kernelspec": {
   "display_name": "Python 3",
   "language": "python",
   "name": "python3"
  },
  "language_info": {
   "codemirror_mode": {
    "name": "ipython",
    "version": 3
   },
   "file_extension": ".py",
   "mimetype": "text/x-python",
   "name": "python",
   "nbconvert_exporter": "python",
   "pygments_lexer": "ipython3",
   "version": "3.11.9"
  }
 },
 "nbformat": 4,
 "nbformat_minor": 2
}
