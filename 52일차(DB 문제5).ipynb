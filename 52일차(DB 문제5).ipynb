{
 "cells": [
  {
   "cell_type": "markdown",
   "metadata": {},
   "source": [
    "<!-- 24.05.27 -->\n",
    "\n",
    "1, 2. https://cafeptthumb-phinf.pstatic.net/MjAyNDA0MDRfMzUg/MDAxNzEyMjExNDcyNzAy.UCSGgOWDawy1-wPfkv-RBGK6PJnefG4m1_nrcCE2VeUg.qhUGd7s8UCQwo1Rf2r0XPFRbYpCa22l1irKTFLw8EDog.PNG/image.png?type=w1600\n",
    "\n",
    "3, 4. https://cafeptthumb-phinf.pstatic.net/MjAyNDA0MDRfMjMx/MDAxNzEyMjExNTAyODIw.g77lTxzlewnSu-uQ_6ch6zTr26bY7HsnTn5Ge9b4WVsg.dGdByzf80v6r8qFSCWF6y1i8ktzDg6_VjdEoYNbSGVsg.PNG/image.png?type=w1600\n",
    "\n",
    "5. https://cafeptthumb-phinf.pstatic.net/MjAyNDA0MDRfMTE5/MDAxNzEyMjExNTIwNjkw.0xP6j-9oo0wka3fgWhtBPjLpTsDUBGnXx2DcqA5reG0g.4nvs8zFCnkWzFSzXMwWhBliMKBn0aHXHXlynNR3RZQkg.PNG/image.png?type=w1600\n",
    "\n",
    "\n",
    "1. 서울에 사는 고객 중 마일리지가 15000 이상 20000 이하인 고객의 모든 정보 추출\n",
    "\n",
    "2. 한빛무역의 고객들은 어느 지역, 어느 도시에 사는지 지역과 도시를 한번씩만 보이시오.\n",
    "    이때 결과를 지역순으로 나타내고 동일 지역에 대해서는 도시 순으로 나타내봅니다.\n",
    "\n",
    "3. '춘천시'나 '과천시' 또는 '광명시'에 사는 고객 중 담당자직위에 '이사' 또는 '사원'이 들어가는 고객의 모든 정보를 보이시오\n",
    "\n",
    "4. 광역시나 특별시에 살지 않는 고객들 중에서 마일리지가 많은 상위 고객 3명의 모든 정보를 보이시오.\n",
    "\n",
    "5. 지역에 값이 들어있는 고객 중에서 담당자직위가 대표이사인 고객을 빼고 보이시오.\n",
    "\n",
    "6. 전화번호 뒷자리가 '45로 끝나는 고객 정보 추출하시오\n",
    "\n",
    "7. 전화번호 뒤에서 세번째 부터가  '45인 고객 정보 추출하시오\n",
    "\n",
    "8. 전화번호중에  '45가 들어간 고객 정보 추출하시오\n",
    "\n",
    "9.수를 n번 만큼 계산하는 계산기를 만드세요. 사칙연산 기능이 포함되어있어야 합니다."
   ]
  }
 ],
 "metadata": {
  "kernelspec": {
   "display_name": "Python 3",
   "language": "python",
   "name": "python3"
  },
  "language_info": {
   "codemirror_mode": {
    "name": "ipython",
    "version": 3
   },
   "file_extension": ".py",
   "mimetype": "text/x-python",
   "name": "python",
   "nbconvert_exporter": "python",
   "pygments_lexer": "ipython3",
   "version": "3.11.9"
  }
 },
 "nbformat": 4,
 "nbformat_minor": 2
}
