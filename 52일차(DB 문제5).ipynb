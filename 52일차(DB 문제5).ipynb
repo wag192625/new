{
 "cells": [
  {
   "cell_type": "markdown",
   "metadata": {},
   "source": [
    "<!-- 24.05.27 -->\n",
    "\n",
    "1, 2. https://cafeptthumb-phinf.pstatic.net/MjAyNDA0MDRfMzUg/MDAxNzEyMjExNDcyNzAy.UCSGgOWDawy1-wPfkv-RBGK6PJnefG4m1_nrcCE2VeUg.qhUGd7s8UCQwo1Rf2r0XPFRbYpCa22l1irKTFLw8EDog.PNG/image.png?type=w1600\n",
    "\n",
    "3, 4. https://cafeptthumb-phinf.pstatic.net/MjAyNDA0MDRfMjMx/MDAxNzEyMjExNTAyODIw.g77lTxzlewnSu-uQ_6ch6zTr26bY7HsnTn5Ge9b4WVsg.dGdByzf80v6r8qFSCWF6y1i8ktzDg6_VjdEoYNbSGVsg.PNG/image.png?type=w1600\n",
    "\n",
    "5. https://cafeptthumb-phinf.pstatic.net/MjAyNDA0MDRfMTE5/MDAxNzEyMjExNTIwNjkw.0xP6j-9oo0wka3fgWhtBPjLpTsDUBGnXx2DcqA5reG0g.4nvs8zFCnkWzFSzXMwWhBliMKBn0aHXHXlynNR3RZQkg.PNG/image.png?type=w1600\n",
    "\n",
    "6. 전화번호 뒷자리가 '45로 끝나는 고객 정보 추출하시오\n",
    "\n",
    "7. 전화번호 뒤에서 세번째 부터가  '45인 고객 정보 추출하시오\n",
    "\n",
    "8. 전화번호중에  '45가 들어간 고객 정보 추출하시오\n",
    "\n",
    "9.수를 n번 만큼 계산하는 계산기를 만드세요. 사칙연산 기능이 포함되어있어야 합니다."
   ]
  }
 ],
 "metadata": {
  "kernelspec": {
   "display_name": "Python 3",
   "language": "python",
   "name": "python3"
  },
  "language_info": {
   "codemirror_mode": {
    "name": "ipython",
    "version": 3
   },
   "file_extension": ".py",
   "mimetype": "text/x-python",
   "name": "python",
   "nbconvert_exporter": "python",
   "pygments_lexer": "ipython3",
   "version": "3.11.9"
  }
 },
 "nbformat": 4,
 "nbformat_minor": 2
}
