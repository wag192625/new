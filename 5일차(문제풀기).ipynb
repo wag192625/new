{
 "cells": [
  {
   "cell_type": "markdown",
   "metadata": {},
   "source": [
    "1번 문제\n",
    "\n",
    "입력:\n",
    "첫째 줄에 두 정수 H와 M이 주어진다. (0 ≤ H ≤ 23, 0 ≤ M ≤ 59) 그리고 이것은 현재 상근이가 설정한 알람 시간 H시 M분을 의미한다.\n",
    "\n",
    "입력 시간은 24시간 표현을 사용한다. 24시간 표현에서 하루의 시작은 0:0(자정)이고, 끝은 23:59(다음날 자정 1분 전)이다. 시간을 나타낼 때, 불필요한 0은 사용하지 않는다.\n",
    "\n",
    "출력:\n",
    "첫째 줄에 상근이가 창영이의 방법을 사용할 때, 설정해야 하는 알람 시간을 출력한다. (입력과 같은 형태로 출력하면 된다.)\n",
    "\n",
    "예시\n",
    "입력1:\n",
    "10 10\n",
    "출력1\n",
    "9 25\n",
    "\n"
   ]
  },
  {
   "cell_type": "code",
   "execution_count": null,
   "metadata": {},
   "outputs": [],
   "source": [
    "h, m = map(int, input().split())    # map 뺴도 됨, 스플릿 확실히 알아야 할 것\n",
    "# print(h,m)"
   ]
  },
  {
   "cell_type": "code",
   "execution_count": 27,
   "metadata": {},
   "outputs": [
    {
     "name": "stdout",
     "output_type": "stream",
     "text": [
      "2 25\n"
     ]
    }
   ],
   "source": [
    "# 틀린 이유 : '예시'까지 문제라 10 10 이면 9 25가 되도록 설정해야 한다.\n",
    "# 문제의 요지 : 0 -1 일 때 -1이 아닌 23이 되게끔 해야함\n",
    "\n",
    "# h = H = int(input())\n",
    "# m = M = int(input())\n",
    "# if(0 <= h <= 23):\n",
    "#     i = h\n",
    "# if(0 <= m <= 59):\n",
    "#     j = m\n",
    "# print(i, j)\n"
   ]
  },
  {
   "cell_type": "markdown",
   "metadata": {},
   "source": [
    "2번 문제\n",
    "\n",
    "1에서부터 6까지의 눈을 가진 3개의 주사위를 던져서 다음과 같은 규칙에 따라 상금을 받는 게임이 있다.\n",
    "\n",
    "@@@@\n",
    "1 - 같은 눈이 3개가 나오면 10,000원+(같은 눈)×1,000원의 상금을 받게 된다.\n",
    "2 - 같은 눈이 2개만 나오는 경우에는 1,000원+(같은 눈)×100원의 상금을 받게 된다.\n",
    "3 - 모두 다른 눈이 나오는 경우에는 (그 중 가장 큰 눈)×100원의 상금을 받게 된다.\n",
    "예를 들어, 3개의 눈 3, 3, 6이 주어지면 상금은 1,000+3×100으로 계산되어 1,300원을 받게 된다. 또 3개의 눈이 2, 2, 2로 주어지면 10,000+2×1,000 으로 계산되어 12,000원을 받게 된다. 3개의 눈이 6, 2, 5로 주어지면 그중 가장 큰 값이 6이므로 6×100으로 계산되어 600원을 상금으로 받게 된다.\n",
    "@@@@\n",
    "\n",
    "3개 주사위의 나온 눈이 주어질 때, 상금을 계산하는 프로그램을 작성 하시오.\n",
    "입력\n",
    "첫째 줄에 3개의 눈이 빈칸을 사이에 두고 각각 주어진다.출력\n",
    "출력\n",
    "첫째 줄에 게임의 상금을 출력 한다.\n",
    "\n",
    "첫째 줄에 게임의 상금을 출력 한다.\n",
    "\n",
    "입력\n",
    "3 3 6\n",
    "결과\n",
    "1300\n",
    "입력\n",
    "2 2 2\n",
    "출력\n",
    "12000\n",
    "입력\n",
    "6 2 5\n",
    "출력\n",
    "600"
   ]
  },
  {
   "cell_type": "code",
   "execution_count": null,
   "metadata": {},
   "outputs": [],
   "source": [
    "# dice를 3번 입력 받으려면 .split 하면 됨\n",
    "# dice1, dice2, dice3 = input().split\n",
    "# dice_list = [dice1,dice2,dice3]\n",
    "# dice = [6, 2, 5] 이거 해서 풀 것"
   ]
  },
  {
   "cell_type": "code",
   "execution_count": 18,
   "metadata": {},
   "outputs": [
    {
     "data": {
      "text/plain": [
       "1"
      ]
     },
     "execution_count": 18,
     "metadata": {},
     "output_type": "execute_result"
    }
   ],
   "source": [
    "dice = int(input())\n",
    "for i in range(3):\n",
    "    # append"
   ]
  },
  {
   "cell_type": "code",
   "execution_count": 15,
   "metadata": {},
   "outputs": [
    {
     "ename": "TypeError",
     "evalue": "can only concatenate list (not \"int\") to list",
     "output_type": "error",
     "traceback": [
      "\u001b[1;31m---------------------------------------------------------------------------\u001b[0m",
      "\u001b[1;31mTypeError\u001b[0m                                 Traceback (most recent call last)",
      "Cell \u001b[1;32mIn[15], line 3\u001b[0m\n\u001b[0;32m      1\u001b[0m dice \u001b[38;5;241m=\u001b[39m \u001b[38;5;241m3\u001b[39m\n\u001b[0;32m      2\u001b[0m \u001b[38;5;28msum\u001b[39m \u001b[38;5;241m=\u001b[39m []\n\u001b[1;32m----> 3\u001b[0m sum1\u001b[38;5;241m=\u001b[39m \u001b[38;5;28;43msum\u001b[39;49m\u001b[43m \u001b[49m\u001b[38;5;241;43m+\u001b[39;49m\u001b[43m \u001b[49m\u001b[43mdice\u001b[49m\n\u001b[0;32m      4\u001b[0m \u001b[38;5;28mprint\u001b[39m(sum1)\n",
      "\u001b[1;31mTypeError\u001b[0m: can only concatenate list (not \"int\") to list"
     ]
    }
   ],
   "source": [
    "dice = 3\n",
    "sum = []\n",
    "sum1= sum + dice\n",
    "print(sum1)"
   ]
  },
  {
   "cell_type": "code",
   "execution_count": 1,
   "metadata": {},
   "outputs": [
    {
     "name": "stdout",
     "output_type": "stream",
     "text": [
      "3\n",
      "5\n",
      "2\n"
     ]
    }
   ],
   "source": [
    "#주사위를 먼저 3번 굴림\n",
    "lst = []\n",
    "# aaa = ','\n",
    "for i in range(3):\n",
    "    dice = int(input())\n",
    "    if 0 >= dice >= 7: # 적용 안됨\n",
    "        print('주사위 값 오류')\n",
    "    # lst[i] = dice\n",
    "    print(dice)\n",
    "    # lst \n",
    "#각 주사위마다 비교\n",
    "# if(lst[0] == lst[1] == lst[2]):\n",
    "    # sum = 10000+ lst[0]*1000\n",
    "# elif(lst[0] == lst[1] or lst[0] == lst[2] or lst[1] == lst[2]):\n",
    "    # sum = 1000+ lst[0]*100\n",
    "# elif(lst[0] != lst[1] or lst[0] != lst[2] or lst[1] != lst[2]):\n",
    "# 가장 큰 값 구하는 식"
   ]
  },
  {
   "cell_type": "code",
   "execution_count": 63,
   "metadata": {},
   "outputs": [
    {
     "ename": "TypeError",
     "evalue": "'int' object is not iterable",
     "output_type": "error",
     "traceback": [
      "\u001b[1;31m---------------------------------------------------------------------------\u001b[0m",
      "\u001b[1;31mTypeError\u001b[0m                                 Traceback (most recent call last)",
      "Cell \u001b[1;32mIn[63], line 26\u001b[0m\n\u001b[0;32m     24\u001b[0m     dice \u001b[38;5;241m=\u001b[39m \u001b[38;5;28mint\u001b[39m(\u001b[38;5;28minput\u001b[39m())\n\u001b[0;32m     25\u001b[0m     \u001b[38;5;28;01mif\u001b[39;00m(\u001b[38;5;241m0\u001b[39m\u001b[38;5;241m<\u001b[39mdice\u001b[38;5;241m<\u001b[39m\u001b[38;5;241m7\u001b[39m):\n\u001b[1;32m---> 26\u001b[0m         \u001b[38;5;28msum\u001b[39m \u001b[38;5;241m=\u001b[39m \u001b[38;5;28;43mlist\u001b[39;49m\u001b[43m(\u001b[49m\u001b[43mdice\u001b[49m\u001b[43m)\u001b[49m\n\u001b[0;32m     27\u001b[0m         \u001b[38;5;28mprint\u001b[39m(\u001b[38;5;28msum\u001b[39m)\n\u001b[0;32m     28\u001b[0m \u001b[38;5;66;03m# sum에 리스트로 dice를 넣어야 함\u001b[39;00m\n",
      "\u001b[1;31mTypeError\u001b[0m: 'int' object is not iterable"
     ]
    }
   ],
   "source": [
    "# dice = int(input())\n",
    "# sum=[]\n",
    "# count = 0\n",
    "# while(True):\n",
    "#     dice = int(input())\n",
    "#     1 <= dice <=6\n",
    "#     sum += dice\n",
    "#     count += 1\n",
    "#     print(sum)\n",
    "\n",
    "\n",
    "# for i in range(3):\n",
    "#     dice = int(input())\n",
    "#     # 1 <= dice <=6\n",
    "#     if(0>=dice>=7):\n",
    "#         print('1~6까지만 입력')\n",
    "#         break\n",
    "#     sum[] += dice\n",
    "#     print(dice)\n",
    "\n",
    "\n",
    "\n",
    "for i in range(3):\n",
    "    dice = int(input())\n",
    "    if(0<dice<7):\n",
    "        sum = list(dice)\n",
    "        print(sum)\n",
    "# sum에 리스트로 dice를 넣어야 함\n",
    "print(sum)\n",
    "# if(sum):\n"
   ]
  }
 ],
 "metadata": {
  "kernelspec": {
   "display_name": "Python 3",
   "language": "python",
   "name": "python3"
  },
  "language_info": {
   "codemirror_mode": {
    "name": "ipython",
    "version": 3
   },
   "file_extension": ".py",
   "mimetype": "text/x-python",
   "name": "python",
   "nbconvert_exporter": "python",
   "pygments_lexer": "ipython3",
   "version": "3.11.9"
  }
 },
 "nbformat": 4,
 "nbformat_minor": 2
}
