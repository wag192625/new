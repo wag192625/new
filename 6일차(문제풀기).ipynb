{
 "cells": [
  {
   "cell_type": "code",
   "execution_count": 5,
   "metadata": {},
   "outputs": [
    {
     "name": "stdout",
     "output_type": "stream",
     "text": [
      "['닥터 스트레인지', '스플릿', '럭키']\n"
     ]
    }
   ],
   "source": [
    "# 1. 리스트 생성\n",
    "# 2016년 11월 영화 예매 순위 기준 top3는 다음과 같습니다. 영화 제목을 movie_rank 이름의 리스트에 저장해보세요. (순위 정보는 저장하지 않습니다.)\n",
    "\n",
    "# 순위   영화\n",
    "# 1   닥터 스트레인지\n",
    "# 2   스플릿\n",
    "# 3   럭키\n",
    "movie_rank = ['닥터 스트레인지', '스플릿', '럭키']\n",
    "print(movie_rank)"
   ]
  },
  {
   "cell_type": "code",
   "execution_count": 6,
   "metadata": {},
   "outputs": [
    {
     "name": "stdout",
     "output_type": "stream",
     "text": [
      "['닥터 스트레인지', '스플릿', '럭키', '배트맨']\n"
     ]
    }
   ],
   "source": [
    "# 2. movie_rank 리스트에 \"배트맨\"을 추가하라.\n",
    "movie_rank += ['배트맨']\n",
    "print(movie_rank)"
   ]
  },
  {
   "cell_type": "code",
   "execution_count": 9,
   "metadata": {},
   "outputs": [
    {
     "name": "stdout",
     "output_type": "stream",
     "text": [
      "['닥터 스트레인지', '슈퍼맨', '스플릿', '배트맨']\n"
     ]
    }
   ],
   "source": [
    "# 4. movie_rank 리스트에서 '럭키'를 삭제하라.\n",
    "movie_rank = ['닥터 스트레인지', '슈퍼맨', '스플릿', '럭키', '배트맨']\n",
    "del movie_rank[3]\n",
    "# remove(movie_rank['럭키'])\n",
    "print(movie_rank)"
   ]
  },
  {
   "cell_type": "code",
   "execution_count": 27,
   "metadata": {},
   "outputs": [
    {
     "name": "stdout",
     "output_type": "stream",
     "text": [
      "['닥터 스트레인지', '슈퍼맨', '스플릿', '배트맨']\n"
     ]
    }
   ],
   "source": [
    "# 5. movie_rank 리스트에서 '스플릿' 과 '배트맨'을 를 삭제하라.\n",
    "movie_rank = ['닥터 스트레인지', '슈퍼맨', '스플릿', '배트맨']\n",
    "# del movie_rank[2, 3]\n",
    "# movie_rank - ['스플릿']\n",
    "del movie_rank[3]\n",
    "del movie_rank[2]\n",
    "print(movie_rank)"
   ]
  },
  {
   "cell_type": "code",
   "execution_count": 33,
   "metadata": {},
   "outputs": [
    {
     "name": "stdout",
     "output_type": "stream",
     "text": [
      "[100, 130, 140, 150, 160, 170]\n"
     ]
    }
   ],
   "source": [
    "# 6. price 변수에는 날짜와 종가 정보가 저장돼 있다. 날짜 정보를 제외하고 가격 정보만을 출력하라. (힌트 : 슬라이싱)\n",
    "\n",
    "price = ['20180728', 100, 130, 140, 150, 160, 170]\n",
    "# price1 = ('20180728', 100, 130, 140, 150, 160, 170)\n",
    "a = price[1:]\n",
    "print(a)\n",
    "# 출력 예시:\n",
    "# [100, 130, 140, 150, 160, 170]\n"
   ]
  },
  {
   "cell_type": "code",
   "execution_count": 53,
   "metadata": {},
   "outputs": [
    {
     "data": {
      "text/plain": [
       "[1, 3, 5, 7, 9]"
      ]
     },
     "execution_count": 53,
     "metadata": {},
     "output_type": "execute_result"
    }
   ],
   "source": [
    "# 7.슬라이싱을 사용해서 홀수만 출력하라.\n",
    "\n",
    "nums = [1, 2, 3, 4, 5, 6, 7, 8, 9, 10]\n",
    "nums[::2]\n"
   ]
  },
  {
   "cell_type": "code",
   "execution_count": 52,
   "metadata": {},
   "outputs": [
    {
     "data": {
      "text/plain": [
       "[5, 4, 3, 2, 1]"
      ]
     },
     "execution_count": 52,
     "metadata": {},
     "output_type": "execute_result"
    }
   ],
   "source": [
    "# 8.슬라이싱을 사용해서 리스트의 숫자를 역 방향으로 출력하라.\n",
    "\n",
    "nums = [1, 2, 3, 4, 5]\n",
    "# 실행 예:\n",
    "# [5, 4, 3, 2, 1]\n",
    "nums[::-1]\n"
   ]
  },
  {
   "cell_type": "code",
   "execution_count": 36,
   "metadata": {},
   "outputs": [
    {
     "name": "stdout",
     "output_type": "stream",
     "text": [
      "삼성전자 Naver\n"
     ]
    }
   ],
   "source": [
    "# 9.interest 리스트에는 아래의 데이터가 저장되어 있다.\n",
    "interest = ['삼성전자', 'LG전자', 'Naver']\n",
    "# interest 리스트를 사용하여 아래와 같이 화면에 출력하라.\n",
    "# 출력 예시:\n",
    "# 삼성전자 Naver\n",
    "a = interest[0] + ' ' +interest[2]\n",
    "print(a)\n"
   ]
  },
  {
   "cell_type": "code",
   "execution_count": 93,
   "metadata": {},
   "outputs": [
    {
     "data": {
      "text/plain": [
       "'삼성전자 LG전자 Naver SK하이닉스 미래에셋대우'"
      ]
     },
     "execution_count": 93,
     "metadata": {},
     "output_type": "execute_result"
    }
   ],
   "source": [
    "# 10. interest 리스트에는 아래의 데이터가 바인딩되어 있다.\n",
    "\n",
    "interest = ['삼성전자', 'LG전자', 'Naver', 'SK하이닉스', '미래에셋대우']\n",
    "# # interest 리스트를 사용하여 아래와 같이 화면에 출력하라.\n",
    "# # 출력 예시:\n",
    "# 삼성전자 LG전자 Naver SK하이닉스 미래에셋대우\n",
    "' '.join(interest)\n",
    "\n",
    "# ' 지우는법 "
   ]
  },
  {
   "cell_type": "code",
   "execution_count": 102,
   "metadata": {},
   "outputs": [
    {
     "name": "stdout",
     "output_type": "stream",
     "text": [
      "삼성전자\n",
      "LG전자\n",
      "Naver\n",
      "SK하이닉스\n",
      "미래에셋대우\n"
     ]
    }
   ],
   "source": [
    "# 11. interest 리스트에는 아래의 데이터가 저장되어 있다.\n",
    "\n",
    "interest = ['삼성전자', 'LG전자', 'Naver', 'SK하이닉스', '미래에셋대우']\n",
    "# join() 메서드를 사용해서 interest 리스트를 아래와 같이 화면에 출력하라.\n",
    "\n",
    "# 출력 예시:\n",
    "# 삼성전자\n",
    "# LG전자\n",
    "# Naver\n",
    "# SK하이닉스\n",
    "# 미래에셋대우\n",
    "a = '\\n'.join(interest)\n",
    "print(a)"
   ]
  },
  {
   "cell_type": "code",
   "execution_count": 147,
   "metadata": {},
   "outputs": [
    {
     "ename": "NameError",
     "evalue": "name 'xxx' is not defined",
     "output_type": "error",
     "traceback": [
      "\u001b[1;31m---------------------------------------------------------------------------\u001b[0m",
      "\u001b[1;31mNameError\u001b[0m                                 Traceback (most recent call last)",
      "Cell \u001b[1;32mIn[147], line 4\u001b[0m\n\u001b[0;32m      1\u001b[0m \u001b[38;5;66;03m# 12. 리스트에 있는 값을 오름차순으로 정렬하시오.\u001b[39;00m\n\u001b[0;32m      2\u001b[0m data \u001b[38;5;241m=\u001b[39m [\u001b[38;5;241m2\u001b[39m, \u001b[38;5;241m4\u001b[39m, \u001b[38;5;241m3\u001b[39m, \u001b[38;5;241m1\u001b[39m, \u001b[38;5;241m5\u001b[39m, \u001b[38;5;241m10\u001b[39m, \u001b[38;5;241m9\u001b[39m]\n\u001b[1;32m----> 4\u001b[0m \u001b[43mxxx\u001b[49m\n",
      "\u001b[1;31mNameError\u001b[0m: name 'xxx' is not defined"
     ]
    }
   ],
   "source": [
    "# 12. 리스트에 있는 값을 오름차순으로 정렬하시오.\n",
    "data = [2, 4, 3, 1, 5, 10, 9]\n",
    "\n",
    "xxx"
   ]
  },
  {
   "cell_type": "code",
   "execution_count": 111,
   "metadata": {},
   "outputs": [
    {
     "name": "stdout",
     "output_type": "stream",
     "text": [
      "['881120', '1068234']\n"
     ]
    }
   ],
   "source": [
    "13. \n",
    "# 홍길동 씨의 주민등록번호는 881120-1068234이다. 홍길동 씨의 주민등록번호를 연월일(YYYYMMDD) 부분과 그 뒤의 숫자 부분으로 나누어 출력해 보자.\n",
    "# ※ 문자열 슬라이싱 기법을 사용해 보자.\n",
    "hong = '881120-1068234'\n",
    "a = hong.split('-')\n",
    "print(a)"
   ]
  },
  {
   "cell_type": "code",
   "execution_count": 117,
   "metadata": {},
   "outputs": [
    {
     "ename": "TypeError",
     "evalue": "can only concatenate tuple (not \"int\") to tuple",
     "output_type": "error",
     "traceback": [
      "\u001b[1;31m---------------------------------------------------------------------------\u001b[0m",
      "\u001b[1;31mTypeError\u001b[0m                                 Traceback (most recent call last)",
      "Cell \u001b[1;32mIn[117], line 4\u001b[0m\n\u001b[0;32m      2\u001b[0m \u001b[38;5;66;03m# (1,2,3) 튜플에 값 4를 추가하여 (1,2,3,4)를 만들어 출력해 보자.\u001b[39;00m\n\u001b[0;32m      3\u001b[0m tu \u001b[38;5;241m=\u001b[39m (\u001b[38;5;241m1\u001b[39m,\u001b[38;5;241m2\u001b[39m,\u001b[38;5;241m3\u001b[39m)\n\u001b[1;32m----> 4\u001b[0m a\u001b[38;5;241m=\u001b[39m \u001b[43mtu\u001b[49m\u001b[43m \u001b[49m\u001b[38;5;241;43m+\u001b[39;49m\u001b[43m \u001b[49m\u001b[38;5;241;43m4\u001b[39;49m\n\u001b[0;32m      5\u001b[0m \u001b[38;5;66;03m# 튜블은 값 수정이나\u001b[39;00m\n\u001b[0;32m      6\u001b[0m \u001b[38;5;28mprint\u001b[39m(a)\n",
      "\u001b[1;31mTypeError\u001b[0m: can only concatenate tuple (not \"int\") to tuple"
     ]
    }
   ],
   "source": [
    "14\n",
    "# (1,2,3) 튜플에 값 4를 추가하여 (1,2,3,4)를 만들어 출력해 보자.\n",
    "tu = (1,2,3)\n",
    "# a= tu + 4\n",
    "# 튜블은 값 수정이나 변경 불가\n",
    "# print(a)"
   ]
  },
  {
   "cell_type": "code",
   "execution_count": 129,
   "metadata": {},
   "outputs": [
    {
     "name": "stdout",
     "output_type": "stream",
     "text": [
      "dict_keys(['A', 'B', 'C']) dict_values([90, 80, 70])\n",
      "80\n"
     ]
    }
   ],
   "source": [
    "15.\n",
    "# 딕셔너리 a에서 'B'에 해당되는 값을 추출해 보자.\n",
    "a = {'A':90, 'B':80, 'C':70}\n",
    "# ※ 딕셔너리의 pop 함수를 사용해 보자.\n",
    "# print(a.keys(),a.values())\n",
    "print(a['B'])\n"
   ]
  },
  {
   "cell_type": "code",
   "execution_count": 140,
   "metadata": {},
   "outputs": [
    {
     "ename": "TypeError",
     "evalue": "'list' object cannot be interpreted as an integer",
     "output_type": "error",
     "traceback": [
      "\u001b[1;31m---------------------------------------------------------------------------\u001b[0m",
      "\u001b[1;31mTypeError\u001b[0m                                 Traceback (most recent call last)",
      "Cell \u001b[1;32mIn[140], line 8\u001b[0m\n\u001b[0;32m      3\u001b[0m nums \u001b[38;5;241m=\u001b[39m [\u001b[38;5;241m1\u001b[39m, \u001b[38;5;241m2\u001b[39m, \u001b[38;5;241m3\u001b[39m, \u001b[38;5;241m4\u001b[39m, \u001b[38;5;241m5\u001b[39m]\n\u001b[0;32m      4\u001b[0m \u001b[38;5;66;03m# sum = 0\u001b[39;00m\n\u001b[0;32m      5\u001b[0m \u001b[38;5;66;03m# for i in nums:\u001b[39;00m\n\u001b[0;32m      6\u001b[0m \u001b[38;5;66;03m#     sum += i\u001b[39;00m\n\u001b[0;32m      7\u001b[0m \u001b[38;5;66;03m#     print(sum)\u001b[39;00m\n\u001b[1;32m----> 8\u001b[0m a \u001b[38;5;241m=\u001b[39m \u001b[38;5;28msum\u001b[39m \u001b[38;5;241m/\u001b[39m \u001b[38;5;28;43mrange\u001b[39;49m\u001b[43m(\u001b[49m\u001b[43mnums\u001b[49m\u001b[43m)\u001b[49m\n\u001b[0;32m      9\u001b[0m \u001b[38;5;28mprint\u001b[39m(a)\n",
      "\u001b[1;31mTypeError\u001b[0m: 'list' object cannot be interpreted as an integer"
     ]
    }
   ],
   "source": [
    "16.\n",
    "# 다음 리스트의 평균을 출력하라.\n",
    "nums = [1, 2, 3, 4, 5]\n",
    "# sum = 0\n",
    "# for i in nums:\n",
    "#     sum += i\n",
    "#     print(sum)\n",
    "a = sum / range(nums)\n",
    "print(a)\n"
   ]
  },
  {
   "cell_type": "code",
   "execution_count": 138,
   "metadata": {},
   "outputs": [
    {
     "data": {
      "text/plain": [
       "[1, 3, 5, 7, 9]"
      ]
     },
     "execution_count": 138,
     "metadata": {},
     "output_type": "execute_result"
    }
   ],
   "source": [
    "# 17.  홀수만 출력하라.\n",
    "nums = [1, 2, 3, 4, 5, 6, 7, 8, 9, 10]\n",
    "# 실행 예:\n",
    "# [1, 3, 5, 7, 9]\n",
    "nums[::2]\n"
   ]
  },
  {
   "cell_type": "code",
   "execution_count": 139,
   "metadata": {},
   "outputs": [
    {
     "data": {
      "text/plain": [
       "[5, 4, 3, 2, 1]"
      ]
     },
     "execution_count": 139,
     "metadata": {},
     "output_type": "execute_result"
    }
   ],
   "source": [
    "# 18. 리스트의 숫자를 역 방향으로 출력하라.\n",
    "\n",
    "nums = [1, 2, 3, 4, 5]\n",
    "# 실행 예:\n",
    "# [5, 4, 3, 2, 1]\n",
    "nums[::-1]"
   ]
  },
  {
   "cell_type": "code",
   "execution_count": 144,
   "metadata": {},
   "outputs": [
    {
     "name": "stdout",
     "output_type": "stream",
     "text": [
      "dict_keys(['메로나', '폴라포', '빵빠레']) dict_values([1000, 1200, 1800])\n",
      "{'메로나': 1000, '폴라포': 1200, '빵빠레': 1800}\n"
     ]
    }
   ],
   "source": [
    "# 19. 다음 아이스크림 이름과 희망 가격을 딕셔너리로 구성하라.\n",
    "\n",
    "# 이름   희망 가격\n",
    "# 메로나   1000\n",
    "# 폴라포   1200\n",
    "# 빵빠레   1800\n",
    "dic = {'메로나':1000, '폴라포':1200, '빵빠레':1800}\n",
    "print(dic.keys(),dic.values())\n",
    "print(dic)"
   ]
  },
  {
   "cell_type": "code",
   "execution_count": 146,
   "metadata": {},
   "outputs": [
    {
     "ename": "TypeError",
     "evalue": "unsupported operand type(s) for +: 'dict' and 'dict'",
     "output_type": "error",
     "traceback": [
      "\u001b[1;31m---------------------------------------------------------------------------\u001b[0m",
      "\u001b[1;31mTypeError\u001b[0m                                 Traceback (most recent call last)",
      "Cell \u001b[1;32mIn[146], line 7\u001b[0m\n\u001b[0;32m      1\u001b[0m \u001b[38;5;66;03m# 20. 위 딕셔너리에 아래 아이스크림 가격정보를 추가하라.\u001b[39;00m\n\u001b[0;32m      2\u001b[0m \n\u001b[0;32m      3\u001b[0m \u001b[38;5;66;03m# 이름   희망 가격\u001b[39;00m\n\u001b[0;32m      4\u001b[0m \u001b[38;5;66;03m# 죠스바   1200\u001b[39;00m\n\u001b[0;32m      5\u001b[0m \u001b[38;5;66;03m# 월드콘   1500\u001b[39;00m\n\u001b[0;32m      6\u001b[0m aa \u001b[38;5;241m=\u001b[39m {\u001b[38;5;124m'\u001b[39m\u001b[38;5;124m죠스바\u001b[39m\u001b[38;5;124m'\u001b[39m:\u001b[38;5;241m1200\u001b[39m, \u001b[38;5;124m'\u001b[39m\u001b[38;5;124m월드콘\u001b[39m\u001b[38;5;124m'\u001b[39m:\u001b[38;5;241m1500\u001b[39m}\n\u001b[1;32m----> 7\u001b[0m b \u001b[38;5;241m=\u001b[39m \u001b[43mdic\u001b[49m\u001b[43m \u001b[49m\u001b[38;5;241;43m+\u001b[39;49m\u001b[43m \u001b[49m\u001b[43maa\u001b[49m \n\u001b[0;32m      8\u001b[0m \u001b[38;5;28mprint\u001b[39m(b)\n",
      "\u001b[1;31mTypeError\u001b[0m: unsupported operand type(s) for +: 'dict' and 'dict'"
     ]
    }
   ],
   "source": [
    "# 20. 위 딕셔너리에 아래 아이스크림 가격정보를 추가하라.\n",
    "\n",
    "# 이름   희망 가격\n",
    "# 죠스바   1200\n",
    "# 월드콘   1500\n",
    "aa = {'죠스바':1200, '월드콘':1500}\n",
    "b = dic + aa \n",
    "print(b)"
   ]
  },
  {
   "cell_type": "code",
   "execution_count": 155,
   "metadata": {},
   "outputs": [
    {
     "name": "stdout",
     "output_type": "stream",
     "text": [
      "{1, 2, 3, 4, 5}\n"
     ]
    }
   ],
   "source": [
    "# 21. a 리스트에서 중복 숫자를 제거해 보자.\n",
    "a = [1, 1, 1, 2, 2, 3, 3, 3, 4, 4, 5]\n",
    "b = set(a)\n",
    "print(b)"
   ]
  },
  {
   "cell_type": "code",
   "execution_count": 181,
   "metadata": {},
   "outputs": [
    {
     "name": "stdout",
     "output_type": "stream",
     "text": [
      "23688\n"
     ]
    }
   ],
   "source": [
    "# 22. while문을 사용해 1부터 1000까지의 자연수 중 3의 배수이면서 7의 배수인\n",
    "# 수의 합을 구해 보자.\n",
    "\n",
    "i = 0\n",
    "j = 0\n",
    "while(i<1000):\n",
    "    i += 1\n",
    "    if i % 3 == 0 and i % 7 == 0 :\n",
    "        j += i\n",
    "        # print(j)\n",
    "    # print(i)\n",
    "print(j)"
   ]
  },
  {
   "cell_type": "code",
   "execution_count": 176,
   "metadata": {},
   "outputs": [
    {
     "data": {
      "text/plain": [
       "0"
      ]
     },
     "execution_count": 176,
     "metadata": {},
     "output_type": "execute_result"
    }
   ],
   "source": []
  },
  {
   "cell_type": "code",
   "execution_count": 156,
   "metadata": {},
   "outputs": [
    {
     "name": "stdout",
     "output_type": "stream",
     "text": [
      "[32, 22, 10]\n"
     ]
    }
   ],
   "source": [
    "# 23. 다음 구문을 리스트내포 형식의 구문으로 변경하시오.\n",
    "numbers = [3,5,45,97,32,22,10,19,39,43]\n",
    "result = []\n",
    "for number in numbers:\n",
    "  if number % 2 == 0:\n",
    "    result.append(number)\n",
    "print(result)\n",
    "# 위에 식은 뭐고 append는 뭐임?\n",
    "\n",
    "# lst1=[4,54,6,74,104]\n",
    "# lst2=[]\n"
   ]
  },
  {
   "cell_type": "code",
   "execution_count": null,
   "metadata": {},
   "outputs": [],
   "source": [
    "# 24. lst1에 저장된 데이터에 각각 6을 더하여 lst2에 저장하시오."
   ]
  },
  {
   "cell_type": "code",
   "execution_count": null,
   "metadata": {},
   "outputs": [],
   "source": [
    "# 25.  lst1에 저장된 데이터에 대해 제곱한 값이 50보다 크면 lst2에 저장하시오."
   ]
  },
  {
   "cell_type": "code",
   "execution_count": null,
   "metadata": {},
   "outputs": [],
   "source": [
    "# 26. 중복된 번호를 제외한 로또 번호(6개)를 5줄 생성(다양한 방식)"
   ]
  }
 ],
 "metadata": {
  "kernelspec": {
   "display_name": "Python 3",
   "language": "python",
   "name": "python3"
  },
  "language_info": {
   "codemirror_mode": {
    "name": "ipython",
    "version": 3
   },
   "file_extension": ".py",
   "mimetype": "text/x-python",
   "name": "python",
   "nbconvert_exporter": "python",
   "pygments_lexer": "ipython3",
   "version": "3.11.9"
  }
 },
 "nbformat": 4,
 "nbformat_minor": 2
}
