{
 "cells": [
  {
   "cell_type": "code",
   "execution_count": 1,
   "metadata": {},
   "outputs": [
    {
     "name": "stdout",
     "output_type": "stream",
     "text": [
      "[2]\n"
     ]
    }
   ],
   "source": [
    "# split() 함수에 대해서\n",
    "\n",
    "# a = 'python java C++ R ruby'\n",
    "# a.split()      # 분리 및 리스트화 (기본적으로 띄어쓰기)\n",
    "# b = 'python java C++ R ruby'\n",
    "# b.split(',')    # 안에 있는 것을 없애는 대신 좌 우를 날림\n",
    "\n",
    "# a = input().split()\n",
    "# a\n",
    "\n",
    "# a = int(input()).split() <- 에러\n",
    "\n",
    "# map() 함수\n",
    "# map(함수, 적용될 데이터)\n",
    "# split 쓰려면 a 뿐만 아니라 b,...이 있어야함\n",
    "a = map(int, input().split())\n",
    "a   # <- 좌표값만 보여줌\n",
    "\n",
    "# a 하나만 쓰려면 list 쓰면 됨\n",
    "a = list(map(int, input().split()))\n",
    "print(a)\n",
    "\n",
    "# input 단독은 잘 안나오고 split이랑 주로 같이 쓰임"
   ]
  },
  {
   "cell_type": "code",
   "execution_count": 11,
   "metadata": {},
   "outputs": [
    {
     "name": "stdout",
     "output_type": "stream",
     "text": [
      "['i', 'love', 'python']\n"
     ]
    }
   ],
   "source": [
    "# 숫자 10, 20 ,30이 입력되도록\n",
    "\n",
    "# a, b, c = map(int,input().split())\n",
    "# print(a, b, c)\n",
    "# print(type()) # 타입은 하나만 받음 \n",
    "\n",
    "# 하나의 변수에 'i love python' 이라는 문자열을 길이3의 리스트 형식으로 받을 것\n",
    "# a = list(input().split())\n",
    "# print(a)"
   ]
  },
  {
   "cell_type": "code",
   "execution_count": null,
   "metadata": {},
   "outputs": [],
   "source": [
    "# sum\n",
    "sum(1,2)    # <- 리스트가 아니어서 안됨\n",
    "sum([1, 2]) # 리스트 내부의 총합을 보여줌\n",
    "# sum((int)리스트) = 무조건 int값\n",
    "\n",
    "# sum(합집합) : sub(차집합) sub는 함수(예약어)가 없음"
   ]
  },
  {
   "cell_type": "code",
   "execution_count": null,
   "metadata": {},
   "outputs": [],
   "source": [
    "# range() : 주로 for문에 사용\n",
    "lst = list(range(1,5)) # 리스트로 데이터를 묶고 range를 보따리를 풂\n",
    "# lst = list(range(1,20,2))\n",
    "print(lst)\n",
    "\n",
    "\n",
    "# for문\n",
    "for i in range(5):\n",
    "    print(i)\n",
    "\n",
    "# for 변수명 in 리스트 or 문자열\n",
    "\n",
    "for i in lst:\n",
    "    print(i)\n",
    "\n"
   ]
  },
  {
   "cell_type": "code",
   "execution_count": 35,
   "metadata": {},
   "outputs": [
    {
     "name": "stdout",
     "output_type": "stream",
     "text": [
      "[3, 6, 9]\n"
     ]
    }
   ],
   "source": [
    "# nums 변수에 0부터 100까지 2의 배수만 들어가있는 리스트를\n",
    "# nums = list(range(2,100,2))\n",
    "# print(nums)\n",
    "\n",
    "# 방금 만든 nums 변수에서 3의 배수만\n",
    "\n",
    "# for i in nums :\n",
    "#     if i % 3 == 0:\n",
    "#         print(i)\n",
    "\n",
    "# nums2 변수에 1부터 1000까지 3의 배수만 들어가있는 리스트\n",
    "nums2 = list(range(3,10,3))\n",
    "print(nums2)\n",
    "\n",
    "# 만들어놓은 nums2에서 4와 5의 배수만 출력\n",
    "\n",
    "for i in nums2:\n",
    "    if i % 4== 0 and i % 5 == 0 :\n",
    "\n",
    "        print(i)"
   ]
  },
  {
   "cell_type": "code",
   "execution_count": 1,
   "metadata": {},
   "outputs": [
    {
     "name": "stdout",
     "output_type": "stream",
     "text": [
      "4\n",
      "8\n",
      "12\n",
      "16\n",
      "20\n",
      "24\n",
      "28\n",
      "32\n",
      "36\n"
     ]
    }
   ],
   "source": [
    "# 1. 구구단\n",
    "num = int(input())\n",
    "for i in range(1,10) :\n",
    "    j = num * i\n",
    "    print(j)"
   ]
  },
  {
   "cell_type": "code",
   "execution_count": 171,
   "metadata": {},
   "outputs": [
    {
     "name": "stdout",
     "output_type": "stream",
     "text": [
      "120\n"
     ]
    }
   ],
   "source": [
    "# 2. 팩토리얼\n",
    "# 5! = 1*2*3*4*5\n",
    "num = 5\n",
    "a= 1\n",
    "for i in range(2,num+1):\n",
    "    a = a*i\n",
    "    # print(a)\n",
    "print(a)"
   ]
  },
  {
   "cell_type": "code",
   "execution_count": 95,
   "metadata": {},
   "outputs": [
    {
     "name": "stdout",
     "output_type": "stream",
     "text": [
      "*\n",
      "**\n",
      "***\n"
     ]
    }
   ],
   "source": [
    "# * 피라미드\n",
    "num = int(input())\n",
    "for i in range(1, num+1):\n",
    "    # j = '*'*i\n",
    "    print('*'*i)"
   ]
  },
  {
   "cell_type": "code",
   "execution_count": 116,
   "metadata": {},
   "outputs": [
    {
     "name": "stdout",
     "output_type": "stream",
     "text": [
      "[1, 2, 3, 4, 5, 6, 7, 8, 9, 10, 11, 12, 13, 14, 15, 16, 17, 18, 19, 20, 21, 22, 23, 24, 25, 26, 27, 28, 29, 30, 31, 32, 33, 34, 35, 36, 37, 38, 39, 40, 41, 42, 43, 44, 45, 46, 47, 48, 49, 50, 51, 52, 53, 54, 55, 56, 57, 58, 59, 60, 61, 62, 63, 64, 65, 66, 67, 68, 69, 70, 71, 72, 73, 74, 75, 76, 77, 78, 79, 80, 81, 82, 83, 84, 85, 86, 87, 88, 89, 90, 91, 92, 93, 94, 95, 96, 97, 98, 99, 100]\n",
      "5050\n",
      "5050\n",
      "[1000, 999, 998, 997, 996, 995, 994, 993, 992, 991, 990, 989, 988, 987, 986, 985, 984, 983, 982, 981, 980, 979, 978, 977, 976, 975, 974, 973, 972, 971, 970, 969, 968, 967, 966, 965, 964, 963, 962, 961, 960, 959, 958, 957, 956, 955, 954, 953, 952, 951, 950, 949, 948, 947, 946, 945, 944, 943, 942, 941, 940, 939, 938, 937, 936, 935, 934, 933, 932, 931, 930, 929, 928, 927, 926, 925, 924, 923, 922, 921, 920, 919, 918, 917, 916, 915, 914, 913, 912, 911, 910, 909, 908, 907, 906, 905, 904, 903, 902, 901, 900, 899, 898, 897, 896, 895, 894, 893, 892, 891, 890, 889, 888, 887, 886, 885, 884, 883, 882, 881, 880, 879, 878, 877, 876, 875, 874, 873, 872, 871, 870, 869, 868, 867, 866, 865, 864, 863, 862, 861, 860, 859, 858, 857, 856, 855, 854, 853, 852, 851, 850, 849, 848, 847, 846, 845, 844, 843, 842, 841, 840, 839, 838, 837, 836, 835, 834, 833, 832, 831, 830, 829, 828, 827, 826, 825, 824, 823, 822, 821, 820, 819, 818, 817, 816, 815, 814, 813, 812, 811, 810, 809, 808, 807, 806, 805, 804, 803, 802, 801, 800, 799, 798, 797, 796, 795, 794, 793, 792, 791, 790, 789, 788, 787, 786, 785, 784, 783, 782, 781, 780, 779, 778, 777, 776, 775, 774, 773, 772, 771, 770, 769, 768, 767, 766, 765, 764, 763, 762, 761, 760, 759, 758, 757, 756, 755, 754, 753, 752, 751, 750, 749, 748, 747, 746, 745, 744, 743, 742, 741, 740, 739, 738, 737, 736, 735, 734, 733, 732, 731, 730, 729, 728, 727, 726, 725, 724, 723, 722, 721, 720, 719, 718, 717, 716, 715, 714, 713, 712, 711, 710, 709, 708, 707, 706, 705, 704, 703, 702, 701, 700, 699, 698, 697, 696, 695, 694, 693, 692, 691, 690, 689, 688, 687, 686, 685, 684, 683, 682, 681, 680, 679, 678, 677, 676, 675, 674, 673, 672, 671, 670, 669, 668, 667, 666, 665, 664, 663, 662, 661, 660, 659, 658, 657, 656, 655, 654, 653, 652, 651, 650, 649, 648, 647, 646, 645, 644, 643, 642, 641, 640, 639, 638, 637, 636, 635, 634, 633, 632, 631, 630, 629, 628, 627, 626, 625, 624, 623, 622, 621, 620, 619, 618, 617, 616, 615, 614, 613, 612, 611, 610, 609, 608, 607, 606, 605, 604, 603, 602, 601, 600, 599, 598, 597, 596, 595, 594, 593, 592, 591, 590, 589, 588, 587, 586, 585, 584, 583, 582, 581, 580, 579, 578, 577, 576, 575, 574, 573, 572, 571, 570, 569, 568, 567, 566, 565, 564, 563, 562, 561, 560, 559, 558, 557, 556, 555, 554, 553, 552, 551, 550, 549, 548, 547, 546, 545, 544, 543, 542, 541, 540, 539, 538, 537, 536, 535, 534, 533, 532, 531, 530, 529, 528, 527, 526, 525, 524, 523, 522, 521, 520, 519, 518, 517, 516, 515, 514, 513, 512, 511, 510, 509, 508, 507, 506, 505, 504, 503, 502, 501, 500, 499, 498, 497, 496, 495, 494, 493, 492, 491, 490, 489, 488, 487, 486, 485, 484, 483, 482, 481, 480, 479, 478, 477, 476, 475, 474, 473, 472, 471, 470, 469, 468, 467, 466, 465, 464, 463, 462, 461, 460, 459, 458, 457, 456, 455, 454, 453, 452, 451, 450, 449, 448, 447, 446, 445, 444, 443, 442, 441, 440, 439, 438, 437, 436, 435, 434, 433, 432, 431, 430, 429, 428, 427, 426, 425, 424, 423, 422, 421, 420, 419, 418, 417, 416, 415, 414, 413, 412, 411, 410, 409, 408, 407, 406, 405, 404, 403, 402, 401, 400, 399, 398, 397, 396, 395, 394, 393, 392, 391, 390, 389, 388, 387, 386, 385, 384, 383, 382, 381, 380, 379, 378, 377, 376, 375, 374, 373, 372, 371, 370, 369, 368, 367, 366, 365, 364, 363, 362, 361, 360, 359, 358, 357, 356, 355, 354, 353, 352, 351, 350, 349, 348, 347, 346, 345, 344, 343, 342, 341, 340, 339, 338, 337, 336, 335, 334, 333, 332, 331, 330, 329, 328, 327, 326, 325, 324, 323, 322, 321, 320, 319, 318, 317, 316, 315, 314, 313, 312, 311, 310, 309, 308, 307, 306, 305, 304, 303, 302, 301, 300, 299, 298, 297, 296, 295, 294, 293, 292, 291, 290, 289, 288, 287, 286, 285, 284, 283, 282, 281, 280, 279, 278, 277, 276, 275, 274, 273, 272, 271, 270, 269, 268, 267, 266, 265, 264, 263, 262, 261, 260, 259, 258, 257, 256, 255, 254, 253, 252, 251, 250, 249, 248, 247, 246, 245, 244, 243, 242, 241, 240, 239, 238, 237, 236, 235, 234, 233, 232, 231, 230, 229, 228, 227, 226, 225, 224, 223, 222, 221, 220, 219, 218, 217, 216, 215, 214, 213, 212, 211, 210, 209, 208, 207, 206, 205, 204, 203, 202, 201, 200, 199, 198, 197, 196, 195, 194, 193, 192, 191, 190, 189, 188, 187, 186, 185, 184, 183, 182, 181, 180, 179, 178, 177, 176, 175, 174, 173, 172, 171, 170, 169, 168, 167, 166, 165, 164, 163, 162, 161, 160, 159, 158, 157, 156, 155, 154, 153, 152, 151, 150, 149, 148, 147, 146, 145, 144, 143, 142, 141, 140, 139, 138, 137, 136, 135, 134, 133, 132, 131, 130, 129, 128, 127, 126, 125, 124, 123, 122, 121, 120, 119, 118, 117, 116, 115, 114, 113, 112, 111, 110, 109, 108, 107, 106, 105, 104, 103, 102, 101, 100, 99, 98, 97, 96, 95, 94, 93, 92, 91, 90, 89, 88, 87, 86, 85, 84, 83, 82, 81, 80, 79, 78, 77, 76, 75, 74, 73, 72, 71, 70, 69, 68, 67, 66, 65, 64, 63, 62, 61, 60, 59, 58, 57, 56, 55, 54, 53, 52, 51, 50, 49, 48, 47, 46, 45, 44, 43, 42, 41, 40, 39, 38, 37, 36, 35, 34, 33, 32, 31, 30, 29, 28, 27, 26, 25, 24, 23, 22, 21, 20, 19, 18, 17, 16, 15, 14, 13, 12, 11, 10, 9, 8, 7, 6, 5, 4, 3, 2, 1]\n"
     ]
    }
   ],
   "source": [
    "# 1\n",
    "a = list(range(1,101))\n",
    "#range는 int\n",
    "print(a)\n",
    "\n",
    "#2\n",
    "j=0\n",
    "for i in range(1,101):\n",
    "    j += i\n",
    "print(j)\n",
    "\n",
    "print(sum(a))\n",
    "#3\n",
    "# a[::-1]\n",
    "b = list(range(1,1001))\n",
    "print(b[::-1])"
   ]
  },
  {
   "cell_type": "code",
   "execution_count": 276,
   "metadata": {},
   "outputs": [
    {
     "name": "stdout",
     "output_type": "stream",
     "text": [
      "[4]\n"
     ]
    }
   ],
   "source": [
    "# map() 함수를 적용시키는데 씀\n",
    "# map(함수, 적용될 데이터)\n",
    "# split 쓰려면 a 뿐만 아니라 b,...이 있어야함\n",
    "a = map(int, input().split())\n",
    "a   # <- 좌표값만 보여줌\n",
    "\n",
    "# a 하나만 쓰려면 list 쓰면 됨\n",
    "a = list(map(int, input().split()))\n",
    "print(a)"
   ]
  },
  {
   "cell_type": "code",
   "execution_count": 168,
   "metadata": {},
   "outputs": [
    {
     "name": "stdout",
     "output_type": "stream",
     "text": [
      "[6, 5, 5]\n",
      "['BANANA', 'APPLE', 'PIZZA']\n"
     ]
    }
   ],
   "source": [
    "# nums = [1,2,3,4]\n",
    "\n",
    "# print(list(map(str, nums)))\n",
    "\n",
    "\n",
    "\n",
    "fruits = ['banana', 'apple', 'pizza']\n",
    "\n",
    "print(list(map(len, fruits)))\n",
    "print(list(map(str.upper,fruits)))\n",
    "# fruits[0].upper\n",
    "# print(list(map(str, fruits[0,1,2].upper)))\n",
    "\n",
    "# for i in fruits[:]:\n",
    "#     for j in i:\n",
    "#         a = j.count()\n",
    "#         print(a)\n",
    "    # print(i)\n",
    "# fruits.count(fruits[0])"
   ]
  },
  {
   "cell_type": "code",
   "execution_count": 161,
   "metadata": {},
   "outputs": [
    {
     "data": {
      "text/plain": [
       "5"
      ]
     },
     "execution_count": 161,
     "metadata": {},
     "output_type": "execute_result"
    }
   ],
   "source": [
    "# 문자열 및 리스트의 길이 구하기\n",
    "# 'text' => 4글자\n",
    "len('text')\n",
    "len([1,2,3,4,5])"
   ]
  },
  {
   "cell_type": "code",
   "execution_count": 173,
   "metadata": {},
   "outputs": [
    {
     "data": {
      "text/plain": [
       "{'a': 1, 'b': 2, 'c': 3, 'd': 4}"
      ]
     },
     "execution_count": 173,
     "metadata": {},
     "output_type": "execute_result"
    }
   ],
   "source": [
    "# dict\n",
    "# key와 vakue로 구성됨\n",
    "\n",
    "dict_data = {'a': 1, 'b' : 2, 'c': 3}\n",
    "dict_data\n",
    "# 딕셔너리는 키값이 고유해야 한다.\n",
    "dict_data['d'] = 4\n",
    "dict_data"
   ]
  },
  {
   "cell_type": "code",
   "execution_count": 177,
   "metadata": {},
   "outputs": [
    {
     "data": {
      "text/plain": [
       "{'a': 1, 'b': 2, 'c': 3, 'd': 5, 'text': 'hello', 1: 'hi', 2: [1, '2', 3]}"
      ]
     },
     "execution_count": 177,
     "metadata": {},
     "output_type": "execute_result"
    }
   ],
   "source": [
    "# key값 중 'd'가 이미 있는 상태에서 새로 추가\n",
    "dict_data['d'] = 5\n",
    "dict_data   # 기존 데이터 갱신\n",
    "# 즉 key는 고유한 값을 가직 되며 이미 있는 값을 넣으면 기존 값이 삭제되고 다시 만들어짐\n",
    "dict_data['text'] = 'hello'\n",
    "dict_data   # 문자도 됨\n",
    "\n",
    "dict_data[1] = 'hi'\n",
    "dict_data\n",
    "\n",
    "# key값은 문자열이 가능하면, 숫자도 가능하고, 고유한 값이어야 한다.\n",
    "dict_data[2] = [1,'2',3]\n",
    "dict_data\n",
    "# value 값에는 리스트와 같은 광범위한 변수도 들어갈 수 있다."
   ]
  },
  {
   "cell_type": "code",
   "execution_count": 204,
   "metadata": {},
   "outputs": [
    {
     "name": "stdout",
     "output_type": "stream",
     "text": [
      "dict_values([1, 2, 3, 4])\n"
     ]
    }
   ],
   "source": [
    "# dict 사용법\n",
    "dict_data1 = {'a': 1, 'b' : 2, 'c': 3}   # 선언 방법 1 (코드가 짧을수록 좋음)\n",
    "# print(dict_data1)\n",
    "lst1 = ['a', 'b', 'c']                   # 선언 방법 2 #\n",
    "lst2 = [1,2,3]\n",
    "dict_data2 = dict(zip(lst1, lst2))\n",
    "\n",
    "# dict 데이터 추가\n",
    "\n",
    "dict_data1['d'] = 4\n",
    "\n",
    "# dict 데이터 추출\n",
    "# print(dict_data1.keys())     # 키와 관련된 값만 추출\n",
    "print(dict_data1.values())  # 값과 관련된 값만 추출\n",
    "# print(dict_data1.get('a'))    # 입력한 키캆의 value를 추출\n",
    "# print(dict_data1['a'])\n",
    "# 다만 value값은 중복이 가능하므로 따로 검색하는 함수는 존재하지 않음\n"
   ]
  },
  {
   "cell_type": "code",
   "execution_count": 193,
   "metadata": {},
   "outputs": [
    {
     "data": {
      "text/plain": [
       "[1, 2, 3, ['a']]"
      ]
     },
     "execution_count": 193,
     "metadata": {},
     "output_type": "execute_result"
    }
   ],
   "source": [
    "# 추가 설명\n",
    "lst =[1,2,3]\n",
    "lst.append(['a'])\n",
    "lst"
   ]
  },
  {
   "cell_type": "code",
   "execution_count": 199,
   "metadata": {},
   "outputs": [
    {
     "name": "stdout",
     "output_type": "stream",
     "text": [
      "{1: 1, 2: 4, 3: 9, 4: 16}\n"
     ]
    }
   ],
   "source": [
    "# dict 문제\n",
    "# n이라는 값을 입력받아 nums에 1 이상이며 n 이하의 값을 담고\n",
    "# 키값을 nums로 하고 제곱된 값을 value로 하는 코드를\n",
    "\n",
    "n = int(input())\n",
    "nums = []\n",
    "value = 0\n",
    "sqr= {}\n",
    "for i in range(1,n+1):\n",
    "    nums = i\n",
    "    value = nums*nums\n",
    "    # print(nums, value)\n",
    "    sqr[nums] = value\n",
    "print(sqr)\n",
    "#     nums(value)\n",
    "#     sqr = dict(zip(nums, value))\n",
    "# print(sqr)\n",
    "\n",
    "\n",
    "    "
   ]
  },
  {
   "cell_type": "code",
   "execution_count": 255,
   "metadata": {},
   "outputs": [
    {
     "name": "stdout",
     "output_type": "stream",
     "text": [
      "21\n",
      "7\n",
      "9\n",
      "5\n"
     ]
    }
   ],
   "source": [
    "my_dict = {'apple' : 7, 'banana' : 9, 'cherry' :5}\n",
    "a= 0\n",
    "# 위 변수의 값들을 전부 합하시오\n",
    "for i in my_dict :\n",
    "    # print(int(my_dict.get(i)))\n",
    "    a += my_dict.get(i)\n",
    "print(a)\n",
    "\n",
    "# 위 변수의 최대값을 가진 key를 구하시오\n",
    "# a = [1,5,6,2,3,9,7]\n",
    "# b=0\n",
    "# for i in a :\n",
    "#     if i > b :\n",
    "#         b = i\n",
    "#         print(b)\n",
    "\n",
    "a= 0\n",
    "b= 0\n",
    "# c = my_dict.get()\n",
    "for i in my_dict.values() :\n",
    "    print(i)"
   ]
  },
  {
   "cell_type": "code",
   "execution_count": 268,
   "metadata": {},
   "outputs": [
    {
     "name": "stdout",
     "output_type": "stream",
     "text": [
      "9\n",
      "banana\n"
     ]
    }
   ],
   "source": [
    "b = 0\n",
    "for k, v in my_dict.items():\n",
    "    # print(type(v))\n",
    "    if v > b :\n",
    "        b = v\n",
    "print(b)\n",
    "\n",
    "for i in my_dict :\n",
    "    # print(my_dict.get(i))\n",
    "    if b == my_dict.get(i):\n",
    "        print(i)\n",
    "    # print(my_dict)"
   ]
  },
  {
   "cell_type": "code",
   "execution_count": 273,
   "metadata": {},
   "outputs": [
    {
     "data": {
      "text/plain": [
       "False"
      ]
     },
     "execution_count": 273,
     "metadata": {},
     "output_type": "execute_result"
    }
   ],
   "source": [
    "# dict \n",
    "my_dict = {'apple' : 7, 'banana' : 9, 'cherry' :5}\n",
    "my_dict['lemon'] = 10   #추가\n",
    "my_dict\n",
    "\n",
    "# del my_dict['apple'] # key를 지정하여 key, value를 삭제함 == 리스트 요소 삭제랑 동일\n",
    "# my_dict\n",
    "\n",
    "# my_dict.clear() # 해당 변수의 딕셔너리 데이터 리셋\n",
    "# my_dict\n",
    "\n",
    "lst = [1,2,3,4,5]\n",
    "1 in lst    # 1이 lst 안에 있는지 확인\n",
    "\n",
    "'apple' in my_dict  # 리스트와 동일한 사용방법\n",
    "2 in my_dict # 이렇게 찾을떈 key값을 기준으로 탐색\n",
    "2 in my_dict.values()   #value값을 기준으로 탐색"
   ]
  }
 ],
 "metadata": {
  "kernelspec": {
   "display_name": "Python 3",
   "language": "python",
   "name": "python3"
  },
  "language_info": {
   "codemirror_mode": {
    "name": "ipython",
    "version": 3
   },
   "file_extension": ".py",
   "mimetype": "text/x-python",
   "name": "python",
   "nbconvert_exporter": "python",
   "pygments_lexer": "ipython3",
   "version": "3.11.9"
  }
 },
 "nbformat": 4,
 "nbformat_minor": 2
}
