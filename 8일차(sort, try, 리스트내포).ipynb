{
 "cells": [
  {
   "cell_type": "code",
   "execution_count": 8,
   "metadata": {},
   "outputs": [
    {
     "data": {
      "text/plain": [
       "['1', '2', 'a', 'b']"
      ]
     },
     "execution_count": 8,
     "metadata": {},
     "output_type": "execute_result"
    }
   ],
   "source": [
    "lst = [2,6,4,3,8,7]\n",
    "lst.sort()          #오름차순\n",
    "# lst2 = lst.sort   # lst한테 적용시킨거이기 때문에 안됨\n",
    "lst.sort(reverse=True)  # 내림차순 (퀵 솔트)\n",
    "lst\n",
    "# 직접 구현도 해볼 것\n",
    "\n",
    "lst2 = ['a', 'h', 'p','s','q','j','d','l']  # 영어도 정렬 가능\n",
    "lst2.sort()\n",
    "lst2\n",
    "\n",
    "lst3 = [[1,3],[2,1],[1,6],[4,4],[5,2]]  # 리스트가 안에 들어있으면 리스트의 인덱스 순으로 비교\n",
    "lst3.sort()\n",
    "lst3\n",
    "\n",
    "lst4 = ['1','a','2','b']    # 숫자 문자 섞이면 숫자 먼저\n",
    "lst4.sort()\n",
    "lst4"
   ]
  },
  {
   "cell_type": "code",
   "execution_count": 11,
   "metadata": {},
   "outputs": [
    {
     "data": {
      "text/plain": [
       "'Python prograpming is very fun!'"
      ]
     },
     "execution_count": 11,
     "metadata": {},
     "output_type": "execute_result"
    }
   ],
   "source": [
    "# 문자열.replace('바뀌귀 전 문자','바뀐 후 문자', (생략 가능 or 횟수))\n",
    "text = 'Python programming is very fun!'\n",
    "text.replace('m','p',1)"
   ]
  },
  {
   "cell_type": "code",
   "execution_count": 15,
   "metadata": {},
   "outputs": [
    {
     "name": "stdout",
     "output_type": "stream",
     "text": [
      "'<' not supported between instances of 'str' and 'int'\n",
      "1\n"
     ]
    }
   ],
   "source": [
    "# try - except\n",
    "lst = [11,'a',22]\n",
    "# lst.sort()\n",
    "try:   \n",
    "    lst.sort()\n",
    "except TypeError as e:\n",
    "    print(e)\n",
    "print(1)"
   ]
  },
  {
   "cell_type": "code",
   "execution_count": 23,
   "metadata": {},
   "outputs": [
    {
     "name": "stdout",
     "output_type": "stream",
     "text": [
      "name 'a' is not defined\n",
      "1\n"
     ]
    }
   ],
   "source": [
    "d = {1:'a', 2:'b'}\n",
    "try:\n",
    "    # d['a']<1\n",
    "    a > 1\n",
    "except KeyError as e:   # except는 여러개 출력 가능\n",
    "    print(e)\n",
    "except Exception as e:\n",
    "    print(e) # 예외처리 할 경우 출력\n",
    "else:   # 예외처리가 없을 경우 실행\n",
    "    print('safe')\n",
    "print(1)"
   ]
  },
  {
   "cell_type": "code",
   "execution_count": null,
   "metadata": {},
   "outputs": [],
   "source": [
    "# 중요한 사용법은 이것만 알아도 ok\n",
    "try:\n",
    "    a > 1\n",
    "    ...\n",
    "    ...\n",
    "except:\n",
    "    print('error')\n",
    "\n",
    "print('finish')"
   ]
  },
  {
   "cell_type": "code",
   "execution_count": null,
   "metadata": {},
   "outputs": [],
   "source": [
    "try:    # 일단 실행하고 봄\n",
    "    # code ....\n",
    "    f = open('text.txt','r')\n",
    "finally :   # 터져도 실행하는 코드\n",
    "    # code ....\n",
    "    f.close()"
   ]
  },
  {
   "cell_type": "code",
   "execution_count": 24,
   "metadata": {},
   "outputs": [],
   "source": [
    "# tuple 바뀌지 않는 데이터를 만들어서 사용할 때 씀\n",
    "t = (1,2)\n",
    "t[0] # 추출 가능\n",
    "# t[0] = 2\n",
    "li = list(t)\n",
    "li.append(3)"
   ]
  },
  {
   "cell_type": "code",
   "execution_count": 25,
   "metadata": {},
   "outputs": [
    {
     "data": {
      "text/plain": [
       "[1, 2, 3, 4]"
      ]
     },
     "execution_count": 25,
     "metadata": {},
     "output_type": "execute_result"
    }
   ],
   "source": [
    "li.insert(3,4)\n",
    "li.pop()    # 후입선출\n",
    "li"
   ]
  },
  {
   "cell_type": "code",
   "execution_count": 27,
   "metadata": {},
   "outputs": [
    {
     "data": {
      "text/plain": [
       "3"
      ]
     },
     "execution_count": 27,
     "metadata": {},
     "output_type": "execute_result"
    }
   ],
   "source": [
    "a = li.pop()    # 뒷자리를 날림(후입선출)/값을 뽑아냄 ( 리턴 )\n",
    "a   # 데이터를 날림"
   ]
  },
  {
   "cell_type": "code",
   "execution_count": null,
   "metadata": {},
   "outputs": [],
   "source": [
    "# 스택 = 후입선출 => 컴푸터 시스템은 스택 구조 실행\n",
    "# 큐 = 선입선출 => 데이터 관리에서는 이런식"
   ]
  },
  {
   "cell_type": "code",
   "execution_count": 36,
   "metadata": {},
   "outputs": [
    {
     "name": "stdout",
     "output_type": "stream",
     "text": [
      "Python\n",
      "programming\n",
      "is\n",
      "fun\n"
     ]
    }
   ],
   "source": [
    "a = ('Python programming is fun')\n",
    "b = a.split(' ')\n",
    "# print(b)\n",
    "for i in b:\n",
    "    print(i)"
   ]
  },
  {
   "cell_type": "code",
   "execution_count": 37,
   "metadata": {},
   "outputs": [
    {
     "name": "stdout",
     "output_type": "stream",
     "text": [
      "150\n"
     ]
    }
   ],
   "source": [
    "a = [10,20,30,40,50]\n",
    "\n",
    "print(sum(a))"
   ]
  },
  {
   "cell_type": "code",
   "execution_count": 61,
   "metadata": {},
   "outputs": [
    {
     "name": "stdout",
     "output_type": "stream",
     "text": [
      "[6, 11, 2, 3]\n"
     ]
    }
   ],
   "source": [
    "a = ('Python programming is fun')\n",
    "b = a.split(' ')\n",
    "d = []\n",
    "for i in b :\n",
    "    c=0\n",
    "    for j in i:\n",
    "        c += 1\n",
    "    # print(c)\n",
    "    d.append(c)\n",
    "print(d)"
   ]
  },
  {
   "cell_type": "code",
   "execution_count": 62,
   "metadata": {},
   "outputs": [
    {
     "name": "stdout",
     "output_type": "stream",
     "text": [
      "15\n"
     ]
    }
   ],
   "source": [
    "nums = [1,2,3,4,5]\n",
    "a = 0\n",
    "for i in nums:\n",
    "    a +=i\n",
    "print(a)"
   ]
  },
  {
   "cell_type": "code",
   "execution_count": 63,
   "metadata": {},
   "outputs": [
    {
     "name": "stdout",
     "output_type": "stream",
     "text": [
      "150\n"
     ]
    }
   ],
   "source": [
    "val = (10,20,30,40,50)\n",
    "print(sum(val))"
   ]
  },
  {
   "cell_type": "code",
   "execution_count": 72,
   "metadata": {},
   "outputs": [
    {
     "data": {
      "text/plain": [
       "[0, 1, 2, 3, 4, 5]"
      ]
     },
     "execution_count": 72,
     "metadata": {},
     "output_type": "execute_result"
    }
   ],
   "source": [
    "lst = [1,2,3,4,5]\n",
    "# lst.append(0)\n",
    "lst.insert(0,0)\n",
    "lst\n",
    "# set(lst)"
   ]
  },
  {
   "cell_type": "code",
   "execution_count": 82,
   "metadata": {},
   "outputs": [
    {
     "name": "stdout",
     "output_type": "stream",
     "text": [
      "[5, 10, 15, 20, 25, 30, 35, 40, 45, 50, 55, 60, 65, 70, 75, 80, 85, 90, 95, 100, 105, 110, 115, 120, 125, 130, 135, 140, 145, 150, 155, 160, 165, 170, 175, 180, 185, 190, 195, 200, 205, 210, 215, 220, 225, 230, 235, 240, 245, 250, 255, 260, 265, 270, 275, 280, 285, 290, 295, 300, 305, 310, 315, 320, 325, 330, 335, 340, 345, 350, 355, 360, 365, 370, 375, 380, 385, 390, 395, 400, 405, 410, 415, 420, 425, 430, 435, 440, 445, 450, 455, 460, 465, 470, 475, 480, 485, 490, 495, 500, 505, 510, 515, 520, 525, 530, 535, 540, 545, 550, 555, 560, 565, 570, 575, 580, 585, 590, 595, 600, 605, 610, 615, 620, 625, 630, 635, 640, 645, 650, 655, 660, 665, 670, 675, 680, 685, 690, 695, 700, 705, 710, 715, 720, 725, 730, 735, 740, 745, 750, 755, 760, 765, 770, 775, 780, 785, 790, 795, 800, 805, 810, 815, 820, 825, 830, 835, 840, 845, 850, 855, 860, 865, 870, 875, 880, 885, 890, 895, 900, 905, 910, 915, 920, 925, 930, 935, 940, 945, 950, 955, 960, 965, 970, 975, 980, 985, 990, 995, 1000]\n"
     ]
    }
   ],
   "source": [
    "lst2 = []\n",
    "for i in range(5,1001):\n",
    "    if i % 5 == 0:\n",
    "        # print(i)\n",
    "        lst2.append(i)\n",
    "print(lst2)"
   ]
  },
  {
   "cell_type": "code",
   "execution_count": 86,
   "metadata": {},
   "outputs": [
    {
     "name": "stdout",
     "output_type": "stream",
     "text": [
      "[30, 60, 90, 120, 150, 180, 210, 240, 270, 300, 330, 360, 390, 420, 450, 480, 510, 540, 570, 600, 630, 660, 690, 720, 750, 780, 810, 840, 870, 900, 930, 960, 990]\n"
     ]
    }
   ],
   "source": [
    "a  = []\n",
    "for i in lst2 :\n",
    "    if i % 6 == 0 :\n",
    "        a.append(i)\n",
    "print(a)"
   ]
  },
  {
   "cell_type": "code",
   "execution_count": 90,
   "metadata": {},
   "outputs": [
    {
     "name": "stdout",
     "output_type": "stream",
     "text": [
      "[1, 8, 27, 64, 125]\n"
     ]
    }
   ],
   "source": [
    "a = [1,2,3,4,5]\n",
    "b = []\n",
    "for i in a:\n",
    "    c = i*i*i\n",
    "    b.append(c)\n",
    "print(b)"
   ]
  },
  {
   "cell_type": "code",
   "execution_count": null,
   "metadata": {},
   "outputs": [],
   "source": [
    "a = [1,2,3,4,5]\n",
    "b.append\n",
    "\n",
    "print(i**i, end ='')"
   ]
  },
  {
   "cell_type": "code",
   "execution_count": 107,
   "metadata": {},
   "outputs": [
    {
     "name": "stdout",
     "output_type": "stream",
     "text": [
      "[5, 6, 6, 5]\n"
     ]
    }
   ],
   "source": [
    "words = [\"apple\", \"banana\", \"orange\", \"grape\"]\n",
    "a = []\n",
    "for i in words:\n",
    "    b = 0\n",
    "    for j in i :\n",
    "        b += 1\n",
    "    a.append(b)\n",
    "print(a)"
   ]
  },
  {
   "cell_type": "code",
   "execution_count": 110,
   "metadata": {},
   "outputs": [
    {
     "name": "stdout",
     "output_type": "stream",
     "text": [
      "[5, 6, 6, 5]\n"
     ]
    }
   ],
   "source": [
    "# map\n",
    "print(list(map(len,words)))"
   ]
  },
  {
   "cell_type": "code",
   "execution_count": 2,
   "metadata": {},
   "outputs": [
    {
     "name": "stdout",
     "output_type": "stream",
     "text": [
      "사과\n",
      "탕수육\n",
      "오렌지\n"
     ]
    }
   ],
   "source": [
    "a = input()\n",
    "b = a.split(', ')\n",
    "for i in b:\n",
    "    print(i)\n"
   ]
  },
  {
   "cell_type": "code",
   "execution_count": 155,
   "metadata": {},
   "outputs": [
    {
     "name": "stdout",
     "output_type": "stream",
     "text": [
      "13\n"
     ]
    },
    {
     "data": {
      "text/plain": [
       "13"
      ]
     },
     "execution_count": 155,
     "metadata": {},
     "output_type": "execute_result"
    }
   ],
   "source": [
    "text = 'Hello, world!'\n",
    "cnt = 0\n",
    "for i in text :\n",
    "    cnt += 1\n",
    "print(cnt)\n",
    "len(text)"
   ]
  },
  {
   "cell_type": "code",
   "execution_count": 159,
   "metadata": {},
   "outputs": [
    {
     "name": "stdout",
     "output_type": "stream",
     "text": [
      "10\n"
     ]
    }
   ],
   "source": [
    "a = text.split('l')\n",
    "cnt = 0\n",
    "for i in a :\n",
    "    for j in i :\n",
    "        cnt +=1\n",
    "print(cnt)\n",
    "a =text.replace('l', '')"
   ]
  },
  {
   "cell_type": "code",
   "execution_count": 157,
   "metadata": {},
   "outputs": [
    {
     "name": "stdout",
     "output_type": "stream",
     "text": [
      "5\n"
     ]
    },
    {
     "data": {
      "text/plain": [
       "5"
      ]
     },
     "execution_count": 157,
     "metadata": {},
     "output_type": "execute_result"
    }
   ],
   "source": [
    "tu = (1,23,4,5,6)\n",
    "cnt = 0\n",
    "for i in tu:\n",
    "    cnt += 1\n",
    "print(cnt)\n",
    "len(tu)"
   ]
  },
  {
   "cell_type": "code",
   "execution_count": 143,
   "metadata": {},
   "outputs": [
    {
     "name": "stdout",
     "output_type": "stream",
     "text": [
      "3\n"
     ]
    }
   ],
   "source": [
    "my_dict = {'a':1, 'b':2, 'c':3}\n",
    "cnt = 0\n",
    "for i in my_dict:\n",
    "    cnt += 1\n",
    "print(cnt)\n"
   ]
  },
  {
   "cell_type": "code",
   "execution_count": 160,
   "metadata": {},
   "outputs": [
    {
     "data": {
      "text/plain": [
       "3"
      ]
     },
     "execution_count": 160,
     "metadata": {},
     "output_type": "execute_result"
    }
   ],
   "source": [
    "# 길이를 구할 땐 보통 len 함수, 개수를 구하라고 하면 count()\n",
    "# 글자의 수(=길이)\n",
    "len(my_dict)    # dict 도 됨(key와 value를 하나로 묶음)"
   ]
  },
  {
   "cell_type": "code",
   "execution_count": 151,
   "metadata": {},
   "outputs": [
    {
     "name": "stdout",
     "output_type": "stream",
     "text": [
      "South Korea\n",
      "dict_keys(['name', 'population', 'country', 'famous_for'])\n"
     ]
    }
   ],
   "source": [
    "city_info = {\n",
    "    'name' : 'Seoul',\n",
    "    'population' : 9741381,\n",
    "    'country' : 'South Korea',\n",
    "    'famous_for' : ['K-pop', 'Gangnam Style', 'Palaces']\n",
    "}\n",
    "print(city_info.get('country'))\n",
    "print(city_info.keys()) # list로도"
   ]
  },
  {
   "cell_type": "markdown",
   "metadata": {},
   "source": [
    "<h2>리스트내포</h2>"
   ]
  },
  {
   "cell_type": "code",
   "execution_count": 165,
   "metadata": {},
   "outputs": [
    {
     "name": "stdout",
     "output_type": "stream",
     "text": [
      "['banana']\n"
     ]
    }
   ],
   "source": [
    "words = [\"apple\", \"banana\", \"orange\", \"grape\"]\n",
    "#       x 리스트에 들어갈 데이터 \n",
    "# lst = [x for x in words]\n",
    "lst = [x for x in words if 'b' in x]\n",
    "lst = [x if 'b' in x else print(1) for x in words] # else는 if 뒤에\n",
    "print(lst)"
   ]
  },
  {
   "cell_type": "code",
   "execution_count": 175,
   "metadata": {},
   "outputs": [
    {
     "name": "stdout",
     "output_type": "stream",
     "text": [
      "[1, 2, 3, 4]\n"
     ]
    },
    {
     "data": {
      "text/plain": [
       "[2, 4, 6, 8]"
      ]
     },
     "execution_count": 175,
     "metadata": {},
     "output_type": "execute_result"
    }
   ],
   "source": [
    "nums = [1,2,3,4]\n",
    "lst = [x for x in nums]\n",
    "print(lst)\n",
    "\n",
    "lst2 = [x*2 for x in nums]\n",
    "lst2"
   ]
  },
  {
   "cell_type": "code",
   "execution_count": null,
   "metadata": {},
   "outputs": [],
   "source": [
    "words = [\"apple\", \"banana\", \"orange\", \"grape\"]\n",
    "\n",
    "lst = [x for x in words if 'g' in x]"
   ]
  },
  {
   "cell_type": "code",
   "execution_count": 182,
   "metadata": {},
   "outputs": [
    {
     "name": "stdout",
     "output_type": "stream",
     "text": [
      "[1, 4, 9, 16, 25, 36, 49, 64, 81, 100]\n",
      "[1, 4, 9, 16, 25, 36, 49, 64, 81, 100]\n"
     ]
    }
   ],
   "source": [
    "# 문제\n",
    "a = []\n",
    "for i in range(1,11):\n",
    "    # b= i*i\n",
    "    # a.append(b)\n",
    "    a.append(i*i)\n",
    "print(a)\n",
    "\n",
    "c = [x*x for x in range(1,11)]\n",
    "print(c)"
   ]
  },
  {
   "cell_type": "code",
   "execution_count": 188,
   "metadata": {},
   "outputs": [
    {
     "name": "stdout",
     "output_type": "stream",
     "text": [
      "[2, 4, 6, 8, 10]\n",
      "[2, 4, 6, 8, 10]\n"
     ]
    }
   ],
   "source": [
    "a=[]\n",
    "for i in range(2,11,2):\n",
    "    print(i, end= ' ')\n",
    "#     a.append(i)\n",
    "# print(a)\n",
    "\n",
    "b = [x for x in range(2,11,2)]\n",
    "print(b)"
   ]
  },
  {
   "cell_type": "code",
   "execution_count": 211,
   "metadata": {},
   "outputs": [
    {
     "name": "stdout",
     "output_type": "stream",
     "text": [
      "[5, 6, 5, 6, 5]\n",
      "[5, 6, 5, 6, 5]\n"
     ]
    }
   ],
   "source": [
    "words = [\"apple\", \"banana\", 'pitch',\"orange\", \"grape\"]\n",
    "a=[]\n",
    "for i in words:\n",
    "    a.append(len(i))\n",
    "print(a)\n",
    "lst = [len(x) for x in words]\n",
    "print(lst)"
   ]
  },
  {
   "cell_type": "code",
   "execution_count": 246,
   "metadata": {},
   "outputs": [
    {
     "data": {
      "text/plain": [
       "271"
      ]
     },
     "execution_count": 246,
     "metadata": {},
     "output_type": "execute_result"
    }
   ],
   "source": [
    "# 1~1000까지 숫자가 들어있는 nums에서 3이 들어가는 것은 '삼' 이라고 담도록 만들고\n",
    "# '삼'의 개수가 몇개인지 출력\n",
    "nums = list(range(1,1000))\n",
    "# print(nums)\n",
    "a= []\n",
    "for i in nums:\n",
    "    if '3' in str(i):   # 숫자끼리는 비교가 어려워서 문자열로 비교\n",
    "        i = '삼'\n",
    "        a.append(i)\n",
    "# print(a)\n",
    "a.count('삼')\n",
    "\n",
    "lst = ['삼' for x in nums if '3' in str(x)]\n",
    "lst.count('삼')"
   ]
  },
  {
   "cell_type": "code",
   "execution_count": 230,
   "metadata": {},
   "outputs": [
    {
     "data": {
      "text/plain": [
       "True"
      ]
     },
     "execution_count": 230,
     "metadata": {},
     "output_type": "execute_result"
    }
   ],
   "source": [
    "'3' in '3'"
   ]
  }
 ],
 "metadata": {
  "kernelspec": {
   "display_name": "Python 3",
   "language": "python",
   "name": "python3"
  },
  "language_info": {
   "codemirror_mode": {
    "name": "ipython",
    "version": 3
   },
   "file_extension": ".py",
   "mimetype": "text/x-python",
   "name": "python",
   "nbconvert_exporter": "python",
   "pygments_lexer": "ipython3",
   "version": "3.11.9"
  }
 },
 "nbformat": 4,
 "nbformat_minor": 2
}
