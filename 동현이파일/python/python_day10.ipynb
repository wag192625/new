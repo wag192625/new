{
 "cells": [
  {
   "cell_type": "code",
   "execution_count": 5,
   "metadata": {},
   "outputs": [
    {
     "name": "stdout",
     "output_type": "stream",
     "text": [
      "Life is too short \n",
      "\n"
     ]
    }
   ],
   "source": [
    "1\n",
    "#  \"test.txt\"라는 파일에 \"Life is too short\" 문자열을 저장한 후 다시 그 파일을 읽어서 출력하는 프로그램을 작성해 보자.\n",
    "f = open('test.txt','w', encoding='utf-8')\n",
    "f.write('Life is too short \\n you need java')\n",
    "f.close()\n",
    "f = open('test.txt','r', encoding='utf-8')\n",
    "f.readline()"
   ]
  },
  {
   "cell_type": "code",
   "execution_count": 7,
   "metadata": {},
   "outputs": [
    {
     "name": "stdout",
     "output_type": "stream",
     "text": [
      "[1, 2, '짝', 4, 5, '짝', 7, 8, '짝', '짝', '짝', 41, 51, '짝', 71, 81, '짝']\n"
     ]
    }
   ],
   "source": [
    "# 3\n",
    "# 369 게임은 숫자에 3, 6, 9가 들어가면 박수를 치고, 나머지 숫자는 그대로 이야기하는 게임입니다. 369 게임을 시뮬레이션하는 game_369 함수를 정의하라.\n",
    "# 함수는 숫자의 리스트를 입력받는다. 리스트에는 0 ~ 9 까지의 숫자가 들어있다.\n",
    "# 입력된 숫자에 3/6/9가 포함되면 \"짝\" 문자열을 그렇지 않을 경우 숫자를 그대로 리스트에 저장한다. * 함수는 변환된 리스트를 반환한다.\n",
    "\n",
    "# game_369( [1, 2, 3, 4, 5, 6, 7, 8, 9] )\n",
    "# [1, 2, \"짝\", 4, 5, \"짝\", 7, 8, \"짝\"]\n",
    "\n",
    "def game_369(lst):\n",
    "    val= []\n",
    "    for i in lst:\n",
    "        if '3' in str(i) or '6' in str(i) or '9' in str(i) :\n",
    "            i = \"짝\"\n",
    "        val.append(i)\n",
    "    print(val)\n",
    "\n",
    "game_369( [1, 2, 3, 4, 5, 6, 7, 8, 9,31,33,41,51,61,71,81,91] )\n",
    "\n",
    "# game_369 = [1, 2, 3, 4, 5, 6, 7, 8, 9]\n",
    "\n",
    "# val= []\n",
    "# for i in game_369:\n",
    "#     if i == 3 :\n",
    "#         i = \"짝\"\n",
    "#     # print(i)\n",
    "#     elif i == 6 :\n",
    "#         i = \"짝\"\n",
    "#     elif i == 9 :\n",
    "#         i = \"짝\"\n",
    "#     val.append(i)\n",
    "# print(val)\n",
    "\n",
    "# 함수 적용"
   ]
  },
  {
   "cell_type": "code",
   "execution_count": 9,
   "metadata": {},
   "outputs": [
    {
     "name": "stdout",
     "output_type": "stream",
     "text": [
      "['1'] ['jpg']\n",
      "['1', '10'] ['jpg', 'png']\n",
      "['1', '10', '11'] ['jpg', 'png', 'png']\n",
      "['1', '10', '11', '2'] ['jpg', 'png', 'png', 'jpg']\n",
      "['1', '10', '11', '2', '3'] ['jpg', 'png', 'png', 'jpg', 'png']\n"
     ]
    }
   ],
   "source": [
    "#  6\n",
    "# 표준 입력으로 숫자.확장자 형식으로 된 파일 이름 여러 개가 입력됩니다. \n",
    "# 파일 이름이 숫자 3개이면서 앞에 0이 들어가는 형식으로 출력되게 만드세요. \n",
    "# 예를 들어 1.png는 001.png, 99.docx는 099.docx, 100.xlsx는 100.xlsx처럼 출력되어야 합니다. \n",
    "# 그리고 람다 표현식을 사용해야 하며 출력 결과는 리스트 형태라야 합니다. \n",
    "# 람다 표현식에서 파일명을 처리할 때는 문자열 포매팅과 문자열 메서드를 활용하세요.\n",
    "# 예\n",
    "# 입력\n",
    "# 1.jpg 10.png 11.png 2.jpg 3.png\n",
    "# 결과\n",
    "# ['001.jpg', '010.png', '011.png', '002.jpg', '003.png']\n",
    "# 입력\n",
    "# 97.xlsx 98.docx 99.docx 100.xlsx 101.docx 102.docx\n",
    "# 결과\n",
    "# ['097.xlsx', '098.docx', '099.docx', '100.xlsx', '101.docx', '102.docx']\n",
    "lst = ['1.jpg','10.png', '11.png', '2.jpg', '3.png']\n",
    "f_name = []\n",
    "f_extension = []\n",
    "\n",
    "for i in lst:\n",
    "    spl = i.split('.')\n",
    "    f_name.append(spl[0])    # 'list' object attribute 'append' is read-only \n",
    "    f_extension.append(spl[1])\n",
    "    print(f_name,f_extension)\n"
   ]
  },
  {
   "cell_type": "code",
   "execution_count": 1,
   "metadata": {},
   "outputs": [
    {
     "name": "stdout",
     "output_type": "stream",
     "text": [
      "[4, 5, 4, 6, 7, 9, 3]\n"
     ]
    },
    {
     "ename": "TypeError",
     "evalue": "'list' object cannot be interpreted as an integer",
     "output_type": "error",
     "traceback": [
      "\u001b[1;31m---------------------------------------------------------------------------\u001b[0m",
      "\u001b[1;31mTypeError\u001b[0m                                 Traceback (most recent call last)",
      "Cell \u001b[1;32mIn[1], line 26\u001b[0m\n\u001b[0;32m     23\u001b[0m     lst\u001b[38;5;241m.\u001b[39mappend(\u001b[38;5;28mint\u001b[39m(i))\n\u001b[0;32m     24\u001b[0m \u001b[38;5;28mprint\u001b[39m(lst)\n\u001b[1;32m---> 26\u001b[0m \u001b[38;5;28;01mfor\u001b[39;00m i \u001b[38;5;129;01min\u001b[39;00m \u001b[38;5;28;43mrange\u001b[39;49m\u001b[43m(\u001b[49m\u001b[43mlst\u001b[49m\u001b[43m[\u001b[49m\u001b[43m:\u001b[49m\u001b[38;5;241;43m-\u001b[39;49m\u001b[38;5;241;43m2\u001b[39;49m\u001b[43m]\u001b[49m\u001b[43m)\u001b[49m :\n\u001b[0;32m     27\u001b[0m     \u001b[38;5;28;01mif\u001b[39;00m lst[i]\u001b[38;5;241m+\u001b[39mlst[i\u001b[38;5;241m+\u001b[39m\u001b[38;5;241m1\u001b[39m]\u001b[38;5;241m/\u001b[39m\u001b[38;5;241m2\u001b[39m \u001b[38;5;241m==\u001b[39m \u001b[38;5;241m1\u001b[39m :\n\u001b[0;32m     28\u001b[0m         lst \u001b[38;5;241m=\u001b[39m lst[i]\u001b[38;5;241m+\u001b[39m\u001b[38;5;124m'\u001b[39m\u001b[38;5;124m*\u001b[39m\u001b[38;5;124m'\u001b[39m\n",
      "\u001b[1;31mTypeError\u001b[0m: 'list' object cannot be interpreted as an integer"
     ]
    }
   ],
   "source": [
    "# 7  DashInsert 함수\n",
    "# DashInsert 함수는 숫자로 구성된 문자열을 입력받은 뒤 문자열 안에서 홀수가 연속되면 두 수 사이에 - 를 추가하고, \n",
    "# 짝수가 연속되면 * 를 추가하는 기능을 갖고 있다. DashInsert 함수를 완성하시오.\n",
    "\n",
    "# 입력 예시: 4546793\n",
    "# 출력 예시: 454*67-9-3\n",
    "\n",
    "# def DashInsert() :\n",
    "    # lst= []\n",
    "    # for i in DashInsert :\n",
    "    #     # if i % 2 == 0 :\n",
    "    #     lst.append(i)\n",
    "    # for i in lst :\n",
    "    #     if ((lst[i]+lst[i+1])/2 == 1) :\n",
    "    #         lst = lst[i]+'*'\n",
    "\n",
    "# DashInsert(4546793)\n",
    "DashInsert = 4546793\n",
    "\n",
    "lst= []\n",
    "\n",
    "for i in str(DashInsert) :\n",
    "    lst.append(int(i))\n",
    "print(lst)\n",
    "\n",
    "for i in range(lst[:-2]) :\n",
    "    if lst[i]+lst[i+1]/2 == 1 :\n",
    "        lst = lst[i]+'*'"
   ]
  },
  {
   "cell_type": "code",
   "execution_count": 10,
   "metadata": {},
   "outputs": [
    {
     "name": "stdout",
     "output_type": "stream",
     "text": [
      "[]\n"
     ]
    },
    {
     "ename": "TypeError",
     "evalue": "can only concatenate list (not \"int\") to list",
     "output_type": "error",
     "traceback": [
      "\u001b[1;31m---------------------------------------------------------------------------\u001b[0m",
      "\u001b[1;31mTypeError\u001b[0m                                 Traceback (most recent call last)",
      "Cell \u001b[1;32mIn[10], line 15\u001b[0m\n\u001b[0;32m     13\u001b[0m         lst2\u001b[38;5;241m.\u001b[39mpop()\n\u001b[0;32m     14\u001b[0m         \u001b[38;5;28mprint\u001b[39m(lst2)\n\u001b[1;32m---> 15\u001b[0m         hab \u001b[38;5;241m=\u001b[39m \u001b[43mlst2\u001b[49m\u001b[43m \u001b[49m\u001b[38;5;241;43m+\u001b[39;49m\u001b[43mcnt\u001b[49m\n\u001b[0;32m     16\u001b[0m \u001b[38;5;28mprint\u001b[39m(lst2)\n",
      "\u001b[1;31mTypeError\u001b[0m: can only concatenate list (not \"int\") to list"
     ]
    }
   ],
   "source": [
    "# 8 문자열 압축하기\n",
    "# 문자열을 입력받아 같은 문자가 연속적으로 반복되는 경우에 그 반복 횟수를 표시해 문자열을 압축하여 표시하시오.\n",
    "\n",
    "# 입력 예시: aaabbcccccca\n",
    "# 출력 예시: a3b2c6a1\n",
    "lst = 'aaabbcccccca'\n",
    "lst2 = []\n",
    "# lst3 = []\n",
    "for i in lst :\n",
    "    lst2.append(i)\n",
    "    cnt = 0\n",
    "    if i in lst2 :\n",
    "        lst2.pop()\n",
    "        print(lst2)\n",
    "        hab = lst2 +cnt\n",
    "print(lst2)"
   ]
  },
  {
   "cell_type": "code",
   "execution_count": 11,
   "metadata": {},
   "outputs": [
    {
     "name": "stdout",
     "output_type": "stream",
     "text": [
      "1\n",
      "2\n",
      "1\n",
      "1\n",
      "2\n",
      "3\n",
      "4\n",
      "5\n",
      "6\n",
      "['a', 0, 'b', 2, 'c', 1]\n"
     ]
    }
   ],
   "source": [
    "lst = 'aaabbcccccca'\n",
    "lst2 = []\n",
    "cnt = 0\n",
    "for i in lst :\n",
    "    lst2.append(i)\n",
    "    if i in lst2[:-1] :\n",
    "        cnt+=1\n",
    "        print(cnt)\n",
    "        lst2.pop()\n",
    "    if i not in lst2[:-1] :\n",
    "        lst2.append(cnt)\n",
    "        cnt = 0\n",
    "print(lst2)"
   ]
  },
  {
   "cell_type": "code",
   "execution_count": 22,
   "metadata": {},
   "outputs": [
    {
     "name": "stdout",
     "output_type": "stream",
     "text": [
      "a4b2c6a10\n"
     ]
    }
   ],
   "source": [
    "my_string = 'aaabbccccccaaaaaaaaaa'\n",
    "res = my_string[0]\n",
    "cnt = 1\n",
    "for i in my_string:\n",
    "    if(res[-1] == i):\n",
    "        cnt += 1\n",
    "    else:\n",
    "        res += str(cnt) + i\n",
    "        cnt = 1\n",
    "res += str(cnt)\n",
    "print(res)"
   ]
  },
  {
   "cell_type": "code",
   "execution_count": null,
   "metadata": {},
   "outputs": [],
   "source": [
    "# 6. A사무실에는 특정일자의 출퇴근 시간이 기록된 거대한 로그파일이 있다고 한다.\n",
    "\n",
    "# 파일의 형식은 다음과 같다. (한 라인에서 앞부분은 출근시간(HH:MM:SS), 뒷부분은 퇴근시간이다)\n",
    "\n",
    "# 09:12:23 11:14:35\n",
    "# 10:34:01 13:23:40\n",
    "# 10:34:31 11:20:10\n",
    "# 특정시간을 입력(예:11:05:20)으로 주었을 때 그 시간에 총 몇 명이 사무실에 있었는지 알려주는 함수를 작성하시오.\n",
    "\n"
   ]
  },
  {
   "cell_type": "code",
   "execution_count": 47,
   "metadata": {},
   "outputs": [
    {
     "name": "stdout",
     "output_type": "stream",
     "text": [
      "2\n"
     ]
    }
   ],
   "source": [
    "from datetime import datetime\n",
    "date_form = '%H:%M:%S'\n",
    "times = '''09:12:23 11:14:35\n",
    "10:34:01 13:23:40\n",
    "10:34:31 11:04:10'''\n",
    "\n",
    "now = '11:05:20'\n",
    "lst = times.split('\\n')\n",
    "lst2 = []\n",
    "for i in lst:\n",
    "    a, b = i.split()\n",
    "    lst2.append(a)\n",
    "    lst2.append(b)\n",
    "cnt = 0\n",
    "input_time = datetime.strptime(now, date_form)\n",
    "\n",
    "for i in range(0, len(lst2), 2):\n",
    "    data1 = datetime.strptime(lst2[i], date_form) # 출근시간\n",
    "    data2 = datetime.strptime(lst2[i+1], date_form) # 퇴근시간\n",
    "    if(data1 < input_time < data2):\n",
    "        cnt += 1\n",
    "\n",
    "print(cnt)"
   ]
  },
  {
   "cell_type": "code",
   "execution_count": null,
   "metadata": {},
   "outputs": [],
   "source": [
    "# 26\n",
    "# 다음과 같은 패턴의 별(*)을 출력하는 프로그램을 작성하라.\n",
    "\n",
    "# *****\n",
    "#  ****\n",
    "#   ***\n",
    "#    **\n",
    "#     *\n",
    "#     *\n",
    "#    **\n",
    "#   ***\n",
    "#  ****\n",
    "# *****\n"
   ]
  },
  {
   "cell_type": "code",
   "execution_count": 82,
   "metadata": {},
   "outputs": [
    {
     "name": "stdout",
     "output_type": "stream",
     "text": [
      "******\n",
      " *****\n",
      "  ****\n",
      "   ***\n",
      "    **\n",
      "     *\n",
      "     *\n",
      "    **\n",
      "   ***\n",
      "  ****\n",
      " *****\n",
      "******\n"
     ]
    }
   ],
   "source": [
    "n = 12\n",
    "tnt = 0\n",
    "half_num = int(n/2)\n",
    "for i in range(n):\n",
    "    if(i < half_num):\n",
    "        print(' '*i+'*'*(half_num-tnt))\n",
    "        tnt += 1\n",
    "    else:\n",
    "        print(' '*(tnt-1) + '*'*(i-half_num+1))\n",
    "        tnt -= 1"
   ]
  },
  {
   "cell_type": "code",
   "execution_count": null,
   "metadata": {},
   "outputs": [],
   "source": [
    "# 실력은 브론즈 = 제한된 조건에서 해결\n",
    "# 사고력은 골드 = 무슨 수단을 써서라도... "
   ]
  },
  {
   "cell_type": "code",
   "execution_count": null,
   "metadata": {},
   "outputs": [],
   "source": [
    "# 생각한 로직을 구현하는 방법을 익혀야함\n",
    "# 회사는 포폴, 팀원은 코딩을 본다"
   ]
  },
  {
   "cell_type": "code",
   "execution_count": null,
   "metadata": {},
   "outputs": [],
   "source": [
    "# 도박(카지노 777머신), 틱택토, 영단어 시험문제(오답노트같은거), 자판기 프로그램(사용자모드, 관리자모드, 재고관리기능 등), 포커"
   ]
  },
  {
   "cell_type": "code",
   "execution_count": null,
   "metadata": {},
   "outputs": [],
   "source": [
    "# 알고리즘 -> 플래갈 정도면 더이상 코테준비 안해도됨, + 수도코드, 최소한 이론은 알아야함\n",
    "# ai - numpy, pandas => 시각화\n",
    "# 머신러닝, 딥러닝\n",
    "# 수학, 논문리뷰, 구현, 모델링, 개선, 실전"
   ]
  },
  {
   "cell_type": "code",
   "execution_count": null,
   "metadata": {},
   "outputs": [],
   "source": [
    "# 일요일날 삼항연산자\n",
    "# re라이브러리\n",
    "# 풀었던 프로젝트(밤새서할것) -> 도박(카지노 777머신), 틱택토, 영단어 시험문제, 자판기 프로그램(사용자모드, 관리자모드, 재고관리기능 등), 포커"
   ]
  }
 ],
 "metadata": {
  "kernelspec": {
   "display_name": "Python 3",
   "language": "python",
   "name": "python3"
  },
  "language_info": {
   "codemirror_mode": {
    "name": "ipython",
    "version": 3
   },
   "file_extension": ".py",
   "mimetype": "text/x-python",
   "name": "python",
   "nbconvert_exporter": "python",
   "pygments_lexer": "ipython3",
   "version": "3.10.9"
  }
 },
 "nbformat": 4,
 "nbformat_minor": 2
}
