{
 "cells": [
  {
   "cell_type": "code",
   "execution_count": null,
   "metadata": {},
   "outputs": [],
   "source": [
    "카지노?? - 틱택토 ?? - 자판기"
   ]
  },
  {
   "cell_type": "code",
   "execution_count": 1,
   "metadata": {},
   "outputs": [
    {
     "name": "stdout",
     "output_type": "stream",
     "text": [
      "0\n"
     ]
    }
   ],
   "source": [
    "# 삼항연산자 = 다채로운 사용이 가능함.\n",
    "# if의 결과 if 조건문 else else결과\n",
    "print(1) if 1>2 else print(0)\n",
    "\n",
    "# if 1>2 ? print(1) : print(0) (php)\n",
    "if 1>2:\n",
    "    print(1)\n",
    "else:\n",
    "    print(0)"
   ]
  },
  {
   "cell_type": "code",
   "execution_count": 3,
   "metadata": {},
   "outputs": [],
   "source": [
    "# 홀수와 짝수출력을 하는 삼항연산자\n",
    "# n 을 입력받아서 n이 홀수면 '홀수'출력 짝수면 '짝수'출력\n",
    "# n과 m을 입력받아서 큰 수를 출력\n",
    "# n = 3, m = 5\n",
    "# 출력: 3과 5중에서 큰 값은 5입니다.\n",
    "# n, m = 3, 5\n",
    "# print('3과 5중에서 큰 값은 ',end='')\n",
    "# print(m, end='') if m>n else print(n,end='')\n",
    "# print('입니다.')\n",
    "\n"
   ]
  },
  {
   "cell_type": "code",
   "execution_count": null,
   "metadata": {},
   "outputs": [],
   "source": []
  },
  {
   "cell_type": "code",
   "execution_count": null,
   "metadata": {},
   "outputs": [],
   "source": [
    "# 코드를 일부러 한줄로..\n",
    "# 한줄 띄어쓰기도 용량을 사용하고 리소스를 사용하니까\n",
    "# 그냥 한줄 코딩으로"
   ]
  },
  {
   "cell_type": "code",
   "execution_count": 5,
   "metadata": {},
   "outputs": [
    {
     "data": {
      "text/plain": [
       "[0, 0, 2, 0]"
      ]
     },
     "execution_count": 5,
     "metadata": {},
     "output_type": "execute_result"
    }
   ],
   "source": [
    "[i if i % 2 == 0 else 0 for i in range(4)] # 일반 for문보다 빠름 = C로 구성된 코드임\n",
    "# 리스트 컴프리핸션 = 리스트내포\n",
    "# 0부터 100까지의 숫자 중에서 4로 나뉘는 숫자는 그대로, 이외의 숫자는 -1을 곱하여 리스트로 출력하시오."
   ]
  },
  {
   "cell_type": "code",
   "execution_count": null,
   "metadata": {},
   "outputs": [],
   "source": [
    "# 문자열 리스트 words가 주어졌을 때, \n",
    "# 각 문자열의 길이가 5 이상이면 \"Long\"을, \n",
    "# 그렇지 않으면 \"Short\"을 담은 리스트를 생성하세요.\n",
    "# words = [\"apple\", \"banana\", \"grape\", \"kiwi\", \"orange\"]\n",
    "# 출력 : [Long, Long, Long, Short, Long]\n",
    "# 주어진 리스트 grades에서 각 점수가 60 이상이면 \"Pass\", \n",
    "# 미만이면 \"Fail\"을 담은 리스트를 생성하세요.\n",
    "# grades = [75, 40, 90, 55, 65]\n",
    "# 결과 : [Pass, Fail, Pass, Fail, Pass]"
   ]
  },
  {
   "cell_type": "code",
   "execution_count": 11,
   "metadata": {},
   "outputs": [
    {
     "name": "stdout",
     "output_type": "stream",
     "text": [
      "어떤 타입이든 들어갈 수 있다\n"
     ]
    }
   ],
   "source": [
    "# 함수\n",
    "# def 함수명(매개변수(파라미터),....):\n",
    "#   return 반환할 데이터(ex: 숫자, 변수, 리스트, 함수, 딕셔너리,..)\n",
    "# 보통 함수는 1. 매개변수가 있으며, 2. 반환하는 데이터가 있다\n",
    "def asfklhsd(text = '어떤 타입이든 들어갈 수 있다'):\n",
    "    print(text)\n",
    "asfklhsd()"
   ]
  },
  {
   "cell_type": "code",
   "execution_count": 46,
   "metadata": {},
   "outputs": [
    {
     "name": "stdout",
     "output_type": "stream",
     "text": [
      "Alice\n"
     ]
    }
   ],
   "source": [
    "# 함수 사용법\n",
    "# 1 파라미터와 리턴없이 사용하는 함수\n",
    "# 위에 있는 데이터를 가져와서 사용하는 함수 (이런 식으로 거의 안씀) 거의 보여주기 식으로 쓰는 함수\n",
    "# a = 2\n",
    "# def myfunc():\n",
    "#     print(a)\n",
    "# myfunc()\n",
    "\n",
    "# # 2 파라미터없이 리턴하는 함수\n",
    "# # 위에서 선언된 변수 혹은 함수 내의 데이터를 이용하여 특정 데이터를 반환(거의 안쓰임) 1번보다 안쓰임\n",
    "# # 언제쓰는지도 모름\n",
    "# b = 3\n",
    "# def myfunc2():\n",
    "#     b = 4\n",
    "#     return b\n",
    "# myfunc2()\n",
    "\n",
    "# # 3 파라미터 있고 리턴을 안함. 1,2번에 비해 쓰임. 출력을 하기 위해 쓰는 경우가 있음(그래도 안쓰임)\n",
    "# c = 5\n",
    "# def myfunc3(c):\n",
    "#     a = 4\n",
    "# myfunc3(c)\n",
    "\n",
    "# 진짜 알아야할 함수 사용법\n",
    "# 4 파라미터, 반환이 있음. 주로 사용되는 방식\n",
    "d = 6\n",
    "def myfunc4(dd):\n",
    "    return dd\n",
    "myfunc4(d)\n",
    "\n",
    "# 5 파라미터가 지정되어 있는 상태, 반환이 있다 = 파라미터가 있을 수도, 없을 수도 있는 경우\n",
    "tt = 5\n",
    "def myfunc5(aa = 6, bb = 7):\n",
    "    return [aa, bb]\n",
    "myfunc5()\n",
    "\n",
    "# 6 특정 데이터가 들어오고, 이외의 데이터도 들어올 수 있을 때\n",
    "def myfunc6(*args):\n",
    "    return args\n",
    "    # return [a,list(args)]\n",
    "myfunc6(1,2,3,5)\n",
    "\n",
    "# *args와 달리 딕셔너리 데이터가 들어왔을 때 처리할 수 있음(빈도가 높진 않음)\n",
    "def my_function(**kwargs):\n",
    "    print(kwargs.get('name'))\n",
    "\n",
    "my_function(name=\"Alice\", age=30, city=\"New York\") # 딕셔너리로 집어넣게 됨"
   ]
  },
  {
   "cell_type": "code",
   "execution_count": null,
   "metadata": {},
   "outputs": [],
   "source": [
    "# 여러개의 데이터를 입력받아서 5개까지만 출력하는 함수를 만들어라\n",
    "# 입력 데이터 [5, 3, 2, 0, 6, 0, 4, 0, 3, 0]\n",
    "# 두 숫자를 인자로 받아서 그 합을 반환하는 함수 add_numbers를 정의\n",
    "\n",
    "# 한개이상의 데이터를 입력받아 한개도 없을 경우 1\n",
    "# 한개인 경우 2을 반환, 두 개의 데이터만 있으면 덧셈, \n",
    "# 세개 이상의 데이터가 들어오면 곱셈을 하는 함수 num_cals를 만들어라"
   ]
  },
  {
   "cell_type": "code",
   "execution_count": 51,
   "metadata": {},
   "outputs": [
    {
     "data": {
      "text/plain": [
       "12"
      ]
     },
     "execution_count": 51,
     "metadata": {},
     "output_type": "execute_result"
    }
   ],
   "source": [
    "a = 3\n",
    "b = 4\n",
    "a*=b\n",
    "a"
   ]
  },
  {
   "cell_type": "code",
   "execution_count": 53,
   "metadata": {},
   "outputs": [
    {
     "data": {
      "text/plain": [
       "5040"
      ]
     },
     "execution_count": 53,
     "metadata": {},
     "output_type": "execute_result"
    }
   ],
   "source": [
    "def myfunc(*args):\n",
    "    if len(args)>=3: \n",
    "        res = 1\n",
    "        for i in args:\n",
    "            res *= i\n",
    "        return res\n",
    "    elif len(args) == 2:\n",
    "        return args[0] + args[1]\n",
    "    else:\n",
    "        return False\n",
    "myfunc(1,2,3,4,5,6,7)"
   ]
  },
  {
   "cell_type": "code",
   "execution_count": 66,
   "metadata": {},
   "outputs": [
    {
     "name": "stdout",
     "output_type": "stream",
     "text": [
      "숫자가 없습니다\n"
     ]
    }
   ],
   "source": [
    "# 정수만 들어가는 함수가 있을 때\n",
    "# *args를 활용하여 주어진 모든 숫자 중에서 가장 큰 값을 찾아 반환하는 함수 find_max_number를 정의\n",
    "# 단 주어진 숫자가 없는 경우 '숫자가 없습니다'를 출력\n",
    "def find_max_number(*args):\n",
    "    if args:\n",
    "        return max(args)\n",
    "    print(\"숫자가 없습니다\")\n",
    "find_max_number()"
   ]
  },
  {
   "cell_type": "code",
   "execution_count": null,
   "metadata": {},
   "outputs": [],
   "source": [
    "# text_python.txt 라는 파일에 2,4,6,7,8,9,0 을 작성하고\n",
    "# text_python 텍스트 파일을 읽어와서 모든 숫자를 합한 값을 반환하는 함수를 만들어라"
   ]
  },
  {
   "cell_type": "code",
   "execution_count": null,
   "metadata": {},
   "outputs": [],
   "source": []
  },
  {
   "cell_type": "code",
   "execution_count": null,
   "metadata": {},
   "outputs": [],
   "source": []
  },
  {
   "cell_type": "code",
   "execution_count": null,
   "metadata": {},
   "outputs": [],
   "source": []
  },
  {
   "cell_type": "code",
   "execution_count": null,
   "metadata": {},
   "outputs": [],
   "source": []
  },
  {
   "cell_type": "code",
   "execution_count": null,
   "metadata": {},
   "outputs": [],
   "source": []
  },
  {
   "cell_type": "code",
   "execution_count": null,
   "metadata": {},
   "outputs": [],
   "source": [
    "with open('text_python.txt', 'w', encoding='utf-8') as f:\n",
    "    f.write('2,4,6,7,8,9,0')\n",
    "f = open('text_python.txt', 'r', encoding='utf-8')\n",
    "nums = f.read()\n",
    "print(nums)\n",
    "nums = list(map(int,nums.split(',')))\n",
    "sum(nums)"
   ]
  }
 ],
 "metadata": {
  "kernelspec": {
   "display_name": "Python 3",
   "language": "python",
   "name": "python3"
  },
  "language_info": {
   "codemirror_mode": {
    "name": "ipython",
    "version": 3
   },
   "file_extension": ".py",
   "mimetype": "text/x-python",
   "name": "python",
   "nbconvert_exporter": "python",
   "pygments_lexer": "ipython3",
   "version": "3.10.9"
  }
 },
 "nbformat": 4,
 "nbformat_minor": 2
}
