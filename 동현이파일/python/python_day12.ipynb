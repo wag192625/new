{
 "cells": [
  {
   "cell_type": "code",
   "execution_count": null,
   "metadata": {},
   "outputs": [],
   "source": [
    "# 정규식 => 보통 패턴화 되는 작업\n",
    "import re\n",
    "# 정규표현식\n",
    "text = '971005-1234567'\n",
    "text2 = '971005-1234568'\n",
    "text3 = '971005-1646168'\n",
    "# 971005-*******"
   ]
  },
  {
   "cell_type": "code",
   "execution_count": 89,
   "metadata": {},
   "outputs": [
    {
     "name": "stdout",
     "output_type": "stream",
     "text": [
      "990101-*******\n"
     ]
    }
   ],
   "source": [
    "import re # digit = 숫자 -:하이픈\n",
    "data = '990101-1234567'\n",
    "pat = re.compile('(\\d{6})[-]\\d{7}')\n",
    "print(pat.sub('\\g<1>-*******', data))"
   ]
  },
  {
   "cell_type": "code",
   "execution_count": null,
   "metadata": {},
   "outputs": [],
   "source": [
    "re.match # 잘 안쓰임\n",
    "re.findall\n",
    "re.compile\n",
    "re.search\n",
    "re.sub"
   ]
  },
  {
   "cell_type": "code",
   "execution_count": 92,
   "metadata": {},
   "outputs": [
    {
     "name": "stdout",
     "output_type": "stream",
     "text": [
      "None\n",
      "<re.Match object; span=(0, 2), match='he'>\n"
     ]
    }
   ],
   "source": [
    "# re.match 잘 안쓰임\n",
    "# match는 맨 앞에 있는 첫번째 글자만 확인\n",
    "# print(re.match('패턴', '비교대상'))\n",
    "text = 'hello'\n",
    "print(re.match('e', 'hello'))\n",
    "print(re.match('he', 'hello'))"
   ]
  },
  {
   "cell_type": "code",
   "execution_count": 100,
   "metadata": {},
   "outputs": [
    {
     "name": "stdout",
     "output_type": "stream",
     "text": [
      "None\n",
      "<re.Match object; span=(1, 3), match='el'>\n",
      "None\n"
     ]
    }
   ],
   "source": [
    "# re.search match 보통 얘를 씀\n",
    "print(re.match('e', 'hello'))\n",
    "print(re.search('el', 'helleo'))\n",
    "print(re.search('ello', 'helleo'))"
   ]
  },
  {
   "cell_type": "code",
   "execution_count": 105,
   "metadata": {},
   "outputs": [
    {
     "name": "stdout",
     "output_type": "stream",
     "text": [
      "<re.Match object; span=(1, 2), match='e'>\n",
      "[]\n"
     ]
    }
   ],
   "source": [
    "# re.findall 많이 쓰임\n",
    "print(re.search('e', 'helleo'))\n",
    "print(re.findall('p', 'helleo'))"
   ]
  },
  {
   "cell_type": "code",
   "execution_count": 134,
   "metadata": {},
   "outputs": [
    {
     "name": "stdout",
     "output_type": "stream",
     "text": [
      "1 2 3 4\n"
     ]
    }
   ],
   "source": [
    "#  추가 팁\n",
    "lst = [1,2,3,4]\n",
    "print(*lst)"
   ]
  },
  {
   "cell_type": "code",
   "execution_count": 139,
   "metadata": {},
   "outputs": [
    {
     "name": "stdout",
     "output_type": "stream",
     "text": [
      "<re.Match object; span=(0, 2), match='hh'>\n",
      "<re.Match object; span=(0, 1), match='h'>\n",
      "<re.Match object; span=(0, 7), match='hhhhhhh'>\n",
      "<re.Match object; span=(0, 7), match='hhhhhhh'>\n",
      "<re.Match object; span=(0, 10), match='hhhhhhiiij'>\n",
      "<re.Match object; span=(0, 0), match=''>\n",
      "<re.Match object; span=(0, 6), match='aabbbb'>\n",
      "<re.Match object; span=(0, 15), match='aaaabbbbbbbbbcd'>\n"
     ]
    }
   ],
   "source": [
    "print(re.match('hi|hh','hhello'))\n",
    "print(re.match('[h]', 'hello'))\n",
    "print(re.match('h+', 'hhhhhhh'))\n",
    "print(re.match('[h]+', 'hhhhhhh'))\n",
    "print(re.match('h+i+j','hhhhhhiiijii')) # +는 한개이상 있을 때\n",
    "print(re.match('h*','abcdefghi')) # 0개 이상\n",
    "print(re.match('a*b*','aabbbbcdddddefghi'))\n",
    "print(re.match('a*b*cd','aaaabbbbbbbbbcdddddefghi'))"
   ]
  },
  {
   "cell_type": "code",
   "execution_count": 164,
   "metadata": {},
   "outputs": [
    {
     "name": "stdout",
     "output_type": "stream",
     "text": [
      "<re.Match object; span=(0, 1), match='2'>\n",
      "<re.Match object; span=(0, 18), match='123412512323543613'>\n",
      "<re.Match object; span=(0, 30), match='abc1234125129323543A613a461514'>\n"
     ]
    }
   ],
   "source": [
    "print(re.match('1|2', '23')) # 숫자또한 가능\n",
    "print(re.match('[0-9]*','123412512323543613a461514'))\n",
    "print(re.match('[A-Za-z0-9]*','abc1234125129323543A613a461514!')) # A-Z와 a-z는 분리해서 사용할 것!!"
   ]
  },
  {
   "cell_type": "code",
   "execution_count": 159,
   "metadata": {},
   "outputs": [
    {
     "name": "stdout",
     "output_type": "stream",
     "text": [
      "A B C D E F G H I J K L M N O P Q R S T U V W X Y Z [ \\ ] ^ _ ` a b c d e f g h i j k l m n o p q r s t u v w x y z "
     ]
    }
   ],
   "source": [
    "for i in range(65,123):\n",
    "    print(chr(i), end=' ')"
   ]
  },
  {
   "cell_type": "code",
   "execution_count": 171,
   "metadata": {},
   "outputs": [
    {
     "data": {
      "text/plain": [
       "<re.Match object; span=(9, 22), match='010-1234-5678'>"
      ]
     },
     "execution_count": 171,
     "metadata": {},
     "output_type": "execute_result"
    }
   ],
   "source": [
    "# '내일 기온은 30도입니다.' 에서 30도라는 글자를 추출해보시오\n",
    "# '내일 기온은 19도에서 30도입니다.' 라는 문장에서 19와 30을 추출하시오.\n",
    "# '저의 전화번호는 010-1234-5678입니다.'에서 전화번호를 추출"
   ]
  },
  {
   "cell_type": "code",
   "execution_count": 187,
   "metadata": {},
   "outputs": [
    {
     "name": "stdout",
     "output_type": "stream",
     "text": [
      "<re.Match object; span=(0, 3), match='abd'>\n",
      "<re.Match object; span=(0, 4), match='abcd'>\n",
      "None\n",
      "<re.Match object; span=(0, 5), match='absdd'>\n",
      "<re.Match object; span=(0, 3), match='aaa'>\n",
      "<re.Match object; span=(0, 5), match='abccc'>\n",
      "<re.Match object; span=(0, 6), match='hihihi'>\n"
     ]
    }
   ],
   "source": [
    "print(re.match('abc?d','abd')) # ?를 사용하면 좌, 우를 데이터와 비교함\n",
    "print(re.match('abc?d','abcd'))\n",
    "print(re.match('abc?d','abccd'))\n",
    "print(re.match('ab..d','absdd')) # .을 이용하면 .이 한 글자를 대신해서 비교할 수 있음\n",
    "print(re.match('a{3}', 'aaaaa')) # 중괄호를 사용하면 중괄호 안에 있는 숫자 개수만큼 비교 및 탐색\n",
    "print(re.match('abc{3}', 'abcccqwesaf')) # 특히 바로 전글자의 개수를 확인함\n",
    "print(re.match('(hi){3}', 'hihihi')) # 소괄호를 이용하여 묶으면 소괄호의 글자를 하나로 인식함"
   ]
  },
  {
   "cell_type": "code",
   "execution_count": 199,
   "metadata": {},
   "outputs": [
    {
     "name": "stdout",
     "output_type": "stream",
     "text": [
      "<re.Match object; span=(0, 3), match='딥러닝'>\n",
      "<re.Match object; span=(0, 3), match='ㄷㄹㄴ'>\n",
      "<re.Match object; span=(0, 10), match='ㅏㅑㅓㅕㅗㅛㅜㅠㅡㅣ'>\n"
     ]
    }
   ],
   "source": [
    "print(re.match('[가-힣]+', '딥러닝'))\n",
    "print(re.match('[가-힣ㄱ-ㅎㅏ-ㅣ]+', 'ㄷㄹㄴ'))\n",
    "print(re.match('[가-힣ㄱ-ㅎㅏ-ㅣ]+', 'ㅏㅑㅓㅕㅗㅛㅜㅠㅡㅣ'))\n",
    "# 페이스북, 인스타, 트위터에서 유행하는 글 분석"
   ]
  },
  {
   "cell_type": "code",
   "execution_count": 212,
   "metadata": {},
   "outputs": [
    {
     "name": "stdout",
     "output_type": "stream",
     "text": [
      "None\n",
      "<re.Match object; span=(0, 1), match='a'>\n",
      "None\n",
      "<re.Match object; span=(0, 1), match='A'>\n",
      "None\n",
      "<re.Match object; span=(0, 1), match='이'>\n",
      "<re.Match object; span=(0, 1), match='ㅋ'>\n",
      "None\n"
     ]
    }
   ],
   "source": [
    "print(re.match('[^0-9]', '123aaa')) # ^(꺽쇠)를 사용하면 해당 패턴이 포함되지 않은 것을 매치함\n",
    "print(re.match('[^0-9]', 'aaa'))\n",
    "print(re.match('[^0-9a-z]', 'aaa'))\n",
    "print(re.match('[^0-9a-z]', 'A'))\n",
    "print(re.match('[^0-9a-zA-Z]', 'A'))\n",
    "print(re.match('[^0-9a-zA-Z]', '이건 못막지ㅋ'))\n",
    "print(re.match('[^0-9a-zA-Z가-힣]', 'ㅋ'))\n",
    "print(re.match('[^0-9a-zA-Z가-힣ㄱ-ㅎ]', 'ㅋ'))"
   ]
  },
  {
   "cell_type": "code",
   "execution_count": 220,
   "metadata": {},
   "outputs": [],
   "source": [
    "re.search('[0-9]+$', 'asfdsd123214adfsf131') # $가 붙으면 앞의 패턴으로 끝나는지 확인\n",
    "re.match('[0-9]+$', 'asfdsd123214') # match는 $와 상반되는 개념이므로 탐색이 안됨\n",
    "re.search('[ab]+$','123ab123') # ab가 중간에 있으므로 탐색 실패"
   ]
  },
  {
   "cell_type": "code",
   "execution_count": 248,
   "metadata": {},
   "outputs": [
    {
     "data": {
      "text/plain": [
       "<re.Match object; span=(5, 7), match='\\\\\\\\'>"
      ]
     },
     "execution_count": 248,
     "metadata": {},
     "output_type": "execute_result"
    }
   ],
   "source": [
    "re.search('[\\]*-]+', 'aklfh]\\dfasf') # \\(역슬래시) 뒤에 패턴을 입력하면 패턴으로 인식이 됨(역슬래시는 안됨)\n",
    "re.search('[\\\\\\]+', 'klfh]\\\\\\dfasf') # 역슬래시를 찾을 땐 역슬래시를 3번 해야됨"
   ]
  },
  {
   "cell_type": "code",
   "execution_count": null,
   "metadata": {},
   "outputs": [],
   "source": [
    "emails = ['python@mail.example.com', 'python+kr@example.com',              # 올바른 형식\n",
    "          'python-test@example.co.kr', 'python_10@example.info',         # 올바른 형식\n",
    "          'python.test@e-xample.com',                                    # 올바른 형식\n",
    "          '@example.com', 'python@example', 'python@example-com']          # 잘못된 형식"
   ]
  },
  {
   "cell_type": "code",
   "execution_count": null,
   "metadata": {},
   "outputs": [],
   "source": []
  }
 ],
 "metadata": {
  "kernelspec": {
   "display_name": "Python 3",
   "language": "python",
   "name": "python3"
  },
  "language_info": {
   "codemirror_mode": {
    "name": "ipython",
    "version": 3
   },
   "file_extension": ".py",
   "mimetype": "text/x-python",
   "name": "python",
   "nbconvert_exporter": "python",
   "pygments_lexer": "ipython3",
   "version": "3.10.9"
  }
 },
 "nbformat": 4,
 "nbformat_minor": 2
}
