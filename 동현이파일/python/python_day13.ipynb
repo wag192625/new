{
 "cells": [
  {
   "cell_type": "code",
   "execution_count": 143,
   "metadata": {},
   "outputs": [
    {
     "name": "stdout",
     "output_type": "stream",
     "text": [
      ".24\n",
      "-3,245\n",
      "lst2 ['-', '3', ',', '2', '4', '5', '.24']\n",
      "-3,245.24\n"
     ]
    }
   ],
   "source": [
    "# 2.\n",
    "# 숫자 형태의 문자열을 콤마가 포함된 금액 표기식 문자열로 바꾸어주는 프로그램을 작성하시오.\n",
    "\n",
    "# ※ 단, 프로그래밍 언어에서 지원하는 금액변환 라이브러리는 사용하지 말것\n",
    "\n",
    "# 예)\n",
    "\n",
    "# 숫자   금액\n",
    "# 1000   1,000\n",
    "# 20000000   20,000,000\n",
    "# -3245.24   -3,245.24\n",
    "import re\n",
    "number1 = '-3245.24'\n",
    "giho = re.findall('[\\-\\+]+',number1)\n",
    "# print(giho)\n",
    "jungsu = re.findall('[0-9]+',number1)\n",
    "# print(jungsu)\n",
    "sosu = re.search('[.][0-9]+',number1)\n",
    "print(number1[sosu.span()[0]:sosu.span()[1]])\n",
    "\n",
    "final_num = []\n",
    "num1 = str(jungsu[0])\n",
    "cnt = 0\n",
    "lst = []\n",
    "for i in num1[::-1]:\n",
    "    lst.append(i)\n",
    "    cnt +=1\n",
    "    if cnt%3== 0 :\n",
    "        lst.append(',')\n",
    "lst2 = [i for i in lst[::-1]]\n",
    "# print(type(number1))\n",
    "# @@@@@@@@@@@ if문 안먹힘\n",
    "# if '-' in number1 :\n",
    "#     lst2 = lst2.insert(0,giho[0])     # insert는\n",
    "#     print(lst2)\n",
    "# if number1 in '.' :\n",
    "#     # lst2 = lst2.insert(sosu)\n",
    "#     lst2.append(sosu)\n",
    "#     print(lst2)\n",
    "if '-' in number1 :\n",
    "    lst2.insert(0,giho[0])\n",
    "    print(''.join(lst2))\n",
    "if '.' in number1 :\n",
    "    # lst2.append(number1[sosu.span()[0]:sosu.span()[1]])\n",
    "    lst2.append(number1[sosu.start():sosu.end()])\n",
    "    print('lst2',lst2)\n",
    "\n",
    "final_num = ''.join(lst2)\n",
    "print(final_num)"
   ]
  },
  {
   "cell_type": "code",
   "execution_count": 131,
   "metadata": {},
   "outputs": [
    {
     "name": "stdout",
     "output_type": "stream",
     "text": [
      "<re.Match object; span=(0, 1), match='-'>\n",
      "<re.Match object; span=(1, 5), match='3245'>\n",
      "<re.Match object; span=(5, 8), match='.24'>\n",
      "-3,245\n",
      "lst2 ['-', '3', ',', '2', '4', '5', '.24']\n",
      "-3,245.24\n"
     ]
    }
   ],
   "source": [
    "# 2.\n",
    "# 숫자 형태의 문자열을 콤마가 포함된 금액 표기식 문자열로 바꾸어주는 프로그램을 작성하시오.\n",
    "\n",
    "# ※ 단, 프로그래밍 언어에서 지원하는 금액변환 라이브러리는 사용하지 말것\n",
    "\n",
    "# 예)\n",
    "\n",
    "# 숫자   금액\n",
    "# 1000   1,000\n",
    "# 20000000   20,000,000\n",
    "# -3245.24   -3,245.24\n",
    "import re\n",
    "number1 = '-3245.24'\n",
    "giho = re.search('[\\-\\+]+',number1)\n",
    "print(giho)\n",
    "jungsu = re.search('[0-9]+',number1)\n",
    "print(jungsu)\n",
    "sosu = re.search('[.][0-9]+',number1)\n",
    "print(sosu)\n",
    "\n",
    "final_num = []\n",
    "num1 = str(jungsu[0])\n",
    "cnt = 0\n",
    "lst = []\n",
    "for i in num1[::-1]:\n",
    "    lst.append(i)\n",
    "    cnt +=1\n",
    "    if cnt%3== 0 :\n",
    "        lst.append(',')\n",
    "lst2 = [i for i in lst[::-1]]\n",
    "\n",
    "if '-' in number1 :\n",
    "    lst2.insert(0,giho[0])\n",
    "    print(''.join(lst2))\n",
    "if '.' in number1 :\n",
    "    lst2.append(number1[sosu.span()[0]:sosu.span()[1]])\n",
    "    print('lst2',lst2)\n",
    "\n",
    "print(''.join(lst2))"
   ]
  },
  {
   "cell_type": "code",
   "execution_count": 36,
   "metadata": {},
   "outputs": [
    {
     "name": "stdout",
     "output_type": "stream",
     "text": [
      "['강상희', '권종표', '김재성', '김지완', '박민호', '박영서', '송정환', '이성연', '이유덕', '이재영', '전경헌', '최승혁']\n"
     ]
    }
   ],
   "source": [
    "# 1.주어진 문자열(공백 없이 쉼표로 구분되어 있음)을 가지고 아래 문제에 대한 프로그램을 작성하세요.\n",
    "\n",
    "# 이유덕,이재영,권종표,이재영,박민호,강상희,\n",
    "# 이재영,김지완,최승혁,이성연,박영서,박민호,\n",
    "# 전경헌,송정환,김재성,이유덕,전경헌\n",
    "lst = ['이유덕','이재영','권종표','이재영','박민호','강상희',\n",
    "'이재영','김지완','최승혁','이성연','박영서','박민호',\n",
    "'전경헌','송정환','김재성','이유덕','전경헌']\n",
    "\n",
    "# 4)중복을 제거한 이름을 오름차순으로 정렬하여 출력하세요.\n",
    "print(sorted(set(lst)))"
   ]
  },
  {
   "cell_type": "code",
   "execution_count": 2,
   "metadata": {},
   "outputs": [
    {
     "name": "stdout",
     "output_type": "stream",
     "text": [
      "[34, 30, 9, 5, 3]\n"
     ]
    }
   ],
   "source": [
    "# 3. 음수가 아닌 수들이 주어졌을 때 그 수들을 이어서 만들 수 있는 가장 큰 수를 구하시오.\n",
    "# 예를 들어 [1,2,3]이 주어졌을 때 만들 수 있는 가장 큰 수는 321이고,\n",
    "# [3, 30, 34, 5, 9] 가 주어지면 만들 수 있는 가장 큰 수는 9534330이다.\n",
    "\n",
    "lst1 = [3, 30, 34, 5, 9]\n",
    "lst2 = []\n",
    "# 전부 sort로 정렬 후 리버스 한 뒤 for 문 9부터 0까지 돌려서 차례대로 join\n",
    "#sort가 안먹힘\n",
    "\n",
    "lst1.sort(reverse=True)\n",
    "print(lst1)"
   ]
  },
  {
   "cell_type": "code",
   "execution_count": 144,
   "metadata": {},
   "outputs": [
    {
     "name": "stdout",
     "output_type": "stream",
     "text": [
      "9534330\n"
     ]
    }
   ],
   "source": [
    "lst = [3, 30, 34, 5, 9]\n",
    "# lst.sort(reverse=True)\n",
    "lst2 = list(map(str, lst))\n",
    "lst3 = []\n",
    "lst4 = []\n",
    "dict_num = {}\n",
    "for i in lst2 :\n",
    "    if len(str(i)) == 1 :\n",
    "        double_num = i+i\n",
    "        dict_num[double_num] = i\n",
    "        lst3.append(double_num)\n",
    "    else :\n",
    "        lst3.append(i)\n",
    "lst3.sort(reverse=True)\n",
    "for i in lst3 :\n",
    "    if i in dict_num.keys() :\n",
    "        lst4.append(dict_num.get(i))\n",
    "    else:\n",
    "        lst4.append(i)\n",
    "print(''.join(lst4))\n",
    "        \n",
    "# 결론:\n",
    "# 1 - 길이를 맞추자)(자릿수) 길이를 맞출 땐 3 -> 33333...이런식\n",
    "# 2 - 크기를 비교하되 문자열로 비교(사실 크기를 맞추면 문자열 비교 필요없음)"
   ]
  },
  {
   "cell_type": "code",
   "execution_count": 76,
   "metadata": {},
   "outputs": [
    {
     "data": {
      "text/plain": [
       "<re.Match object; span=(0, 4), match='abbb'>"
      ]
     },
     "execution_count": 76,
     "metadata": {},
     "output_type": "execute_result"
    }
   ],
   "source": [
    "import re\n",
    "\n",
    "re.match('a+','aabc')\n",
    "re.match('abc?d', 'abcd') # ?는 있을 수도, 없을 수도 있음\n",
    "re.match('ab..', 'abcd') # .을 사용하면 그 공간에 어떠한 문자도 허용함\n",
    "re.match('ab{3}','abbbb') # 중괄호를 사용하면 개수를 입력할 수 있음"
   ]
  },
  {
   "cell_type": "code",
   "execution_count": 85,
   "metadata": {},
   "outputs": [
    {
     "data": {
      "text/plain": [
       "<re.Match object; span=(0, 5), match='56121'>"
      ]
     },
     "execution_count": 85,
     "metadata": {},
     "output_type": "execute_result"
    }
   ],
   "source": [
    "re.match('(hi){3}', 'hihihi') # 소괄호를 사용하면 괄호안의 데이터들을 하나의 글자로 인지\n",
    "re.match('(hi){3}', 'hiii') # 이렇게는 성립이 되지 않음\n",
    "re.match('[0-9]', '5') # 대괄호 안에는 패턴을 입력할 수 있음\n",
    "re.match('[0-9]+', '56121') # 여러개를 보고 싶으면 +를, 있든 없든 보고싶다면 *\n",
    "re.match('[0-9]*', '56121')"
   ]
  },
  {
   "cell_type": "code",
   "execution_count": 107,
   "metadata": {},
   "outputs": [
    {
     "name": "stdout",
     "output_type": "stream",
     "text": [
      "(0, 13)\n"
     ]
    },
    {
     "data": {
      "text/plain": [
       "<re.Match object; span=(0, 6), match='hell]o'>"
      ]
     },
     "execution_count": 107,
     "metadata": {},
     "output_type": "execute_result"
    }
   ],
   "source": [
    "tel = re.match('[0-9{3}]+-[0-9{4}]+-[0-9{4}]+','010-1234-5678')\n",
    "print(tel.span())\n",
    "re.match('[a-zA-Z]+', 'hell]o')\n",
    "re.match('[A-z]+', 'hell]o') # 위와 차이점이 존재하므로 서로 다른 패턴형식을 가짐"
   ]
  },
  {
   "cell_type": "code",
   "execution_count": 114,
   "metadata": {},
   "outputs": [
    {
     "data": {
      "text/plain": [
       "<re.Match object; span=(0, 9), match='ㅏㅑㅓㅕㅗㅛㅜㅠㅢ'>"
      ]
     },
     "execution_count": 114,
     "metadata": {},
     "output_type": "execute_result"
    }
   ],
   "source": [
    "re.match('[가-힣]+','딥러닝') # 한글은 가-힣을 사용\n",
    "re.match('[가-힣ㄱ-ㅎ]+','ㄷㄹㄴ') # 자음이나 모음은 별도로 패턴을 만들어서 써야함\n",
    "re.match('[ㅏ-ㅣ]+', 'ㅏㅑㅓㅕㅗㅛㅜㅠㅢ') # 모음도 가능\n",
    "# 사실상 위는 자연어처리용"
   ]
  },
  {
   "cell_type": "code",
   "execution_count": 120,
   "metadata": {},
   "outputs": [],
   "source": [
    "re.match('[^0-9]+','hello123') # 해당 패턴을 제외할 땐 ^를 사용\n",
    "re.match('[^0-9a-z]+','hello123')\n",
    "re.match('[^0-9a-zA-Z]+','Hello123')"
   ]
  },
  {
   "cell_type": "code",
   "execution_count": 130,
   "metadata": {},
   "outputs": [
    {
     "data": {
      "text/plain": [
       "'$(print)'"
      ]
     },
     "execution_count": 130,
     "metadata": {},
     "output_type": "execute_result"
    }
   ],
   "source": [
    "re.match('[a-z]+$','abcd') # $를 사용하면 해당 패턴으로 끝나야함. 그러므로 보통 search사용\n",
    "re.match('[a-z]+$','ㅁabcd') # match를 사용했으므로 탐색 불가\n",
    "re.search('[a-z]+$','ㅁabcd') # search 사용하면 가능"
   ]
  },
  {
   "cell_type": "code",
   "execution_count": 131,
   "metadata": {},
   "outputs": [
    {
     "data": {
      "text/plain": [
       "'$(print)'"
      ]
     },
     "execution_count": 131,
     "metadata": {},
     "output_type": "execute_result"
    }
   ],
   "source": [
    "import re\n",
    "res = re.search('[$(a-z)]+','$(print)')\n",
    "res.group() # 뭘 찾았는지 보여줌"
   ]
  },
  {
   "cell_type": "code",
   "execution_count": 152,
   "metadata": {},
   "outputs": [
    {
     "data": {
      "text/plain": [
       "<re.Match object; span=(0, 6), match='abc123'>"
      ]
     },
     "execution_count": 152,
     "metadata": {},
     "output_type": "execute_result"
    }
   ],
   "source": [
    "re.match('\\d+','1234567') # d => digit(숫자)\n",
    "re.match('[0-9]+','1234567') \n",
    "re.match('\\w+', 'Abcd_ㄱ가ㅗ123') # w => word(문자) = 대/소문자, 숫자, 밑줄, 한글\n",
    "re.match('\\s+',' \\t   \\n') # s => space(공백) 이에 따라서 탭(\\t), 한줄띄어쓰기(\\n), 띄어쓰기 모두 포함\n",
    "\n",
    "re.match('\\D+', 'sdafsd') # \\대문자로 사용되면 소문자의 반대를 탐색\n",
    "re.match('\\W+', '#@$@#%@#^Abcd_ㄱ가ㅗ123') # W는 특수문자만 됨\n",
    "re.match('\\S+', 'abc123') # 공백이 아닌 문자열"
   ]
  },
  {
   "cell_type": "code",
   "execution_count": 153,
   "metadata": {},
   "outputs": [
    {
     "data": {
      "text/plain": [
       "<re.Match object; span=(0, 3), match='123'>"
      ]
     },
     "execution_count": 153,
     "metadata": {},
     "output_type": "execute_result"
    }
   ],
   "source": [
    "pt = re.compile('[0-9]+')\n",
    "pt.match('123')\n",
    "\n",
    "re.match('[0-9]+', '123')"
   ]
  },
  {
   "cell_type": "code",
   "execution_count": null,
   "metadata": {},
   "outputs": [],
   "source": [
    "text = re.finditer('[a-zA-Z]+', 'Do!you have some money??') # 정해진 패턴을 추출하며, 패턴이 아닌경우 다음 순서로 넘기게 됨\n",
    "for t in text:\n",
    "    print(t)\n",
    "    print(t.group())\n",
    "# 사실 finditer보다는 findall이 더 많이 쓰일 것임"
   ]
  },
  {
   "cell_type": "code",
   "execution_count": 164,
   "metadata": {},
   "outputs": [
    {
     "data": {
      "text/plain": [
       "3"
      ]
     },
     "execution_count": 164,
     "metadata": {},
     "output_type": "execute_result"
    }
   ],
   "source": [
    "data = re.match('[0-9]+', '123')\n",
    "data.span()\n",
    "data.start() #span의 첫번쨰\n",
    "data.end() #span의 두번쨰"
   ]
  },
  {
   "cell_type": "code",
   "execution_count": 175,
   "metadata": {},
   "outputs": [
    {
     "data": {
      "text/plain": [
       "'3'"
      ]
     },
     "execution_count": 175,
     "metadata": {},
     "output_type": "execute_result"
    }
   ],
   "source": [
    "data = re.match('([0-9]+) ([0-9]+)', '12 3')\n",
    "data.groups() # 패턴에 매치된 문자열을 튜플형식으로 반환함\n",
    "data.group(1) # groups가 가능한 데이터는 인덱싱이 가능함\n",
    "data.group(2)"
   ]
  },
  {
   "cell_type": "code",
   "execution_count": 182,
   "metadata": {},
   "outputs": [
    {
     "data": {
      "text/plain": [
       "'num num num bird num num apple num'"
      ]
     },
     "execution_count": 182,
     "metadata": {},
     "output_type": "execute_result"
    }
   ],
   "source": [
    "# re.sub('정규식', '바꿀문자열', '문자열', 변경할횟수)\n",
    "re.sub('apple|banana', 'orange', 'apple banana', 1)\n",
    "re.sub('\\d+','num','100 150 200 bird 300 450 apple 500') # 숫자를 'num'이라고 바꿔서 반환하도록"
   ]
  },
  {
   "cell_type": "code",
   "execution_count": 191,
   "metadata": {},
   "outputs": [
    {
     "data": {
      "text/plain": [
       "'100 150 200 bird 300 450 apple 500'"
      ]
     },
     "execution_count": 191,
     "metadata": {},
     "output_type": "execute_result"
    }
   ],
   "source": [
    "def func(text):\n",
    "    return text.group() # 리턴을 고려한다면 객체가 반환된 것에 대해 수정할 필요있음\n",
    "re.sub('\\d+', func, '100 150 200 bird 300 450 apple 500')"
   ]
  },
  {
   "cell_type": "code",
   "execution_count": null,
   "metadata": {},
   "outputs": [],
   "source": [
    "emails = ['python@mail.example.com', 'python+kr@example.com',              # 올바른 형식\n",
    "          'python-test@example.co.kr', 'python_10@example.info',         # 올바른 형식\n",
    "          'python.test@e-xample.com',                                    # 올바른 형식\n",
    "          '@example.com', 'python@example', 'python@example-com']          # 잘못된 형식"
   ]
  },
  {
   "cell_type": "code",
   "execution_count": null,
   "metadata": {},
   "outputs": [],
   "source": [
    "# 3. 음수가 아닌 수들이 주어졌을 때 그 수들을 이어서 만들 수 있는 가장 큰 수를 구하시오.\n",
    "# 예를 들어 [1,2,3]이 주어졌을 때 만들 수 있는 가장 큰 수는 321이고,\n",
    "# [3, 30, 34, 5, 9] 가 주어지면 만들 수 있는 가장 큰 수는 9534330이다.\n",
    "\n",
    "lst1 = [3, 30, 34, 5, 9]\n",
    "lst2 = []\n",
    "# 전부 sort로 정렬 후 리버스 한 뒤 for 문 9부터 0까지 돌려서 차례대로 join\n",
    "#sort가 안먹힘\n",
    "\n",
    "print(lst1.sort())"
   ]
  },
  {
   "cell_type": "code",
   "execution_count": null,
   "metadata": {},
   "outputs": [],
   "source": [
    "# 2.\n",
    "# 숫자 형태의 문자열을 콤마가 포함된 금액 표기식 문자열로 바꾸어주는 프로그램을 작성하시오.\n",
    "\n",
    "# ※ 단, 프로그래밍 언어에서 지원하는 금액변환 라이브러리는 사용하지 말것\n",
    "\n",
    "# 예)\n",
    "\n",
    "# 숫자   금액\n",
    "# 1000   1,000\n",
    "# 20000000   20,000,000\n",
    "# -3245.24   -3,245.24\n",
    "import re\n",
    "number1 = '-3245.24'\n",
    "giho = re.findall('[\\-\\+]+',number1)\n",
    "# print(giho)\n",
    "jungsu = re.findall('[0-9]+',number1)\n",
    "# print(jungsu)\n",
    "sosu = re.search('[\\.][0-9]*',number1)\n",
    "# print(sosu)\n",
    "\n",
    "final_num = []\n",
    "num1 = str(jungsu[0])\n",
    "cnt = 0\n",
    "lst = []\n",
    "for i in num1[::-1]:\n",
    "    lst.append(i)\n",
    "    cnt +=1\n",
    "    if cnt%3== 0 :\n",
    "        lst.append(',')\n",
    "lst2 = [i for i in lst[::-1]]\n",
    "# print(lst2)\n",
    "\n",
    "# @@@@@@@@@@@ if문 안먹힘\n",
    "if number1 in ('+'or'-') :\n",
    "    lst2 = lst2.insert[0,giho]\n",
    "    print(lst2)\n",
    "if number1 in '.' :\n",
    "    lst2 = lst2.insert(sosu)\n",
    "    print(lst2)\n",
    "\n",
    "final_num = ''.join(lst2)\n",
    "print(final_num)"
   ]
  },
  {
   "cell_type": "code",
   "execution_count": null,
   "metadata": {},
   "outputs": [],
   "source": [
    "# 람다식, 필터\n",
    "# 코테 문제 계속 던질겨 - 우리는 풀 수 있느냐를 기준으로 두고 풀것임. \n",
    "                    # - 물론 개선할 수 있으면 개선하는 방법도 배울 것 -> 알고리즘 배울때\n",
    "# 이후에 클래스 -> 웹 스크래핑 -> 웹(html, css, js) - DB -  API? - django(초점을 로직에 대한 설명) - 알고리즘 - AI(논문, 직접 코드작성, 파인튜닝)"
   ]
  },
  {
   "cell_type": "markdown",
   "metadata": {},
   "source": []
  }
 ],
 "metadata": {
  "kernelspec": {
   "display_name": "Python 3",
   "language": "python",
   "name": "python3"
  },
  "language_info": {
   "codemirror_mode": {
    "name": "ipython",
    "version": 3
   },
   "file_extension": ".py",
   "mimetype": "text/x-python",
   "name": "python",
   "nbconvert_exporter": "python",
   "pygments_lexer": "ipython3",
   "version": "3.11.9"
  }
 },
 "nbformat": 4,
 "nbformat_minor": 2
}
