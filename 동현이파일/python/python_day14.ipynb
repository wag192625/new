{
 "cells": [
  {
   "cell_type": "code",
   "execution_count": null,
   "metadata": {},
   "outputs": [],
   "source": [
    "# 람다, 필터"
   ]
  },
  {
   "cell_type": "code",
   "execution_count": null,
   "metadata": {},
   "outputs": [],
   "source": [
    "# lambda = 람다표현식\n",
    "# 리스트내포 = 리스트 컴프리핸션"
   ]
  },
  {
   "cell_type": "code",
   "execution_count": 1,
   "metadata": {},
   "outputs": [
    {
     "name": "stdout",
     "output_type": "stream",
     "text": [
      "3\n"
     ]
    }
   ],
   "source": [
    "# 람다는 익명함수라고도 함\n",
    "# lambda [매개변수] : [표현식]\n",
    "def numAdd(x,y):\n",
    "    return x+y\n",
    "print(numAdd(1,2))"
   ]
  },
  {
   "cell_type": "code",
   "execution_count": 4,
   "metadata": {},
   "outputs": [
    {
     "name": "stdout",
     "output_type": "stream",
     "text": [
      "3\n"
     ]
    }
   ],
   "source": [
    "res = lambda x, y: x + y\n",
    "print(res(1,2))"
   ]
  },
  {
   "cell_type": "code",
   "execution_count": 6,
   "metadata": {},
   "outputs": [
    {
     "name": "stdout",
     "output_type": "stream",
     "text": [
      "합 30\n"
     ]
    }
   ],
   "source": [
    "print('합', (lambda x,y : x+y)(10,20))"
   ]
  },
  {
   "cell_type": "code",
   "execution_count": 7,
   "metadata": {},
   "outputs": [
    {
     "name": "stdout",
     "output_type": "stream",
     "text": [
      "34 49 20 54 "
     ]
    }
   ],
   "source": [
    "# filter\n",
    "def adult_func(n):\n",
    "    if(n>=19):\n",
    "        return True\n",
    "    return False\n",
    "ages = [34,49,20,17,54,11]\n",
    "# filter(함수, 입력데이터)\n",
    "for a in filter(adult_func, ages):\n",
    "    print(a, end=' ')"
   ]
  },
  {
   "cell_type": "code",
   "execution_count": null,
   "metadata": {},
   "outputs": [],
   "source": [
    "# python\n",
    "# pip3 install numpy"
   ]
  },
  {
   "cell_type": "code",
   "execution_count": 8,
   "metadata": {},
   "outputs": [
    {
     "name": "stdout",
     "output_type": "stream",
     "text": [
      "34 49 20 54 "
     ]
    }
   ],
   "source": [
    "ages = [34,49,20,17,54,11]\n",
    "for a in filter(lambda x: x>=19, ages):\n",
    "    print(a, end=' ')"
   ]
  },
  {
   "cell_type": "code",
   "execution_count": 11,
   "metadata": {},
   "outputs": [
    {
     "data": {
      "text/plain": [
       "[34, 49, 20, 54]"
      ]
     },
     "execution_count": 11,
     "metadata": {},
     "output_type": "execute_result"
    }
   ],
   "source": [
    "ages = [34,49,20,17,54,11]\n",
    "lst = list(filter(lambda x: x>=19, ages))\n",
    "lst"
   ]
  },
  {
   "cell_type": "code",
   "execution_count": null,
   "metadata": {},
   "outputs": [],
   "source": [
    "ages = [34,49,20,17,54,11]\n",
    "print('합', (lambda x,y : x+y)(10,20))\n",
    "lst = list(filter(lambda x: x>=19, ages))\n",
    "print(lst)"
   ]
  },
  {
   "cell_type": "code",
   "execution_count": null,
   "metadata": {},
   "outputs": [],
   "source": [
    "# 음수를 추출하는 람다식을 완성하라\n",
    "nums = [30,4,59,-10,3,-79]"
   ]
  },
  {
   "cell_type": "code",
   "execution_count": 17,
   "metadata": {},
   "outputs": [
    {
     "data": {
      "text/plain": [
       "[1, 4, 9, 16, 25, 36, 49]"
      ]
     },
     "execution_count": 17,
     "metadata": {},
     "output_type": "execute_result"
    }
   ],
   "source": [
    "nums = list(range(1,8)) # 1~7\n",
    "square_nums = list(map(lambda x: x**2, nums))\n",
    "square_nums"
   ]
  },
  {
   "cell_type": "code",
   "execution_count": 19,
   "metadata": {},
   "outputs": [
    {
     "data": {
      "text/plain": [
       "[0, 1, 4, 9, 16, 25, 36]"
      ]
     },
     "execution_count": 19,
     "metadata": {},
     "output_type": "execute_result"
    }
   ],
   "source": [
    "def myfunc(n):\n",
    "    return n**2\n",
    "[myfunc(i) for i in range(7)]"
   ]
  },
  {
   "cell_type": "code",
   "execution_count": 20,
   "metadata": {},
   "outputs": [],
   "source": [
    "# 클래스(class)\n",
    "'''\n",
    "클래스란?\n",
    "- 속성과 동작(행동)이 모인 집합\n",
    "위 단위의 설계도\n",
    "\n",
    "사람 클래스\n",
    "속성: 눈깔, 생식기, 손가락, 손, 털, 코, 입, 귀, 이, 피부, 가죽,...\n",
    "동작: 달리기, 째려보기, 때리기, 걷기, 밥먹기, 숨쉬기,...\n",
    "'''\n",
    "class Person:\n",
    "    eyes = 2\n",
    "    fingers = 10\n",
    "    hands = 2\n",
    "    nose = 1\n",
    "    mouse = 1\n",
    "    # ...\n",
    "    def eat(self):\n",
    "        print('냠냠~~')"
   ]
  },
  {
   "cell_type": "code",
   "execution_count": null,
   "metadata": {},
   "outputs": [],
   "source": [
    "# 객체(object) 범위가 굉장히 넓음. 객체가 클래스일 수도 있음\n",
    "# 예시를 들자면, \n",
    "# 회사 - 삼성, 현대, 카카오, 네이버,,..\n",
    "# 현대 - 제철소, 네비, 자동차, 중고차, .."
   ]
  },
  {
   "cell_type": "code",
   "execution_count": 24,
   "metadata": {},
   "outputs": [
    {
     "name": "stdout",
     "output_type": "stream",
     "text": [
      "냠냠~~\n",
      "냠냠~~\n"
     ]
    }
   ],
   "source": [
    "me = Person()\n",
    "me.eat()\n",
    "Person().eat()"
   ]
  },
  {
   "cell_type": "code",
   "execution_count": 25,
   "metadata": {},
   "outputs": [],
   "source": [
    "class Amazon:\n",
    "    strength = 20 # 힘\n",
    "    dexterity = 25 # 민첩성\n",
    "    vitality = 20 # 치명타\n",
    "    energy = 20 \n",
    "\n",
    "    def attack(self):\n",
    "        return 'Jab!'\n",
    "    def exercise(self):\n",
    "        self.strength += 2\n",
    "        self.dexterity += 5\n",
    "        self.vitality += 1\n",
    "        self.energy += 1"
   ]
  },
  {
   "cell_type": "code",
   "execution_count": 27,
   "metadata": {},
   "outputs": [
    {
     "name": "stdout",
     "output_type": "stream",
     "text": [
      "Jab!\n"
     ]
    }
   ],
   "source": [
    "me = Amazon()\n",
    "you = Amazon()\n",
    "you.attack()\n",
    "print(me.attack())"
   ]
  },
  {
   "cell_type": "code",
   "execution_count": 28,
   "metadata": {},
   "outputs": [
    {
     "data": {
      "text/plain": [
       "20"
      ]
     },
     "execution_count": 28,
     "metadata": {},
     "output_type": "execute_result"
    }
   ],
   "source": [
    "me = Amazon()\n",
    "me.strength"
   ]
  },
  {
   "cell_type": "code",
   "execution_count": null,
   "metadata": {},
   "outputs": [],
   "source": [
    "# 객체(개념이 존재하는 것) != 인스턴스(DNA가 있는 것)\n",
    "# 객체는 독립적인 데이터 혹은 변수, 사실상 거의 모든 것이 객체임"
   ]
  },
  {
   "cell_type": "code",
   "execution_count": null,
   "metadata": {},
   "outputs": [],
   "source": [
    "# 이론\n",
    "# 1. 파이썬의 모든 객체는 자료형을 가짐(int, str, float, list,...)\n",
    "# 2. 파이썬 인스턴스는 클래스로부터 생성됨\n",
    "# 3. 파이썬의 객체도 클래스로부터 만들어짐\n",
    "# 4. 파이썬의 클래스는 객체임\n",
    "# 5. me는 객체, 인스턴스\n",
    "# 6. 100은 int형 객체임"
   ]
  },
  {
   "cell_type": "code",
   "execution_count": null,
   "metadata": {},
   "outputs": [],
   "source": [
    "# 클래스에 있는 self는 '나'를 의미하는데\n",
    "# '나'라는 존재는 class를 담을 때 쓰인 변수를 의미함\n",
    "# me = Person()에서 me는 객체이면서 인스턴스임\n",
    "# me.eat()라고하는 것은 self가 있기 때문에 me를 인지할 수 있음"
   ]
  },
  {
   "cell_type": "code",
   "execution_count": null,
   "metadata": {},
   "outputs": [],
   "source": [
    "# 고양이 클래스를 생성해서 고양이 우는기능, 꼬리흔들기, 바라보기"
   ]
  },
  {
   "cell_type": "code",
   "execution_count": null,
   "metadata": {},
   "outputs": [],
   "source": [
    "# 내일까지는 클래스\n",
    "# 모레부터 웹 스크래핑(라이브러리, 웹에 대한 이해(개발자도구>elements), re라이브러리)\n",
    "# 웹개발은(단기)\n",
    "# 장고(단기)-> 코드주고 설명(규칙이나 패턴 등에 대해 자세히) 그리고 실행\n",
    "# 알고리즘은 이론 및 직접 구현(정렬, 탐색, 트리)\n",
    "# 넘파이, 판다스\n",
    "# 머신러닝, 딥러닝"
   ]
  }
 ],
 "metadata": {
  "kernelspec": {
   "display_name": "Python 3",
   "language": "python",
   "name": "python3"
  },
  "language_info": {
   "codemirror_mode": {
    "name": "ipython",
    "version": 3
   },
   "file_extension": ".py",
   "mimetype": "text/x-python",
   "name": "python",
   "nbconvert_exporter": "python",
   "pygments_lexer": "ipython3",
   "version": "3.10.9"
  }
 },
 "nbformat": 4,
 "nbformat_minor": 2
}
