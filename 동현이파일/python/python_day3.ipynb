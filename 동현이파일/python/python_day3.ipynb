{
 "cells": [
  {
   "cell_type": "markdown",
   "metadata": {},
   "source": [
    "<h2>파이썬의 특징</h2>\n",
    "\n",
    "1. 인터프리터 언어다!!! -> 인터프리터가 뭐냐???\n",
    "   1. python - 인터프리터, C -> 컴파일러\n",
    "   2. 인터프리터 => 동시통역 - 컴퓨터는 기계어만 알아들음.(0,1) -> 고수준 언어 = 사람한테 친숙함\n",
    "   3. C => 컴파일러. 모든 코드를 다 읽어!! 이후에 통째로 번역시도. -> 저수준 = 컴퓨터가 알아듣기 쉬움(기계어)\n",
    "2. 파이썬은 대화형이다. => prompt 코드작성가능\n",
    "3. 파이썬은 객체지향형이다!! -> class(클래스), object(객체), 캡슐화(접근제어 컨트롤 가능하면됨), 상속(오버로딩, 오버라이딩), 다형성\n",
    "4. 배우기 쉽다 = 인간에게 친숙한 언어(1번과 동일한 내용임)\n",
    "5. 이식성 => 호환성도 좋고 어디 붙여도 모나지 않아! 인공지능, 언리얼5\n",
    "6. 메모리 관리 다소 쉬움. c였으면 *(포인터) 주소를 참조할 수 있고 삭제나 이것저것 가능. 파이썬 신경쓸 필요가 없다!"
   ]
  },
  {
   "cell_type": "markdown",
   "metadata": {},
   "source": [
    "<h2>예약어</h2>\n",
    "\n"
   ]
  },
  {
   "cell_type": "markdown",
   "metadata": {},
   "source": [
    "예약어 = 정해져 있는 함수 혹은 클래스와 같은 사용하기로 정해져 있는 단어(코드)를 의미함.\n",
    "and, assert, break, class, def, del, elif, else, except, in, is, lambda, with, while ( 이런 애들을 변수로 쓰면 안됨!!)\n",
    "언어별로 예약어가 다름. 그래서 가급적이면 'list'같은거 변수로 쓰지 말것 string같은 것도. number, int, integer 이런거 전부 변수명으로 쓰지 말것!! 왜냐? 다른 언어에서는 이게 예약어임."
   ]
  },
  {
   "cell_type": "markdown",
   "metadata": {},
   "source": [
    "<h2>행과 들여쓰기</h2>"
   ]
  },
  {
   "cell_type": "markdown",
   "metadata": {},
   "source": [
    "행은 한줄 띄어쓰기\n",
    "자바에서는 한줄 띄어쓰기가 중요하지 않음. 왜냐면 ;을 붙이면 한줄 종료거든\n",
    "System.out.print('1'); // 종료됨\n",
    "파이썬은 한줄 띄어쓰기가 안되면 코드가 안끝나는 것.\n",
    "\n",
    "들여쓰기\n",
    "if(){\n",
    "\n",
    "} // 중괄호 안에 들어가면 코드가 전부 실행가능(들여쓰기 없어도 됨)\n",
    "\n",
    "\n",
    "if True:  // 올바른 예시\n",
    "    print('true')\n",
    "\n",
    "if True:  // 잘못된 예시\n",
    "print('true') // 들여쓰기는 ':' 이후에 무조건 적용되어야 한다."
   ]
  },
  {
   "cell_type": "markdown",
   "metadata": {},
   "source": [
    "출력문\n",
    "\n",
    "print 'true' // 이거 따라하지 말것 => 버전이 2.x일때 사용되던 문법임\n",
    "print('true') // 현재는 이렇게 사용\n",
    "\n",
    "if문은 사용가능\n",
    "if true:\n",
    "    print('true')\n",
    "\n",
    "if(true):\n",
    "    print()"
   ]
  },
  {
   "cell_type": "markdown",
   "metadata": {},
   "source": [
    "파이썬 문자열(따옴표의 용도)\n",
    "x = 'string'\n",
    "x = \"string\"\n",
    "x = '''string'''\n",
    "x = \"\"\"stri\n",
    "엔터도 가능\n",
    "ng\"\"\"\n",
    "\n",
    "\n",
    "String - char\n",
    "'a'\n",
    "\n",
    "String st = \"string\"\n",
    "char a = 'a'\n",
    "char a = 'ab'; // 에러남!! => char 타입은 한글자만 가능해"
   ]
  },
  {
   "cell_type": "markdown",
   "metadata": {},
   "source": [
    "주석 != 김일성 주석\n",
    "파이썬의 주석은 '#'을 사용하는 것"
   ]
  },
  {
   "cell_type": "markdown",
   "metadata": {},
   "source": [
    "변수 선언\n",
    "var(변수명) = val(값 혹은 데이터)\n",
    " 이렇게 선언이 됨\n",
    "\n",
    "타입 선언이 없음\n",
    "\n",
    "a = b = c = 1\n",
    "print(a,b,c) // 출력: 1 (동시 선언 가능)\n",
    "a, b, c = 1, '홍길동', 3\n",
    "print(a,b,c) // 출력: 1, '홍길동', 3 (한줄에 각각 선언 가능)\n",
    "a, b, c = [1, 2, 3] // 리스트 형식도 분배해서 변수 할당 가능\n",
    "print(a,b,c) // 출력: 1, 2, 3\n"
   ]
  },
  {
   "cell_type": "markdown",
   "metadata": {},
   "source": [
    "지금까지 설명한 내용\n",
    "\n",
    "1. 파이썬의 특징\n",
    "2. 예약어\n",
    "3. 행과 들여쓰기 v\n",
    "4. 출력문(뜬금포)\n",
    "5. 파이썬 문자열  v\n",
    "6. 주석\n",
    "7. 변수 선언  v"
   ]
  },
  {
   "cell_type": "markdown",
   "metadata": {},
   "source": [
    "<h2>자료형</h2>"
   ]
  },
  {
   "cell_type": "code",
   "execution_count": 2,
   "metadata": {},
   "outputs": [],
   "source": [
    "num1 = 1 # 숫자 데이터\n",
    "num2 = 10"
   ]
  },
  {
   "cell_type": "code",
   "execution_count": 9,
   "metadata": {},
   "outputs": [
    {
     "name": "stdout",
     "output_type": "stream",
     "text": [
      "hello worldhello world\n",
      "hello world    hi\n"
     ]
    }
   ],
   "source": [
    "st = 'hello world' # 왜 hello world를 주구장창 갈기냐??!!! 이유는 나도 몰라ㅋ\n",
    "# print(st)\n",
    "# print(st[0]) # 인덱싱이 가능함 = character같이 한글자씩 추출\n",
    "# print(st[1:4]) # 본격적 인덱싱!!\n",
    "# print(st[3:]) # 생략된 구간은 끝을 의미함\n",
    "# print(st[:5])\n",
    "\n",
    "print(st * 2) # 문자열에 연산이 가능함(곱셈에 한정해서)\n",
    "print(st + '    hi') # 문자열 덧셈이 가능함"
   ]
  },
  {
   "cell_type": "code",
   "execution_count": 17,
   "metadata": {},
   "outputs": [
    {
     "name": "stdout",
     "output_type": "stream",
     "text": [
      "abcd\n",
      "[123, 1.5, 'john']\n",
      "['abcd', 123, 1.5, 'john'] 삭제전\n"
     ]
    },
    {
     "data": {
      "text/plain": [
       "([123, 1.5, 'john'], '삭제후')"
      ]
     },
     "execution_count": 17,
     "metadata": {},
     "output_type": "execute_result"
    }
   ],
   "source": [
    "# 리스트\n",
    "lst = ['abcd', 123, 1.5, 'john'] # 심지어 함수도 들어갈 수 있음;;\n",
    "# 짧은 지식\n",
    "# 리스트는 모든 타입의 데이터가 각자 들어가도 문제 없어\n",
    "# array != list\n",
    "# array string타입이면 string의 데이터만 들어감\n",
    "# Int [] array = [1,2,3] 아마 자바는 이런식으로 될 거임\n",
    "print(lst[0])\n",
    "print(lst[1:])\n",
    "print(lst, '삭제전')\n",
    "del lst[0] # 리스트의 0번째 인덱스 삭제\n",
    "# del 변수명[인덱스번호]\n",
    "\n",
    "lst, '삭제후'"
   ]
  },
  {
   "cell_type": "code",
   "execution_count": 22,
   "metadata": {},
   "outputs": [
    {
     "data": {
      "text/plain": [
       "[123, 234]"
      ]
     },
     "execution_count": 22,
     "metadata": {},
     "output_type": "execute_result"
    }
   ],
   "source": [
    "# lst.remove(123)\n",
    "lst2 = [123,123,234]\n",
    "lst2.remove(123)\n",
    "lst2\n",
    "\n",
    "# 리스트에 사용하는 del 함수와 remove함수는 비슷하지만 다름\n",
    "# del은 인덱스번호를 사용하는데 반면, remove는 인덱스에 해당하는 데이터이름을 삭제지정이 가능함"
   ]
  },
  {
   "cell_type": "code",
   "execution_count": 29,
   "metadata": {},
   "outputs": [
    {
     "data": {
      "text/plain": [
       "('abcd', 123, 1.4)"
      ]
     },
     "execution_count": 29,
     "metadata": {},
     "output_type": "execute_result"
    }
   ],
   "source": [
    "# 튜플(tuple)  리스트랑 비슷함\n",
    "\n",
    "tu = ('abcd', 123, 1.4) # 튜플은 소괄호 선언\n",
    "tu # 선언방식이 괄호 모양만 차이가 남\n",
    "\n",
    "# 언제 쓰는 걸까? => 고정된 값을 사용 => 상수일 경우 = const 타입 = 값이 불변하는 변수일 경우 튜플을 사용한다.\n",
    "tu = list(tu)\n",
    "tu\n",
    "tu = tuple(tu)\n",
    "tu\n",
    "\n",
    "# 리스트와 차이점 = 변경이 불가능함(데이터 수정, 삭제, 갱신, 추가) but 타입변경 가능"
   ]
  },
  {
   "cell_type": "code",
   "execution_count": 42,
   "metadata": {},
   "outputs": [
    {
     "name": "stdout",
     "output_type": "stream",
     "text": [
      "dict_keys(['name', 'age', 'addr'])\n",
      "dict_values(['choi', 26, '천안'])\n",
      "choi\n"
     ]
    }
   ],
   "source": [
    "# 사전(dictionary) dict == hash(자바)\n",
    "key_value = {'name': 'choi', 'age': 26, 'addr':'천안'}\n",
    "# {키(key): 값(value)}\n",
    "\n",
    "# for i in key_value:\n",
    "#     print(key_value.get(i)) # 키값만 나옴\n",
    "# for k, v in key_value.items():\n",
    "#     print(k, v)\n",
    "\n",
    "print(key_value.keys()) # 키값\n",
    "print(key_value.values()) # value값\n",
    "\n",
    "print(key_value['name']) # 인덱싱은 안되지만 키값을 넣으면 value를 반환함"
   ]
  },
  {
   "cell_type": "code",
   "execution_count": 43,
   "metadata": {},
   "outputs": [
    {
     "data": {
      "text/plain": [
       "{'a': 1, 'b': 2, 'c': 3}"
      ]
     },
     "execution_count": 43,
     "metadata": {},
     "output_type": "execute_result"
    }
   ],
   "source": [
    "# dict 사용방법2\n",
    "lst1 = ['a', 'b', 'c']\n",
    "lst2 = [1,2,3]\n",
    "dict_data = dict(zip(lst1, lst2))\n",
    "dict_data"
   ]
  },
  {
   "cell_type": "markdown",
   "metadata": {},
   "source": [
    "<h2>자료형</h2>\n",
    "\n",
    "1. 숫자\n",
    "2. 문자열\n",
    "3. 리스트\n",
    "4. 튜플\n",
    "5. 딕셔너리(사전이라고 안하더라...??)"
   ]
  },
  {
   "cell_type": "markdown",
   "metadata": {},
   "source": [
    "<h2>파이썬 연산자</h2>"
   ]
  },
  {
   "cell_type": "code",
   "execution_count": 45,
   "metadata": {},
   "outputs": [
    {
     "data": {
      "text/plain": [
       "0"
      ]
     },
     "execution_count": 45,
     "metadata": {},
     "output_type": "execute_result"
    }
   ],
   "source": [
    "# 산술연산자\n",
    "#  +, -, *, /(사칙연산) \n",
    "# '**' == 제곱\n",
    "# '%' == 나머지\n",
    "# '//' == 몫\n",
    "\n",
    "# 3이 나오는 덧셈식"
   ]
  },
  {
   "cell_type": "code",
   "execution_count": 47,
   "metadata": {},
   "outputs": [],
   "source": [
    "# 비교 연산자\n",
    "# ==(같음??), !=(다름??), >(왼쪽이 오른쪽보다 크냐?), <, >=, <="
   ]
  },
  {
   "cell_type": "code",
   "execution_count": 53,
   "metadata": {},
   "outputs": [
    {
     "data": {
      "text/plain": [
       "True"
      ]
     },
     "execution_count": 53,
     "metadata": {},
     "output_type": "execute_result"
    }
   ],
   "source": [
    "# 논리 연산자\n",
    "# and, or , not"
   ]
  },
  {
   "cell_type": "code",
   "execution_count": 57,
   "metadata": {},
   "outputs": [
    {
     "data": {
      "text/plain": [
       "True"
      ]
     },
     "execution_count": 57,
     "metadata": {},
     "output_type": "execute_result"
    }
   ],
   "source": [
    "# 멤버십 연산자\n",
    "# in, not in"
   ]
  },
  {
   "cell_type": "code",
   "execution_count": 59,
   "metadata": {},
   "outputs": [
    {
     "name": "stdout",
     "output_type": "stream",
     "text": [
      "True\n"
     ]
    }
   ],
   "source": [
    "# 아이덴티티 연산자\n",
    "# is(==), is not(!=)\n",
    "a = 'abc'\n",
    "b = a\n",
    "print(a is b)"
   ]
  },
  {
   "cell_type": "code",
   "execution_count": 65,
   "metadata": {},
   "outputs": [],
   "source": [
    "# 할당연산자\n",
    "# +=, -=, *=, /=, %=, **=, //="
   ]
  },
  {
   "cell_type": "code",
   "execution_count": null,
   "metadata": {},
   "outputs": [],
   "source": [
    "# 연산자에 대해서 공부했는데 이중 우선순위가 있음(괄호는 전부 제외)\n",
    "# 1. '**'\n",
    "# 2. *, /, %, //\n",
    "# 3. +, - \n",
    "\n",
    "# 3순위까지 알면 됨\n",
    "\n",
    "# 4. <, >, >=, <=(비교연산자)\n",
    "# 5. ==, != (평등연산자)\n",
    "# 6. = (할당연산자)\n",
    "# 7. is, is not \n",
    "# 8. in, in not"
   ]
  },
  {
   "cell_type": "markdown",
   "metadata": {},
   "source": [
    "딕셔너리"
   ]
  }
 ],
 "metadata": {
  "kernelspec": {
   "display_name": "Python 3",
   "language": "python",
   "name": "python3"
  },
  "language_info": {
   "codemirror_mode": {
    "name": "ipython",
    "version": 3
   },
   "file_extension": ".py",
   "mimetype": "text/x-python",
   "name": "python",
   "nbconvert_exporter": "python",
   "pygments_lexer": "ipython3",
   "version": "3.10.9"
  }
 },
 "nbformat": 4,
 "nbformat_minor": 2
}
