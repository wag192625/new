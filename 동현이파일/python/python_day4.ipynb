{
 "cells": [
  {
   "cell_type": "markdown",
   "metadata": {},
   "source": [
    "반복문, if문을 배울 것. 문제를 출제할 것."
   ]
  },
  {
   "cell_type": "code",
   "execution_count": 4,
   "metadata": {},
   "outputs": [
    {
     "name": "stdout",
     "output_type": "stream",
     "text": [
      "9\n",
      "8\n",
      "7\n",
      "6\n",
      "5\n"
     ]
    }
   ],
   "source": [
    "# 반복문이란?\n",
    "# 1, 2, 3, ... 이와같이 연속적으로 실행하는 코드 함수나 코딩 작업하는 것\n",
    "# while, for\n",
    "\n",
    "# 사용방법\n",
    "# while(실행되야 하는 조건):\n",
    "#     실행할 코드\n",
    "# a = 3\n",
    "# while(a>2): # 조건이 충족되면 미충족이 될때까지 계속 반복\n",
    "#     print(1)\n",
    "\n",
    "a = 5 \n",
    "# 문제: a가 10보다 작을 때 출력되도록 하려면?\n",
    "# +=, -=\n",
    "# a가 5가 될때까지 출력해보기\n",
    "while(True):\n",
    "    a -= 1\n",
    "    print(a)\n",
    "    if(a < 5):\n",
    "        break"
   ]
  },
  {
   "cell_type": "code",
   "execution_count": 6,
   "metadata": {},
   "outputs": [
    {
     "name": "stdout",
     "output_type": "stream",
     "text": [
      "0\n",
      "1\n",
      "2\n",
      "3\n",
      "4\n"
     ]
    }
   ],
   "source": [
    "# for문\n",
    "# for i(변수명) in range(시작숫자, 종료숫자, 스텝수)\n",
    "for i in range(5):\n",
    "    print(i)\n",
    "\n",
    "# for문에는 range 이외에 리스트 변수 혹은 문자열 변수 등을 사용할 수 있음\n",
    "\n",
    "# while문 for문의 차이?\n",
    "# for문은 횟수가 정해지고 while은 횟수가 무한대로 반복될 때 사용?\n",
    "# for문과 while문은 각자 어떤 상황에 실행을 하는가??\n",
    "\n",
    "# for문의 조건 == 데이터의 범위 + 횟수가 정해진거\n",
    "# while문의 조건 == 특정상황이 충족되면 그만둘때. 실제 개발에서는 잘 안쓰임"
   ]
  },
  {
   "cell_type": "code",
   "execution_count": 8,
   "metadata": {},
   "outputs": [
    {
     "name": "stdout",
     "output_type": "stream",
     "text": [
      "대한민국\n"
     ]
    }
   ],
   "source": [
    "# 문제를 위한 복습문제\n",
    "a = '대한'\n",
    "b = '민국'\n",
    "print(a+b)"
   ]
  },
  {
   "cell_type": "code",
   "execution_count": 15,
   "metadata": {},
   "outputs": [
    {
     "name": "stdout",
     "output_type": "stream",
     "text": [
      "3\n",
      "6\n",
      "9\n",
      "12\n",
      "15\n",
      "18\n",
      "1rs2rs31rs2rs31rs2rs31rs2rs31rs2rs3"
     ]
    }
   ],
   "source": [
    "# 1~20까지의 3의 배수만 출력해보아라!\n",
    "\n",
    "for i in range(3,20,3):\n",
    "    print(i)\n",
    "\n",
    "# 출력 결과(한줄로 출력)\n",
    "# 대한민국충청남도천안시\n",
    "lst = ['대한', '민국', '충청', '남도', '천안시']\n",
    "res = ''\n",
    "for i in lst:\n",
    "    print(1,2,3, sep='rs', end='') # 내 생각엔 자연어용 사용법인듯"
   ]
  },
  {
   "cell_type": "code",
   "execution_count": 18,
   "metadata": {},
   "outputs": [
    {
     "name": "stdout",
     "output_type": "stream",
     "text": [
      "몰라\n"
     ]
    }
   ],
   "source": [
    "# if(참인가?): 이후는 실행구문\n",
    "# if(변수를 넣었을 때 변수에 데이터가 있으면 True 없으면 False):\n",
    "\n",
    "if(a == '일'):\n",
    "    print(1)\n",
    "elif(a == '이'): # 자바였으면 else if였겠지\n",
    "    print(2)\n",
    "else:\n",
    "    print('몰라')"
   ]
  },
  {
   "cell_type": "code",
   "execution_count": null,
   "metadata": {},
   "outputs": [],
   "source": [
    "a = 5\n",
    "# a가 3보다 크고 10보다 작으면 middle이라고 출력해라\n",
    "if(3<a<10):\n",
    "    print('middle')\n",
    "\n",
    "b = 10\n",
    "# a가 1보다 작으면 a, b가 5보다 크면 b, 둘다 해당되면 a+b값을 출력"
   ]
  },
  {
   "cell_type": "markdown",
   "metadata": {},
   "source": [
    "while, for, if + print 사용법"
   ]
  },
  {
   "cell_type": "code",
   "execution_count": null,
   "metadata": {},
   "outputs": [],
   "source": [
    "# input()\n",
    "num = int(input()) # 무슨 데이터를 입력해도 다 받아냄. 다만, 전부 문자열로 받아냄\n",
    "print(type(num), num) # 입력값 1 => 출력은 '1'\n",
    "num + 15 # 입력값: 15, 출력 :자바스크립트라면 1515로 출력됨"
   ]
  },
  {
   "cell_type": "code",
   "execution_count": null,
   "metadata": {},
   "outputs": [],
   "source": [
    "# 문제1\n",
    "\n",
    "# num 변수가 있는데 num의 값을 입력받아서 while문을 이용해서\n",
    "# num의 숫자만큼 반복출력 및 띄어쓰기 횟수를 적용하고 \n",
    "# 뒤에 num의 숫자를 출력하라\n",
    "\n",
    "# 예시\n",
    "# 입력 : num = 3\n",
    "# 출력 :\n",
    "# '   3'\n",
    "# '   3'\n",
    "# '   3'"
   ]
  },
  {
   "cell_type": "code",
   "execution_count": 42,
   "metadata": {},
   "outputs": [
    {
     "name": "stdout",
     "output_type": "stream",
     "text": [
      "30\n",
      "1515\n",
      "151515\n"
     ]
    }
   ],
   "source": [
    "print(15+15)\n",
    "print('15'+'15')\n",
    "# print('15'+15) # 에러\n",
    "print('15'*3)"
   ]
  },
  {
   "cell_type": "code",
   "execution_count": null,
   "metadata": {},
   "outputs": [],
   "source": [
    "# 문제2\n",
    "\n",
    "# num 변수가 있는데 num의 값을 입력받아서 for문을 이용해서\n",
    "# num의 숫자만큼 반복출력 및 띄어쓰기 횟수를 적용하고 \n",
    "# 뒤에 num의 숫자를 출력하라\n",
    "\n",
    "# 예시\n",
    "# 입력 : num = 3\n",
    "# 출력 :\n",
    "# '   3'\n",
    "# '   3'\n",
    "# '   3'"
   ]
  },
  {
   "cell_type": "code",
   "execution_count": null,
   "metadata": {},
   "outputs": [],
   "source": [
    "# 문제3\n",
    "# num 변수에 들어간 숫자만큼 num의 제곱을 출력하라!\n",
    "# (for, while문 각각 풀어볼 것)\n",
    "# 예시\n",
    "# 입력값: num = 4\n",
    "# 출력값\n",
    "# 1 1\n",
    "# 2 4\n",
    "# 3 9\n",
    "# 4 16"
   ]
  },
  {
   "cell_type": "markdown",
   "metadata": {},
   "source": [
    "<!-- 반복해야될 횟수만큼 반복했는지 확인 -->\n",
    "<!-- 반복조건이 명확한지 확인 -->"
   ]
  },
  {
   "cell_type": "code",
   "execution_count": null,
   "metadata": {},
   "outputs": [],
   "source": [
    "# 문제4\n",
    "# num 변수에 들어간 한글 숫자(예: '일', '이',...) 10미만의 자연수\n",
    "# if문을 이용해서 들어온 글자를 숫자로 변환하여 출력하라\n",
    "# 예시\n",
    "# 입력값 : '일'\n",
    "# 출력값 : 1\n",
    "# 입력값 : '사'\n",
    "# 출력값 : 4"
   ]
  },
  {
   "cell_type": "code",
   "execution_count": null,
   "metadata": {},
   "outputs": [],
   "source": [
    "# 문제5\n",
    "# num 변수에 들어간 숫자가 양수이면 계속 더하고,\n",
    "# 양수가 아닌 정수(0이하의 숫자)가 들어가면 중단 후 총합 출력\n",
    "# 예시\n",
    "# 입력값\n",
    "# 1\n",
    "# 2\n",
    "# 3\n",
    "# 0\n",
    "# 출력값\n",
    "# 6"
   ]
  },
  {
   "cell_type": "code",
   "execution_count": 34,
   "metadata": {},
   "outputs": [
    {
     "data": {
      "text/plain": [
       "[1, 2, 3]"
      ]
     },
     "execution_count": 34,
     "metadata": {},
     "output_type": "execute_result"
    }
   ],
   "source": [
    "# map(함수명, 적용될 데이터)\n",
    "data = list(map(int, input().split()))\n",
    "data = tuple(map(int, input().split()))\n",
    "data\n",
    "\n",
    "# for문 시간복잡도 = logn nlogn n**2,... , 공간복잡도"
   ]
  },
  {
   "cell_type": "code",
   "execution_count": null,
   "metadata": {},
   "outputs": [],
   "source": [
    "# input() 여러번 들어가지 않도록!!!\n",
    "# 직접 입력된 고정값 같은 것은 건들지 않도록(수정 가급적 안하도록)!!\n",
    "# for문은 가급적이면 3중 for문까지 가지말것!!(어떻게 해서라도!!)"
   ]
  },
  {
   "cell_type": "code",
   "execution_count": 44,
   "metadata": {},
   "outputs": [
    {
     "data": {
      "text/plain": [
       "{1, 3, 4, 5, 7, 23, 56}"
      ]
     },
     "execution_count": 44,
     "metadata": {},
     "output_type": "execute_result"
    }
   ],
   "source": [
    "set([1,1,23,56,7,5,3,4,3])"
   ]
  },
  {
   "cell_type": "code",
   "execution_count": null,
   "metadata": {},
   "outputs": [],
   "source": [
    "# try, set, map, lambda 문제풀이(특히 딕셔너리)(for, while, if문)\n",
    "# 리스트 컴프리핸션(if문 for문을 온전히 잘 다룰 때 학습시작할 것)\n",
    "# 모듈 사용 (import) = pandas, numpy, math, datetime, time, re, pickle, os, glob ...\n",
    "# 텍스트파일 다루기 \n",
    "# 함수, 클래스"
   ]
  }
 ],
 "metadata": {
  "kernelspec": {
   "display_name": "Python 3",
   "language": "python",
   "name": "python3"
  },
  "language_info": {
   "codemirror_mode": {
    "name": "ipython",
    "version": 3
   },
   "file_extension": ".py",
   "mimetype": "text/x-python",
   "name": "python",
   "nbconvert_exporter": "python",
   "pygments_lexer": "ipython3",
   "version": "3.10.9"
  }
 },
 "nbformat": 4,
 "nbformat_minor": 2
}
