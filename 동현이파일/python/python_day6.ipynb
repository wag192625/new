{
 "cells": [
  {
   "cell_type": "markdown",
   "metadata": {},
   "source": [
    "split, sum, range, for, map, len, dict, [list].append, 리스트내포(맛보기), (not) in"
   ]
  },
  {
   "cell_type": "markdown",
   "metadata": {},
   "source": [
    "함수, 체감난이도\n",
    "split,  중\n",
    "sum,    중\n",
    "range,  하\n",
    "for,    중\n",
    "map,    상\n",
    "len,    하\n",
    "dict,   상\n",
    "append  하\n",
    "리스트내포 상\n",
    "in      하"
   ]
  },
  {
   "cell_type": "code",
   "execution_count": null,
   "metadata": {},
   "outputs": [],
   "source": [
    "# 리스트.sort(), replace, try, tuple"
   ]
  },
  {
   "cell_type": "code",
   "execution_count": 27,
   "metadata": {},
   "outputs": [
    {
     "data": {
      "text/plain": [
       "['11', '22', '500', '90000', 'a', 'b']"
      ]
     },
     "execution_count": 27,
     "metadata": {},
     "output_type": "execute_result"
    }
   ],
   "source": [
    "lst = [2,6,4,3,8,7]\n",
    "lst.sort() # 오름차순\n",
    "lst.sort(reverse=True) # 내림차순\n",
    "# 직접 구현도 해볼 것!!\n",
    "lst2 = ['a','h','p','s','q','j','d','l']\n",
    "lst2.sort()\n",
    "lst2\n",
    "lst3 = [[1,6],[2,1],[1,6],[4,4],[5,2]] # 리스트가 안에 들어있으면 리스트의 인덱스 순으로 비교를 시작\n",
    "lst3.sort()\n",
    "lst3\n",
    "lst4 = ['11', 'a', '22', 'b', '500', '90000']\n",
    "lst4.sort()\n",
    "lst4"
   ]
  },
  {
   "cell_type": "code",
   "execution_count": 29,
   "metadata": {},
   "outputs": [
    {
     "data": {
      "text/plain": [
       "'Python prograpming is very fun!'"
      ]
     },
     "execution_count": 29,
     "metadata": {},
     "output_type": "execute_result"
    }
   ],
   "source": [
    "# 문자열.replace('바뀌기 전 문자', '바뀐 후 문자', (생략가능 or 횟수))\n",
    "text = 'Python programming is very fun!'\n",
    "text.replace('m','p')"
   ]
  },
  {
   "cell_type": "code",
   "execution_count": 41,
   "metadata": {},
   "outputs": [
    {
     "name": "stdout",
     "output_type": "stream",
     "text": [
      "name 'a' is not defined\n",
      "1\n"
     ]
    }
   ],
   "source": [
    "# try - except\n",
    "lst = [11,'a',22]\n",
    "# lst.sort()\n",
    "d = {1:'a',2:'b'}\n",
    "try: \n",
    "    # d['a'] < 1\n",
    "    a > 1\n",
    "except KeyError as e: # except는 여러개 사용 가능\n",
    "    print(e)\n",
    "except Exception as e: # 코드를 종료시키지 않음\n",
    "    print(e) # 예외처리할 경우 출력\n",
    "else: # 예외처리가 없을 경우 실행\n",
    "    print('safe')"
   ]
  },
  {
   "cell_type": "code",
   "execution_count": null,
   "metadata": {},
   "outputs": [],
   "source": [
    "# 중요한 사용법은 이것만 알아도 ok\n",
    "try:\n",
    "    a > 1\n",
    "    ...\n",
    "    ...\n",
    "except:\n",
    "    print('error')\n",
    "\n",
    "print('finish')"
   ]
  },
  {
   "cell_type": "code",
   "execution_count": null,
   "metadata": {},
   "outputs": [],
   "source": [
    "try: # 일단 실행하고 봄...\n",
    "    f  = open('text.txt', 'r')\n",
    "finally: # 터져도 실행하는 코드 . 근데 언제 쓰는지는 몰?루\n",
    "    f.close()"
   ]
  },
  {
   "cell_type": "code",
   "execution_count": 46,
   "metadata": {},
   "outputs": [],
   "source": [
    "# tuple 바뀌지 않는 데이터를 만들어서 사용할 때 씀\n",
    "t = (1,2)\n",
    "t[0] # 추출가능\n",
    "# t[0]= 2\n",
    "li = list(t)\n",
    "li.append(3)"
   ]
  },
  {
   "cell_type": "code",
   "execution_count": 48,
   "metadata": {},
   "outputs": [
    {
     "data": {
      "text/plain": [
       "[1, 2, 3, 4]"
      ]
     },
     "execution_count": 48,
     "metadata": {},
     "output_type": "execute_result"
    }
   ],
   "source": [
    "li.insert(3,4)\n",
    "li.pop() # 후입선출"
   ]
  },
  {
   "cell_type": "code",
   "execution_count": 51,
   "metadata": {},
   "outputs": [
    {
     "data": {
      "text/plain": [
       "3"
      ]
     },
     "execution_count": 51,
     "metadata": {},
     "output_type": "execute_result"
    }
   ],
   "source": [
    "# 스택 = 후입선출 => 컴퓨터 시스템은 스택구조 실행\n",
    "# 큐 = 선입선출 => 데이터 관리에서는 이런식"
   ]
  },
  {
   "cell_type": "code",
   "execution_count": 52,
   "metadata": {},
   "outputs": [],
   "source": [
    "# 튜플은 수정이 안되는 데이터임\n",
    "# 수정하고 싶으면 리스트화 시키면 됨\n",
    "# 이후 수정 끝나면 다시 튜플화"
   ]
  },
  {
   "cell_type": "code",
   "execution_count": null,
   "metadata": {},
   "outputs": [],
   "source": []
  },
  {
   "cell_type": "code",
   "execution_count": null,
   "metadata": {},
   "outputs": [],
   "source": [
    "# 문제: 주어진 문자열을 공백을 기준으로 나누어서 각 단어를 출력하는 프로그램을 작성하라.\n",
    "# 입력: \"Python programming is fun\"\n",
    "# 출력\n",
    "# python\n",
    "# programming\n",
    "# is\n",
    "# fun\n"
   ]
  },
  {
   "cell_type": "code",
   "execution_count": null,
   "metadata": {},
   "outputs": [],
   "source": [
    "# 사용자로부터 입력받은 숫자들을 쉼표로 구분한 뒤 모든 숫자를 더하시오.\n",
    "# 입력: \"10, 20, 30, 40, 50\""
   ]
  },
  {
   "cell_type": "code",
   "execution_count": null,
   "metadata": {},
   "outputs": [],
   "source": [
    "# 문장의 공백을 기준으로 몇 글자인지 출력하시오.\n",
    "# 입력: \"Python programming is fun\"\n",
    "# 출력: 6 11 2 3"
   ]
  },
  {
   "cell_type": "code",
   "execution_count": null,
   "metadata": {},
   "outputs": [],
   "source": []
  },
  {
   "cell_type": "code",
   "execution_count": null,
   "metadata": {},
   "outputs": [],
   "source": [
    "# nums = [1,2,3,4,5]에서 합한 값을 구하라\n",
    "# val = (10,20,30,40,50) 의 합을 계산하라"
   ]
  },
  {
   "cell_type": "code",
   "execution_count": null,
   "metadata": {},
   "outputs": [],
   "source": [
    "# lst = [1,2,3,4,5]\n",
    "# lst를 0 1 2 3 4 5로 출력하도록 만들어라\n",
    "# lst2에 5의 배수이며 1000이하의 숫자가 담기도록 만들어라\n",
    "# lst2를 이용하여 6의 배수만 출력하라"
   ]
  },
  {
   "cell_type": "code",
   "execution_count": null,
   "metadata": {},
   "outputs": [],
   "source": []
  },
  {
   "cell_type": "code",
   "execution_count": null,
   "metadata": {},
   "outputs": [],
   "source": [
    "# 입력한 숫자의 세제곱씩 출력하는 프로그램을 만들어라\n",
    "# 입력 : [1,2,3,4,5]\n",
    "# 출력 : 1, 8, 27, 64, 125"
   ]
  },
  {
   "cell_type": "code",
   "execution_count": null,
   "metadata": {},
   "outputs": [],
   "source": [
    "# words = [\"apple\", \"banana\", \"orange\", \"grape\"]\n",
    "# 위의 단어들을 2가지 방법으로 길이를 출력하라(for or while, map)"
   ]
  },
  {
   "cell_type": "code",
   "execution_count": 53,
   "metadata": {},
   "outputs": [],
   "source": [
    "# 한번의 input으로 여러개의 단어를 받고 출력하라\n",
    "# 입력 : 사탕, 사과, 과자, 탕수육\n",
    "# 출력 : \n",
    "# 사탕\n",
    "# 사과\n",
    "# 과자\n",
    "# 탕수육"
   ]
  },
  {
   "cell_type": "code",
   "execution_count": null,
   "metadata": {},
   "outputs": [],
   "source": []
  },
  {
   "cell_type": "code",
   "execution_count": 63,
   "metadata": {},
   "outputs": [
    {
     "data": {
      "text/plain": [
       "3"
      ]
     },
     "execution_count": 63,
     "metadata": {},
     "output_type": "execute_result"
    }
   ],
   "source": [
    "# text = 'Hello, world!'\n",
    "# 위 변수에서 전체 글자의 수를 출력하시오\n",
    "# 위 변수에서 'l'을 뺀 글자의 수를 출력하시오\n",
    "# tu = (1,23,3,4,5,6)\n",
    "# 위 튜플의 길이를 구하시오.\n",
    "# my_dict = {'a': 1, 'b': 2, 'c': 3}\n",
    "# 위 딕셔너리의 길이를 구하시오.\n",
    "# 길이를 구할 땐 보통 len함수, 개수를 구하라고 하면 count()\n",
    "# 근데 위의 문제는 글자의 수(=길이)"
   ]
  },
  {
   "cell_type": "code",
   "execution_count": 64,
   "metadata": {},
   "outputs": [
    {
     "data": {
      "text/plain": [
       "['name', 'population', 'country', 'famous_for']"
      ]
     },
     "execution_count": 64,
     "metadata": {},
     "output_type": "execute_result"
    }
   ],
   "source": [
    "city_info = {\n",
    "    'name': 'Seoul',\n",
    "    'population': 9741381,\n",
    "    'country': 'South Korea',\n",
    "    'famous_for': ['K-pop', 'Gangnam Style', 'Palaces']\n",
    "}\n",
    "# city_info에서 country가 무엇인지 출력하시오.\n",
    "# city_info에서 [name, population, country, famous_for]가 출력되게 하시오."
   ]
  },
  {
   "cell_type": "code",
   "execution_count": null,
   "metadata": {},
   "outputs": [],
   "source": [
    "# 리스트내포는 필수임.\n",
    "# 리스트내포 - 함수 - 람다 - 클래스 순으로 학습진행 예정"
   ]
  },
  {
   "cell_type": "code",
   "execution_count": null,
   "metadata": {},
   "outputs": [],
   "source": [
    "print(*[x for x in my_dict if my_dict[x] == max(list(my_dict.values()))])"
   ]
  },
  {
   "cell_type": "code",
   "execution_count": 73,
   "metadata": {},
   "outputs": [
    {
     "data": {
      "text/plain": [
       "['appleapple', 'bananabanana', 'orangeorange', 'grapegrape']"
      ]
     },
     "execution_count": 73,
     "metadata": {},
     "output_type": "execute_result"
    }
   ],
   "source": [
    "words = [\"apple\", \"banana\", \"orange\", \"grape\"]\n",
    "#     x = 리스트에 들어갈 데이터\n",
    "lst = [x*2 for x in words]\n",
    "lst"
   ]
  },
  {
   "cell_type": "code",
   "execution_count": null,
   "metadata": {},
   "outputs": [],
   "source": [
    "nums = [1,2,3,4]\n",
    "\n",
    "# lst에 담으시오.\n",
    "# lst2에 [2,4,6,8] 되도록 만들고 담으시오."
   ]
  },
  {
   "cell_type": "code",
   "execution_count": 74,
   "metadata": {},
   "outputs": [
    {
     "name": "stdout",
     "output_type": "stream",
     "text": [
      "['orange', 'grape']\n",
      "['orange', 'grape']\n"
     ]
    }
   ],
   "source": [
    "words = [\"apple\", \"banana\", \"orange\", \"grape\"]\n",
    "lst = [x for x in words if 'g' in x] # 힌트\n",
    "print(lst)"
   ]
  },
  {
   "cell_type": "code",
   "execution_count": 76,
   "metadata": {},
   "outputs": [
    {
     "name": "stdout",
     "output_type": "stream",
     "text": [
      "2 4 6 8 10 "
     ]
    }
   ],
   "source": [
    "# for문, 리스트 컴프리핸션을 사용한 두 방식의 문제풀이를 할 것.\n",
    "# 1에서 10까지의 제곱값 리스트를 만드시오.\n",
    "# 1에서 10까지의 짝수만 있는 리스트를 만드시오\n",
    "\n",
    "\n",
    "# words = ['apple', 'banana', 'pitch', 'orange', 'grape']\n",
    "# words의 각 글자수를 리스트에 담아라\n",
    "\n",
    "# 문제\n",
    "# 1 ~ 1000까지 숫자가 들어있는 nums에서 3이 들어가는 것은 '삼'이라고 담도록 만들고\n",
    "# '삼'의 개수가 몇개인지 출력하시오"
   ]
  }
 ],
 "metadata": {
  "kernelspec": {
   "display_name": "Python 3",
   "language": "python",
   "name": "python3"
  },
  "language_info": {
   "codemirror_mode": {
    "name": "ipython",
    "version": 3
   },
   "file_extension": ".py",
   "mimetype": "text/x-python",
   "name": "python",
   "nbconvert_exporter": "python",
   "pygments_lexer": "ipython3",
   "version": "3.10.9"
  }
 },
 "nbformat": 4,
 "nbformat_minor": 2
}
