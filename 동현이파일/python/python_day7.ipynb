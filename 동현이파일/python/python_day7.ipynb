{
 "cells": [
  {
   "cell_type": "code",
   "execution_count": 1,
   "metadata": {},
   "outputs": [
    {
     "name": "stdout",
     "output_type": "stream",
     "text": [
      "We are the world\n",
      "We arthwold\n"
     ]
    }
   ],
   "source": [
    "my_string = 'We are the world'\n",
    "a = [] # 용도가..??\n",
    "b = []\n",
    "for i in my_string:\n",
    "    for j in i :\n",
    "        a.append(j)\n",
    "for i in a :\n",
    "    if i not in b :\n",
    "        b.append(i)\n",
    "\n",
    "print(''.join(b))\n"
   ]
  },
  {
   "cell_type": "code",
   "execution_count": 4,
   "metadata": {},
   "outputs": [
    {
     "data": {
      "text/plain": [
       "'We arthwold'"
      ]
     },
     "execution_count": 4,
     "metadata": {},
     "output_type": "execute_result"
    }
   ],
   "source": [
    "my_string = 'We are the world'\n",
    "lst = []\n",
    "for i in my_string:\n",
    "    if(i not in lst):\n",
    "        lst.append(i)\n",
    "''.join(lst)"
   ]
  },
  {
   "cell_type": "code",
   "execution_count": 15,
   "metadata": {},
   "outputs": [
    {
     "name": "stdout",
     "output_type": "stream",
     "text": [
      "['3 - 4 ', ' -3']\n",
      "['5 + 6 ', ' 11']\n"
     ]
    }
   ],
   "source": [
    "quiz = [\"3 - 4 = -3\", \"5 + 6 = 11\"] # [\"X\", \"O\"]\n",
    "res = []\n",
    "for i in quiz:\n",
    "    cal_list = i.split('=')\n",
    "    oper1 = eval(cal_list[0])\n",
    "    if(oper1 == int(cal_list[1])):\n",
    "        res.append('O')\n",
    "    else:\n",
    "        res.append('X')\n",
    "print(res)"
   ]
  },
  {
   "cell_type": "code",
   "execution_count": 36,
   "metadata": {},
   "outputs": [
    {
     "name": "stdout",
     "output_type": "stream",
     "text": [
      "1\n"
     ]
    }
   ],
   "source": [
    "a, b = \"hello\", \"ohell\"\t# 1\n",
    "# a,b = \"apple\", \"elppa\"\t#-1\n",
    "# a,b = \"atat\", \"tata\"\t#1\n",
    "# a,b = \"abc\",\t\"abc\"\t#0\n",
    "cnt = 0\n",
    "for i in range(len(a)):\n",
    "    if(a[-i:] + a[:-i] == b):\n",
    "        break\n",
    "    elif(a[-i:] + a[:-i] != b):\n",
    "        cnt += 1\n",
    "    if(cnt == len(a)):\n",
    "        cnt = -1\n",
    "print(cnt)"
   ]
  },
  {
   "cell_type": "code",
   "execution_count": 48,
   "metadata": {},
   "outputs": [
    {
     "data": {
      "text/plain": [
       "2"
      ]
     },
     "execution_count": 48,
     "metadata": {},
     "output_type": "execute_result"
    }
   ],
   "source": [
    "# 함수\n",
    "\n",
    "def myfunc(a = 0, b = 0): # 함수 선언\n",
    "    return a + b # 결과 반환(복수로 반환 가능)"
   ]
  },
  {
   "cell_type": "code",
   "execution_count": null,
   "metadata": {},
   "outputs": [],
   "source": [
    "# 사칙연산을 하는 함수를 만들어라\n",
    "# 예시\n",
    "# 입력 : 1, 2 \n",
    "# 결과 : 3, -1, 2, 0.5\n",
    "# 입력 : 5, 4\n",
    "# 결과 : 9, 1, 20, 1.25"
   ]
  },
  {
   "cell_type": "code",
   "execution_count": null,
   "metadata": {},
   "outputs": [],
   "source": [
    "파이썬 프론트엔드 백엔드, 시각화, 인공지능(논문 리뷰, 직접 코딩), 수식(내가 가능해야지,,,),\n",
    "판다스(차트, 문서작업(엑셀)), 타블로(시각화 = '고점'이 한계가 있어)"
   ]
  }
 ],
 "metadata": {
  "kernelspec": {
   "display_name": "Python 3",
   "language": "python",
   "name": "python3"
  },
  "language_info": {
   "codemirror_mode": {
    "name": "ipython",
    "version": 3
   },
   "file_extension": ".py",
   "mimetype": "text/x-python",
   "name": "python",
   "nbconvert_exporter": "python",
   "pygments_lexer": "ipython3",
   "version": "3.10.9"
  }
 },
 "nbformat": 4,
 "nbformat_minor": 2
}
