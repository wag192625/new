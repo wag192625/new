{
 "cells": [
  {
   "cell_type": "markdown",
   "metadata": {},
   "source": [
    "r 사용하기"
   ]
  },
  {
   "cell_type": "code",
   "execution_count": 15,
   "metadata": {},
   "outputs": [
    {
     "name": "stdout",
     "output_type": "stream",
     "text": [
      "<_io.TextIOWrapper name='text.txt' mode='r' encoding='utf-8'>\n",
      "안녕하세요.\n",
      "안녕하세요2\n"
     ]
    }
   ],
   "source": [
    "f = open('text.txt', 'r', encoding='utf-8') # r = read(작성 혹은 수정이 안됨), w = write(읽는 것도 가능은 함. 이전에 작성되어 있는 텍스트가 삭제됨), a(append=> read & write) = 이어쓰기\n",
    "# print(f) # cp949 => 한국어 인코딩(주된 인코딩이 아님 => 출력할 때 보통 깨짐)\n",
    "# f.readline() # 텍스트를 읽어옴\n",
    "# f.readlines() # 텍스트를 읽어옴\n",
    "print(f.read())\n",
    "f.close()"
   ]
  },
  {
   "cell_type": "markdown",
   "metadata": {},
   "source": [
    "w 사용하기"
   ]
  },
  {
   "cell_type": "code",
   "execution_count": 6,
   "metadata": {},
   "outputs": [],
   "source": [
    "f = open('text2.txt', 'w', encoding='utf-8') \n",
    "for i in range(5):\n",
    "    text = f'{i}번째 줄 \\n'\n",
    "    f.write(text)\n",
    "f.close()"
   ]
  },
  {
   "cell_type": "code",
   "execution_count": 11,
   "metadata": {},
   "outputs": [
    {
     "name": "stdout",
     "output_type": "stream",
     "text": [
      "0번째 줄\n",
      "1번째 줄\n",
      "2번째 줄\n",
      "3번째 줄\n",
      "4번째 줄\n"
     ]
    }
   ],
   "source": [
    "# readlines\n",
    "f = open('text2.txt', 'r', encoding='utf-8') # 영어만 쓸 거 아니면 무조건 utf-8 쓸것\n",
    "lines = f.readlines()\n",
    "for line in lines: # 각 line들을 읽어옴\n",
    "    line = line.strip() # 한줄 띄어쓰기 삭제\n",
    "    print(line)\n",
    "f.close()"
   ]
  },
  {
   "cell_type": "code",
   "execution_count": 13,
   "metadata": {},
   "outputs": [
    {
     "name": "stdout",
     "output_type": "stream",
     "text": [
      "0번째 줄 \n",
      "\n",
      "1번째 줄 \n",
      "\n",
      "2번째 줄 \n",
      "\n",
      "3번째 줄 \n",
      "\n",
      "4번째 줄 \n",
      "\n"
     ]
    }
   ],
   "source": [
    "f = open('text2.txt', 'r', encoding='utf-8') # 영어만 쓸 거 아니면 무조건 utf-8 쓸것\n",
    "for i in f: # f라는 객체에서 통째로 가져와 하나씩 i에 담음\n",
    "    print(i)\n",
    "f.close()"
   ]
  },
  {
   "cell_type": "code",
   "execution_count": null,
   "metadata": {},
   "outputs": [],
   "source": [
    "# foo라는 텍스트 파일에 \n",
    "# 'life is short, you need python!!' \n",
    "# 이라는 문구를 작성하여 출력하라"
   ]
  },
  {
   "cell_type": "code",
   "execution_count": 20,
   "metadata": {},
   "outputs": [
    {
     "name": "stdout",
     "output_type": "stream",
     "text": [
      "0번째 줄 \n",
      "1번째 줄 \n",
      "2번째 줄 \n",
      "3번째 줄 \n",
      "4번째 줄 \n",
      "\n"
     ]
    }
   ],
   "source": [
    "# with : 실행 후 with범위 밖으로 나갔을 때 안에 있던 메모리를 할당 해제\n",
    "with open('text2.txt', 'r', encoding='utf-8') as f:\n",
    "    print(f.read())\n",
    "    # with를 쓰면 close함수 없어도 알아서 종료\n",
    "f = open('text2.txt', 'r', encoding='utf-8')\n",
    "f.read()\n",
    "f.close()\n",
    "# f = open('text2.txt', 'r', encoding='utf-8')\n",
    "# f.read() # 작동을 안함\n",
    "\n",
    "# 파이썬은 메모리 관리가 필요없음\n",
    "# 근데 with는 사용자가 관리 가능"
   ]
  },
  {
   "cell_type": "markdown",
   "metadata": {},
   "source": [
    "mode(a) 사용하기"
   ]
  },
  {
   "cell_type": "code",
   "execution_count": 26,
   "metadata": {},
   "outputs": [
    {
     "name": "stdout",
     "output_type": "stream",
     "text": [
      "0번째 줄 \n",
      "1번째 줄 \n",
      "2번째 줄 \n",
      "3번째 줄 \n",
      "4번째 줄 \n",
      "10번째 줄\n",
      "11번째 줄\n",
      "12번째 줄\n",
      "13번째 줄\n",
      "14번째 줄\n",
      "10번째 줄\n",
      "11번째 줄\n",
      "12번째 줄\n",
      "13번째 줄\n",
      "14번째 줄\n",
      "\n"
     ]
    }
   ],
   "source": [
    "f = open('text2.txt', 'a', encoding='utf-8')\n",
    "for i in range(10,15):\n",
    "    text = f'{i}번째 줄\\n'\n",
    "    f.write(text)\n",
    "f.close()\n",
    "f = open('text2.txt', 'r', encoding='utf-8')\n",
    "print(f.read())\n",
    "f.close()"
   ]
  },
  {
   "cell_type": "markdown",
   "metadata": {},
   "source": [
    "라이브러리(pandas, math, datetime, time, re, pickle, os, glob, random ...), 스크래핑, lambda, class, ...api를 사용"
   ]
  }
 ],
 "metadata": {
  "kernelspec": {
   "display_name": "Python 3",
   "language": "python",
   "name": "python3"
  },
  "language_info": {
   "codemirror_mode": {
    "name": "ipython",
    "version": 3
   },
   "file_extension": ".py",
   "mimetype": "text/x-python",
   "name": "python",
   "nbconvert_exporter": "python",
   "pygments_lexer": "ipython3",
   "version": "3.10.9"
  }
 },
 "nbformat": 4,
 "nbformat_minor": 2
}
