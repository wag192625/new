{
 "cells": [
  {
   "cell_type": "code",
   "execution_count": 31,
   "metadata": {},
   "outputs": [
    {
     "name": "stdout",
     "output_type": "stream",
     "text": [
      "3754522518135094521036949423310775939822159736802039839718889132337380424668202771748171426049737415008372742104456962110591600569712353910068094960606371000010154197834655320775709697045385837554931640625\n"
     ]
    },
    {
     "data": {
      "text/plain": [
       "[('a', 1), ('b', 2), ('c', 3)]"
      ]
     },
     "execution_count": 31,
     "metadata": {},
     "output_type": "execute_result"
    }
   ],
   "source": [
    "# 함수를 만드는 만들기는 했음\n",
    "# 함수 -> 내장함수?, 외장함수\n",
    "\n",
    "# 내장함수중 자주 쓰이는 함수가 있음\n",
    "\n",
    "abs(1941651) # 절대값을 취하는 함수\n",
    "any([10,0,-1]) # 하나라도 참이라면 참을 반환\n",
    "chr(44032)\n",
    "ord('가') # 코테 문제로 사용이 적합, 패턴문제로도 적합, 보안도\n",
    "hex(100000)[2:] # 16진수 -> 비트맵\n",
    "print(12345**50) # 파이썬은 메모리에 관대함\n",
    "\n",
    "round(123.50) # 반올림\n",
    "\n",
    "list1 = ['a','b','c']\n",
    "list2 = [1,2,3]\n",
    "zip(list1, list2) # zip만 사용하면 할당된 메모리 주소를 출력\n",
    "list(zip(list1, list2)) # list를 통해서 출력 가능하고 출력될때 (키:쌍)으로 튜플타입을 출력\n",
    "list(zip([1,2],[3,4], [5,6],[7,8]))\n",
    "list(zip('abcd', 'defg')) # 문자열일 경우에는 글자를 쪼개서 키와 값으로 분리"
   ]
  },
  {
   "cell_type": "code",
   "execution_count": 558,
   "metadata": {},
   "outputs": [
    {
     "data": {
      "text/plain": [
       "'A'"
      ]
     },
     "execution_count": 558,
     "metadata": {},
     "output_type": "execute_result"
    }
   ],
   "source": [
    "chr(65)"
   ]
  },
  {
   "cell_type": "code",
   "execution_count": 559,
   "metadata": {},
   "outputs": [
    {
     "name": "stdout",
     "output_type": "stream",
     "text": [
      "abcdefghijklmnopqrstuvwxyz"
     ]
    }
   ],
   "source": [
    "for i in range(97, 123):\n",
    "    print(chr(i), end='')"
   ]
  },
  {
   "cell_type": "code",
   "execution_count": 77,
   "metadata": {},
   "outputs": [
    {
     "data": {
      "text/plain": [
       "3"
      ]
     },
     "execution_count": 77,
     "metadata": {},
     "output_type": "execute_result"
    }
   ],
   "source": [
    "# 외장 함수 => 보통 import를 하여 함수를 사용\n",
    "# 코드엔 속도가 중요하지만 파이썬에서는 쉬운 코드도 중요함\n",
    "# 파이썬은 코테용 언어가 아님. 코테를 생각하면 c나 c++로 가야함\n",
    "# math\n",
    "import math\n",
    "math.ceil(1.1) # 소수점 올리기\n",
    "math.floor(1.9)# 소수점 내리기\n",
    "\n",
    "# random\n",
    "import random\n",
    "# 특징\n",
    "# 1. 1미만의 소수점만 나옴\n",
    "# 2. 숫자가 매번 다른 값이 나옴\n",
    "# 3. 0이상의 소수점을 출력\n",
    "math.ceil(random.random()*10) # 1이상 10이하의자연수가 나오도록 만들어보기\n",
    "math.ceil(random.random()*5) # 5이하의자연수가 나오도록 만들어보기\n",
    "math.floor(random.random()*11-5) # -5이상 5이하의 정수가 나오도록 만들어보기\n",
    "# 문제점 1: -5가 안나옴 2: random두번 -> 컴퓨터 에러"
   ]
  },
  {
   "cell_type": "code",
   "execution_count": 473,
   "metadata": {},
   "outputs": [
    {
     "name": "stdout",
     "output_type": "stream",
     "text": [
      "[4, 5, 1, 2, 3]\n",
      "0.6394267984578837\n"
     ]
    }
   ],
   "source": [
    "random.randint(-5,5)\n",
    "lst = [1,2,3,4,5]\n",
    "random.shuffle(lst) # 시드값 생성용\n",
    "print(lst)\n",
    "lst2 = ['a','b',1]\n",
    "random.choice(lst2)\n",
    "\n",
    "lst.sort()\n",
    "random.seed(42)\n",
    "print(random.random())"
   ]
  },
  {
   "cell_type": "code",
   "execution_count": null,
   "metadata": {},
   "outputs": [],
   "source": [
    "# 학습하는데에 얼마나 걸렸다는 시간 표시, 학습한 데이터량"
   ]
  },
  {
   "cell_type": "code",
   "execution_count": 531,
   "metadata": {},
   "outputs": [
    {
     "name": "stdout",
     "output_type": "stream",
     "text": [
      "2024-04-21 16:00:45.413970\n",
      "2024-04-20 12:12:12\n",
      "1 day, 3:48:33.413970\n",
      "20240421 160045\n",
      "20240421\n"
     ]
    }
   ],
   "source": [
    "import datetime # 주로 시간 혹은 날짜 계산이나 처리를 하기 위해 사용됨\n",
    "\n",
    "now = datetime.datetime.now()\n",
    "print(now)\n",
    "date = datetime.datetime(2024, 4, 20, 12, 12, 12, 0)\n",
    "print(date)\n",
    "print(now - date)\n",
    "formatted_date = now.strftime('%Y%m%d %H%M%S')\n",
    "formatted_date2 = now.strftime('%Y%m%d')\n",
    "print(formatted_date)\n",
    "print(formatted_date2)"
   ]
  },
  {
   "cell_type": "code",
   "execution_count": 543,
   "metadata": {},
   "outputs": [
    {
     "data": {
      "text/plain": [
       "['C:/Users\\\\All Users',\n",
       " 'C:/Users\\\\Default',\n",
       " 'C:/Users\\\\Default User',\n",
       " 'C:/Users\\\\desktop.ini',\n",
       " 'C:/Users\\\\fkfma',\n",
       " 'C:/Users\\\\pc',\n",
       " 'C:/Users\\\\Public']"
      ]
     },
     "execution_count": 543,
     "metadata": {},
     "output_type": "execute_result"
    }
   ],
   "source": [
    "# glob : 파일경로나 파일에 해당하는 데이터를 가져올 때\n",
    "from glob import glob\n",
    "glob('C:/Users/*')\n",
    "# 권한에러가 나오는 경우가 있음\n",
    "# 이 때는 python 프로그램을 관리자권ㅉ한 => vscode를 관리자권한으로 실행하던지..\n",
    "# 권한 에러는 주로 Error 105"
   ]
  },
  {
   "cell_type": "code",
   "execution_count": 552,
   "metadata": {},
   "outputs": [
    {
     "name": "stdout",
     "output_type": "stream",
     "text": [
      "Active code page: 65001\n"
     ]
    }
   ],
   "source": [
    "!chcp 65001\n",
    "# 글자가 만약 깨진다면 아래코드 사용\n",
    "# 리눅스 명령어 사용은 !를 붙여야함"
   ]
  },
  {
   "cell_type": "code",
   "execution_count": null,
   "metadata": {},
   "outputs": [],
   "source": [
    "!dir/w # 현재 경로의 파일들 출력1\n",
    "!ls # 현재 경로의 파일들 출력2"
   ]
  }
 ],
 "metadata": {
  "kernelspec": {
   "display_name": "Python 3",
   "language": "python",
   "name": "python3"
  },
  "language_info": {
   "codemirror_mode": {
    "name": "ipython",
    "version": 3
   },
   "file_extension": ".py",
   "mimetype": "text/x-python",
   "name": "python",
   "nbconvert_exporter": "python",
   "pygments_lexer": "ipython3",
   "version": "3.10.9"
  }
 },
 "nbformat": 4,
 "nbformat_minor": 2
}
