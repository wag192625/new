{
 "cells": [
  {
   "cell_type": "code",
   "execution_count": 32,
   "metadata": {},
   "outputs": [],
   "source": [
    "class Cat:\n",
    "    def __init__(self, name, color):\n",
    "        self.name = name\n",
    "        self.color = color\n",
    "    \n",
    "    def meow(self):\n",
    "        print(f'나의 이름은 {self.name}, 색은 {self.color}, 냐옹~~~~~')"
   ]
  },
  {
   "cell_type": "code",
   "execution_count": 33,
   "metadata": {},
   "outputs": [
    {
     "name": "stdout",
     "output_type": "stream",
     "text": [
      "나의 이름은 네코, 색은 검정색, 냐옹~~~~~\n"
     ]
    }
   ],
   "source": [
    "neko = Cat('네코', '검정색')\n",
    "neko.meow()"
   ]
  },
  {
   "cell_type": "code",
   "execution_count": 34,
   "metadata": {},
   "outputs": [],
   "source": [
    "# __init__은 실행되자마자 첫번째 발동하는 코드\n",
    "# __init__ 이 쓰이는 경우는 파일명, 메서드에 사용됨\n",
    "# __init__.py 파일명이 이렇게 선언되는 경우가 있음"
   ]
  },
  {
   "cell_type": "code",
   "execution_count": 35,
   "metadata": {},
   "outputs": [
    {
     "name": "stdout",
     "output_type": "stream",
     "text": [
      "1\n"
     ]
    }
   ],
   "source": [
    "# 이건 함수에 대한 설명\n",
    "def func():\n",
    "    global res # 전역 변수로 선언\n",
    "    res = 1 # 지역 변수 = 함수가 종료되면 사라지는 변수(with랑 비슷함)\n",
    "    return res\n",
    "func()\n",
    "print(res)"
   ]
  },
  {
   "cell_type": "code",
   "execution_count": 38,
   "metadata": {},
   "outputs": [
    {
     "name": "stdout",
     "output_type": "stream",
     "text": [
      "Cat(name = 네코, color = 블랙)\n"
     ]
    }
   ],
   "source": [
    "# 문자열화 메소드\n",
    "class Cat:\n",
    "    def __init__(self, name, color):\n",
    "        self.name = name\n",
    "        self.color = color\n",
    "    def __str__(self): # print()를 실행하면 발동함\n",
    "        return 'Cat(name = '+self.name+', color = '+self.color+')'\n",
    "\n",
    "neko = Cat('네코', '블랙')\n",
    "print(neko)"
   ]
  },
  {
   "cell_type": "code",
   "execution_count": null,
   "metadata": {},
   "outputs": [],
   "source": [
    "# __str__() 메소드는  init과 마찬가지로 특수한 기능임\n",
    "# 어떤 객체의 문자열 표현 방식을 정의하며, 반환값은 문자열이 됨"
   ]
  },
  {
   "cell_type": "code",
   "execution_count": 39,
   "metadata": {},
   "outputs": [
    {
     "name": "stdout",
     "output_type": "stream",
     "text": [
      "Cat(name = 나비, age = 10)\n"
     ]
    }
   ],
   "source": [
    "# 문자열화 메소드\n",
    "class Cat:\n",
    "    def __init__(self, name, age):\n",
    "        self.name = name\n",
    "        self.age = age\n",
    "    def __str__(self): # print()를 실행하면 발동함\n",
    "        return 'Cat(name = '+self.name+', age = '+str(self.age)+')'\n",
    "    \n",
    "    def set_age(self, age): # 세터(setter)\n",
    "        if age > 0:\n",
    "            self.__age = age\n",
    "        \n",
    "    def get_age(self):  # 게터(getter)\n",
    "        return self.__age\n",
    "    \n",
    "# 위와 같은 경우는 캡슐화가 됐다고 할 수 있음\n",
    "\n",
    "nabi = Cat('나비', 10)\n",
    "print(nabi)"
   ]
  },
  {
   "cell_type": "code",
   "execution_count": 40,
   "metadata": {},
   "outputs": [
    {
     "data": {
      "text/plain": [
       "-5"
      ]
     },
     "execution_count": 40,
     "metadata": {},
     "output_type": "execute_result"
    }
   ],
   "source": [
    "nabi.age = 4\n",
    "nabi.age\n",
    "nabi.age = -5\n",
    "nabi.age"
   ]
  },
  {
   "cell_type": "code",
   "execution_count": 41,
   "metadata": {},
   "outputs": [
    {
     "data": {
      "text/plain": [
       "4"
      ]
     },
     "execution_count": 41,
     "metadata": {},
     "output_type": "execute_result"
    }
   ],
   "source": [
    "nabi.set_age(4)\n",
    "nabi.get_age()"
   ]
  },
  {
   "cell_type": "code",
   "execution_count": 24,
   "metadata": {},
   "outputs": [
    {
     "name": "stdout",
     "output_type": "stream",
     "text": [
      "Cat(name = 나비, age = -5)\n"
     ]
    }
   ],
   "source": [
    "print(nabi)"
   ]
  },
  {
   "cell_type": "code",
   "execution_count": null,
   "metadata": {},
   "outputs": [],
   "source": [
    "# 파이썬에는 자바와 (private, public, protected, default) 달리 따로 설정이 없음\n",
    "# 이와 같은 기능이 필요하므로\n",
    "# _ 혹은 __를 사용하도록 만듦. 예시에서 사용된 self.__age는 private처럼 됨"
   ]
  },
  {
   "cell_type": "code",
   "execution_count": 1,
   "metadata": {},
   "outputs": [],
   "source": [
    "# 금일의 연습문제"
   ]
  },
  {
   "cell_type": "code",
   "execution_count": 12,
   "metadata": {},
   "outputs": [
    {
     "name": "stdout",
     "output_type": "stream",
     "text": [
      "0 2 4 6 8 [0, 2, 4, 6, 8]\n"
     ]
    }
   ],
   "source": [
    "# 1. 변수 x가 10보다 크고 20보다 작을 때 변수 X를 출력하는 조건식을 완성하라\n",
    "x= 9\n",
    "if x>10 and x<20 :\n",
    "    print(x)\n",
    "# 2. for문을 사용하여 0부터 10미만의 정수 중에서 짝수만을 작은 수부터 출력하시오.\n",
    "for i in range(0,10):\n",
    "    if i%2==0 :\n",
    "        print(i,end=' ')\n",
    "# 3. for문을 사용하여 0부터 10미만의 정수 중에서 짝수만을 작은 수부터 문자열로 출력하시오.\n",
    "x= [0,4,2,5,7,3,6,8,9]\n",
    "lst=[]\n",
    "for i in x:\n",
    "    if i % 2 == 0:\n",
    "        lst.append(i)\n",
    "lst = sorted(lst)\n",
    "print(lst)\n",
    "# 4. for문을 사용하여 0부터 10미만의 정수 중에서 홀수만을 큰수부터 출력하시오.\n",
    "for i in x:\n",
    "    if i % 2 != 0 :\n",
    "        \n",
    "# 5, 6번 패스(아직 안배움)\n",
    "# 5. while문을 사용하여 0 부터 10 미만의 정수 중에서 짝수만을 작은 수부터 출력하시오.\n",
    "\n",
    "# 6. while문을 사용하여 0 부터 10 미만의 정수 중에서 홀수만을 큰수부터 출력하시오.\n",
    "\n",
    "# 7. for 문을 사용하여 0부터 10미만의 정수의 합을 출력하시오.\n",
    "\n",
    "# 8. 1부터 20 미만의 정수 중에서 2 또는 3의 배수가 아닌 수의 총합을 구하시오.\n",
    "\n",
    "# 9. 1부터 20 미만의 정수 중에서 2 또는 3의 배수인 수의 총합을 구하시오.\n",
    "\n",
    "# 10. 두 개의 주사위를 던졌을 때, 눈의 합이 6이 되는 모든 경우의 수를 출력하시오.\n"
   ]
  },
  {
   "cell_type": "code",
   "execution_count": null,
   "metadata": {},
   "outputs": [],
   "source": [
    "# 1.주어진 문자열(공백 없이 쉼표로 구분되어 있음)을 가지고 아래 문제에 대한 프로그램을 작성하세요.\n",
    "\n",
    "# 이유덕,이재영,권종표,이재영,박민호,강상희,이재영,김지완,최승혁,이성연,박영서,박민호,전경헌,송정환,김재성,이유덕,전경헌\n",
    "\n",
    "# 1)김씨와 이씨는 각각 몇 명 인가요?\n",
    "# 2)\"이재영\"이란 이름이 몇 번 반복되나요?\n",
    "# 3)중복을 제거한 이름을 출력하세요.\n",
    "# 4)중복을 제거한 이름을 오름차순으로 정렬하여 출력하세요.\n",
    "\n",
    "# 2.n개의 정수를 가진 배열이 있다. 이 배열은 양의정수와 음의 정수를 모두 가지고 있다. 이제 당신은 이 배열을 좀 특별한 방법으로 정렬해야 한다.\n",
    "\n",
    "# 정렬이 되고 난 후, 음의 정수는 앞쪽에 양의정수는 뒷쪽에 있어야 한다. 또한 양의정수와 음의정수의 순서에는 변함이 없어야 한다.\n",
    "\n",
    "# 예. -1 1 3 -2 2 ans: -1 -2 1 3 2\n",
    "\n",
    "# 3.디지털 시계에 하루동안(00:00~23:59) 3이 표시되는 시간을 초로 환산하면 총 몇 초(second) 일까요?\n",
    "\n",
    "# 디지털 시계는 하루동안 다음과 같이 시:분(00:00~23:59)으로 표시됩니다.\n",
    "\n",
    "# 현재 시각 : 01시 3분 00초~59초이라면 -> 60초\n",
    "# 현재 시각 : 03시 정각 -> 03시00분00초~3시59분59초 -> 1시간\n",
    "# 13:00\n",
    "\n",
    "# 00:00 (60초간 표시됨)\n",
    "# 00:01 \n",
    "# 00:02 \n",
    "# ...\n",
    "# 23:59\n",
    "\n",
    "\n",
    "\n",
    "# 4.A씨는 두 개의 버전을 비교하는 프로그램을 작성해야 한다.\n",
    "\n",
    "# 버전은 다음처럼 \".\" 으로 구분된 문자열이다.\n",
    "\n",
    "# 버전 예) 1.0.0, 1.0.23, 1.1\n",
    "\n",
    "# 두 개의 버전을 비교하는 프로그램을 작성하시오.\n",
    "\n",
    "# 다음은 버전 비교의 예이다.\n",
    "\n",
    "# 0.0.2 > 0.0.1\n",
    "# 1.0.10 > 1.0.3\n",
    "# 1.2.0 > 1.1.99\n",
    "# 1.1 > 1.0.1\n",
    "\n",
    "\n",
    "# 5.수 범위 입력받아 범위 내에 있는 각 숫자를 분해하여 곱한 결과의 전체합을 구하시오.\n",
    "# 예로, 10~15까지의 각 숫자 분해하여 곱하기의 전체 합은 다음과 같다.\n",
    "\n",
    "\n",
    "# 10 = 1 * 0 = 0\n",
    "# 11 = 1 * 1 = 1\n",
    "# 12 = 1 * 2 = 2\n",
    "# 13 = 1 * 3 = 3\n",
    "# 14 = 1 * 4 = 4\n",
    "# 15 = 1 * 5 = 5\n",
    "\n",
    "# 그러므로, 이 경우의 답은 0+1+2+3+4+5 = 15\n"
   ]
  }
 ],
 "metadata": {
  "kernelspec": {
   "display_name": "Python 3",
   "language": "python",
   "name": "python3"
  },
  "language_info": {
   "codemirror_mode": {
    "name": "ipython",
    "version": 3
   },
   "file_extension": ".py",
   "mimetype": "text/x-python",
   "name": "python",
   "nbconvert_exporter": "python",
   "pygments_lexer": "ipython3",
   "version": "3.11.9"
  }
 },
 "nbformat": 4,
 "nbformat_minor": 2
}
