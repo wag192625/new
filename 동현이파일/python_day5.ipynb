{
 "cells": [
  {
   "cell_type": "code",
   "execution_count": 26,
   "metadata": {},
   "outputs": [
    {
     "name": "stdout",
     "output_type": "stream",
     "text": [
      "[1, 2, 3]\n"
     ]
    }
   ],
   "source": [
    "# split() 함수에 대해서\n",
    "\n",
    "a = 'python java C++ R ruby'\n",
    "a.split() # 분리 및 리스트화\n",
    "b = 'python, java, C++, R, ruby'\n",
    "b.split(',')\n",
    "\n",
    "# map() 함수\n",
    "# map(적용할 함수, 적용될 데이터)\n",
    "a = list(map(int, input().split()))\n",
    "print(a)\n",
    "# 숫자 10, 20, 30이 입력되도록 만드시오.\n",
    "# 타입도 출력할 것\n",
    "# 하나의 변수에 'I Love Python' 이라는 문자열을 길이3의 리스트형식으로 받을 것"
   ]
  },
  {
   "cell_type": "code",
   "execution_count": 3,
   "metadata": {},
   "outputs": [
    {
     "data": {
      "text/plain": [
       "3"
      ]
     },
     "execution_count": 3,
     "metadata": {},
     "output_type": "execute_result"
    }
   ],
   "source": [
    "# sum((int)리스트) => 결과: 리스트 데이터의 총합"
   ]
  },
  {
   "cell_type": "code",
   "execution_count": 8,
   "metadata": {},
   "outputs": [
    {
     "name": "stdout",
     "output_type": "stream",
     "text": [
      "1\n",
      "3\n",
      "5\n",
      "7\n",
      "9\n",
      "11\n",
      "13\n",
      "15\n",
      "17\n",
      "19\n"
     ]
    }
   ],
   "source": [
    "# range() : 주로 for문에 사용\n",
    "lst = list(range(1,20,2)) # 리스트로 데이터를 묶고 range라는 보따리를 풀어\n",
    "\n",
    "# for문\n",
    "# for i in range(5):\n",
    "#     print(i)\n",
    "\n",
    "# for 변수명 in 리스트 or 문자열\n",
    "for i in lst:\n",
    "    print(i)\n",
    "\n",
    "# nums 변수에 0부터 100까지 2의 배수만 들어가있는 리스트를 생성하시오.\n",
    "# 방금 만든 nums 변수에서 3의 배수만 출력하시오.\n",
    "\n",
    "\n",
    "# nums2 변수에 1부터 1000까지 3의 배수만 들어가있는 리스트를 생성하시오.\n",
    "# 만들어 놓은 nums2에서 4와 5의 배수만 출력하시오."
   ]
  },
  {
   "cell_type": "markdown",
   "metadata": {},
   "source": [
    "dict 설명 전에... for문 3문제를 낼 거임ㅎ"
   ]
  },
  {
   "cell_type": "markdown",
   "metadata": {},
   "source": [
    "아 근데 가르칠 게 많은데 언제 익힐 수  있을까나..."
   ]
  },
  {
   "cell_type": "markdown",
   "metadata": {},
   "source": [
    "문제 만드는 중... 완료"
   ]
  },
  {
   "cell_type": "code",
   "execution_count": null,
   "metadata": {},
   "outputs": [],
   "source": [
    "# 1. 구구단 출력 문제\n",
    "# num을 입력받아 num * 9까지 출력할 것"
   ]
  },
  {
   "cell_type": "code",
   "execution_count": null,
   "metadata": {},
   "outputs": [],
   "source": [
    "# 팩토리얼 계산 프로그램\n",
    "# n! => 5! => 1*2*..*5 = 120\n",
    "# num을 입력받아 팩토리얼을 계산하시오\n",
    "# ex)\n",
    "# num = 5\n",
    "# 120\n",
    "# num = 3\n",
    "# 6"
   ]
  },
  {
   "cell_type": "code",
   "execution_count": null,
   "metadata": {},
   "outputs": [],
   "source": [
    "# num을 입력받아 직각삼각형이 되도록 만드시오\n",
    "# num = 5\n",
    "# *\n",
    "# **\n",
    "# ***\n",
    "# ****\n",
    "# *****"
   ]
  },
  {
   "cell_type": "code",
   "execution_count": null,
   "metadata": {},
   "outputs": [],
   "source": [
    "# 0. 1~100까지의 리스트 요소를 출력하시오.\n",
    "# 1. 1~100까지의 리스트 요소의 합을 구하시오. # 두가지 방법을 사용할 것\n",
    "# 2. 1~1000까지의 리스트 요소를 거꾸로 출력하시오"
   ]
  },
  {
   "cell_type": "code",
   "execution_count": 23,
   "metadata": {},
   "outputs": [
    {
     "data": {
      "text/plain": [
       "['BANANA', 'APPLE', 'PIZZA']"
      ]
     },
     "execution_count": 23,
     "metadata": {},
     "output_type": "execute_result"
    }
   ],
   "source": [
    "# map()\n",
    "\n",
    "#  문자열을 정수로 변환\n",
    "# ex) nums = [1,2,3,4]\n",
    "# 결과 => ['1','2','3','4']\n",
    "\n",
    "# 리스트에 들어가있는 데이터의 문자열 길이를 리스트로 출력\n",
    "# fruits = ['banana', 'apple', 'pizza']\n",
    "# 결과 => [6,5,5]\n",
    "\n",
    "# 리스트에 들어가있는 데이터의 문자열을 대문자로 변경하여 출력\n",
    "# fruits = ['banana', 'apple', 'pizza']\n",
    "# 결과 => ['BANANA', 'APPLE', 'PIZZA']\n",
    "\n",
    "fruits = ['banana', 'apple', 'pizza']\n",
    "upper_fruits = list(map(str.upper, fruits))\n",
    "upper_fruits"
   ]
  },
  {
   "cell_type": "code",
   "execution_count": 14,
   "metadata": {},
   "outputs": [
    {
     "name": "stdout",
     "output_type": "stream",
     "text": [
      "0 정명훈\n",
      "1 바보\n"
     ]
    }
   ],
   "source": [
    "# len 함수 = 문자열 및 리스트의 길이 구하기\n",
    "# 'text' => 4글자\n",
    "len('text')\n",
    "len([1,2,3,4,5])\n",
    "\n",
    "# lst = ['라면','짬뽕', '짜장면']\n",
    "# for i, s in enumerate(lst):\n",
    "#     print(i, s)"
   ]
  },
  {
   "cell_type": "code",
   "execution_count": 27,
   "metadata": {},
   "outputs": [],
   "source": [
    "# dict는 key와 value로 구성됨\n",
    "# ex\n",
    "dict_data = {'a': 1, 'b':2, 'c': 3}\n",
    "dict_data\n",
    "# 딕셔너리는 키값이 고유해야한다.\n",
    "dict_data['d'] = 4"
   ]
  },
  {
   "cell_type": "code",
   "execution_count": 35,
   "metadata": {},
   "outputs": [
    {
     "data": {
      "text/plain": [
       "{'a': 1, 'b': 2, 'c': 3, 'd': 5, 'text': 'hello', 1: 'hi', 2: [1, '2', 3]}"
      ]
     },
     "execution_count": 35,
     "metadata": {},
     "output_type": "execute_result"
    }
   ],
   "source": [
    "# key값중 'd'가 이미 있는 상태에서 새로 추가\n",
    "dict_data['d'] = 5\n",
    "dict_data # 기존 데이터를 갱신만 함\n",
    "#  즉 key는 고유한 값을 가지게 되며 이미 있는 값을 넣으면 기존 값이 삭제되고 다시 만들어짐\n",
    "dict_data['text'] = 'hello'\n",
    "dict_data\n",
    "dict_data[1] = 'hi'\n",
    "dict_data\n",
    "\n",
    "# key값은 문자열이 가능하며, 숫자도 가능하고, 고유한 값이어야 한다.\n",
    "dict_data[2] = [1,'2',3]\n",
    "dict_data\n",
    "# value 값에는 리스트와 같은 광범위한 변수도 들어갈 수 있다.\n"
   ]
  },
  {
   "cell_type": "code",
   "execution_count": 45,
   "metadata": {},
   "outputs": [
    {
     "name": "stdout",
     "output_type": "stream",
     "text": [
      "1\n"
     ]
    }
   ],
   "source": [
    "# dict 사용법\n",
    "dict_data1 = {'a': 1, 'b':2, 'c': 3} # 선언 방법1\n",
    "# print(dict_data1)\n",
    "lst1 = ['a','b','c']\n",
    "lst2 = [1,2,3]\n",
    "dict_data2 = dict(zip(lst1,lst2))\n",
    "# print(dict_data2)\n",
    "# # dict 데이터 추가\n",
    "# dict_data1['d'] = 4\n",
    "# print(dict_data1)\n",
    "\n",
    "# dict 데이터 추출\n",
    "print(dict_data1.keys()) # 키와 관련된 값만 추출\n",
    "print(dict_data1.values()) # 값와 관련된 값만 추출\n",
    "print(dict_data1.get('a')) # 입력한 키값의 value를 추출\n",
    "print(dict_data1['a']) # 입력한 키값의 value를 추출\n",
    "# 다만 value값은 중복이 가능하므로 따로 검색하는 함수는 존재하지 않음"
   ]
  },
  {
   "cell_type": "code",
   "execution_count": 48,
   "metadata": {},
   "outputs": [
    {
     "data": {
      "text/plain": [
       "[1, 2, 3, ['a']]"
      ]
     },
     "execution_count": 48,
     "metadata": {},
     "output_type": "execute_result"
    }
   ],
   "source": [
    "# 추가설명\n",
    "lst = [1,2,3]\n",
    "lst.append(['a'])\n",
    "lst"
   ]
  },
  {
   "cell_type": "code",
   "execution_count": null,
   "metadata": {},
   "outputs": [],
   "source": [
    "# dict 문제\n",
    "# n이라는 값을 입력받아 nums에 1이상이며 n이하의 값을 담고,\n",
    "# 키값을 nums로 하고 제곱된 값을 value로 하는 코드를 작성하라.\n",
    "# 힌트 : range 사용하는 것이 정신건강에 좋음, dict를 만들것. dict명은 'sqr'로 할 것\n",
    "\n",
    "# 예시\n",
    "# 입력\n",
    "# n = 5\n",
    "# 출력\n",
    "# sqr => {1:1, 2:4, 3:9, 4:16, 5:25}\n",
    "\n",
    "# 입력\n",
    "# n = 3\n",
    "# 출력\n",
    "# sqr => {1:1, 2:4, 3:9}"
   ]
  },
  {
   "cell_type": "code",
   "execution_count": 50,
   "metadata": {},
   "outputs": [
    {
     "data": {
      "text/plain": [
       "{'a': 1}"
      ]
     },
     "execution_count": 50,
     "metadata": {},
     "output_type": "execute_result"
    }
   ],
   "source": [
    "sqr = {}\n",
    "sqr['a'] = 1\n",
    "sqr"
   ]
  },
  {
   "cell_type": "code",
   "execution_count": 49,
   "metadata": {},
   "outputs": [
    {
     "name": "stdout",
     "output_type": "stream",
     "text": [
      "{1: 1, 2: 4, 3: 9, 4: 16, 5: 25}\n"
     ]
    }
   ],
   "source": [
    "n = int(input())\n",
    "sqr = {}\n",
    "for i in range(1,n+1):\n",
    "    sqr[i] = i**2\n",
    "print(sqr)"
   ]
  },
  {
   "cell_type": "code",
   "execution_count": 53,
   "metadata": {},
   "outputs": [],
   "source": [
    "my_dict = {'apple': 2, 'banana': 3, 'cherry': 5}\n",
    "# 위 변수의 값들을 전부 합하시오.\n",
    "# 위 변수의 최대값을 가진 key를 구하시오."
   ]
  },
  {
   "cell_type": "code",
   "execution_count": 57,
   "metadata": {},
   "outputs": [
    {
     "name": "stdout",
     "output_type": "stream",
     "text": [
      "apple\n",
      "banana\n",
      "cherry\n"
     ]
    }
   ],
   "source": [
    "for i in my_dict:\n",
    "    print(i)"
   ]
  },
  {
   "cell_type": "code",
   "execution_count": 62,
   "metadata": {},
   "outputs": [
    {
     "name": "stdout",
     "output_type": "stream",
     "text": [
      "apple\n",
      "banana\n",
      "cherry\n",
      "2\n",
      "3\n",
      "5\n",
      "key: apple , value: 2\n",
      "key: banana , value: 3\n",
      "key: cherry , value: 5\n"
     ]
    }
   ],
   "source": [
    "for i in my_dict: # keys()가 생략된 상태\n",
    "    print(i)\n",
    "\n",
    "for i in my_dict.values(): # value만 다룸 \n",
    "    print(i)\n",
    "\n",
    "for k, v in my_dict.items(): # key, value를 동시에 다룸\n",
    "    print('key:',k, ', value:', v)"
   ]
  },
  {
   "cell_type": "code",
   "execution_count": 70,
   "metadata": {},
   "outputs": [
    {
     "name": "stdout",
     "output_type": "stream",
     "text": [
      "apple 2\n",
      "banana 3\n",
      "cherry 5\n"
     ]
    },
    {
     "data": {
      "text/plain": [
       "5"
      ]
     },
     "execution_count": 70,
     "metadata": {},
     "output_type": "execute_result"
    }
   ],
   "source": [
    "for i in my_dict: # i = key값\n",
    "    print(i, my_dict.get(i))\n",
    "\n",
    "# how to use this code,,?\n",
    "max(list(my_dict.values()))"
   ]
  },
  {
   "cell_type": "code",
   "execution_count": 74,
   "metadata": {},
   "outputs": [
    {
     "name": "stdout",
     "output_type": "stream",
     "text": [
      "cherry\n"
     ]
    }
   ],
   "source": [
    "my_dict = {'apple': 2, 'banana': 3, 'cherry': 5}\n",
    "best_num = 0\n",
    "best_key = ''\n",
    "for i in my_dict:\n",
    "    if(best_num < my_dict.get(i)):\n",
    "        best_num = my_dict.get(i)\n",
    "\n",
    "for i in my_dict:\n",
    "    if(my_dict[i] == best_num):\n",
    "        best_key = i\n",
    "print(best_key)"
   ]
  },
  {
   "cell_type": "code",
   "execution_count": 79,
   "metadata": {},
   "outputs": [
    {
     "name": "stdout",
     "output_type": "stream",
     "text": [
      "cherry\n"
     ]
    }
   ],
   "source": [
    "my_dict = {'apple': 2, 'banana': 3, 'cherry': 5 }\n",
    "best_val = max(list(my_dict.values()))\n",
    "for i in my_dict:\n",
    "    if(best_val == my_dict[i]):\n",
    "        print(i)\n",
    "        break"
   ]
  },
  {
   "cell_type": "code",
   "execution_count": 83,
   "metadata": {},
   "outputs": [
    {
     "name": "stdout",
     "output_type": "stream",
     "text": [
      "cherry\n"
     ]
    }
   ],
   "source": [
    "# 리스트내포(리스트 컴프리핸션)\n",
    "my_dict = {'apple': 2, 'banana': 3, 'cherry': 5 }\n",
    "print(*[x for x in my_dict if my_dict[x] == max(list(my_dict.values()))])"
   ]
  },
  {
   "cell_type": "code",
   "execution_count": 91,
   "metadata": {},
   "outputs": [
    {
     "data": {
      "text/plain": [
       "True"
      ]
     },
     "execution_count": 91,
     "metadata": {},
     "output_type": "execute_result"
    }
   ],
   "source": [
    "# dict\n",
    "my_dict = {'apple': 2, 'banana': 3, 'cherry': 5 }\n",
    "my_dict['lemon'] = 10 # 추가\n",
    "\n",
    "# del my_dict['apple'] # key를 지정하여 key, value를 삭제함 = 리스트 요소 삭제랑 동일\n",
    "# my_dict\n",
    "\n",
    "# my_dict.clear() # 해당 변수의 딕셔너리 데이터를 리셋\n",
    "# my_dict\n",
    "\n",
    "lst = [1,2,3,4,5]\n",
    "1 in lst # 1이 lst 안에 있니???\n",
    "\n",
    "'apple' in my_dict # 리스트와 동일한 사용방법\n",
    "2 in my_dict # 이렇게 찾을 땐 key값을 기준으로 탐색\n",
    "2 in my_dict.values() # value값을 기준으로 탐색\n"
   ]
  },
  {
   "cell_type": "markdown",
   "metadata": {},
   "source": [
    "# 금일 학습 내용\n",
    "\n",
    "split, sum, range, for, map, len, dict, [list].append, 리스트내포(맛보기), (not) in"
   ]
  },
  {
   "cell_type": "markdown",
   "metadata": {},
   "source": [
    "split은 더 다뤄봐야...\n",
    "map도\n",
    "append도 - 횟수가 적어서...더 해봐야지\n",
    "in도 다뤄야겠지.\n",
    "dict\n",
    "for\n",
    "리스트내포"
   ]
  },
  {
   "cell_type": "markdown",
   "metadata": {},
   "source": [
    "난이도 상: 해봐도 잘 안됨, 중: 해보면 된다 혹은 간단하게만 됨, 하: 보면 응용됨 더나아가 구현도 가능!\n",
    "\n",
    "함수, 체감난이도\n",
    "split,  중\n",
    "sum,    중\n",
    "range,  하\n",
    "for,    중\n",
    "map,    상\n",
    "len,    하\n",
    "dict,   상\n",
    "append  하\n",
    "리스트내포 상\n",
    "in      하"
   ]
  },
  {
   "cell_type": "code",
   "execution_count": 96,
   "metadata": {},
   "outputs": [
    {
     "data": {
      "text/plain": [
       "True"
      ]
     },
     "execution_count": 96,
     "metadata": {},
     "output_type": "execute_result"
    }
   ],
   "source": [
    "lst = [1,2,3]\n",
    "lst.append([int])\n",
    "1 in lst\n",
    "# dict타입의 데이터에서는 key값을 기본 탐색"
   ]
  },
  {
   "cell_type": "markdown",
   "metadata": {},
   "source": [
    "내일도 1시에 진행할 것"
   ]
  }
 ],
 "metadata": {
  "kernelspec": {
   "display_name": "Python 3",
   "language": "python",
   "name": "python3"
  },
  "language_info": {
   "codemirror_mode": {
    "name": "ipython",
    "version": 3
   },
   "file_extension": ".py",
   "mimetype": "text/x-python",
   "name": "python",
   "nbconvert_exporter": "python",
   "pygments_lexer": "ipython3",
   "version": "3.10.9"
  }
 },
 "nbformat": 4,
 "nbformat_minor": 2
}
