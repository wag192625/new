{
 "cells": [
  {
   "cell_type": "markdown",
   "metadata": {},
   "source": [
    "출력 문제"
   ]
  },
  {
   "cell_type": "code",
   "execution_count": 1,
   "metadata": {},
   "outputs": [
    {
     "name": "stdout",
     "output_type": "stream",
     "text": [
      "정명훈 28 천안\n"
     ]
    }
   ],
   "source": [
    "# 1. 이름과 나이, 거주 지역을 출력하시오\n",
    "name = '정명훈'\n",
    "age = '28'\n",
    "region = '천안'\n",
    "print(name, age, region)"
   ]
  },
  {
   "cell_type": "code",
   "execution_count": 1,
   "metadata": {},
   "outputs": [
    {
     "name": "stdout",
     "output_type": "stream",
     "text": [
      "Life is too short\n"
     ]
    }
   ],
   "source": [
    "# 2. 'Life is too short' 를 출력하시오.\n",
    "print('Life is too short')"
   ]
  },
  {
   "cell_type": "code",
   "execution_count": 5,
   "metadata": {},
   "outputs": [
    {
     "name": "stdout",
     "output_type": "stream",
     "text": [
      "\n",
      "나는 대한민국 사람이며\n",
      "충청남도에 거주하는 \n",
      "홍길동이다!\n",
      "      \n"
     ]
    }
   ],
   "source": [
    "# 3. \n",
    "# 나는 대한민국 사람이며\n",
    "# 충청남도에 거주하는 \n",
    "# 홍길동이다!\n",
    "# 라는 문구를 출력하시오(단 print()를 한번만 사용해서 출력할 것)\n",
    "# print('나는 대한민국 사람이며 \\n 충청남도에 거주하는 \\n 홍길동이다!')\n",
    "print('''\n",
    "나는 대한민국 사람이며\n",
    "충청남도에 거주하는 \n",
    "홍길동이다!\n",
    "      ''')"
   ]
  },
  {
   "cell_type": "markdown",
   "metadata": {},
   "source": [
    "split 문제"
   ]
  },
  {
   "cell_type": "code",
   "execution_count": 6,
   "metadata": {},
   "outputs": [
    {
     "data": {
      "text/plain": [
       "['Life', 'is', 'too', 'short']"
      ]
     },
     "execution_count": 6,
     "metadata": {},
     "output_type": "execute_result"
    }
   ],
   "source": [
    "# 4. 2번 문장을 분리(split)하여 'Life', 'is', 'too', 'short'를 출력하시오.\n",
    "x = 'Life is too short'\n",
    "x.split(' ')"
   ]
  },
  {
   "cell_type": "code",
   "execution_count": 7,
   "metadata": {},
   "outputs": [
    {
     "data": {
      "text/plain": [
       "['천안', '아산', '병천', '목천']"
      ]
     },
     "execution_count": 7,
     "metadata": {},
     "output_type": "execute_result"
    }
   ],
   "source": [
    "# 5. region = '천안,아산,병천,목천' 에서 region의 지역들을 분리하여 지역별로 출력하시오.\n",
    "region= '천안, 아산, 병천, 목천'\n",
    "region.split(', ')"
   ]
  },
  {
   "cell_type": "markdown",
   "metadata": {},
   "source": [
    "count 문제"
   ]
  },
  {
   "cell_type": "code",
   "execution_count": 8,
   "metadata": {},
   "outputs": [
    {
     "data": {
      "text/plain": [
       "3"
      ]
     },
     "execution_count": 8,
     "metadata": {},
     "output_type": "execute_result"
    }
   ],
   "source": [
    "# 6. 5번에서 사용한 변수(region)에 '천'이라는 글자가 들어간 횟수를 출력하시오.\n",
    "region.count('천')"
   ]
  },
  {
   "cell_type": "code",
   "execution_count": 17,
   "metadata": {},
   "outputs": [
    {
     "name": "stdout",
     "output_type": "stream",
     "text": [
      "4\n",
      "2\n",
      "6\n"
     ]
    }
   ],
   "source": [
    "# 7. 'i am study python programming language'라는 문장에 a와 t가 들어간 횟수의 합을 출력하시오.\n",
    "x = 'i am study python programming language'\n",
    "i = x.count('a')\n",
    "print(i)\n",
    "j = x.count('t')\n",
    "print(j)\n",
    "print(int(i)+int(j))\n"
   ]
  },
  {
   "cell_type": "markdown",
   "metadata": {},
   "source": [
    "find, index 문제"
   ]
  },
  {
   "cell_type": "code",
   "execution_count": 19,
   "metadata": {},
   "outputs": [
    {
     "data": {
      "text/plain": [
       "11"
      ]
     },
     "execution_count": 19,
     "metadata": {},
     "output_type": "execute_result"
    }
   ],
   "source": [
    "# 8. 7번에 사용된 문장에서 첫번째로 p가 들어가는 위치를 출력하시오.\n",
    "x.find('p')\n"
   ]
  },
  {
   "cell_type": "code",
   "execution_count": 33,
   "metadata": {},
   "outputs": [
    {
     "data": {
      "text/plain": [
       "18"
      ]
     },
     "execution_count": 33,
     "metadata": {},
     "output_type": "execute_result"
    }
   ],
   "source": [
    "# 9. 7번에 사용된 문장에서 programming의 p의 위치를 출력하시오.\n",
    "x.index('programming')\n"
   ]
  },
  {
   "cell_type": "markdown",
   "metadata": {},
   "source": [
    "upper, lower 문제"
   ]
  },
  {
   "cell_type": "code",
   "execution_count": 43,
   "metadata": {},
   "outputs": [
    {
     "data": {
      "text/plain": [
       "'HELLO'"
      ]
     },
     "execution_count": 43,
     "metadata": {},
     "output_type": "execute_result"
    }
   ],
   "source": [
    "# 10. 'hello' 라는 단어를 대문자로 변경하여 출력하시오.\n",
    "i = 'hello'\n",
    "i.upper()"
   ]
  },
  {
   "cell_type": "code",
   "execution_count": 37,
   "metadata": {},
   "outputs": [
    {
     "name": "stdout",
     "output_type": "stream",
     "text": [
      "I AM STUDY PYTHON PROGRAMMING LANGUAGE\n"
     ]
    }
   ],
   "source": [
    "# 11. 7번에 사용된 문장을 대문자로 변경하여 출력하시오.\n",
    "print(x.upper())"
   ]
  },
  {
   "cell_type": "code",
   "execution_count": 48,
   "metadata": {},
   "outputs": [
    {
     "name": "stdout",
     "output_type": "stream",
     "text": [
      "HELLO\n"
     ]
    },
    {
     "data": {
      "text/plain": [
       "'hello'"
      ]
     },
     "execution_count": 48,
     "metadata": {},
     "output_type": "execute_result"
    }
   ],
   "source": [
    "# 12. 10번에서 얻은 결과를 다시 소문자로 만들어 출력하시오.\n",
    "j=i.upper()\n",
    "print(j)\n",
    "j.lower()"
   ]
  },
  {
   "cell_type": "markdown",
   "metadata": {},
   "source": [
    "strip 문제"
   ]
  },
  {
   "cell_type": "code",
   "execution_count": 56,
   "metadata": {},
   "outputs": [
    {
     "data": {
      "text/plain": [
       "'hello world!!'"
      ]
     },
     "execution_count": 56,
     "metadata": {},
     "output_type": "execute_result"
    }
   ],
   "source": [
    "# 13. '  hello world!!  ' 왼쪽의 문장의 왼쪽 공백만 제거하여 출력하시오.\n",
    "x = '  hello world!!  '\n",
    "x.strip()"
   ]
  },
  {
   "cell_type": "code",
   "execution_count": 57,
   "metadata": {},
   "outputs": [
    {
     "data": {
      "text/plain": [
       "'  hello world!!'"
      ]
     },
     "execution_count": 57,
     "metadata": {},
     "output_type": "execute_result"
    }
   ],
   "source": [
    "# 14. 13번의 결과에서 오른쪽 공백을 제거하여 출력하시오.\n",
    "x.rstrip()"
   ]
  },
  {
   "cell_type": "markdown",
   "metadata": {},
   "source": [
    "인덱싱 문제"
   ]
  },
  {
   "cell_type": "code",
   "execution_count": 63,
   "metadata": {},
   "outputs": [
    {
     "name": "stdout",
     "output_type": "stream",
     "text": [
      "3\n"
     ]
    }
   ],
   "source": [
    "# 15. lst = [1,2,3,4,5,6,7,8,9] lst에서 3을 출력하시오\n",
    "lst = [1,2,3,4,5,6,7,8,9]\n",
    "print(lst[2])"
   ]
  },
  {
   "cell_type": "code",
   "execution_count": 66,
   "metadata": {},
   "outputs": [
    {
     "name": "stdout",
     "output_type": "stream",
     "text": [
      "[20, 30, 40]\n"
     ]
    }
   ],
   "source": [
    "# 16. lst = [10,20,30,40,50] lst에서 20,30,40을 한번에 추출하시오\n",
    "lst = [10,20,30,40,50]\n",
    "print(lst[1:4])"
   ]
  },
  {
   "cell_type": "code",
   "execution_count": 75,
   "metadata": {},
   "outputs": [
    {
     "name": "stdout",
     "output_type": "stream",
     "text": [
      "[50, 40, 30, 20, 10]\n"
     ]
    }
   ],
   "source": [
    "# 17. 16번의 lst를 거꾸로 출력하시오.\n",
    "print(lst[::-1])"
   ]
  },
  {
   "cell_type": "code",
   "execution_count": 76,
   "metadata": {},
   "outputs": [
    {
     "name": "stdout",
     "output_type": "stream",
     "text": [
      "[1, 3, 5, 7, 9]\n"
     ]
    }
   ],
   "source": [
    "# 18. 15번의 lst 변수에서 한번에 1,3,5,7,9를 출력하시오.\n",
    "lst = [1,2,3,4,5,6,7,8,9]\n",
    "print(lst[::2])"
   ]
  },
  {
   "cell_type": "code",
   "execution_count": 78,
   "metadata": {},
   "outputs": [
    {
     "name": "stdout",
     "output_type": "stream",
     "text": [
      "[9, 7, 5, 3, 1]\n"
     ]
    }
   ],
   "source": [
    "# 19. 15번의 lst 변수에서 한번에 9,7,5,3,1을 출력하시오.\n",
    "print(lst[::-2])"
   ]
  },
  {
   "cell_type": "code",
   "execution_count": 82,
   "metadata": {},
   "outputs": [
    {
     "name": "stdout",
     "output_type": "stream",
     "text": [
      "1 4 6\n",
      "11\n"
     ]
    }
   ],
   "source": [
    "# 20. 15번의 lst 변수에서 0번째, 3번째, 5번째 인덱스의 합을 출력하시오.\n",
    "x = lst[0]\n",
    "y = lst[3]\n",
    "z = lst[5]\n",
    "print(x,y,z)\n",
    "\n",
    "print(x+y+z)"
   ]
  },
  {
   "cell_type": "markdown",
   "metadata": {},
   "source": [
    "list 생성"
   ]
  },
  {
   "cell_type": "code",
   "execution_count": 85,
   "metadata": {},
   "outputs": [
    {
     "data": {
      "text/plain": [
       "[1, 2, 3]"
      ]
     },
     "execution_count": 85,
     "metadata": {},
     "output_type": "execute_result"
    }
   ],
   "source": [
    "# 21. 1,2,3이 들어있는 리스트를 생성하시오.\n",
    "x = [1,2,3]\n",
    "x\n"
   ]
  },
  {
   "cell_type": "code",
   "execution_count": 86,
   "metadata": {},
   "outputs": [
    {
     "data": {
      "text/plain": [
       "['김', '이', '박', '최', '정']"
      ]
     },
     "execution_count": 86,
     "metadata": {},
     "output_type": "execute_result"
    }
   ],
   "source": [
    "# 22. 한국의 성씨가 많은 순은 김씨, 이씨, 박씨, 최씨, 정씨 이다. 성씨가 담긴 리스트를 생성하시오.\n",
    "name = ['김', '이', '박', '최', '정']\n",
    "name"
   ]
  },
  {
   "cell_type": "markdown",
   "metadata": {},
   "source": [
    "range 사용"
   ]
  },
  {
   "cell_type": "code",
   "execution_count": 91,
   "metadata": {},
   "outputs": [
    {
     "data": {
      "text/plain": [
       "[10, 20, 30, 40]"
      ]
     },
     "execution_count": 91,
     "metadata": {},
     "output_type": "execute_result"
    }
   ],
   "source": [
    "# 23. 10, 20, 30, 40이 들어있는 리스트를 만드시오.\n",
    "x = list(range(10,50,10))\n",
    "x"
   ]
  },
  {
   "cell_type": "code",
   "execution_count": 93,
   "metadata": {},
   "outputs": [
    {
     "data": {
      "text/plain": [
       "[20, 22, 24, 26, 28, 30, 32, 34, 36, 38, 40]"
      ]
     },
     "execution_count": 93,
     "metadata": {},
     "output_type": "execute_result"
    }
   ],
   "source": [
    "# 24. 20부터 40까지 짝수만 들어있는 리스트를 생성하시오.\n",
    "x = list(range(20,41,2))\n",
    "x"
   ]
  },
  {
   "cell_type": "code",
   "execution_count": 99,
   "metadata": {},
   "outputs": [
    {
     "data": {
      "text/plain": [
       "[0, 5, 10, 15, 20, 25, 30, 35, 40, 45, 50]"
      ]
     },
     "execution_count": 99,
     "metadata": {},
     "output_type": "execute_result"
    }
   ],
   "source": [
    "# 25. 1부터 50까지 5의 배수인 것만 담긴 리스트를 생성하시오.\n",
    "x = list(range(0,51,5))\n",
    "x"
   ]
  },
  {
   "cell_type": "markdown",
   "metadata": {},
   "source": [
    "if문 사용"
   ]
  },
  {
   "cell_type": "code",
   "execution_count": 172,
   "metadata": {},
   "outputs": [
    {
     "name": "stdout",
     "output_type": "stream",
     "text": [
      "6\n"
     ]
    }
   ],
   "source": [
    "# [서울=뉴시스]이인준 기자 = 챗GPT 같은 생성형 AI를 통해 한국의 기업 생산량이 최대 620조원(4763억달러) 증가할 수 있다는 분석이 제기됐다.\n",
    "# 대한상공회의소가 28일 마이크로소프트, 영국 컨설팅그룹 엑세스파트너십과 함께 발간한 '생성형 AI가 한국경제에 미치는 영향 보고서'에 따르면 \n",
    "# 생성형 AI 적용에 따른 한국 경제의 잠재적 생산역량(productive capacity)은 지난해 국내총생산(GDP) 2150조6000억원(명목) 대비 29%에 달한다.\n",
    "# 26. 위 문장에서 '한'이라는 글자가 들어가 있다면 '한'이라는 글자가 들어간횟수를 출력, 없다면 '없음'을 출력하시오.\n",
    "x= '[서울=뉴시스] 짬뽕 탕수육 이인준 기자 = 챗GPT 같은 생성형 AI를 통해 한국의 기업 생산량이 최대 620조원(4763억달러) 증가할 수 있다는 분석이 제기됐다. 대한상공회의소가 28일 마이크로소프트, 영국 컨설팅그룹 엑세스파트너십과 함께 발간한 \\'생성형 AI가 한국경제에 미치는 영향 보고서\\'에 따르면 생성형 AI 적용에 따른 한국 경제의 잠재적 생산역량(productive capacity)은 지난해 국내총생산(GDP) 2150조6000억원(명목) 대비 29%에 달한다.'\n",
    "# x.count('한')\n",
    "y = '한'\n",
    "if y in x :\n",
    "    print(x.count('한'))\n",
    "else:\n",
    "    print('없음')\n",
    "\n",
    "# if(x == '한'):\n",
    "#     x.count('한')\n",
    "# elif(x != '한'):\n",
    "#     print('없음')"
   ]
  },
  {
   "cell_type": "code",
   "execution_count": 168,
   "metadata": {},
   "outputs": [
    {
     "name": "stdout",
     "output_type": "stream",
     "text": [
      "짬뽕\n"
     ]
    }
   ],
   "source": [
    "# 27. 26번의 문장에서 '짬뽕'이라는 단어가 들어갔다면 '짬뽕', 안들어갔다면 '없네...'를 출력하시오.\n",
    "y = '짬뽕'\n",
    "if y in x :\n",
    "    print('짬뽕')\n",
    "else :\n",
    "    print('없네')"
   ]
  },
  {
   "cell_type": "markdown",
   "metadata": {},
   "source": [
    "True or False"
   ]
  },
  {
   "cell_type": "code",
   "execution_count": 171,
   "metadata": {},
   "outputs": [
    {
     "name": "stdout",
     "output_type": "stream",
     "text": [
      "탕수육\n"
     ]
    }
   ],
   "source": [
    "# 28. []가 True인지 False인지 출력하시오.\n",
    "# [] == True\n",
    "# 29. 1이 True인지 False인지 출력하시오.\n",
    "# 1 == True\n",
    "# 30. 26번 문장에서 '탕수육'이라는 글자가 있으면 '탕수육'을, 없으면 'False'을 출력하시오.\n",
    "y = '탕수육'\n",
    "if y in x:\n",
    "    print('탕수육')\n",
    "else:\n",
    "    print('False')"
   ]
  }
 ],
 "metadata": {
  "kernelspec": {
   "display_name": "Python 3",
   "language": "python",
   "name": "python3"
  },
  "language_info": {
   "codemirror_mode": {
    "name": "ipython",
    "version": 3
   },
   "file_extension": ".py",
   "mimetype": "text/x-python",
   "name": "python",
   "nbconvert_exporter": "python",
   "pygments_lexer": "ipython3",
   "version": "3.11.9"
  }
 },
 "nbformat": 4,
 "nbformat_minor": 2
}
