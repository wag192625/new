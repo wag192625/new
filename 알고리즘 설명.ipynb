{
 "cells": [
  {
   "cell_type": "code",
   "execution_count": 10,
   "metadata": {},
   "outputs": [
    {
     "name": "stdout",
     "output_type": "stream",
     "text": [
      "[1, 2, 3, 4, 5]\n"
     ]
    }
   ],
   "source": [
    "# 선택 정렬 - 가장 작은 값을 선택 후 그 값을 정렬\n",
    "lst1 = [3,2,1,5,4]\n",
    "lst2 = []\n",
    "\n",
    "for i in range(len(lst1)) :\n",
    "    idx = i\n",
    "    # idx는 첫번째 i 값으로 설정 : 3\n",
    "    temp = lst1[i]\n",
    "    # \n",
    "    for j in range(i+1, len(lst1)) :\n",
    "        if temp > lst1[j] :\n",
    "            # 3 > 2\n",
    "            temp = lst1[j]\n",
    "            # temp = 1\n",
    "            idx = j\n",
    "            # j = > 2\n",
    "    lst1[i],lst1[idx] = lst1[idx], lst1[i]\n",
    "    # 위치 변경\n",
    "\n",
    "print(lst1)"
   ]
  },
  {
   "cell_type": "code",
   "execution_count": 10,
   "metadata": {},
   "outputs": [
    {
     "name": "stdout",
     "output_type": "stream",
     "text": [
      "[6, 16, 19, 28, 34, 36, 38, 41, 43, 45, 49]\n"
     ]
    }
   ],
   "source": [
    "# 버블 정렬 - 양 옆을 비교하여 뒤에서부터 정렬\n",
    "\n",
    "lst = [34,6,16,41,38,36,28,19,45,43,49]\n",
    "\n",
    "for i in range(len(lst)):\n",
    "    for j in range(len(lst)-i-1):\n",
    "        if lst[j] > lst[j+1]:\n",
    "            lst[j+1],lst[j] = lst[j], lst[j+1]\n",
    "print(lst)"
   ]
  },
  {
   "cell_type": "code",
   "execution_count": 12,
   "metadata": {},
   "outputs": [],
   "source": [
    "# 삽입 정렬\n",
    "# 도서관 사서가 책을 정렬할 때, 일반적으로 활용되는 방법\n",
    "# 왼쪽에 자기보다 작은 애가 있으면 무시"
   ]
  },
  {
   "cell_type": "code",
   "execution_count": 13,
   "metadata": {},
   "outputs": [],
   "source": [
    "# 병합 정렬\n",
    "# 1. 배열에서 데이터를 최소의 단위로 분리\n",
    "# lst =[9,5,7,4,3,6]\n",
    "# 9,5     7,4     3,6 n (홀수일 경우 스킵)\n",
    "# 5,9(14) > 4,7(11)\n",
    "# 4579 36n\n",
    "# 3456779"
   ]
  },
  {
   "cell_type": "code",
   "execution_count": null,
   "metadata": {},
   "outputs": [],
   "source": [
    "# # 퀵 정렬\n",
    "# # 주어진 배열을 두 개로 분할하고, 각각을 정렬한다.\n",
    "# lst = [34,6,16,41,38,36,28,19,45,43,49]\n",
    "# # 랜덤으로 하나 뽑고 그걸 기준으로\n",
    "#                                   43\n",
    "# lst = [34,6,16,41,38,36,28,19,45,   49]\n",
    "#                                43\n",
    "# lst = [34,6,16,41,38,36,28,19,   45,49]\n",
    "# # 이후 43 고정\n",
    "\n",
    "# # 뽑았을 때 끝자락에 있고, 제일 크거나 작을 때 속도가 느림\n",
    "# 9,6,5,4,8,1"
   ]
  },
  {
   "cell_type": "code",
   "execution_count": 14,
   "metadata": {},
   "outputs": [],
   "source": [
    "# 카운팅 정렬\n",
    "\n",
    "# 공간 복잡도 망함"
   ]
  }
 ],
 "metadata": {
  "kernelspec": {
   "display_name": "Python 3",
   "language": "python",
   "name": "python3"
  },
  "language_info": {
   "codemirror_mode": {
    "name": "ipython",
    "version": 3
   },
   "file_extension": ".py",
   "mimetype": "text/x-python",
   "name": "python",
   "nbconvert_exporter": "python",
   "pygments_lexer": "ipython3",
   "version": "3.11.9"
  }
 },
 "nbformat": 4,
 "nbformat_minor": 2
}
