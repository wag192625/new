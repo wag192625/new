{
 "cells": [
  {
   "cell_type": "markdown",
   "metadata": {},
   "source": [
    "선형 탐색\n",
    "처음부터 끝까지 하나씩 비교하여 원하는 값을 찾는 방법\n",
    "구현이 쉬우나 데이터가 많을수록 비효율적\n",
    "시간 복잡도 : O(n)"
   ]
  },
  {
   "cell_type": "code",
   "execution_count": 1,
   "metadata": {},
   "outputs": [
    {
     "name": "stdout",
     "output_type": "stream",
     "text": [
      "71\n"
     ]
    }
   ],
   "source": [
    "lst= [91,23,70,71,66,3,64,45,92,54]\n",
    "for i in lst :\n",
    "    if i == 71 :\n",
    "        print(i)"
   ]
  },
  {
   "cell_type": "markdown",
   "metadata": {},
   "source": [
    "이진 탐색\n",
    "정렬된 배열에서 중간 요소와 목표값을 비교하여 탐색 범위를 절반으로 줄여나가는 방법\n",
    "데이터가 정렬되어 있어야 함"
   ]
  },
  {
   "cell_type": "code",
   "execution_count": 28,
   "metadata": {},
   "outputs": [
    {
     "name": "stdout",
     "output_type": "stream",
     "text": [
      "[3, 23, 45, 54, 64, 66, 70, 71, 91, 92]\n",
      "[3, 23, 45, 54, 64, 66, 70, 71, 91, 92] 66\n"
     ]
    }
   ],
   "source": [
    "lst= sorted(lst)\n",
    "lst2 = []\n",
    "print(lst)\n",
    "a =  54\n",
    "while(True):\n",
    "    if a == 55 :\n",
    "        print(54)\n",
    "        break\n",
    "    elif a > lst[int(len(lst)/2)] :\n",
    "        lst2 = lst[lst[int(len(lst)/2)]:0]\n",
    "        print(lst2)\n",
    "    else :\n",
    "        lst2 = lst[0:lst[int(len(lst)/2)]]\n",
    "        print(lst2,lst[int(len(lst)/2)])\n",
    "    break"
   ]
  },
  {
   "cell_type": "code",
   "execution_count": null,
   "metadata": {},
   "outputs": [],
   "source": [
    "lst = [1,3,5,6,7,9,11,20,30]\n",
    "res = 6\n",
    "lst2 = []\n",
    "while(True):\n",
    "    if lst2:\n",
    "        if res == lst2[int(len(lst2)/2)]:\n",
    "            print(res)\n",
    "            break\n",
    "        elif res > lst2[int(len(lst2)/2)]:\n",
    "            lst2 = lst2[int(len(lst2)/2):]\n",
    "            print(lst2)\n",
    "        else:\n",
    "            lst2 = lst2[:int(len(lst2)/2)]\n",
    "            print(lst2)\n",
    "    else:\n",
    "        if res == lst[int(len(lst)/2)]:\n",
    "            print(res)\n",
    "            break\n",
    "        elif res > lst[int(len(lst)/2)]:\n",
    "            lst2 = lst[int(len(lst)/2)+1:]\n",
    "            print(lst2)\n",
    "\n",
    "        else:\n",
    "            lst2 = lst[:int(len(lst)/2)]\n",
    "            print(lst2)"
   ]
  },
  {
   "cell_type": "markdown",
   "metadata": {},
   "source": [
    "이진 탐색 트리 (Binary Search Tree = BST)\n",
    "\n",
    "트리 구조를 사용하여 데이터를 정렬, 탐색하는 방법\n",
    "각 노드는 최대 두개의 자식을 가짐\n",
    "왼쪽 자식은 부모보다 작고, 오른쪽 자식은 부모보다 큼\n",
    "사입, 삭제, 탐색이 빠름\n",
    "\n",
    "시간복잡도 : 평균 O(log n), 최악 O(n)"
   ]
  },
  {
   "cell_type": "markdown",
   "metadata": {},
   "source": [
    "트리 알고리즘\n",
    "\n",
    "이진 트리\n",
    "\n",
    "글자(노드)\n",
    "/ , \\ (엣지)\n",
    "\n",
    "부자관계\n",
    "        노드 (최상위 노드는 루트(root)라고 함)\n",
    "       /   \\\n",
    "    노드    노드\n",
    "    ㅡㅡㅡㅡㅡㅡ\n",
    "    / \\     / \\  서브 트리(루트의 )   \n",
    "\n",
    "중간에 노드가 끊기면 단말노드(leaf node) 라고 함\n",
    "\n",
    "아래로 내려갈수록 level이 1씩 늘어남(루트는 1레벨/루트레벨 이라고 함)"
   ]
  },
  {
   "cell_type": "markdown",
   "metadata": {},
   "source": [
    "트리의 특징\n",
    "    이진 트리\n",
    "        자식 노드의 개수는 2 이하\n",
    "        노드 개수가 없을 수 있음\n",
    "        서브 트리간 순서가 있음\n",
    "\n",
    "    일반 트리 (잘 안쓰임)\n",
    "        자식 노드가 몇 개이든 상관 없음\n",
    "        노드는 1개 이상\n",
    "        서브 트리간 순서가 없음\n",
    "\n",
    "4 포화 이진 트리\n",
    "1 기타 이진 트리 - 그냥 트리 (불규칙적인)\n",
    "3 완전 이진 트리 - 순서대로 쭉\n",
    "2 완전 이진 트리 아님 - 끝에 순서대로가 아님\n",
    "\n",
    "경사 이진 트리"
   ]
  },
  {
   "cell_type": "markdown",
   "metadata": {},
   "source": [
    "트리의 탐색\n",
    "전위 순회\n",
    "중위 순회\n",
    "후위 순회"
   ]
  }
 ],
 "metadata": {
  "kernelspec": {
   "display_name": "Python 3",
   "language": "python",
   "name": "python3"
  },
  "language_info": {
   "codemirror_mode": {
    "name": "ipython",
    "version": 3
   },
   "file_extension": ".py",
   "mimetype": "text/x-python",
   "name": "python",
   "nbconvert_exporter": "python",
   "pygments_lexer": "ipython3",
   "version": "3.11.9"
  }
 },
 "nbformat": 4,
 "nbformat_minor": 2
}
